{
 "cells": [
  {
   "cell_type": "markdown",
   "metadata": {},
   "source": [
    "In today's world as we are all suffering from a pandemic, so here, a dataset which is taken from worldometers provides us the information of the country wise cases. This is the record for almost one month from 18/4/20 to 18/5/20, so here we will be predicting the total deaths caused by this pandemic. We will be using the Linear Regression and other regressor models to check the prediction."
   ]
  },
  {
   "cell_type": "code",
   "execution_count": 1,
   "metadata": {},
   "outputs": [],
   "source": [
    "#importing all the libraries and loading the csv file"
   ]
  },
  {
   "cell_type": "code",
   "execution_count": 2,
   "metadata": {},
   "outputs": [],
   "source": [
    "import warnings\n",
    "warnings.filterwarnings('ignore')"
   ]
  },
  {
   "cell_type": "code",
   "execution_count": 3,
   "metadata": {},
   "outputs": [],
   "source": [
    "import pandas as pd\n",
    "import numpy as np"
   ]
  },
  {
   "cell_type": "code",
   "execution_count": 4,
   "metadata": {},
   "outputs": [],
   "source": [
    "df=pd.read_csv('covid_world.csv')  #reading the csv file "
   ]
  },
  {
   "cell_type": "markdown",
   "metadata": {},
   "source": [
    "EDA PROCESS"
   ]
  },
  {
   "cell_type": "code",
   "execution_count": 5,
   "metadata": {},
   "outputs": [
    {
     "data": {
      "text/html": [
       "<div>\n",
       "<style scoped>\n",
       "    .dataframe tbody tr th:only-of-type {\n",
       "        vertical-align: middle;\n",
       "    }\n",
       "\n",
       "    .dataframe tbody tr th {\n",
       "        vertical-align: top;\n",
       "    }\n",
       "\n",
       "    .dataframe thead th {\n",
       "        text-align: right;\n",
       "    }\n",
       "</style>\n",
       "<table border=\"1\" class=\"dataframe\">\n",
       "  <thead>\n",
       "    <tr style=\"text-align: right;\">\n",
       "      <th></th>\n",
       "      <th>Date</th>\n",
       "      <th>Country</th>\n",
       "      <th>Population</th>\n",
       "      <th>Total Tests</th>\n",
       "      <th>Total Cases</th>\n",
       "      <th>Total Deaths</th>\n",
       "      <th>Total Recovered</th>\n",
       "      <th>Serious or Critical</th>\n",
       "      <th>Active Cases</th>\n",
       "    </tr>\n",
       "  </thead>\n",
       "  <tbody>\n",
       "    <tr>\n",
       "      <th>0</th>\n",
       "      <td>4/18/2020</td>\n",
       "      <td>USA</td>\n",
       "      <td>330774664</td>\n",
       "      <td>3722145.0</td>\n",
       "      <td>738792.0</td>\n",
       "      <td>39014.0</td>\n",
       "      <td>68269.0</td>\n",
       "      <td>13551.0</td>\n",
       "      <td>631509.0</td>\n",
       "    </tr>\n",
       "    <tr>\n",
       "      <th>1</th>\n",
       "      <td>4/18/2020</td>\n",
       "      <td>Russia</td>\n",
       "      <td>145927292</td>\n",
       "      <td>1831892.0</td>\n",
       "      <td>36793.0</td>\n",
       "      <td>313.0</td>\n",
       "      <td>3057.0</td>\n",
       "      <td>8.0</td>\n",
       "      <td>33423.0</td>\n",
       "    </tr>\n",
       "    <tr>\n",
       "      <th>2</th>\n",
       "      <td>4/18/2020</td>\n",
       "      <td>Spain</td>\n",
       "      <td>46752703</td>\n",
       "      <td>930230.0</td>\n",
       "      <td>194416.0</td>\n",
       "      <td>20043.0</td>\n",
       "      <td>74797.0</td>\n",
       "      <td>7371.0</td>\n",
       "      <td>99576.0</td>\n",
       "    </tr>\n",
       "    <tr>\n",
       "      <th>3</th>\n",
       "      <td>4/18/2020</td>\n",
       "      <td>Brazil</td>\n",
       "      <td>212380932</td>\n",
       "      <td>62985.0</td>\n",
       "      <td>36722.0</td>\n",
       "      <td>2361.0</td>\n",
       "      <td>14026.0</td>\n",
       "      <td>6634.0</td>\n",
       "      <td>20335.0</td>\n",
       "    </tr>\n",
       "    <tr>\n",
       "      <th>4</th>\n",
       "      <td>4/18/2020</td>\n",
       "      <td>UK</td>\n",
       "      <td>67844241</td>\n",
       "      <td>460437.0</td>\n",
       "      <td>114217.0</td>\n",
       "      <td>15464.0</td>\n",
       "      <td>NaN</td>\n",
       "      <td>1559.0</td>\n",
       "      <td>98409.0</td>\n",
       "    </tr>\n",
       "  </tbody>\n",
       "</table>\n",
       "</div>"
      ],
      "text/plain": [
       "        Date Country  Population  Total Tests  Total Cases  Total Deaths  \\\n",
       "0  4/18/2020     USA   330774664    3722145.0     738792.0       39014.0   \n",
       "1  4/18/2020  Russia   145927292    1831892.0      36793.0         313.0   \n",
       "2  4/18/2020   Spain    46752703     930230.0     194416.0       20043.0   \n",
       "3  4/18/2020  Brazil   212380932      62985.0      36722.0        2361.0   \n",
       "4  4/18/2020      UK    67844241     460437.0     114217.0       15464.0   \n",
       "\n",
       "   Total Recovered  Serious or Critical  Active Cases  \n",
       "0          68269.0              13551.0      631509.0  \n",
       "1           3057.0                  8.0       33423.0  \n",
       "2          74797.0               7371.0       99576.0  \n",
       "3          14026.0               6634.0       20335.0  \n",
       "4              NaN               1559.0       98409.0  "
      ]
     },
     "execution_count": 5,
     "metadata": {},
     "output_type": "execute_result"
    }
   ],
   "source": [
    "df.head()"
   ]
  },
  {
   "cell_type": "code",
   "execution_count": 6,
   "metadata": {},
   "outputs": [],
   "source": [
    "#since it is the information for one month, so here we will replace date with some numerical value."
   ]
  },
  {
   "cell_type": "code",
   "execution_count": 7,
   "metadata": {},
   "outputs": [
    {
     "data": {
      "text/plain": [
       "(6603, 9)"
      ]
     },
     "execution_count": 7,
     "metadata": {},
     "output_type": "execute_result"
    }
   ],
   "source": [
    "df.shape"
   ]
  },
  {
   "cell_type": "code",
   "execution_count": 8,
   "metadata": {},
   "outputs": [],
   "source": [
    "from sklearn.preprocessing import LabelEncoder"
   ]
  },
  {
   "cell_type": "code",
   "execution_count": 9,
   "metadata": {},
   "outputs": [],
   "source": [
    "le=LabelEncoder()"
   ]
  },
  {
   "cell_type": "code",
   "execution_count": 10,
   "metadata": {},
   "outputs": [],
   "source": [
    "df['Date']=le.fit_transform(df['Date'])"
   ]
  },
  {
   "cell_type": "code",
   "execution_count": 11,
   "metadata": {},
   "outputs": [],
   "source": [
    "df['Country']=le.fit_transform(df['Country'])"
   ]
  },
  {
   "cell_type": "code",
   "execution_count": 12,
   "metadata": {},
   "outputs": [
    {
     "data": {
      "text/html": [
       "<div>\n",
       "<style scoped>\n",
       "    .dataframe tbody tr th:only-of-type {\n",
       "        vertical-align: middle;\n",
       "    }\n",
       "\n",
       "    .dataframe tbody tr th {\n",
       "        vertical-align: top;\n",
       "    }\n",
       "\n",
       "    .dataframe thead th {\n",
       "        text-align: right;\n",
       "    }\n",
       "</style>\n",
       "<table border=\"1\" class=\"dataframe\">\n",
       "  <thead>\n",
       "    <tr style=\"text-align: right;\">\n",
       "      <th></th>\n",
       "      <th>Date</th>\n",
       "      <th>Country</th>\n",
       "      <th>Population</th>\n",
       "      <th>Total Tests</th>\n",
       "      <th>Total Cases</th>\n",
       "      <th>Total Deaths</th>\n",
       "      <th>Total Recovered</th>\n",
       "      <th>Serious or Critical</th>\n",
       "      <th>Active Cases</th>\n",
       "    </tr>\n",
       "  </thead>\n",
       "  <tbody>\n",
       "    <tr>\n",
       "      <th>0</th>\n",
       "      <td>0</td>\n",
       "      <td>201</td>\n",
       "      <td>330774664</td>\n",
       "      <td>3722145.0</td>\n",
       "      <td>738792.0</td>\n",
       "      <td>39014.0</td>\n",
       "      <td>68269.0</td>\n",
       "      <td>13551.0</td>\n",
       "      <td>631509.0</td>\n",
       "    </tr>\n",
       "    <tr>\n",
       "      <th>1</th>\n",
       "      <td>0</td>\n",
       "      <td>158</td>\n",
       "      <td>145927292</td>\n",
       "      <td>1831892.0</td>\n",
       "      <td>36793.0</td>\n",
       "      <td>313.0</td>\n",
       "      <td>3057.0</td>\n",
       "      <td>8.0</td>\n",
       "      <td>33423.0</td>\n",
       "    </tr>\n",
       "    <tr>\n",
       "      <th>2</th>\n",
       "      <td>0</td>\n",
       "      <td>180</td>\n",
       "      <td>46752703</td>\n",
       "      <td>930230.0</td>\n",
       "      <td>194416.0</td>\n",
       "      <td>20043.0</td>\n",
       "      <td>74797.0</td>\n",
       "      <td>7371.0</td>\n",
       "      <td>99576.0</td>\n",
       "    </tr>\n",
       "    <tr>\n",
       "      <th>3</th>\n",
       "      <td>0</td>\n",
       "      <td>26</td>\n",
       "      <td>212380932</td>\n",
       "      <td>62985.0</td>\n",
       "      <td>36722.0</td>\n",
       "      <td>2361.0</td>\n",
       "      <td>14026.0</td>\n",
       "      <td>6634.0</td>\n",
       "      <td>20335.0</td>\n",
       "    </tr>\n",
       "    <tr>\n",
       "      <th>4</th>\n",
       "      <td>0</td>\n",
       "      <td>200</td>\n",
       "      <td>67844241</td>\n",
       "      <td>460437.0</td>\n",
       "      <td>114217.0</td>\n",
       "      <td>15464.0</td>\n",
       "      <td>NaN</td>\n",
       "      <td>1559.0</td>\n",
       "      <td>98409.0</td>\n",
       "    </tr>\n",
       "  </tbody>\n",
       "</table>\n",
       "</div>"
      ],
      "text/plain": [
       "   Date  Country  Population  Total Tests  Total Cases  Total Deaths  \\\n",
       "0     0      201   330774664    3722145.0     738792.0       39014.0   \n",
       "1     0      158   145927292    1831892.0      36793.0         313.0   \n",
       "2     0      180    46752703     930230.0     194416.0       20043.0   \n",
       "3     0       26   212380932      62985.0      36722.0        2361.0   \n",
       "4     0      200    67844241     460437.0     114217.0       15464.0   \n",
       "\n",
       "   Total Recovered  Serious or Critical  Active Cases  \n",
       "0          68269.0              13551.0      631509.0  \n",
       "1           3057.0                  8.0       33423.0  \n",
       "2          74797.0               7371.0       99576.0  \n",
       "3          14026.0               6634.0       20335.0  \n",
       "4              NaN               1559.0       98409.0  "
      ]
     },
     "execution_count": 12,
     "metadata": {},
     "output_type": "execute_result"
    }
   ],
   "source": [
    "df.head()"
   ]
  },
  {
   "cell_type": "code",
   "execution_count": 13,
   "metadata": {},
   "outputs": [
    {
     "name": "stdout",
     "output_type": "stream",
     "text": [
      "<class 'pandas.core.frame.DataFrame'>\n",
      "RangeIndex: 6603 entries, 0 to 6602\n",
      "Data columns (total 9 columns):\n",
      " #   Column               Non-Null Count  Dtype  \n",
      "---  ------               --------------  -----  \n",
      " 0   Date                 6603 non-null   int32  \n",
      " 1   Country              6603 non-null   int32  \n",
      " 2   Population           6603 non-null   int64  \n",
      " 3   Total Tests          5505 non-null   float64\n",
      " 4   Total Cases          6554 non-null   float64\n",
      " 5   Total Deaths         5367 non-null   float64\n",
      " 6   Total Recovered      6318 non-null   float64\n",
      " 7   Serious or Critical  4117 non-null   float64\n",
      " 8   Active Cases         6544 non-null   float64\n",
      "dtypes: float64(6), int32(2), int64(1)\n",
      "memory usage: 412.8 KB\n"
     ]
    }
   ],
   "source": [
    "df.info()         #for checking the data types and null values"
   ]
  },
  {
   "cell_type": "code",
   "execution_count": 14,
   "metadata": {},
   "outputs": [],
   "source": [
    "#visualising the null values using heatmap"
   ]
  },
  {
   "cell_type": "code",
   "execution_count": 15,
   "metadata": {},
   "outputs": [],
   "source": [
    "#importing Libraries\n",
    "import matplotlib.pyplot as plt\n",
    "import seaborn as sns\n",
    "%matplotlib inline"
   ]
  },
  {
   "cell_type": "code",
   "execution_count": 16,
   "metadata": {},
   "outputs": [
    {
     "data": {
      "text/plain": [
       "<matplotlib.axes._subplots.AxesSubplot at 0x23fecbbfc8>"
      ]
     },
     "execution_count": 16,
     "metadata": {},
     "output_type": "execute_result"
    },
    {
     "data": {
      "image/png": "[encoded data removed]",
      "text/plain": [
       "<Figure size 432x288 with 2 Axes>"
      ]
     },
     "metadata": {
      "needs_background": "light"
     },
     "output_type": "display_data"
    }
   ],
   "source": [
    "sns.heatmap(df.isnull())"
   ]
  },
  {
   "cell_type": "code",
   "execution_count": 17,
   "metadata": {},
   "outputs": [],
   "source": [
    "#filling the null values"
   ]
  },
  {
   "cell_type": "code",
   "execution_count": 18,
   "metadata": {},
   "outputs": [],
   "source": [
    "df['Total Cases']=df['Total Cases'].fillna(df['Total Cases'].mean())"
   ]
  },
  {
   "cell_type": "code",
   "execution_count": 19,
   "metadata": {},
   "outputs": [],
   "source": [
    "df['Total Tests']=df['Total Tests'].fillna(df['Total Tests'].mean())"
   ]
  },
  {
   "cell_type": "code",
   "execution_count": 20,
   "metadata": {},
   "outputs": [],
   "source": [
    "df['Total Deaths']=df['Total Deaths'].fillna(df['Total Deaths'].mean())"
   ]
  },
  {
   "cell_type": "code",
   "execution_count": 21,
   "metadata": {},
   "outputs": [],
   "source": [
    "df['Total Recovered']=df['Total Recovered'].fillna(df['Total Recovered'].mean())"
   ]
  },
  {
   "cell_type": "code",
   "execution_count": 22,
   "metadata": {},
   "outputs": [],
   "source": [
    "df['Serious or Critical']=df['Serious or Critical'].fillna(df['Serious or Critical'].mean())"
   ]
  },
  {
   "cell_type": "code",
   "execution_count": 23,
   "metadata": {},
   "outputs": [],
   "source": [
    "df['Active Cases']=df['Active Cases'].fillna(df['Active Cases'].mean())"
   ]
  },
  {
   "cell_type": "code",
   "execution_count": 24,
   "metadata": {},
   "outputs": [
    {
     "data": {
      "text/plain": [
       "Date                   0\n",
       "Country                0\n",
       "Population             0\n",
       "Total Tests            0\n",
       "Total Cases            0\n",
       "Total Deaths           0\n",
       "Total Recovered        0\n",
       "Serious or Critical    0\n",
       "Active Cases           0\n",
       "dtype: int64"
      ]
     },
     "execution_count": 24,
     "metadata": {},
     "output_type": "execute_result"
    }
   ],
   "source": [
    "df.isnull().sum()"
   ]
  },
  {
   "cell_type": "code",
   "execution_count": 25,
   "metadata": {},
   "outputs": [
    {
     "name": "stdout",
     "output_type": "stream",
     "text": [
      "<class 'pandas.core.frame.DataFrame'>\n",
      "RangeIndex: 6603 entries, 0 to 6602\n",
      "Data columns (total 9 columns):\n",
      " #   Column               Non-Null Count  Dtype  \n",
      "---  ------               --------------  -----  \n",
      " 0   Date                 6603 non-null   int32  \n",
      " 1   Country              6603 non-null   int32  \n",
      " 2   Population           6603 non-null   int64  \n",
      " 3   Total Tests          6603 non-null   float64\n",
      " 4   Total Cases          6603 non-null   float64\n",
      " 5   Total Deaths         6603 non-null   float64\n",
      " 6   Total Recovered      6603 non-null   float64\n",
      " 7   Serious or Critical  6603 non-null   float64\n",
      " 8   Active Cases         6603 non-null   float64\n",
      "dtypes: float64(6), int32(2), int64(1)\n",
      "memory usage: 412.8 KB\n"
     ]
    }
   ],
   "source": [
    "df.info()"
   ]
  },
  {
   "cell_type": "code",
   "execution_count": 26,
   "metadata": {},
   "outputs": [
    {
     "data": {
      "text/plain": [
       "<matplotlib.axes._subplots.AxesSubplot at 0x2381691f08>"
      ]
     },
     "execution_count": 26,
     "metadata": {},
     "output_type": "execute_result"
    },
    {
     "data": {
      "image/png": "[encoded data removed]",
      "text/plain": [
       "<Figure size 432x288 with 2 Axes>"
      ]
     },
     "metadata": {
      "needs_background": "light"
     },
     "output_type": "display_data"
    }
   ],
   "source": [
    "sns.heatmap(df.isna())"
   ]
  },
  {
   "cell_type": "code",
   "execution_count": 27,
   "metadata": {},
   "outputs": [
    {
     "data": {
      "text/html": [
       "<div>\n",
       "<style scoped>\n",
       "    .dataframe tbody tr th:only-of-type {\n",
       "        vertical-align: middle;\n",
       "    }\n",
       "\n",
       "    .dataframe tbody tr th {\n",
       "        vertical-align: top;\n",
       "    }\n",
       "\n",
       "    .dataframe thead th {\n",
       "        text-align: right;\n",
       "    }\n",
       "</style>\n",
       "<table border=\"1\" class=\"dataframe\">\n",
       "  <thead>\n",
       "    <tr style=\"text-align: right;\">\n",
       "      <th></th>\n",
       "      <th>Date</th>\n",
       "      <th>Country</th>\n",
       "      <th>Population</th>\n",
       "      <th>Total Tests</th>\n",
       "      <th>Total Cases</th>\n",
       "      <th>Total Deaths</th>\n",
       "      <th>Total Recovered</th>\n",
       "      <th>Serious or Critical</th>\n",
       "      <th>Active Cases</th>\n",
       "    </tr>\n",
       "  </thead>\n",
       "  <tbody>\n",
       "    <tr>\n",
       "      <th>count</th>\n",
       "      <td>6603.000000</td>\n",
       "      <td>6603.000000</td>\n",
       "      <td>6.603000e+03</td>\n",
       "      <td>6.603000e+03</td>\n",
       "      <td>6.603000e+03</td>\n",
       "      <td>6603.000000</td>\n",
       "      <td>6603.000000</td>\n",
       "      <td>6603.000000</td>\n",
       "      <td>6.603000e+03</td>\n",
       "    </tr>\n",
       "    <tr>\n",
       "      <th>mean</th>\n",
       "      <td>15.000000</td>\n",
       "      <td>106.000000</td>\n",
       "      <td>3.637913e+07</td>\n",
       "      <td>2.167252e+05</td>\n",
       "      <td>1.692968e+04</td>\n",
       "      <td>1416.252096</td>\n",
       "      <td>5855.424185</td>\n",
       "      <td>386.748360</td>\n",
       "      <td>9.964142e+03</td>\n",
       "    </tr>\n",
       "    <tr>\n",
       "      <th>std</th>\n",
       "      <td>8.944949</td>\n",
       "      <td>61.491783</td>\n",
       "      <td>1.411537e+08</td>\n",
       "      <td>6.934856e+05</td>\n",
       "      <td>8.828521e+04</td>\n",
       "      <td>5990.992214</td>\n",
       "      <td>22955.519135</td>\n",
       "      <td>1309.473245</td>\n",
       "      <td>6.511732e+04</td>\n",
       "    </tr>\n",
       "    <tr>\n",
       "      <th>min</th>\n",
       "      <td>0.000000</td>\n",
       "      <td>0.000000</td>\n",
       "      <td>8.010000e+02</td>\n",
       "      <td>1.000000e+01</td>\n",
       "      <td>1.000000e+00</td>\n",
       "      <td>0.000000</td>\n",
       "      <td>1.000000</td>\n",
       "      <td>1.000000</td>\n",
       "      <td>0.000000e+00</td>\n",
       "    </tr>\n",
       "    <tr>\n",
       "      <th>25%</th>\n",
       "      <td>7.000000</td>\n",
       "      <td>53.000000</td>\n",
       "      <td>8.672680e+05</td>\n",
       "      <td>4.733000e+03</td>\n",
       "      <td>8.000000e+01</td>\n",
       "      <td>8.000000</td>\n",
       "      <td>29.000000</td>\n",
       "      <td>7.000000</td>\n",
       "      <td>2.700000e+01</td>\n",
       "    </tr>\n",
       "    <tr>\n",
       "      <th>50%</th>\n",
       "      <td>15.000000</td>\n",
       "      <td>106.000000</td>\n",
       "      <td>6.859926e+06</td>\n",
       "      <td>5.419500e+04</td>\n",
       "      <td>6.320000e+02</td>\n",
       "      <td>55.000000</td>\n",
       "      <td>253.000000</td>\n",
       "      <td>137.000000</td>\n",
       "      <td>2.840000e+02</td>\n",
       "    </tr>\n",
       "    <tr>\n",
       "      <th>75%</th>\n",
       "      <td>23.000000</td>\n",
       "      <td>159.000000</td>\n",
       "      <td>2.546422e+07</td>\n",
       "      <td>2.167252e+05</td>\n",
       "      <td>5.222500e+03</td>\n",
       "      <td>1416.252096</td>\n",
       "      <td>1786.500000</td>\n",
       "      <td>386.748360</td>\n",
       "      <td>2.230500e+03</td>\n",
       "    </tr>\n",
       "    <tr>\n",
       "      <th>max</th>\n",
       "      <td>30.000000</td>\n",
       "      <td>212.000000</td>\n",
       "      <td>1.439324e+09</td>\n",
       "      <td>1.230074e+07</td>\n",
       "      <td>1.550294e+06</td>\n",
       "      <td>91981.000000</td>\n",
       "      <td>356383.000000</td>\n",
       "      <td>18671.000000</td>\n",
       "      <td>1.101930e+06</td>\n",
       "    </tr>\n",
       "  </tbody>\n",
       "</table>\n",
       "</div>"
      ],
      "text/plain": [
       "              Date      Country    Population   Total Tests   Total Cases  \\\n",
       "count  6603.000000  6603.000000  6.603000e+03  6.603000e+03  6.603000e+03   \n",
       "mean     15.000000   106.000000  3.637913e+07  2.167252e+05  1.692968e+04   \n",
       "std       8.944949    61.491783  1.411537e+08  6.934856e+05  8.828521e+04   \n",
       "min       0.000000     0.000000  8.010000e+02  1.000000e+01  1.000000e+00   \n",
       "25%       7.000000    53.000000  8.672680e+05  4.733000e+03  8.000000e+01   \n",
       "50%      15.000000   106.000000  6.859926e+06  5.419500e+04  6.320000e+02   \n",
       "75%      23.000000   159.000000  2.546422e+07  2.167252e+05  5.222500e+03   \n",
       "max      30.000000   212.000000  1.439324e+09  1.230074e+07  1.550294e+06   \n",
       "\n",
       "       Total Deaths  Total Recovered  Serious or Critical  Active Cases  \n",
       "count   6603.000000      6603.000000          6603.000000  6.603000e+03  \n",
       "mean    1416.252096      5855.424185           386.748360  9.964142e+03  \n",
       "std     5990.992214     22955.519135          1309.473245  6.511732e+04  \n",
       "min        0.000000         1.000000             1.000000  0.000000e+00  \n",
       "25%        8.000000        29.000000             7.000000  2.700000e+01  \n",
       "50%       55.000000       253.000000           137.000000  2.840000e+02  \n",
       "75%     1416.252096      1786.500000           386.748360  2.230500e+03  \n",
       "max    91981.000000    356383.000000         18671.000000  1.101930e+06  "
      ]
     },
     "execution_count": 27,
     "metadata": {},
     "output_type": "execute_result"
    }
   ],
   "source": [
    "df.describe()"
   ]
  },
  {
   "cell_type": "markdown",
   "metadata": {},
   "source": [
    "From the above we can see that outliers is present in the dataset as the values are deviating from 3rd quartile to max value and also the data is skewed as mean is greater than median and vice versa"
   ]
  },
  {
   "cell_type": "code",
   "execution_count": 28,
   "metadata": {},
   "outputs": [],
   "source": [
    "#data visualisation"
   ]
  },
  {
   "cell_type": "code",
   "execution_count": 29,
   "metadata": {},
   "outputs": [
    {
     "data": {
      "text/plain": [
       "<matplotlib.axes._subplots.AxesSubplot at 0x2381695248>"
      ]
     },
     "execution_count": 29,
     "metadata": {},
     "output_type": "execute_result"
    },
    {
     "data": {
      "image/png": "[encoded data removed]",
      "text/plain": [
       "<Figure size 1080x720 with 2 Axes>"
      ]
     },
     "metadata": {
      "needs_background": "light"
     },
     "output_type": "display_data"
    }
   ],
   "source": [
    "plt.figure(figsize=(15,10))\n",
    "sns.heatmap(df.corr(),annot=True,cmap='coolwarm')"
   ]
  },
  {
   "cell_type": "code",
   "execution_count": 30,
   "metadata": {},
   "outputs": [],
   "source": [
    "#from the above we can see that most of the values are positively corrrelated amongst each other"
   ]
  },
  {
   "cell_type": "code",
   "execution_count": 31,
   "metadata": {},
   "outputs": [
    {
     "data": {
      "image/png": "[encoded data removed]",
      "text/plain": [
       "<Figure size 432x288 with 1 Axes>"
      ]
     },
     "metadata": {
      "needs_background": "light"
     },
     "output_type": "display_data"
    },
    {
     "data": {
      "image/png": "[encoded data removed]",
      "text/plain": [
       "<Figure size 432x288 with 1 Axes>"
      ]
     },
     "metadata": {
      "needs_background": "light"
     },
     "output_type": "display_data"
    },
    {
     "data": {
      "image/png": "[encoded data removed]",
      "text/plain": [
       "<Figure size 432x288 with 1 Axes>"
      ]
     },
     "metadata": {
      "needs_background": "light"
     },
     "output_type": "display_data"
    },
    {
     "data": {
      "image/png": "[encoded data removed]",
      "text/plain": [
       "<Figure size 432x288 with 1 Axes>"
      ]
     },
     "metadata": {
      "needs_background": "light"
     },
     "output_type": "display_data"
    },
    {
     "data": {
      "image/png": "[encoded data removed]",
      "text/plain": [
       "<Figure size 432x288 with 1 Axes>"
      ]
     },
     "metadata": {
      "needs_background": "light"
     },
     "output_type": "display_data"
    },
    {
     "data": {
      "image/png": "[encoded data removed]",
      "text/plain": [
       "<Figure size 432x288 with 1 Axes>"
      ]
     },
     "metadata": {
      "needs_background": "light"
     },
     "output_type": "display_data"
    },
    {
     "data": {
      "image/png": "[encoded data removed]",
      "text/plain": [
       "<Figure size 432x288 with 1 Axes>"
      ]
     },
     "metadata": {
      "needs_background": "light"
     },
     "output_type": "display_data"
    },
    {
     "data": {
      "image/png": "[encoded data removed]",
      "text/plain": [
       "<Figure size 432x288 with 1 Axes>"
      ]
     },
     "metadata": {
      "needs_background": "light"
     },
     "output_type": "display_data"
    },
    {
     "data": {
      "image/png": "[encoded data removed]",
      "text/plain": [
       "<Figure size 432x288 with 1 Axes>"
      ]
     },
     "metadata": {
      "needs_background": "light"
     },
     "output_type": "display_data"
    }
   ],
   "source": [
    "for i in df.columns:\n",
    "    plt.figure()\n",
    "    sns.distplot(df[i])"
   ]
  },
  {
   "cell_type": "code",
   "execution_count": 32,
   "metadata": {},
   "outputs": [
    {
     "data": {
      "text/plain": [
       "<matplotlib.axes._subplots.AxesSubplot at 0x2382c4af08>"
      ]
     },
     "execution_count": 32,
     "metadata": {},
     "output_type": "execute_result"
    },
    {
     "data": {
      "image/png": "[encoded data removed]",
      "text/plain": [
       "<Figure size 720x360 with 1 Axes>"
      ]
     },
     "metadata": {
      "needs_background": "light"
     },
     "output_type": "display_data"
    }
   ],
   "source": [
    "df.boxplot(figsize=(10,5),color='green')      #shows outliers"
   ]
  },
  {
   "cell_type": "code",
   "execution_count": 33,
   "metadata": {},
   "outputs": [
    {
     "data": {
      "text/plain": [
       "Text(0, 0.5, 'Active cases')"
      ]
     },
     "execution_count": 33,
     "metadata": {},
     "output_type": "execute_result"
    },
    {
     "data": {
      "image/png": "[encoded data removed]",
      "text/plain": [
       "<Figure size 432x288 with 1 Axes>"
      ]
     },
     "metadata": {
      "needs_background": "light"
     },
     "output_type": "display_data"
    }
   ],
   "source": [
    "plt.bar(df['Date'],df['Active Cases'])\n",
    "plt.xlabel('Date')\n",
    "plt.ylabel('Active cases')"
   ]
  },
  {
   "cell_type": "code",
   "execution_count": 34,
   "metadata": {},
   "outputs": [
    {
     "data": {
      "text/plain": [
       "[<matplotlib.lines.Line2D at 0x2387804b88>]"
      ]
     },
     "execution_count": 34,
     "metadata": {},
     "output_type": "execute_result"
    },
    {
     "data": {
      "image/png": "[encoded data removed]",
      "text/plain": [
       "<Figure size 432x288 with 1 Axes>"
      ]
     },
     "metadata": {
      "needs_background": "light"
     },
     "output_type": "display_data"
    }
   ],
   "source": [
    "plt.plot(df['Total Cases'])"
   ]
  },
  {
   "cell_type": "code",
   "execution_count": 35,
   "metadata": {},
   "outputs": [
    {
     "data": {
      "image/png": "[encoded data removed]",
      "text/plain": [
       "<Figure size 432x432 with 3 Axes>"
      ]
     },
     "metadata": {
      "needs_background": "light"
     },
     "output_type": "display_data"
    }
   ],
   "source": [
    "sns.jointplot(df['Active Cases'],df[\"Serious or Critical\"],kind=\"kde\")\n",
    "plt.show()"
   ]
  },
  {
   "cell_type": "code",
   "execution_count": 36,
   "metadata": {},
   "outputs": [
    {
     "data": {
      "image/png": "[encoded data removed]",
      "text/plain": [
       "<Figure size 432x432 with 3 Axes>"
      ]
     },
     "metadata": {
      "needs_background": "light"
     },
     "output_type": "display_data"
    }
   ],
   "source": [
    "sns.jointplot(df[\"Total Cases\"],df[\"Total Deaths\"],kind=\"reg\")\n",
    "plt.show()"
   ]
  },
  {
   "cell_type": "code",
   "execution_count": 37,
   "metadata": {},
   "outputs": [
    {
     "data": {
      "image/png": "[encoded data removed]",
      "text/plain": [
       "<Figure size 540x540 with 12 Axes>"
      ]
     },
     "metadata": {
      "needs_background": "light"
     },
     "output_type": "display_data"
    }
   ],
   "source": [
    "sns.pairplot(df[['Total Tests','Total Cases','Serious or Critical']])\n",
    "plt.grid()"
   ]
  },
  {
   "cell_type": "code",
   "execution_count": 38,
   "metadata": {},
   "outputs": [],
   "source": [
    "#removing the outliers"
   ]
  },
  {
   "cell_type": "code",
   "execution_count": 39,
   "metadata": {},
   "outputs": [],
   "source": [
    "from scipy.stats import zscore"
   ]
  },
  {
   "cell_type": "code",
   "execution_count": 40,
   "metadata": {},
   "outputs": [],
   "source": [
    "z=np.abs(zscore(df))"
   ]
  },
  {
   "cell_type": "code",
   "execution_count": 41,
   "metadata": {},
   "outputs": [
    {
     "name": "stdout",
     "output_type": "stream",
     "text": [
      "(array([   0,    0,    0,    0,    0,    2,    2,    2,    3,    5,    6,\n",
      "          7,   10,   12,   12,  213,  213,  213,  213,  213,  215,  215,\n",
      "        215,  216,  218,  219,  219,  220,  223,  225,  225,  426,  426,\n",
      "        426,  426,  426,  428,  428,  428,  429,  431,  432,  432,  433,\n",
      "        436,  438,  438,  639,  639,  639,  639,  639,  639,  641,  641,\n",
      "        641,  642,  644,  645,  645,  646,  649,  651,  651,  852,  852,\n",
      "        852,  852,  852,  852,  854,  854,  854,  855,  857,  858,  858,\n",
      "        859,  862,  864,  864, 1065, 1065, 1065, 1065, 1065, 1065, 1066,\n",
      "       1067, 1067, 1067, 1068, 1070, 1071, 1071, 1072, 1075, 1077, 1077,\n",
      "       1278, 1278, 1278, 1278, 1278, 1278, 1279, 1280, 1280, 1280, 1281,\n",
      "       1282, 1283, 1284, 1284, 1285, 1288, 1290, 1290, 1491, 1491, 1491,\n",
      "       1491, 1491, 1491, 1492, 1493, 1493, 1493, 1494, 1495, 1496, 1497,\n",
      "       1497, 1498, 1501, 1503, 1503, 1704, 1704, 1704, 1704, 1704, 1704,\n",
      "       1705, 1706, 1706, 1706, 1707, 1708, 1709, 1710, 1710, 1711, 1714,\n",
      "       1716, 1716, 1917, 1917, 1917, 1917, 1917, 1917, 1918, 1919, 1919,\n",
      "       1919, 1920, 1921, 1922, 1923, 1923, 1924, 1927, 1929, 1929, 2130,\n",
      "       2130, 2130, 2130, 2130, 2130, 2131, 2132, 2132, 2132, 2133, 2134,\n",
      "       2135, 2136, 2136, 2137, 2140, 2142, 2142, 2343, 2343, 2343, 2343,\n",
      "       2343, 2343, 2344, 2345, 2345, 2345, 2346, 2347, 2348, 2349, 2350,\n",
      "       2350, 2353, 2355, 2355, 2556, 2556, 2556, 2556, 2556, 2556, 2557,\n",
      "       2558, 2558, 2559, 2560, 2561, 2561, 2562, 2563, 2563, 2565, 2566,\n",
      "       2568, 2568, 2769, 2769, 2769, 2769, 2769, 2769, 2770, 2771, 2771,\n",
      "       2772, 2773, 2774, 2774, 2775, 2776, 2776, 2778, 2779, 2781, 2781,\n",
      "       2982, 2982, 2982, 2982, 2982, 2982, 2983, 2984, 2984, 2985, 2986,\n",
      "       2987, 2987, 2988, 2989, 2989, 2991, 2992, 2994, 2994, 3195, 3195,\n",
      "       3195, 3195, 3195, 3195, 3196, 3197, 3197, 3198, 3199, 3200, 3200,\n",
      "       3201, 3202, 3202, 3204, 3205, 3207, 3207, 3408, 3408, 3408, 3408,\n",
      "       3408, 3408, 3409, 3410, 3410, 3411, 3412, 3413, 3413, 3414, 3415,\n",
      "       3415, 3417, 3418, 3420, 3420, 3621, 3621, 3621, 3621, 3621, 3621,\n",
      "       3622, 3623, 3623, 3624, 3625, 3626, 3626, 3627, 3628, 3628, 3630,\n",
      "       3631, 3633, 3633, 3834, 3834, 3834, 3834, 3834, 3834, 3835, 3836,\n",
      "       3836, 3837, 3838, 3839, 3839, 3839, 3840, 3841, 3841, 3842, 3843,\n",
      "       3844, 3846, 3846, 4047, 4047, 4047, 4047, 4047, 4047, 4048, 4049,\n",
      "       4049, 4050, 4051, 4052, 4052, 4052, 4053, 4054, 4054, 4055, 4056,\n",
      "       4057, 4059, 4059, 4260, 4260, 4260, 4260, 4260, 4260, 4261, 4262,\n",
      "       4262, 4263, 4264, 4265, 4265, 4265, 4266, 4267, 4267, 4268, 4269,\n",
      "       4270, 4272, 4272, 4473, 4473, 4473, 4473, 4473, 4473, 4474, 4475,\n",
      "       4475, 4475, 4476, 4477, 4478, 4478, 4478, 4479, 4480, 4480, 4481,\n",
      "       4482, 4483, 4485, 4485, 4686, 4686, 4686, 4686, 4686, 4686, 4687,\n",
      "       4688, 4688, 4688, 4689, 4690, 4691, 4691, 4691, 4692, 4693, 4693,\n",
      "       4694, 4695, 4696, 4698, 4698, 4899, 4899, 4899, 4899, 4899, 4899,\n",
      "       4900, 4901, 4901, 4901, 4902, 4903, 4904, 4904, 4904, 4905, 4906,\n",
      "       4906, 4907, 4908, 4909, 4911, 4911, 5112, 5112, 5112, 5112, 5112,\n",
      "       5112, 5113, 5114, 5114, 5114, 5115, 5116, 5117, 5117, 5117, 5118,\n",
      "       5119, 5119, 5120, 5121, 5122, 5124, 5124, 5325, 5325, 5325, 5325,\n",
      "       5325, 5325, 5326, 5327, 5327, 5327, 5328, 5328, 5329, 5330, 5330,\n",
      "       5330, 5331, 5332, 5332, 5333, 5334, 5335, 5337, 5337, 5538, 5538,\n",
      "       5538, 5538, 5538, 5538, 5539, 5540, 5540, 5540, 5541, 5541, 5542,\n",
      "       5543, 5543, 5543, 5544, 5545, 5545, 5546, 5547, 5548, 5550, 5550,\n",
      "       5751, 5751, 5751, 5751, 5751, 5751, 5752, 5753, 5753, 5753, 5754,\n",
      "       5754, 5755, 5755, 5756, 5756, 5756, 5757, 5758, 5758, 5759, 5760,\n",
      "       5761, 5763, 5763, 5964, 5964, 5964, 5964, 5964, 5964, 5965, 5965,\n",
      "       5966, 5966, 5966, 5967, 5967, 5968, 5968, 5969, 5969, 5969, 5970,\n",
      "       5971, 5971, 5972, 5973, 5974, 5976, 5976, 6177, 6177, 6177, 6177,\n",
      "       6177, 6177, 6178, 6178, 6179, 6179, 6179, 6180, 6180, 6181, 6181,\n",
      "       6182, 6182, 6182, 6183, 6184, 6184, 6185, 6186, 6187, 6189, 6189,\n",
      "       6390, 6390, 6390, 6390, 6390, 6390, 6391, 6391, 6391, 6392, 6392,\n",
      "       6392, 6393, 6393, 6394, 6394, 6395, 6395, 6395, 6396, 6397, 6397,\n",
      "       6398, 6399, 6400, 6400, 6402, 6402], dtype=int64), array([3, 4, 5, 7, 8, 5, 6, 7, 7, 5, 7, 6, 2, 2, 6, 3, 4, 5, 7, 8, 5, 6,\n",
      "       7, 7, 5, 5, 7, 6, 2, 2, 6, 3, 4, 5, 7, 8, 5, 6, 7, 7, 5, 5, 7, 6,\n",
      "       2, 2, 6, 3, 4, 5, 6, 7, 8, 5, 6, 7, 7, 5, 5, 7, 6, 2, 2, 6, 3, 4,\n",
      "       5, 6, 7, 8, 5, 6, 7, 7, 5, 5, 7, 6, 2, 2, 6, 3, 4, 5, 6, 7, 8, 3,\n",
      "       5, 6, 7, 7, 5, 5, 7, 6, 2, 2, 6, 3, 4, 5, 6, 7, 8, 3, 5, 6, 7, 7,\n",
      "       5, 5, 5, 7, 6, 2, 2, 6, 3, 4, 5, 6, 7, 8, 3, 5, 6, 7, 7, 5, 5, 5,\n",
      "       7, 6, 2, 2, 6, 3, 4, 5, 6, 7, 8, 3, 5, 6, 7, 7, 5, 5, 5, 7, 6, 2,\n",
      "       2, 6, 3, 4, 5, 6, 7, 8, 3, 5, 6, 7, 7, 5, 5, 5, 7, 6, 2, 2, 6, 3,\n",
      "       4, 5, 6, 7, 8, 3, 5, 6, 7, 7, 5, 5, 5, 7, 6, 2, 2, 6, 3, 4, 5, 6,\n",
      "       7, 8, 3, 5, 6, 7, 7, 5, 5, 5, 3, 6, 2, 2, 6, 3, 4, 5, 6, 7, 8, 3,\n",
      "       5, 6, 7, 5, 5, 6, 5, 3, 6, 6, 2, 2, 6, 3, 4, 5, 6, 7, 8, 3, 5, 6,\n",
      "       7, 5, 5, 6, 5, 3, 6, 6, 2, 2, 6, 3, 4, 5, 6, 7, 8, 3, 5, 6, 7, 5,\n",
      "       5, 6, 5, 3, 6, 6, 2, 2, 6, 3, 4, 5, 6, 7, 8, 3, 5, 6, 7, 5, 5, 6,\n",
      "       5, 3, 6, 6, 2, 2, 6, 3, 4, 5, 6, 7, 8, 3, 5, 6, 7, 5, 5, 6, 5, 3,\n",
      "       6, 6, 2, 2, 6, 3, 4, 5, 6, 7, 8, 3, 5, 6, 7, 5, 5, 6, 5, 3, 6, 6,\n",
      "       2, 2, 6, 3, 4, 5, 6, 7, 8, 3, 5, 6, 7, 5, 3, 5, 6, 5, 3, 6, 6, 6,\n",
      "       2, 2, 6, 3, 4, 5, 6, 7, 8, 3, 5, 6, 7, 5, 3, 5, 6, 5, 3, 6, 6, 6,\n",
      "       2, 2, 6, 3, 4, 5, 6, 7, 8, 3, 5, 6, 7, 5, 3, 5, 6, 5, 3, 6, 6, 6,\n",
      "       2, 2, 6, 3, 4, 5, 6, 7, 8, 3, 3, 5, 6, 7, 5, 3, 5, 6, 5, 3, 6, 6,\n",
      "       6, 2, 2, 6, 3, 4, 5, 6, 7, 8, 3, 3, 5, 6, 7, 5, 3, 5, 6, 5, 3, 6,\n",
      "       6, 6, 2, 2, 6, 3, 4, 5, 6, 7, 8, 3, 3, 5, 6, 7, 5, 3, 5, 6, 5, 3,\n",
      "       6, 6, 6, 2, 2, 6, 3, 4, 5, 6, 7, 8, 3, 3, 5, 6, 7, 5, 3, 5, 6, 5,\n",
      "       3, 6, 6, 6, 2, 2, 6, 3, 4, 5, 6, 7, 8, 3, 3, 5, 6, 6, 7, 5, 3, 5,\n",
      "       6, 5, 3, 6, 6, 6, 2, 2, 6, 3, 4, 5, 6, 7, 8, 3, 3, 5, 6, 6, 7, 5,\n",
      "       3, 5, 6, 5, 3, 6, 6, 6, 2, 2, 6, 3, 4, 5, 6, 7, 8, 3, 3, 5, 6, 6,\n",
      "       7, 3, 5, 3, 5, 6, 5, 3, 6, 6, 6, 2, 2, 6, 3, 4, 5, 6, 7, 8, 3, 8,\n",
      "       3, 5, 6, 6, 7, 3, 5, 3, 5, 6, 5, 3, 6, 6, 6, 2, 2, 6, 3, 4, 5, 6,\n",
      "       7, 8, 3, 8, 3, 5, 6, 6, 7, 3, 5, 3, 5, 6, 5, 3, 6, 6, 6, 2, 2, 6,\n",
      "       3, 4, 5, 6, 7, 8, 3, 4, 8, 3, 5, 6, 6, 7, 3, 5, 3, 5, 6, 5, 3, 6,\n",
      "       6, 6, 2, 3, 2, 6], dtype=int64))\n"
     ]
    }
   ],
   "source": [
    "threshold=3\n",
    "print(np.where(z>3))"
   ]
  },
  {
   "cell_type": "code",
   "execution_count": 42,
   "metadata": {},
   "outputs": [],
   "source": [
    "df_new=df[(z<3).all(axis=1)]"
   ]
  },
  {
   "cell_type": "code",
   "execution_count": 43,
   "metadata": {},
   "outputs": [
    {
     "data": {
      "text/plain": [
       "(6272, 9)"
      ]
     },
     "execution_count": 43,
     "metadata": {},
     "output_type": "execute_result"
    }
   ],
   "source": [
    "df_new.shape   #shape of the df after removing outliers"
   ]
  },
  {
   "cell_type": "code",
   "execution_count": 44,
   "metadata": {},
   "outputs": [
    {
     "data": {
      "text/plain": [
       "(6603, 9)"
      ]
     },
     "execution_count": 44,
     "metadata": {},
     "output_type": "execute_result"
    }
   ],
   "source": [
    "df.shape  #original shape of the dataset"
   ]
  },
  {
   "cell_type": "code",
   "execution_count": 46,
   "metadata": {},
   "outputs": [],
   "source": [
    "#splitting the dataset in x and y"
   ]
  },
  {
   "cell_type": "code",
   "execution_count": 47,
   "metadata": {},
   "outputs": [],
   "source": [
    "x=df.drop('Total Deaths',axis=1)"
   ]
  },
  {
   "cell_type": "code",
   "execution_count": 48,
   "metadata": {},
   "outputs": [],
   "source": [
    "y=df['Total Deaths'].values\n",
    "y=y.reshape(-1,1)"
   ]
  },
  {
   "cell_type": "code",
   "execution_count": 50,
   "metadata": {},
   "outputs": [
    {
     "data": {
      "text/plain": [
       "(6603, 8)"
      ]
     },
     "execution_count": 50,
     "metadata": {},
     "output_type": "execute_result"
    }
   ],
   "source": [
    "x.shape"
   ]
  },
  {
   "cell_type": "code",
   "execution_count": 51,
   "metadata": {},
   "outputs": [
    {
     "data": {
      "text/plain": [
       "(6603, 1)"
      ]
     },
     "execution_count": 51,
     "metadata": {},
     "output_type": "execute_result"
    }
   ],
   "source": [
    "y.shape"
   ]
  },
  {
   "cell_type": "code",
   "execution_count": 45,
   "metadata": {},
   "outputs": [],
   "source": [
    "#now we will use scaling technique to standardize the dataset"
   ]
  },
  {
   "cell_type": "code",
   "execution_count": 52,
   "metadata": {},
   "outputs": [],
   "source": [
    "from sklearn.preprocessing import StandardScaler"
   ]
  },
  {
   "cell_type": "code",
   "execution_count": 53,
   "metadata": {},
   "outputs": [],
   "source": [
    "std=StandardScaler()"
   ]
  },
  {
   "cell_type": "code",
   "execution_count": 54,
   "metadata": {},
   "outputs": [],
   "source": [
    "x=std.fit_transform(x)\n",
    "x=pd.DataFrame(data=x)"
   ]
  },
  {
   "cell_type": "code",
   "execution_count": 55,
   "metadata": {},
   "outputs": [
    {
     "data": {
      "text/html": [
       "<div>\n",
       "<style scoped>\n",
       "    .dataframe tbody tr th:only-of-type {\n",
       "        vertical-align: middle;\n",
       "    }\n",
       "\n",
       "    .dataframe tbody tr th {\n",
       "        vertical-align: top;\n",
       "    }\n",
       "\n",
       "    .dataframe thead th {\n",
       "        text-align: right;\n",
       "    }\n",
       "</style>\n",
       "<table border=\"1\" class=\"dataframe\">\n",
       "  <thead>\n",
       "    <tr style=\"text-align: right;\">\n",
       "      <th></th>\n",
       "      <th>0</th>\n",
       "      <th>1</th>\n",
       "      <th>2</th>\n",
       "      <th>3</th>\n",
       "      <th>4</th>\n",
       "      <th>5</th>\n",
       "      <th>6</th>\n",
       "      <th>7</th>\n",
       "    </tr>\n",
       "  </thead>\n",
       "  <tbody>\n",
       "    <tr>\n",
       "      <th>0</th>\n",
       "      <td>-1.677051</td>\n",
       "      <td>1.545039</td>\n",
       "      <td>2.085796</td>\n",
       "      <td>5.055167</td>\n",
       "      <td>8.177100</td>\n",
       "      <td>2.719098</td>\n",
       "      <td>10.053851</td>\n",
       "      <td>9.545723</td>\n",
       "    </tr>\n",
       "    <tr>\n",
       "      <th>1</th>\n",
       "      <td>-1.677051</td>\n",
       "      <td>0.845705</td>\n",
       "      <td>0.776150</td>\n",
       "      <td>2.329233</td>\n",
       "      <td>0.225007</td>\n",
       "      <td>-0.121916</td>\n",
       "      <td>-0.289259</td>\n",
       "      <td>0.360283</td>\n",
       "    </tr>\n",
       "    <tr>\n",
       "      <th>2</th>\n",
       "      <td>-1.677051</td>\n",
       "      <td>1.203504</td>\n",
       "      <td>0.073497</td>\n",
       "      <td>1.028946</td>\n",
       "      <td>2.010527</td>\n",
       "      <td>3.003495</td>\n",
       "      <td>5.334038</td>\n",
       "      <td>1.376264</td>\n",
       "    </tr>\n",
       "    <tr>\n",
       "      <th>3</th>\n",
       "      <td>-1.677051</td>\n",
       "      <td>-1.301085</td>\n",
       "      <td>1.246975</td>\n",
       "      <td>-0.221709</td>\n",
       "      <td>0.224203</td>\n",
       "      <td>0.355958</td>\n",
       "      <td>4.771174</td>\n",
       "      <td>0.159276</td>\n",
       "    </tr>\n",
       "    <tr>\n",
       "      <th>4</th>\n",
       "      <td>-1.677051</td>\n",
       "      <td>1.528775</td>\n",
       "      <td>0.222931</td>\n",
       "      <td>0.351457</td>\n",
       "      <td>1.102050</td>\n",
       "      <td>0.000000</td>\n",
       "      <td>0.895276</td>\n",
       "      <td>1.358341</td>\n",
       "    </tr>\n",
       "  </tbody>\n",
       "</table>\n",
       "</div>"
      ],
      "text/plain": [
       "          0         1         2         3         4         5          6  \\\n",
       "0 -1.677051  1.545039  2.085796  5.055167  8.177100  2.719098  10.053851   \n",
       "1 -1.677051  0.845705  0.776150  2.329233  0.225007 -0.121916  -0.289259   \n",
       "2 -1.677051  1.203504  0.073497  1.028946  2.010527  3.003495   5.334038   \n",
       "3 -1.677051 -1.301085  1.246975 -0.221709  0.224203  0.355958   4.771174   \n",
       "4 -1.677051  1.528775  0.222931  0.351457  1.102050  0.000000   0.895276   \n",
       "\n",
       "          7  \n",
       "0  9.545723  \n",
       "1  0.360283  \n",
       "2  1.376264  \n",
       "3  0.159276  \n",
       "4  1.358341  "
      ]
     },
     "execution_count": 55,
     "metadata": {},
     "output_type": "execute_result"
    }
   ],
   "source": [
    "x.head()"
   ]
  },
  {
   "cell_type": "code",
   "execution_count": 56,
   "metadata": {},
   "outputs": [],
   "source": [
    "y=std.fit_transform(y)\n",
    "y=pd.DataFrame(data=y)"
   ]
  },
  {
   "cell_type": "code",
   "execution_count": 59,
   "metadata": {},
   "outputs": [],
   "source": [
    "#now with the help of linear regression we will build our model and check the accuracy"
   ]
  },
  {
   "cell_type": "code",
   "execution_count": 60,
   "metadata": {},
   "outputs": [],
   "source": [
    "#importing all required libraries"
   ]
  },
  {
   "cell_type": "code",
   "execution_count": 61,
   "metadata": {},
   "outputs": [],
   "source": [
    "from sklearn.linear_model import LinearRegression\n",
    "from sklearn.model_selection import train_test_split\n",
    "from sklearn.metrics import r2_score,mean_absolute_error,mean_squared_error"
   ]
  },
  {
   "cell_type": "code",
   "execution_count": 62,
   "metadata": {},
   "outputs": [
    {
     "name": "stdout",
     "output_type": "stream",
     "text": [
      "the r2 score corrosponding to the random state 42 is: 0.9187743835355601\n",
      "the r2 score corrosponding to the random state 43 is: 0.8836972743619967\n",
      "the r2 score corrosponding to the random state 44 is: 0.9215283084980004\n",
      "the r2 score corrosponding to the random state 45 is: 0.8569620991460847\n",
      "the r2 score corrosponding to the random state 46 is: 0.8862873044440804\n",
      "the r2 score corrosponding to the random state 47 is: 0.8740523720581845\n",
      "the r2 score corrosponding to the random state 48 is: 0.9098084556690061\n",
      "the r2 score corrosponding to the random state 49 is: 0.8894514983986809\n",
      "the r2 score corrosponding to the random state 50 is: 0.9242641909613265\n",
      "the r2 score corrosponding to the random state 51 is: 0.8926212205928402\n",
      "the r2 score corrosponding to the random state 52 is: 0.9042985394708409\n",
      "the r2 score corrosponding to the random state 53 is: 0.9066329819209634\n",
      "the r2 score corrosponding to the random state 54 is: 0.9187821282204475\n",
      "the r2 score corrosponding to the random state 55 is: 0.8777474799716405\n",
      "the r2 score corrosponding to the random state 56 is: 0.9285293562927722\n",
      "the r2 score corrosponding to the random state 57 is: 0.867120037249903\n",
      "the r2 score corrosponding to the random state 58 is: 0.9189506550819276\n",
      "the r2 score corrosponding to the random state 59 is: 0.8809727016749114\n",
      "the r2 score corrosponding to the random state 60 is: -0.01418839492671009\n",
      "the r2 score corrosponding to the random state 61 is: 0.9195725898982657\n",
      "the r2 score corrosponding to the random state 62 is: 0.918649041464359\n",
      "the r2 score corrosponding to the random state 63 is: 0.8826165841059266\n",
      "the r2 score corrosponding to the random state 64 is: 0.8826811614749015\n",
      "the r2 score corrosponding to the random state 65 is: 0.9368158016890542\n",
      "the r2 score corrosponding to the random state 66 is: 0.9167436106793564\n",
      "the r2 score corrosponding to the random state 67 is: 0.9097012301734841\n",
      "the r2 score corrosponding to the random state 68 is: 0.8891763909405888\n",
      "the r2 score corrosponding to the random state 69 is: 0.9164479207779335\n",
      "the r2 score corrosponding to the random state 70 is: 0.9320677198109147\n",
      "the r2 score corrosponding to the random state 71 is: 0.8201370999536213\n",
      "the r2 score corrosponding to the random state 72 is: 0.9275367322530675\n",
      "the r2 score corrosponding to the random state 73 is: 0.886483483166401\n",
      "the r2 score corrosponding to the random state 74 is: 0.8283335086086998\n",
      "the r2 score corrosponding to the random state 75 is: 0.9160684708331027\n",
      "the r2 score corrosponding to the random state 76 is: 0.8828228957049873\n",
      "the r2 score corrosponding to the random state 77 is: 0.8996503230323314\n",
      "the r2 score corrosponding to the random state 78 is: 0.8997120850891015\n",
      "the r2 score corrosponding to the random state 79 is: 0.9207838869002233\n",
      "the r2 score corrosponding to the random state 80 is: 0.9288491024752809\n",
      "the r2 score corrosponding to the random state 81 is: 0.910143834023527\n",
      "the r2 score corrosponding to the random state 82 is: 0.9203272057440207\n",
      "the r2 score corrosponding to the random state 83 is: 0.9210234103163727\n",
      "the r2 score corrosponding to the random state 84 is: 0.901235765742465\n",
      "the r2 score corrosponding to the random state 85 is: 0.8724684867409699\n",
      "the r2 score corrosponding to the random state 86 is: 0.8950713308887035\n",
      "the r2 score corrosponding to the random state 87 is: 0.864241756823422\n",
      "the r2 score corrosponding to the random state 88 is: -0.41483731962220305\n",
      "the r2 score corrosponding to the random state 89 is: 0.8744671119650332\n",
      "the r2 score corrosponding to the random state 90 is: 0.8697470489456635\n",
      "the r2 score corrosponding to the random state 91 is: 0.9228724420140578\n",
      "the r2 score corrosponding to the random state 92 is: 0.9045155681330433\n",
      "the r2 score corrosponding to the random state 93 is: 0.906076378606968\n",
      "the r2 score corrosponding to the random state 94 is: 0.9146848727479341\n",
      "the r2 score corrosponding to the random state 95 is: 0.9318102162601892\n",
      "the r2 score corrosponding to the random state 96 is: 0.9250293360062031\n",
      "the r2 score corrosponding to the random state 97 is: 0.908173617059412\n",
      "the r2 score corrosponding to the random state 98 is: 0.9294254972377719\n",
      "the r2 score corrosponding to the random state 99 is: 0.9284176918919747\n",
      "\n",
      "\n",
      "maximum r2 score for the random state 65 is: 0.9368158016890542\n"
     ]
    }
   ],
   "source": [
    "max_r2_scr=0\n",
    "for r_state in range(42,100):\n",
    "    x_train,x_test,y_train,y_test=train_test_split(x,y,random_state=r_state,test_size=0.30)\n",
    "    lr=LinearRegression()\n",
    "    lr.fit(x_train,y_train)\n",
    "    pred=lr.predict(x_test)\n",
    "    r2_scr=r2_score(y_test,pred)\n",
    "    print(\"the r2 score corrosponding to the random state\",r_state,\"is:\",r2_scr)\n",
    "    if r2_scr>max_r2_scr:\n",
    "        max_r2_scr=r2_scr\n",
    "        final_r_state=r_state\n",
    "\n",
    "print()\n",
    "print()\n",
    "print(\"maximum r2 score for the random state\",final_r_state,\"is:\",max_r2_scr)"
   ]
  },
  {
   "cell_type": "markdown",
   "metadata": {},
   "source": [
    "From the above we can see that our linear regressor model is predicting with accuracy of 94% at a random state of 65.\n",
    "will also check with other models too, whether the accuracy remains same or not."
   ]
  },
  {
   "cell_type": "code",
   "execution_count": 134,
   "metadata": {},
   "outputs": [
    {
     "data": {
      "text/plain": [
       "(5282, 8)"
      ]
     },
     "execution_count": 134,
     "metadata": {},
     "output_type": "execute_result"
    }
   ],
   "source": [
    "x_train.shape"
   ]
  },
  {
   "cell_type": "code",
   "execution_count": 135,
   "metadata": {},
   "outputs": [
    {
     "data": {
      "text/plain": [
       "(5282, 1)"
      ]
     },
     "execution_count": 135,
     "metadata": {},
     "output_type": "execute_result"
    }
   ],
   "source": [
    "y_train.shape"
   ]
  },
  {
   "cell_type": "code",
   "execution_count": 136,
   "metadata": {},
   "outputs": [
    {
     "data": {
      "text/plain": [
       "(1321, 8)"
      ]
     },
     "execution_count": 136,
     "metadata": {},
     "output_type": "execute_result"
    }
   ],
   "source": [
    "x_test.shape"
   ]
  },
  {
   "cell_type": "code",
   "execution_count": 137,
   "metadata": {},
   "outputs": [
    {
     "data": {
      "text/plain": [
       "(1321, 1)"
      ]
     },
     "execution_count": 137,
     "metadata": {},
     "output_type": "execute_result"
    }
   ],
   "source": [
    "y_test.shape"
   ]
  },
  {
   "cell_type": "code",
   "execution_count": 63,
   "metadata": {},
   "outputs": [
    {
     "data": {
      "text/plain": [
       "array([[-0.00677677,  0.01277081, -0.0472398 , -0.19065799,  3.5446637 ,\n",
       "        -0.53861944, -0.01371595, -2.01348083]])"
      ]
     },
     "execution_count": 63,
     "metadata": {},
     "output_type": "execute_result"
    }
   ],
   "source": [
    "lr.coef_"
   ]
  },
  {
   "cell_type": "code",
   "execution_count": 64,
   "metadata": {},
   "outputs": [
    {
     "data": {
      "text/plain": [
       "array([0.00195948])"
      ]
     },
     "execution_count": 64,
     "metadata": {},
     "output_type": "execute_result"
    }
   ],
   "source": [
    "lr.intercept_"
   ]
  },
  {
   "cell_type": "code",
   "execution_count": 65,
   "metadata": {},
   "outputs": [
    {
     "name": "stdout",
     "output_type": "stream",
     "text": [
      "0.3910998591256366\n"
     ]
    }
   ],
   "source": [
    "from math import sqrt\n",
    "print(sqrt(mean_absolute_error(y_test,pred)))   #rms error"
   ]
  },
  {
   "cell_type": "code",
   "execution_count": 66,
   "metadata": {},
   "outputs": [
    {
     "name": "stdout",
     "output_type": "stream",
     "text": [
      "0.1529590998080928\n"
     ]
    }
   ],
   "source": [
    "print(mean_absolute_error(y_test,pred))"
   ]
  },
  {
   "cell_type": "code",
   "execution_count": 67,
   "metadata": {},
   "outputs": [],
   "source": [
    "#performing regularisation by finding the best hyper parameter"
   ]
  },
  {
   "cell_type": "code",
   "execution_count": 68,
   "metadata": {},
   "outputs": [],
   "source": [
    "from sklearn.linear_model import Lasso,Ridge"
   ]
  },
  {
   "cell_type": "code",
   "execution_count": 69,
   "metadata": {},
   "outputs": [],
   "source": [
    "from sklearn.model_selection import GridSearchCV"
   ]
  },
  {
   "cell_type": "code",
   "execution_count": 70,
   "metadata": {},
   "outputs": [],
   "source": [
    "ls=Lasso()\n",
    "rg=Ridge()"
   ]
  },
  {
   "cell_type": "code",
   "execution_count": 71,
   "metadata": {},
   "outputs": [],
   "source": [
    "params={'alpha':[1.0,0.1,0.01,0.001]}"
   ]
  },
  {
   "cell_type": "code",
   "execution_count": 72,
   "metadata": {},
   "outputs": [],
   "source": [
    "gd=GridSearchCV(estimator=ls,param_grid=params)\n",
    "gd1=GridSearchCV(estimator=rg,param_grid=params)"
   ]
  },
  {
   "cell_type": "code",
   "execution_count": 73,
   "metadata": {},
   "outputs": [
    {
     "data": {
      "text/plain": [
       "GridSearchCV(cv=None, error_score=nan,\n",
       "             estimator=Ridge(alpha=1.0, copy_X=True, fit_intercept=True,\n",
       "                             max_iter=None, normalize=False, random_state=None,\n",
       "                             solver='auto', tol=0.001),\n",
       "             iid='deprecated', n_jobs=None,\n",
       "             param_grid={'alpha': [1.0, 0.1, 0.01, 0.001]},\n",
       "             pre_dispatch='2*n_jobs', refit=True, return_train_score=False,\n",
       "             scoring=None, verbose=0)"
      ]
     },
     "execution_count": 73,
     "metadata": {},
     "output_type": "execute_result"
    }
   ],
   "source": [
    "gd.fit(x,y)\n",
    "gd1.fit(x,y)"
   ]
  },
  {
   "cell_type": "code",
   "execution_count": 74,
   "metadata": {},
   "outputs": [
    {
     "data": {
      "text/plain": [
       "Lasso(alpha=0.001, copy_X=True, fit_intercept=True, max_iter=1000,\n",
       "      normalize=False, positive=False, precompute=False, random_state=None,\n",
       "      selection='cyclic', tol=0.0001, warm_start=False)"
      ]
     },
     "execution_count": 74,
     "metadata": {},
     "output_type": "execute_result"
    }
   ],
   "source": [
    "gd.best_estimator_"
   ]
  },
  {
   "cell_type": "code",
   "execution_count": 75,
   "metadata": {},
   "outputs": [
    {
     "data": {
      "text/plain": [
       "Ridge(alpha=1.0, copy_X=True, fit_intercept=True, max_iter=None,\n",
       "      normalize=False, random_state=None, solver='auto', tol=0.001)"
      ]
     },
     "execution_count": 75,
     "metadata": {},
     "output_type": "execute_result"
    }
   ],
   "source": [
    "gd1.best_estimator_"
   ]
  },
  {
   "cell_type": "code",
   "execution_count": 76,
   "metadata": {},
   "outputs": [
    {
     "data": {
      "text/plain": [
       "0.8269002940903449"
      ]
     },
     "execution_count": 76,
     "metadata": {},
     "output_type": "execute_result"
    }
   ],
   "source": [
    "gd1.best_score_"
   ]
  },
  {
   "cell_type": "code",
   "execution_count": 77,
   "metadata": {},
   "outputs": [
    {
     "data": {
      "text/plain": [
       "0.888007163951184"
      ]
     },
     "execution_count": 77,
     "metadata": {},
     "output_type": "execute_result"
    }
   ],
   "source": [
    "gd.best_score_"
   ]
  },
  {
   "cell_type": "code",
   "execution_count": 78,
   "metadata": {},
   "outputs": [],
   "source": [
    "#using cross valid score"
   ]
  },
  {
   "cell_type": "code",
   "execution_count": 79,
   "metadata": {},
   "outputs": [],
   "source": [
    "from sklearn.model_selection import cross_val_score"
   ]
  },
  {
   "cell_type": "code",
   "execution_count": 80,
   "metadata": {},
   "outputs": [],
   "source": [
    "score=cross_val_score(lr,x,y,cv=5)"
   ]
  },
  {
   "cell_type": "code",
   "execution_count": 81,
   "metadata": {},
   "outputs": [
    {
     "data": {
      "text/plain": [
       "array([ 0.88887949,  0.9051446 ,  0.90556576,  0.91010876, -0.29463876])"
      ]
     },
     "execution_count": 81,
     "metadata": {},
     "output_type": "execute_result"
    }
   ],
   "source": [
    "score"
   ]
  },
  {
   "cell_type": "code",
   "execution_count": 82,
   "metadata": {},
   "outputs": [],
   "source": [
    "#so the cross valid is giving a max of 91% accuracy "
   ]
  },
  {
   "cell_type": "code",
   "execution_count": 83,
   "metadata": {},
   "outputs": [],
   "source": [
    "#checking the r2 scores with other models"
   ]
  },
  {
   "cell_type": "code",
   "execution_count": 84,
   "metadata": {},
   "outputs": [],
   "source": [
    "from sklearn.tree import DecisionTreeRegressor\n",
    "from sklearn.svm import SVR\n",
    "from sklearn.neighbors import KNeighborsRegressor"
   ]
  },
  {
   "cell_type": "code",
   "execution_count": 85,
   "metadata": {},
   "outputs": [],
   "source": [
    "model=[KNeighborsRegressor(),SVR(),DecisionTreeRegressor()]"
   ]
  },
  {
   "cell_type": "code",
   "execution_count": 111,
   "metadata": {},
   "outputs": [
    {
     "name": "stdout",
     "output_type": "stream",
     "text": [
      "KNeighborsRegressor(algorithm='auto', leaf_size=30, metric='minkowski',\n",
      "                    metric_params=None, n_jobs=None, n_neighbors=5, p=2,\n",
      "                    weights='uniform') score 0.9947464824308763\n",
      "KNeighborsRegressor(algorithm='auto', leaf_size=30, metric='minkowski',\n",
      "                    metric_params=None, n_jobs=None, n_neighbors=5, p=2,\n",
      "                    weights='uniform') abs error 0.048283876748989145\n",
      "KNeighborsRegressor(algorithm='auto', leaf_size=30, metric='minkowski',\n",
      "                    metric_params=None, n_jobs=None, n_neighbors=5, p=2,\n",
      "                    weights='uniform') sq error 0.007614682740406823\n",
      "SVR(C=1.0, cache_size=200, coef0=0.0, degree=3, epsilon=0.1, gamma='scale',\n",
      "    kernel='rbf', max_iter=-1, shrinking=True, tol=0.001, verbose=False) score 0.7363296915534304\n",
      "SVR(C=1.0, cache_size=200, coef0=0.0, degree=3, epsilon=0.1, gamma='scale',\n",
      "    kernel='rbf', max_iter=-1, shrinking=True, tol=0.001, verbose=False) abs error 0.1444612196001192\n",
      "SVR(C=1.0, cache_size=200, coef0=0.0, degree=3, epsilon=0.1, gamma='scale',\n",
      "    kernel='rbf', max_iter=-1, shrinking=True, tol=0.001, verbose=False) sq error 0.38217550821300883\n",
      "DecisionTreeRegressor(ccp_alpha=0.0, criterion='mse', max_depth=None,\n",
      "                      max_features=None, max_leaf_nodes=None,\n",
      "                      min_impurity_decrease=0.0, min_impurity_split=None,\n",
      "                      min_samples_leaf=1, min_samples_split=2,\n",
      "                      min_weight_fraction_leaf=0.0, presort='deprecated',\n",
      "                      random_state=None, splitter='best') score 0.998565820246452\n",
      "DecisionTreeRegressor(ccp_alpha=0.0, criterion='mse', max_depth=None,\n",
      "                      max_features=None, max_leaf_nodes=None,\n",
      "                      min_impurity_decrease=0.0, min_impurity_split=None,\n",
      "                      min_samples_leaf=1, min_samples_split=2,\n",
      "                      min_weight_fraction_leaf=0.0, presort='deprecated',\n",
      "                      random_state=None, splitter='best') abs error 0.00857964470162724\n",
      "DecisionTreeRegressor(ccp_alpha=0.0, criterion='mse', max_depth=None,\n",
      "                      max_features=None, max_leaf_nodes=None,\n",
      "                      min_impurity_decrease=0.0, min_impurity_split=None,\n",
      "                      min_samples_leaf=1, min_samples_split=2,\n",
      "                      min_weight_fraction_leaf=0.0, presort='deprecated',\n",
      "                      random_state=None, splitter='best') sq error 0.002078764118001042\n"
     ]
    }
   ],
   "source": [
    "x_train,x_test,y_train,y_test=train_test_split(x,y,random_state=65,test_size=0.20)\n",
    "for i in model:\n",
    "    i.fit(x_train,y_train)\n",
    "    pred=i.predict(x_test)\n",
    "    print(i,\"score\",r2_score(y_test,pred))\n",
    "    print(i,\"abs error\",mean_absolute_error(y_test,pred))\n",
    "    print(i,\"sq error\",mean_squared_error(y_test,pred))"
   ]
  },
  {
   "cell_type": "code",
   "execution_count": 118,
   "metadata": {},
   "outputs": [],
   "source": [
    "#so from the above we can infer that we are getting the maximum r2 score 99.8% with Decisiontree Regressor "
   ]
  },
  {
   "cell_type": "code",
   "execution_count": 92,
   "metadata": {},
   "outputs": [],
   "source": [
    "#find r2 scores at different n_neighbors for KNN"
   ]
  },
  {
   "cell_type": "code",
   "execution_count": 112,
   "metadata": {
    "scrolled": true
   },
   "outputs": [
    {
     "name": "stdout",
     "output_type": "stream",
     "text": [
      "r2 score at neighbor 2 is: 0.9961261043006714\n",
      "r2 score at neighbor 3 is: 0.9966956940612458\n",
      "r2 score at neighbor 4 is: 0.995713510614847\n",
      "r2 score at neighbor 5 is: 0.9947464824308763\n",
      "r2 score at neighbor 6 is: 0.992975325751944\n",
      "r2 score at neighbor 7 is: 0.9909879202806244\n",
      "r2 score at neighbor 8 is: 0.9888418951485503\n",
      "r2 score at neighbor 9 is: 0.9864185641408496\n",
      "r2 score at neighbor 10 is: 0.9831304841570526\n",
      "r2 score at neighbor 11 is: 0.9803989845514144\n",
      "r2 score at neighbor 12 is: 0.9762531128867374\n",
      "r2 score at neighbor 13 is: 0.972178883448455\n",
      "r2 score at neighbor 14 is: 0.9690906389361585\n",
      "r2 score at neighbor 15 is: 0.9643596122171478\n",
      "r2 score at neighbor 16 is: 0.9599496507513257\n",
      "r2 score at neighbor 17 is: 0.9550788664911525\n",
      "r2 score at neighbor 18 is: 0.949540732388033\n",
      "r2 score at neighbor 19 is: 0.9429146276529076\n",
      "r2 score at neighbor 20 is: 0.936520627171116\n",
      "r2 score at neighbor 21 is: 0.9257291739986351\n"
     ]
    }
   ],
   "source": [
    "for i in range(2,22):\n",
    "    knn=KNeighborsRegressor(n_neighbors=i)\n",
    "    knn.fit(x_train,y_train)\n",
    "    pred=knn.predict(x_test)\n",
    "    print(\"r2 score at neighbor\",i,\"is:\",r2_score(y_test,pred))"
   ]
  },
  {
   "cell_type": "code",
   "execution_count": 94,
   "metadata": {},
   "outputs": [],
   "source": [
    "#knn is giving a max of 99.6% r2 score at n_neighbors=3"
   ]
  },
  {
   "cell_type": "code",
   "execution_count": 95,
   "metadata": {},
   "outputs": [],
   "source": [
    "# using ensemble techniques"
   ]
  },
  {
   "cell_type": "code",
   "execution_count": 113,
   "metadata": {},
   "outputs": [],
   "source": [
    "from sklearn.ensemble import AdaBoostRegressor,RandomForestRegressor,GradientBoostingRegressor"
   ]
  },
  {
   "cell_type": "code",
   "execution_count": 114,
   "metadata": {},
   "outputs": [
    {
     "name": "stdout",
     "output_type": "stream",
     "text": [
      "r2 score is: 0.9745179545348088\n"
     ]
    }
   ],
   "source": [
    "a=AdaBoostRegressor(n_estimators=150,learning_rate=0.01)\n",
    "a.fit(x_train,y_train)\n",
    "predad=a.predict(x_test)\n",
    "print(\"r2 score is:\",r2_score(y_test,predad))"
   ]
  },
  {
   "cell_type": "code",
   "execution_count": 117,
   "metadata": {},
   "outputs": [],
   "source": [
    "#from the above we can see that adaboost model is giving r2 score of 97%"
   ]
  },
  {
   "cell_type": "code",
   "execution_count": 115,
   "metadata": {},
   "outputs": [
    {
     "name": "stdout",
     "output_type": "stream",
     "text": [
      "r2 score at lerning rate 0.1 is: 0.99274400735021\n",
      "r2 score at lerning rate 0.01 is: 0.8391489130121615\n",
      "r2 score at lerning rate 1.0 is: 0.9668518685523844\n"
     ]
    }
   ],
   "source": [
    "l=[0.1,0.01,1.0]\n",
    "for i in l:\n",
    "    gd=GradientBoostingRegressor(learning_rate=i)\n",
    "    gd.fit(x_train,y_train)\n",
    "    predgd=gd.predict(x_test)\n",
    "    print(\"r2 score at lerning rate\",i,\"is:\",r2_score(y_test,predgd))"
   ]
  },
  {
   "cell_type": "code",
   "execution_count": 101,
   "metadata": {},
   "outputs": [],
   "source": [
    "#gradient boost regressor is giving a max of 99.2% r2 score at l_rate of 0.1"
   ]
  },
  {
   "cell_type": "code",
   "execution_count": 116,
   "metadata": {},
   "outputs": [
    {
     "name": "stdout",
     "output_type": "stream",
     "text": [
      "r2 score at 150 is: 0.9982945967190381\n",
      "r2 score at 200 is: 0.9978885989493224\n",
      "r2 score at 250 is: 0.9980698704670231\n",
      "r2 score at 300 is: 0.9978868495388826\n",
      "r2 score at 350 is: 0.99778587852789\n"
     ]
    }
   ],
   "source": [
    "a=[150,200,250,300,350]\n",
    "for i in a:\n",
    "    rd=RandomForestRegressor(n_estimators=i)\n",
    "    rd.fit(x_train,y_train)\n",
    "    predrd=rd.predict(x_test)\n",
    "    print('r2 score at',i,'is:',r2_score(y_test,predrd))"
   ]
  },
  {
   "cell_type": "code",
   "execution_count": 103,
   "metadata": {},
   "outputs": [],
   "source": [
    "#from the below DataFrame we will choose our model as final"
   ]
  },
  {
   "cell_type": "code",
   "execution_count": 119,
   "metadata": {},
   "outputs": [],
   "source": [
    "a={'model':('lin reg','knn','svr','dtr','adaboostreg','gdboostreg','rdboost'),'r2_score in %':[94,99.6,73,99.8,97,99,99.82]}"
   ]
  },
  {
   "cell_type": "code",
   "execution_count": 120,
   "metadata": {},
   "outputs": [],
   "source": [
    "results=pd.DataFrame(data=a)"
   ]
  },
  {
   "cell_type": "code",
   "execution_count": 121,
   "metadata": {},
   "outputs": [
    {
     "data": {
      "text/html": [
       "<div>\n",
       "<style scoped>\n",
       "    .dataframe tbody tr th:only-of-type {\n",
       "        vertical-align: middle;\n",
       "    }\n",
       "\n",
       "    .dataframe tbody tr th {\n",
       "        vertical-align: top;\n",
       "    }\n",
       "\n",
       "    .dataframe thead th {\n",
       "        text-align: right;\n",
       "    }\n",
       "</style>\n",
       "<table border=\"1\" class=\"dataframe\">\n",
       "  <thead>\n",
       "    <tr style=\"text-align: right;\">\n",
       "      <th></th>\n",
       "      <th>model</th>\n",
       "      <th>r2_score in %</th>\n",
       "    </tr>\n",
       "  </thead>\n",
       "  <tbody>\n",
       "    <tr>\n",
       "      <th>0</th>\n",
       "      <td>lin reg</td>\n",
       "      <td>93.00</td>\n",
       "    </tr>\n",
       "    <tr>\n",
       "      <th>1</th>\n",
       "      <td>knn</td>\n",
       "      <td>99.60</td>\n",
       "    </tr>\n",
       "    <tr>\n",
       "      <th>2</th>\n",
       "      <td>svr</td>\n",
       "      <td>73.00</td>\n",
       "    </tr>\n",
       "    <tr>\n",
       "      <th>3</th>\n",
       "      <td>dtr</td>\n",
       "      <td>99.80</td>\n",
       "    </tr>\n",
       "    <tr>\n",
       "      <th>4</th>\n",
       "      <td>adaboostreg</td>\n",
       "      <td>97.00</td>\n",
       "    </tr>\n",
       "    <tr>\n",
       "      <th>5</th>\n",
       "      <td>gdboostreg</td>\n",
       "      <td>99.00</td>\n",
       "    </tr>\n",
       "    <tr>\n",
       "      <th>6</th>\n",
       "      <td>rdboost</td>\n",
       "      <td>99.82</td>\n",
       "    </tr>\n",
       "  </tbody>\n",
       "</table>\n",
       "</div>"
      ],
      "text/plain": [
       "         model  r2_score in %\n",
       "0      lin reg          93.00\n",
       "1          knn          99.60\n",
       "2          svr          73.00\n",
       "3          dtr          99.80\n",
       "4  adaboostreg          97.00\n",
       "5   gdboostreg          99.00\n",
       "6      rdboost          99.82"
      ]
     },
     "execution_count": 121,
     "metadata": {},
     "output_type": "execute_result"
    }
   ],
   "source": [
    "results"
   ]
  },
  {
   "cell_type": "code",
   "execution_count": 138,
   "metadata": {},
   "outputs": [],
   "source": [
    "#from the above we will select Decisiontree regressor as our final model for prediction and will dump the same \n",
    "#using serialisation."
   ]
  },
  {
   "cell_type": "code",
   "execution_count": 123,
   "metadata": {},
   "outputs": [],
   "source": [
    "x_train,x_test,y_train,y_test=train_test_split(x,y,random_state=65,test_size=0.20)"
   ]
  },
  {
   "cell_type": "code",
   "execution_count": 127,
   "metadata": {},
   "outputs": [],
   "source": [
    "dtr=DecisionTreeRegressor()\n",
    "dtr.fit(x_train,y_train)\n",
    "preddtr=dtr.predict(x_test)\n",
    "a1=pd.DataFrame(data=preddtr)\n",
    "a1.to_csv('world_covid19_dtr.csv')   #saved the predicted result in csv format"
   ]
  },
  {
   "cell_type": "code",
   "execution_count": 128,
   "metadata": {},
   "outputs": [
    {
     "data": {
      "text/plain": [
       "0.9984173391095247"
      ]
     },
     "execution_count": 128,
     "metadata": {},
     "output_type": "execute_result"
    }
   ],
   "source": [
    "r2_score(y_test,preddtr)"
   ]
  },
  {
   "cell_type": "code",
   "execution_count": 130,
   "metadata": {},
   "outputs": [
    {
     "name": "stdout",
     "output_type": "stream",
     "text": [
      "0.2191948461099551\n"
     ]
    }
   ],
   "source": [
    "from math import sqrt\n",
    "print(sqrt(mean_squared_error(y_test,preddtr)) )  #root mean square error"
   ]
  },
  {
   "cell_type": "code",
   "execution_count": 131,
   "metadata": {},
   "outputs": [
    {
     "data": {
      "text/plain": [
       "0.03520005055217709"
      ]
     },
     "execution_count": 131,
     "metadata": {},
     "output_type": "execute_result"
    }
   ],
   "source": [
    "mean_absolute_error(y_test,preddtr)"
   ]
  },
  {
   "cell_type": "code",
   "execution_count": 129,
   "metadata": {},
   "outputs": [],
   "source": [
    "#dumping the final model for prediction"
   ]
  },
  {
   "cell_type": "code",
   "execution_count": 132,
   "metadata": {},
   "outputs": [],
   "source": [
    "from sklearn.externals import joblib"
   ]
  },
  {
   "cell_type": "code",
   "execution_count": 133,
   "metadata": {},
   "outputs": [
    {
     "data": {
      "text/plain": [
       "['world_covid19.obj']"
      ]
     },
     "execution_count": 133,
     "metadata": {},
     "output_type": "execute_result"
    }
   ],
   "source": [
    "joblib.dump(dtr,'world_covid19.obj')"
   ]
  },
  {
   "cell_type": "code",
   "execution_count": null,
   "metadata": {},
   "outputs": [],
   "source": []
  }
 ],
 "metadata": {
  "kernelspec": {
   "display_name": "Python 3",
   "language": "python",
   "name": "python3"
  },
  "language_info": {
   "codemirror_mode": {
    "name": "ipython",
    "version": 3
   },
   "file_extension": ".py",
   "mimetype": "text/x-python",
   "name": "python",
   "nbconvert_exporter": "python",
   "pygments_lexer": "ipython3",
   "version": "3.7.6"
  }
 },
 "nbformat": 4,
 "nbformat_minor": 4
}
