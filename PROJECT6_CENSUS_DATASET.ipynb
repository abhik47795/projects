{
 "cells": [
  {
   "cell_type": "markdown",
   "metadata": {},
   "source": [
    "In this dataset we are predicting the result whether the income is >=50k or <=50k ,so for prediction we use classification and logistic regression method\n"
   ]
  },
  {
   "cell_type": "code",
   "execution_count": 1,
   "metadata": {},
   "outputs": [],
   "source": [
    "import warnings\n",
    "warnings.filterwarnings('ignore')"
   ]
  },
  {
   "cell_type": "code",
   "execution_count": 2,
   "metadata": {},
   "outputs": [],
   "source": [
    "import pandas as pd\n",
    "import numpy as np"
   ]
  },
  {
   "cell_type": "code",
   "execution_count": 3,
   "metadata": {},
   "outputs": [],
   "source": [
    "df=pd.read_csv('census.csv',names=range(0,15),header=0)"
   ]
  },
  {
   "cell_type": "code",
   "execution_count": 4,
   "metadata": {},
   "outputs": [
    {
     "data": {
      "text/html": [
       "<div>\n",
       "<style scoped>\n",
       "    .dataframe tbody tr th:only-of-type {\n",
       "        vertical-align: middle;\n",
       "    }\n",
       "\n",
       "    .dataframe tbody tr th {\n",
       "        vertical-align: top;\n",
       "    }\n",
       "\n",
       "    .dataframe thead th {\n",
       "        text-align: right;\n",
       "    }\n",
       "</style>\n",
       "<table border=\"1\" class=\"dataframe\">\n",
       "  <thead>\n",
       "    <tr style=\"text-align: right;\">\n",
       "      <th></th>\n",
       "      <th>0</th>\n",
       "      <th>1</th>\n",
       "      <th>2</th>\n",
       "      <th>3</th>\n",
       "      <th>4</th>\n",
       "      <th>5</th>\n",
       "      <th>6</th>\n",
       "      <th>7</th>\n",
       "      <th>8</th>\n",
       "      <th>9</th>\n",
       "      <th>10</th>\n",
       "      <th>11</th>\n",
       "      <th>12</th>\n",
       "      <th>13</th>\n",
       "      <th>14</th>\n",
       "    </tr>\n",
       "  </thead>\n",
       "  <tbody>\n",
       "    <tr>\n",
       "      <th>0</th>\n",
       "      <td>39</td>\n",
       "      <td>State-gov</td>\n",
       "      <td>77516</td>\n",
       "      <td>Bachelors</td>\n",
       "      <td>13</td>\n",
       "      <td>Never-married</td>\n",
       "      <td>Adm-clerical</td>\n",
       "      <td>Not-in-family</td>\n",
       "      <td>White</td>\n",
       "      <td>Male</td>\n",
       "      <td>2174</td>\n",
       "      <td>0</td>\n",
       "      <td>40</td>\n",
       "      <td>United-States</td>\n",
       "      <td>&lt;=50K</td>\n",
       "    </tr>\n",
       "    <tr>\n",
       "      <th>1</th>\n",
       "      <td>50</td>\n",
       "      <td>Self-emp-not-inc</td>\n",
       "      <td>83311</td>\n",
       "      <td>Bachelors</td>\n",
       "      <td>13</td>\n",
       "      <td>Married-civ-spouse</td>\n",
       "      <td>Exec-managerial</td>\n",
       "      <td>Husband</td>\n",
       "      <td>White</td>\n",
       "      <td>Male</td>\n",
       "      <td>0</td>\n",
       "      <td>0</td>\n",
       "      <td>13</td>\n",
       "      <td>United-States</td>\n",
       "      <td>&lt;=50K</td>\n",
       "    </tr>\n",
       "    <tr>\n",
       "      <th>2</th>\n",
       "      <td>38</td>\n",
       "      <td>Private</td>\n",
       "      <td>215646</td>\n",
       "      <td>HS-grad</td>\n",
       "      <td>9</td>\n",
       "      <td>Divorced</td>\n",
       "      <td>Handlers-cleaners</td>\n",
       "      <td>Not-in-family</td>\n",
       "      <td>White</td>\n",
       "      <td>Male</td>\n",
       "      <td>0</td>\n",
       "      <td>0</td>\n",
       "      <td>40</td>\n",
       "      <td>United-States</td>\n",
       "      <td>&lt;=50K</td>\n",
       "    </tr>\n",
       "    <tr>\n",
       "      <th>3</th>\n",
       "      <td>53</td>\n",
       "      <td>Private</td>\n",
       "      <td>234721</td>\n",
       "      <td>11th</td>\n",
       "      <td>7</td>\n",
       "      <td>Married-civ-spouse</td>\n",
       "      <td>Handlers-cleaners</td>\n",
       "      <td>Husband</td>\n",
       "      <td>Black</td>\n",
       "      <td>Male</td>\n",
       "      <td>0</td>\n",
       "      <td>0</td>\n",
       "      <td>40</td>\n",
       "      <td>United-States</td>\n",
       "      <td>&lt;=50K</td>\n",
       "    </tr>\n",
       "    <tr>\n",
       "      <th>4</th>\n",
       "      <td>28</td>\n",
       "      <td>Private</td>\n",
       "      <td>338409</td>\n",
       "      <td>Bachelors</td>\n",
       "      <td>13</td>\n",
       "      <td>Married-civ-spouse</td>\n",
       "      <td>Prof-specialty</td>\n",
       "      <td>Wife</td>\n",
       "      <td>Black</td>\n",
       "      <td>Female</td>\n",
       "      <td>0</td>\n",
       "      <td>0</td>\n",
       "      <td>40</td>\n",
       "      <td>Cuba</td>\n",
       "      <td>&lt;=50K</td>\n",
       "    </tr>\n",
       "  </tbody>\n",
       "</table>\n",
       "</div>"
      ],
      "text/plain": [
       "   0                  1       2           3   4                    5   \\\n",
       "0  39          State-gov   77516   Bachelors  13        Never-married   \n",
       "1  50   Self-emp-not-inc   83311   Bachelors  13   Married-civ-spouse   \n",
       "2  38            Private  215646     HS-grad   9             Divorced   \n",
       "3  53            Private  234721        11th   7   Married-civ-spouse   \n",
       "4  28            Private  338409   Bachelors  13   Married-civ-spouse   \n",
       "\n",
       "                   6               7       8        9     10  11  12  \\\n",
       "0        Adm-clerical   Not-in-family   White     Male  2174   0  40   \n",
       "1     Exec-managerial         Husband   White     Male     0   0  13   \n",
       "2   Handlers-cleaners   Not-in-family   White     Male     0   0  40   \n",
       "3   Handlers-cleaners         Husband   Black     Male     0   0  40   \n",
       "4      Prof-specialty            Wife   Black   Female     0   0  40   \n",
       "\n",
       "               13      14  \n",
       "0   United-States   <=50K  \n",
       "1   United-States   <=50K  \n",
       "2   United-States   <=50K  \n",
       "3   United-States   <=50K  \n",
       "4            Cuba   <=50K  "
      ]
     },
     "execution_count": 4,
     "metadata": {},
     "output_type": "execute_result"
    }
   ],
   "source": [
    "df.head()"
   ]
  },
  {
   "cell_type": "code",
   "execution_count": 5,
   "metadata": {},
   "outputs": [
    {
     "data": {
      "text/plain": [
       "(1449, 15)"
      ]
     },
     "execution_count": 5,
     "metadata": {},
     "output_type": "execute_result"
    }
   ],
   "source": [
    "df.shape"
   ]
  },
  {
   "cell_type": "code",
   "execution_count": 6,
   "metadata": {},
   "outputs": [
    {
     "name": "stdout",
     "output_type": "stream",
     "text": [
      "<class 'pandas.core.frame.DataFrame'>\n",
      "RangeIndex: 1449 entries, 0 to 1448\n",
      "Data columns (total 15 columns):\n",
      " #   Column  Non-Null Count  Dtype \n",
      "---  ------  --------------  ----- \n",
      " 0   0       1449 non-null   int64 \n",
      " 1   1       1449 non-null   object\n",
      " 2   2       1449 non-null   int64 \n",
      " 3   3       1449 non-null   object\n",
      " 4   4       1449 non-null   int64 \n",
      " 5   5       1449 non-null   object\n",
      " 6   6       1449 non-null   object\n",
      " 7   7       1449 non-null   object\n",
      " 8   8       1449 non-null   object\n",
      " 9   9       1449 non-null   object\n",
      " 10  10      1449 non-null   int64 \n",
      " 11  11      1449 non-null   int64 \n",
      " 12  12      1449 non-null   int64 \n",
      " 13  13      1449 non-null   object\n",
      " 14  14      1449 non-null   object\n",
      "dtypes: int64(6), object(9)\n",
      "memory usage: 169.9+ KB\n"
     ]
    }
   ],
   "source": [
    "df.info()"
   ]
  },
  {
   "cell_type": "code",
   "execution_count": 7,
   "metadata": {},
   "outputs": [
    {
     "data": {
      "text/plain": [
       "0      int64\n",
       "1     object\n",
       "2      int64\n",
       "3     object\n",
       "4      int64\n",
       "5     object\n",
       "6     object\n",
       "7     object\n",
       "8     object\n",
       "9     object\n",
       "10     int64\n",
       "11     int64\n",
       "12     int64\n",
       "13    object\n",
       "14    object\n",
       "dtype: object"
      ]
     },
     "execution_count": 7,
     "metadata": {},
     "output_type": "execute_result"
    }
   ],
   "source": [
    "df.dtypes"
   ]
  },
  {
   "cell_type": "code",
   "execution_count": 8,
   "metadata": {},
   "outputs": [],
   "source": [
    "#changing catagorical to numerical values"
   ]
  },
  {
   "cell_type": "code",
   "execution_count": 9,
   "metadata": {},
   "outputs": [],
   "source": [
    "from sklearn.preprocessing import LabelEncoder"
   ]
  },
  {
   "cell_type": "code",
   "execution_count": 10,
   "metadata": {},
   "outputs": [],
   "source": [
    "le=LabelEncoder()"
   ]
  },
  {
   "cell_type": "code",
   "execution_count": 11,
   "metadata": {},
   "outputs": [],
   "source": [
    "a=[1,3,5,6,7,8,9,13,14]\n",
    "for i in a:\n",
    "    df[i]=le.fit_transform(df[i])"
   ]
  },
  {
   "cell_type": "code",
   "execution_count": 12,
   "metadata": {},
   "outputs": [
    {
     "data": {
      "text/html": [
       "<div>\n",
       "<style scoped>\n",
       "    .dataframe tbody tr th:only-of-type {\n",
       "        vertical-align: middle;\n",
       "    }\n",
       "\n",
       "    .dataframe tbody tr th {\n",
       "        vertical-align: top;\n",
       "    }\n",
       "\n",
       "    .dataframe thead th {\n",
       "        text-align: right;\n",
       "    }\n",
       "</style>\n",
       "<table border=\"1\" class=\"dataframe\">\n",
       "  <thead>\n",
       "    <tr style=\"text-align: right;\">\n",
       "      <th></th>\n",
       "      <th>0</th>\n",
       "      <th>1</th>\n",
       "      <th>2</th>\n",
       "      <th>3</th>\n",
       "      <th>4</th>\n",
       "      <th>5</th>\n",
       "      <th>6</th>\n",
       "      <th>7</th>\n",
       "      <th>8</th>\n",
       "      <th>9</th>\n",
       "      <th>10</th>\n",
       "      <th>11</th>\n",
       "      <th>12</th>\n",
       "      <th>13</th>\n",
       "      <th>14</th>\n",
       "    </tr>\n",
       "  </thead>\n",
       "  <tbody>\n",
       "    <tr>\n",
       "      <th>0</th>\n",
       "      <td>39</td>\n",
       "      <td>6</td>\n",
       "      <td>77516</td>\n",
       "      <td>9</td>\n",
       "      <td>13</td>\n",
       "      <td>4</td>\n",
       "      <td>1</td>\n",
       "      <td>1</td>\n",
       "      <td>4</td>\n",
       "      <td>1</td>\n",
       "      <td>2174</td>\n",
       "      <td>0</td>\n",
       "      <td>40</td>\n",
       "      <td>30</td>\n",
       "      <td>0</td>\n",
       "    </tr>\n",
       "    <tr>\n",
       "      <th>1</th>\n",
       "      <td>50</td>\n",
       "      <td>5</td>\n",
       "      <td>83311</td>\n",
       "      <td>9</td>\n",
       "      <td>13</td>\n",
       "      <td>2</td>\n",
       "      <td>4</td>\n",
       "      <td>0</td>\n",
       "      <td>4</td>\n",
       "      <td>1</td>\n",
       "      <td>0</td>\n",
       "      <td>0</td>\n",
       "      <td>13</td>\n",
       "      <td>30</td>\n",
       "      <td>0</td>\n",
       "    </tr>\n",
       "    <tr>\n",
       "      <th>2</th>\n",
       "      <td>38</td>\n",
       "      <td>3</td>\n",
       "      <td>215646</td>\n",
       "      <td>11</td>\n",
       "      <td>9</td>\n",
       "      <td>0</td>\n",
       "      <td>6</td>\n",
       "      <td>1</td>\n",
       "      <td>4</td>\n",
       "      <td>1</td>\n",
       "      <td>0</td>\n",
       "      <td>0</td>\n",
       "      <td>40</td>\n",
       "      <td>30</td>\n",
       "      <td>0</td>\n",
       "    </tr>\n",
       "    <tr>\n",
       "      <th>3</th>\n",
       "      <td>53</td>\n",
       "      <td>3</td>\n",
       "      <td>234721</td>\n",
       "      <td>1</td>\n",
       "      <td>7</td>\n",
       "      <td>2</td>\n",
       "      <td>6</td>\n",
       "      <td>0</td>\n",
       "      <td>2</td>\n",
       "      <td>1</td>\n",
       "      <td>0</td>\n",
       "      <td>0</td>\n",
       "      <td>40</td>\n",
       "      <td>30</td>\n",
       "      <td>0</td>\n",
       "    </tr>\n",
       "    <tr>\n",
       "      <th>4</th>\n",
       "      <td>28</td>\n",
       "      <td>3</td>\n",
       "      <td>338409</td>\n",
       "      <td>9</td>\n",
       "      <td>13</td>\n",
       "      <td>2</td>\n",
       "      <td>10</td>\n",
       "      <td>5</td>\n",
       "      <td>2</td>\n",
       "      <td>0</td>\n",
       "      <td>0</td>\n",
       "      <td>0</td>\n",
       "      <td>40</td>\n",
       "      <td>5</td>\n",
       "      <td>0</td>\n",
       "    </tr>\n",
       "  </tbody>\n",
       "</table>\n",
       "</div>"
      ],
      "text/plain": [
       "   0   1       2   3   4   5   6   7   8   9     10  11  12  13  14\n",
       "0  39   6   77516   9  13   4   1   1   4   1  2174   0  40  30   0\n",
       "1  50   5   83311   9  13   2   4   0   4   1     0   0  13  30   0\n",
       "2  38   3  215646  11   9   0   6   1   4   1     0   0  40  30   0\n",
       "3  53   3  234721   1   7   2   6   0   2   1     0   0  40  30   0\n",
       "4  28   3  338409   9  13   2  10   5   2   0     0   0  40   5   0"
      ]
     },
     "execution_count": 12,
     "metadata": {},
     "output_type": "execute_result"
    }
   ],
   "source": [
    "df.head()"
   ]
  },
  {
   "cell_type": "code",
   "execution_count": 13,
   "metadata": {},
   "outputs": [
    {
     "data": {
      "text/html": [
       "<div>\n",
       "<style scoped>\n",
       "    .dataframe tbody tr th:only-of-type {\n",
       "        vertical-align: middle;\n",
       "    }\n",
       "\n",
       "    .dataframe tbody tr th {\n",
       "        vertical-align: top;\n",
       "    }\n",
       "\n",
       "    .dataframe thead th {\n",
       "        text-align: right;\n",
       "    }\n",
       "</style>\n",
       "<table border=\"1\" class=\"dataframe\">\n",
       "  <thead>\n",
       "    <tr style=\"text-align: right;\">\n",
       "      <th></th>\n",
       "      <th>0</th>\n",
       "      <th>1</th>\n",
       "      <th>2</th>\n",
       "      <th>3</th>\n",
       "      <th>4</th>\n",
       "      <th>5</th>\n",
       "      <th>6</th>\n",
       "      <th>7</th>\n",
       "      <th>8</th>\n",
       "      <th>9</th>\n",
       "      <th>10</th>\n",
       "      <th>11</th>\n",
       "      <th>12</th>\n",
       "      <th>13</th>\n",
       "      <th>14</th>\n",
       "    </tr>\n",
       "  </thead>\n",
       "  <tbody>\n",
       "    <tr>\n",
       "      <th>1444</th>\n",
       "      <td>56</td>\n",
       "      <td>5</td>\n",
       "      <td>145574</td>\n",
       "      <td>11</td>\n",
       "      <td>9</td>\n",
       "      <td>2</td>\n",
       "      <td>8</td>\n",
       "      <td>0</td>\n",
       "      <td>4</td>\n",
       "      <td>1</td>\n",
       "      <td>0</td>\n",
       "      <td>1902</td>\n",
       "      <td>60</td>\n",
       "      <td>30</td>\n",
       "      <td>1</td>\n",
       "    </tr>\n",
       "    <tr>\n",
       "      <th>1445</th>\n",
       "      <td>50</td>\n",
       "      <td>3</td>\n",
       "      <td>30447</td>\n",
       "      <td>8</td>\n",
       "      <td>11</td>\n",
       "      <td>2</td>\n",
       "      <td>14</td>\n",
       "      <td>0</td>\n",
       "      <td>4</td>\n",
       "      <td>1</td>\n",
       "      <td>0</td>\n",
       "      <td>0</td>\n",
       "      <td>45</td>\n",
       "      <td>30</td>\n",
       "      <td>0</td>\n",
       "    </tr>\n",
       "    <tr>\n",
       "      <th>1446</th>\n",
       "      <td>45</td>\n",
       "      <td>5</td>\n",
       "      <td>256866</td>\n",
       "      <td>15</td>\n",
       "      <td>10</td>\n",
       "      <td>2</td>\n",
       "      <td>12</td>\n",
       "      <td>0</td>\n",
       "      <td>4</td>\n",
       "      <td>1</td>\n",
       "      <td>5013</td>\n",
       "      <td>0</td>\n",
       "      <td>40</td>\n",
       "      <td>30</td>\n",
       "      <td>0</td>\n",
       "    </tr>\n",
       "    <tr>\n",
       "      <th>1447</th>\n",
       "      <td>44</td>\n",
       "      <td>5</td>\n",
       "      <td>120837</td>\n",
       "      <td>11</td>\n",
       "      <td>9</td>\n",
       "      <td>2</td>\n",
       "      <td>4</td>\n",
       "      <td>0</td>\n",
       "      <td>4</td>\n",
       "      <td>1</td>\n",
       "      <td>0</td>\n",
       "      <td>0</td>\n",
       "      <td>66</td>\n",
       "      <td>30</td>\n",
       "      <td>0</td>\n",
       "    </tr>\n",
       "    <tr>\n",
       "      <th>1448</th>\n",
       "      <td>51</td>\n",
       "      <td>3</td>\n",
       "      <td>185283</td>\n",
       "      <td>15</td>\n",
       "      <td>10</td>\n",
       "      <td>2</td>\n",
       "      <td>4</td>\n",
       "      <td>0</td>\n",
       "      <td>4</td>\n",
       "      <td>1</td>\n",
       "      <td>0</td>\n",
       "      <td>0</td>\n",
       "      <td>45</td>\n",
       "      <td>30</td>\n",
       "      <td>1</td>\n",
       "    </tr>\n",
       "  </tbody>\n",
       "</table>\n",
       "</div>"
      ],
      "text/plain": [
       "      0   1       2   3   4   5   6   7   8   9     10    11  12  13  14\n",
       "1444  56   5  145574  11   9   2   8   0   4   1     0  1902  60  30   1\n",
       "1445  50   3   30447   8  11   2  14   0   4   1     0     0  45  30   0\n",
       "1446  45   5  256866  15  10   2  12   0   4   1  5013     0  40  30   0\n",
       "1447  44   5  120837  11   9   2   4   0   4   1     0     0  66  30   0\n",
       "1448  51   3  185283  15  10   2   4   0   4   1     0     0  45  30   1"
      ]
     },
     "execution_count": 13,
     "metadata": {},
     "output_type": "execute_result"
    }
   ],
   "source": [
    "df.tail()"
   ]
  },
  {
   "cell_type": "code",
   "execution_count": 14,
   "metadata": {},
   "outputs": [
    {
     "data": {
      "text/plain": [
       "array([0, 1])"
      ]
     },
     "execution_count": 14,
     "metadata": {},
     "output_type": "execute_result"
    }
   ],
   "source": [
    "df[14].unique()"
   ]
  },
  {
   "cell_type": "code",
   "execution_count": 15,
   "metadata": {},
   "outputs": [],
   "source": [
    "#df[14] is our target variable which denotes whether population is>=50k or<=50k"
   ]
  },
  {
   "cell_type": "code",
   "execution_count": 16,
   "metadata": {},
   "outputs": [
    {
     "data": {
      "text/plain": [
       "0     int64\n",
       "1     int32\n",
       "2     int64\n",
       "3     int32\n",
       "4     int64\n",
       "5     int32\n",
       "6     int32\n",
       "7     int32\n",
       "8     int32\n",
       "9     int32\n",
       "10    int64\n",
       "11    int64\n",
       "12    int64\n",
       "13    int32\n",
       "14    int32\n",
       "dtype: object"
      ]
     },
     "execution_count": 16,
     "metadata": {},
     "output_type": "execute_result"
    }
   ],
   "source": [
    "df.dtypes"
   ]
  },
  {
   "cell_type": "code",
   "execution_count": 17,
   "metadata": {},
   "outputs": [],
   "source": [
    "x=df.drop(14,axis=1)"
   ]
  },
  {
   "cell_type": "code",
   "execution_count": 18,
   "metadata": {},
   "outputs": [
    {
     "data": {
      "text/html": [
       "<div>\n",
       "<style scoped>\n",
       "    .dataframe tbody tr th:only-of-type {\n",
       "        vertical-align: middle;\n",
       "    }\n",
       "\n",
       "    .dataframe tbody tr th {\n",
       "        vertical-align: top;\n",
       "    }\n",
       "\n",
       "    .dataframe thead th {\n",
       "        text-align: right;\n",
       "    }\n",
       "</style>\n",
       "<table border=\"1\" class=\"dataframe\">\n",
       "  <thead>\n",
       "    <tr style=\"text-align: right;\">\n",
       "      <th></th>\n",
       "      <th>0</th>\n",
       "      <th>1</th>\n",
       "      <th>2</th>\n",
       "      <th>3</th>\n",
       "      <th>4</th>\n",
       "      <th>5</th>\n",
       "      <th>6</th>\n",
       "      <th>7</th>\n",
       "      <th>8</th>\n",
       "      <th>9</th>\n",
       "      <th>10</th>\n",
       "      <th>11</th>\n",
       "      <th>12</th>\n",
       "      <th>13</th>\n",
       "    </tr>\n",
       "  </thead>\n",
       "  <tbody>\n",
       "    <tr>\n",
       "      <th>0</th>\n",
       "      <td>39</td>\n",
       "      <td>6</td>\n",
       "      <td>77516</td>\n",
       "      <td>9</td>\n",
       "      <td>13</td>\n",
       "      <td>4</td>\n",
       "      <td>1</td>\n",
       "      <td>1</td>\n",
       "      <td>4</td>\n",
       "      <td>1</td>\n",
       "      <td>2174</td>\n",
       "      <td>0</td>\n",
       "      <td>40</td>\n",
       "      <td>30</td>\n",
       "    </tr>\n",
       "    <tr>\n",
       "      <th>1</th>\n",
       "      <td>50</td>\n",
       "      <td>5</td>\n",
       "      <td>83311</td>\n",
       "      <td>9</td>\n",
       "      <td>13</td>\n",
       "      <td>2</td>\n",
       "      <td>4</td>\n",
       "      <td>0</td>\n",
       "      <td>4</td>\n",
       "      <td>1</td>\n",
       "      <td>0</td>\n",
       "      <td>0</td>\n",
       "      <td>13</td>\n",
       "      <td>30</td>\n",
       "    </tr>\n",
       "    <tr>\n",
       "      <th>2</th>\n",
       "      <td>38</td>\n",
       "      <td>3</td>\n",
       "      <td>215646</td>\n",
       "      <td>11</td>\n",
       "      <td>9</td>\n",
       "      <td>0</td>\n",
       "      <td>6</td>\n",
       "      <td>1</td>\n",
       "      <td>4</td>\n",
       "      <td>1</td>\n",
       "      <td>0</td>\n",
       "      <td>0</td>\n",
       "      <td>40</td>\n",
       "      <td>30</td>\n",
       "    </tr>\n",
       "    <tr>\n",
       "      <th>3</th>\n",
       "      <td>53</td>\n",
       "      <td>3</td>\n",
       "      <td>234721</td>\n",
       "      <td>1</td>\n",
       "      <td>7</td>\n",
       "      <td>2</td>\n",
       "      <td>6</td>\n",
       "      <td>0</td>\n",
       "      <td>2</td>\n",
       "      <td>1</td>\n",
       "      <td>0</td>\n",
       "      <td>0</td>\n",
       "      <td>40</td>\n",
       "      <td>30</td>\n",
       "    </tr>\n",
       "    <tr>\n",
       "      <th>4</th>\n",
       "      <td>28</td>\n",
       "      <td>3</td>\n",
       "      <td>338409</td>\n",
       "      <td>9</td>\n",
       "      <td>13</td>\n",
       "      <td>2</td>\n",
       "      <td>10</td>\n",
       "      <td>5</td>\n",
       "      <td>2</td>\n",
       "      <td>0</td>\n",
       "      <td>0</td>\n",
       "      <td>0</td>\n",
       "      <td>40</td>\n",
       "      <td>5</td>\n",
       "    </tr>\n",
       "  </tbody>\n",
       "</table>\n",
       "</div>"
      ],
      "text/plain": [
       "   0   1       2   3   4   5   6   7   8   9     10  11  12  13\n",
       "0  39   6   77516   9  13   4   1   1   4   1  2174   0  40  30\n",
       "1  50   5   83311   9  13   2   4   0   4   1     0   0  13  30\n",
       "2  38   3  215646  11   9   0   6   1   4   1     0   0  40  30\n",
       "3  53   3  234721   1   7   2   6   0   2   1     0   0  40  30\n",
       "4  28   3  338409   9  13   2  10   5   2   0     0   0  40   5"
      ]
     },
     "execution_count": 18,
     "metadata": {},
     "output_type": "execute_result"
    }
   ],
   "source": [
    "x.head()"
   ]
  },
  {
   "cell_type": "code",
   "execution_count": 19,
   "metadata": {},
   "outputs": [],
   "source": [
    "y=df[14].values\n",
    "y=y.reshape(-1,1)"
   ]
  },
  {
   "cell_type": "code",
   "execution_count": 20,
   "metadata": {},
   "outputs": [
    {
     "data": {
      "text/plain": [
       "(1449, 1)"
      ]
     },
     "execution_count": 20,
     "metadata": {},
     "output_type": "execute_result"
    }
   ],
   "source": [
    "y.shape"
   ]
  },
  {
   "cell_type": "code",
   "execution_count": 21,
   "metadata": {},
   "outputs": [
    {
     "data": {
      "text/plain": [
       "(1449, 14)"
      ]
     },
     "execution_count": 21,
     "metadata": {},
     "output_type": "execute_result"
    }
   ],
   "source": [
    "x.shape"
   ]
  },
  {
   "cell_type": "code",
   "execution_count": 22,
   "metadata": {},
   "outputs": [
    {
     "data": {
      "text/plain": [
       "0      0.526539\n",
       "1     -0.187114\n",
       "2      1.402935\n",
       "3     -0.940351\n",
       "4     -0.325201\n",
       "5      0.005043\n",
       "6      0.058423\n",
       "7      0.821625\n",
       "8     -2.346488\n",
       "9     -0.757896\n",
       "10    16.292565\n",
       "11     4.175426\n",
       "12     0.073187\n",
       "13    -3.757643\n",
       "dtype: float64"
      ]
     },
     "execution_count": 22,
     "metadata": {},
     "output_type": "execute_result"
    }
   ],
   "source": [
    "x.skew()"
   ]
  },
  {
   "cell_type": "code",
   "execution_count": 23,
   "metadata": {},
   "outputs": [],
   "source": [
    "from matplotlib import pyplot as plt\n",
    "import seaborn as sns"
   ]
  },
  {
   "cell_type": "code",
   "execution_count": 24,
   "metadata": {},
   "outputs": [],
   "source": [
    "#visualizing the data using various techniques"
   ]
  },
  {
   "cell_type": "code",
   "execution_count": 25,
   "metadata": {},
   "outputs": [
    {
     "data": {
      "text/plain": [
       "<matplotlib.axes._subplots.AxesSubplot at 0x99a38e8c8>"
      ]
     },
     "execution_count": 25,
     "metadata": {},
     "output_type": "execute_result"
    },
    {
     "data": {
      "image/png": "[encoded data removed]",
      "text/plain": [
       "<Figure size 720x360 with 2 Axes>"
      ]
     },
     "metadata": {
      "needs_background": "light"
     },
     "output_type": "display_data"
    }
   ],
   "source": [
    "#checking the correlation between the columns using heatmap\n",
    "plt.figure(figsize=(10,5))\n",
    "sns.heatmap(x.corr(),annot=True,cmap='RdYlGn')"
   ]
  },
  {
   "cell_type": "code",
   "execution_count": 26,
   "metadata": {},
   "outputs": [
    {
     "data": {
      "image/png": "[encoded data removed]",
      "text/plain": [
       "<Figure size 432x288 with 1 Axes>"
      ]
     },
     "metadata": {
      "needs_background": "light"
     },
     "output_type": "display_data"
    },
    {
     "data": {
      "image/png": "[encoded data removed]",
      "text/plain": [
       "<Figure size 432x288 with 1 Axes>"
      ]
     },
     "metadata": {
      "needs_background": "light"
     },
     "output_type": "display_data"
    },
    {
     "data": {
      "image/png": "[encoded data removed]",
      "text/plain": [
       "<Figure size 432x288 with 1 Axes>"
      ]
     },
     "metadata": {
      "needs_background": "light"
     },
     "output_type": "display_data"
    },
    {
     "data": {
      "image/png": "[encoded data removed]",
      "text/plain": [
       "<Figure size 432x288 with 1 Axes>"
      ]
     },
     "metadata": {
      "needs_background": "light"
     },
     "output_type": "display_data"
    },
    {
     "data": {
      "image/png": "[encoded data removed]",
      "text/plain": [
       "<Figure size 432x288 with 1 Axes>"
      ]
     },
     "metadata": {
      "needs_background": "light"
     },
     "output_type": "display_data"
    },
    {
     "data": {
      "image/png": "[encoded data removed]",
      "text/plain": [
       "<Figure size 432x288 with 1 Axes>"
      ]
     },
     "metadata": {
      "needs_background": "light"
     },
     "output_type": "display_data"
    },
    {
     "data": {
      "image/png": "[encoded data removed]",
      "text/plain": [
       "<Figure size 432x288 with 1 Axes>"
      ]
     },
     "metadata": {
      "needs_background": "light"
     },
     "output_type": "display_data"
    },
    {
     "data": {
      "image/png": "[encoded data removed]",
      "text/plain": [
       "<Figure size 432x288 with 1 Axes>"
      ]
     },
     "metadata": {
      "needs_background": "light"
     },
     "output_type": "display_data"
    },
    {
     "data": {
      "image/png": "[encoded data removed]",
      "text/plain": [
       "<Figure size 432x288 with 1 Axes>"
      ]
     },
     "metadata": {
      "needs_background": "light"
     },
     "output_type": "display_data"
    },
    {
     "data": {
      "image/png": "[encoded data removed]",
      "text/plain": [
       "<Figure size 432x288 with 1 Axes>"
      ]
     },
     "metadata": {
      "needs_background": "light"
     },
     "output_type": "display_data"
    },
    {
     "data": {
      "image/png": "[encoded data removed]",
      "text/plain": [
       "<Figure size 432x288 with 1 Axes>"
      ]
     },
     "metadata": {
      "needs_background": "light"
     },
     "output_type": "display_data"
    },
    {
     "data": {
      "image/png": "[encoded data removed]",
      "text/plain": [
       "<Figure size 432x288 with 1 Axes>"
      ]
     },
     "metadata": {
      "needs_background": "light"
     },
     "output_type": "display_data"
    },
    {
     "data": {
      "image/png": "[encoded data removed]",
      "text/plain": [
       "<Figure size 432x288 with 1 Axes>"
      ]
     },
     "metadata": {
      "needs_background": "light"
     },
     "output_type": "display_data"
    },
    {
     "data": {
      "image/png": "[encoded data removed]",
      "text/plain": [
       "<Figure size 432x288 with 1 Axes>"
      ]
     },
     "metadata": {
      "needs_background": "light"
     },
     "output_type": "display_data"
    }
   ],
   "source": [
    "for i in x.columns:\n",
    "    plt.figure()\n",
    "    sns.boxplot(x[i])       # shows that some of the columns contain outliers"
   ]
  },
  {
   "cell_type": "code",
   "execution_count": 27,
   "metadata": {},
   "outputs": [],
   "source": [
    "#removing outliers"
   ]
  },
  {
   "cell_type": "code",
   "execution_count": 28,
   "metadata": {},
   "outputs": [],
   "source": [
    "from scipy.stats import zscore"
   ]
  },
  {
   "cell_type": "code",
   "execution_count": 29,
   "metadata": {},
   "outputs": [],
   "source": [
    "z=np.abs(zscore(x))"
   ]
  },
  {
   "cell_type": "code",
   "execution_count": 30,
   "metadata": {},
   "outputs": [
    {
     "name": "stdout",
     "output_type": "stream",
     "text": [
      "(array([   4,   10,   11,   14,   14,   15,   23,   27,   28,   32,   37,\n",
      "         38,   51,   52,   61,   74,   77,   81,   84,   93,   93,   93,\n",
      "         96,   98,  101,  106,  112,  112,  126,  131,  139,  143,  148,\n",
      "        152,  157,  157,  160,  162,  163,  163,  170,  172,  182,  189,\n",
      "        192,  200,  208,  212,  213,  215,  221,  222,  222,  224,  226,\n",
      "        228,  230,  244,  245,  248,  249,  255,  255,  265,  266,  272,\n",
      "        285,  289,  297,  297,  299,  301,  304,  311,  312,  321,  327,\n",
      "        363,  381,  387,  393,  404,  405,  408,  413,  414,  416,  426,\n",
      "        427,  430,  434,  434,  447,  453,  455,  463,  468,  486,  489,\n",
      "        497,  503,  508,  510,  516,  520,  520,  534,  536,  557,  565,\n",
      "        573,  588,  589,  591,  593,  596,  597,  607,  619,  624,  632,\n",
      "        637,  638,  651,  652,  655,  668,  668,  669,  686,  688,  697,\n",
      "        701,  701,  704,  712,  721,  725,  729,  731,  732,  777,  780,\n",
      "        781,  786,  799,  799,  801,  824,  827,  873,  873,  873,  887,\n",
      "        892,  903,  914,  915,  916,  917,  918,  929,  932,  935,  937,\n",
      "        940,  947,  955,  963,  968,  972,  990,  999, 1001, 1008, 1012,\n",
      "       1026, 1029, 1031, 1034, 1035, 1036, 1036, 1040, 1049, 1051, 1058,\n",
      "       1064, 1066, 1066, 1071, 1073, 1076, 1077, 1092, 1092, 1095, 1098,\n",
      "       1102, 1115, 1115, 1119, 1139, 1145, 1151, 1152, 1158, 1158, 1164,\n",
      "       1168, 1172, 1179, 1198, 1199, 1200, 1213, 1216, 1217, 1217, 1224,\n",
      "       1228, 1230, 1237, 1246, 1250, 1252, 1254, 1255, 1262, 1266, 1272,\n",
      "       1276, 1280, 1281, 1286, 1291, 1291, 1291, 1295, 1314, 1326, 1327,\n",
      "       1348, 1348, 1355, 1368, 1368, 1378, 1379, 1387, 1391, 1391, 1392,\n",
      "       1411, 1411, 1415, 1417, 1425, 1429, 1440, 1444], dtype=int64), array([13, 12,  8,  8, 13,  8, 11,  8, 12, 11,  2, 13, 13, 11, 13,  0, 12,\n",
      "       13, 10,  8, 11, 13, 11, 13, 10, 10, 11, 13, 11, 11,  8, 11, 11,  8,\n",
      "       11, 12,  4,  8,  8, 13, 11, 11,  2, 12,  2, 11, 10,  8,  8,  2,  4,\n",
      "        0, 11,  4,  8, 13,  2, 11, 13, 11, 13,  8, 13,  8, 13, 12, 10, 13,\n",
      "        8, 13, 12,  8,  8,  8,  2, 11, 11, 11, 11, 11, 13, 11, 11, 11, 10,\n",
      "        2,  4, 11, 13,  0,  8, 11,  8, 13,  8,  4, 11,  4, 10, 13, 13,  2,\n",
      "       11,  8, 10, 12, 10,  4, 13,  8, 11, 11, 12,  8, 13,  8, 11,  8, 10,\n",
      "       13, 10, 10, 13,  2,  8,  8,  8, 11, 11, 12, 13, 11, 11, 13, 10, 13,\n",
      "       11, 13, 13,  8, 11, 13, 13, 11, 11, 11, 13, 11, 11,  2,  8, 11, 13,\n",
      "       13,  8,  8,  2, 10,  8,  8,  0,  4,  4, 12, 11,  8, 11, 13,  2,  8,\n",
      "       11, 11, 10, 11, 10,  2, 13,  8, 11, 12, 11, 12, 13,  0, 11, 13, 11,\n",
      "       12, 11, 12, 11, 11, 11,  8,  8, 13,  8, 11, 11, 11, 13,  8,  4, 10,\n",
      "        2, 13,  8, 13, 11,  0, 12,  8, 13, 13, 12, 10,  8,  8, 13, 13, 13,\n",
      "       11, 13, 10, 10, 13, 11,  8, 12, 11, 12, 11, 11,  8, 10,  2,  4, 13,\n",
      "       11, 13, 13,  8,  8, 13, 11,  8, 10, 10, 13, 11, 11, 13, 11,  8, 12,\n",
      "        8, 12,  8, 11, 11, 11], dtype=int64))\n"
     ]
    }
   ],
   "source": [
    "print(np.where(z>3))"
   ]
  },
  {
   "cell_type": "code",
   "execution_count": 31,
   "metadata": {},
   "outputs": [],
   "source": [
    "x_new=x[(z<3).all(axis=1)]"
   ]
  },
  {
   "cell_type": "code",
   "execution_count": 32,
   "metadata": {},
   "outputs": [
    {
     "data": {
      "text/plain": [
       "(1216, 14)"
      ]
     },
     "execution_count": 32,
     "metadata": {},
     "output_type": "execute_result"
    }
   ],
   "source": [
    "x_new.shape"
   ]
  },
  {
   "cell_type": "code",
   "execution_count": 33,
   "metadata": {},
   "outputs": [
    {
     "data": {
      "text/plain": [
       "(1449, 14)"
      ]
     },
     "execution_count": 33,
     "metadata": {},
     "output_type": "execute_result"
    }
   ],
   "source": [
    "x.shape"
   ]
  },
  {
   "cell_type": "code",
   "execution_count": 34,
   "metadata": {},
   "outputs": [
    {
     "data": {
      "image/png": "[encoded data removed]",
      "text/plain": [
       "<Figure size 432x288 with 16 Axes>"
      ]
     },
     "metadata": {
      "needs_background": "light"
     },
     "output_type": "display_data"
    }
   ],
   "source": [
    "x.hist()  #we can see from the below histogram that skewness is present in the columns\n",
    "plt.show()"
   ]
  },
  {
   "cell_type": "code",
   "execution_count": 35,
   "metadata": {},
   "outputs": [],
   "source": [
    "from sklearn.decomposition import PCA"
   ]
  },
  {
   "cell_type": "code",
   "execution_count": 36,
   "metadata": {},
   "outputs": [],
   "source": [
    "#reducing the no of columns using priciple component analysis\n",
    "pca=PCA(n_components=9)\n",
    "x=pca.fit_transform(x)"
   ]
  },
  {
   "cell_type": "code",
   "execution_count": 37,
   "metadata": {},
   "outputs": [
    {
     "data": {
      "text/html": [
       "<div>\n",
       "<style scoped>\n",
       "    .dataframe tbody tr th:only-of-type {\n",
       "        vertical-align: middle;\n",
       "    }\n",
       "\n",
       "    .dataframe tbody tr th {\n",
       "        vertical-align: top;\n",
       "    }\n",
       "\n",
       "    .dataframe thead th {\n",
       "        text-align: right;\n",
       "    }\n",
       "</style>\n",
       "<table border=\"1\" class=\"dataframe\">\n",
       "  <thead>\n",
       "    <tr style=\"text-align: right;\">\n",
       "      <th></th>\n",
       "      <th>0</th>\n",
       "      <th>1</th>\n",
       "      <th>2</th>\n",
       "      <th>3</th>\n",
       "      <th>4</th>\n",
       "      <th>5</th>\n",
       "      <th>6</th>\n",
       "      <th>7</th>\n",
       "      <th>8</th>\n",
       "    </tr>\n",
       "  </thead>\n",
       "  <tbody>\n",
       "    <tr>\n",
       "      <th>0</th>\n",
       "      <td>-114654.328844</td>\n",
       "      <td>1535.413761</td>\n",
       "      <td>-109.077318</td>\n",
       "      <td>-1.158855</td>\n",
       "      <td>-0.866697</td>\n",
       "      <td>-0.905600</td>\n",
       "      <td>-5.011893</td>\n",
       "      <td>0.455251</td>\n",
       "      <td>-3.684534</td>\n",
       "    </tr>\n",
       "    <tr>\n",
       "      <th>1</th>\n",
       "      <td>-108860.603967</td>\n",
       "      <td>-641.974986</td>\n",
       "      <td>-115.753136</td>\n",
       "      <td>3.511838</td>\n",
       "      <td>-29.113947</td>\n",
       "      <td>-1.067150</td>\n",
       "      <td>-0.521310</td>\n",
       "      <td>-0.994932</td>\n",
       "      <td>-4.299004</td>\n",
       "    </tr>\n",
       "    <tr>\n",
       "      <th>2</th>\n",
       "      <td>23474.371887</td>\n",
       "      <td>-719.592702</td>\n",
       "      <td>-96.573671</td>\n",
       "      <td>-0.050457</td>\n",
       "      <td>0.071956</td>\n",
       "      <td>-1.639223</td>\n",
       "      <td>-0.984007</td>\n",
       "      <td>-0.333738</td>\n",
       "      <td>1.052760</td>\n",
       "    </tr>\n",
       "    <tr>\n",
       "      <th>3</th>\n",
       "      <td>42549.368284</td>\n",
       "      <td>-730.777755</td>\n",
       "      <td>-93.783761</td>\n",
       "      <td>14.692893</td>\n",
       "      <td>-4.195398</td>\n",
       "      <td>-0.861692</td>\n",
       "      <td>-1.183527</td>\n",
       "      <td>9.485276</td>\n",
       "      <td>0.065999</td>\n",
       "    </tr>\n",
       "    <tr>\n",
       "      <th>4</th>\n",
       "      <td>146237.349650</td>\n",
       "      <td>-791.600694</td>\n",
       "      <td>-78.803029</td>\n",
       "      <td>-8.656261</td>\n",
       "      <td>3.112986</td>\n",
       "      <td>22.684293</td>\n",
       "      <td>4.743011</td>\n",
       "      <td>-1.188907</td>\n",
       "      <td>-2.837369</td>\n",
       "    </tr>\n",
       "    <tr>\n",
       "      <th>...</th>\n",
       "      <td>...</td>\n",
       "      <td>...</td>\n",
       "      <td>...</td>\n",
       "      <td>...</td>\n",
       "      <td>...</td>\n",
       "      <td>...</td>\n",
       "      <td>...</td>\n",
       "      <td>...</td>\n",
       "      <td>...</td>\n",
       "    </tr>\n",
       "    <tr>\n",
       "      <th>1444</th>\n",
       "      <td>-46597.894594</td>\n",
       "      <td>-685.032040</td>\n",
       "      <td>1795.341512</td>\n",
       "      <td>17.193457</td>\n",
       "      <td>12.081939</td>\n",
       "      <td>-3.286743</td>\n",
       "      <td>-0.175815</td>\n",
       "      <td>0.377612</td>\n",
       "      <td>2.293081</td>\n",
       "    </tr>\n",
       "    <tr>\n",
       "      <th>1445</th>\n",
       "      <td>-161724.594430</td>\n",
       "      <td>-610.961215</td>\n",
       "      <td>-123.337243</td>\n",
       "      <td>10.962023</td>\n",
       "      <td>1.982220</td>\n",
       "      <td>-1.395674</td>\n",
       "      <td>7.169626</td>\n",
       "      <td>2.846406</td>\n",
       "      <td>-0.465119</td>\n",
       "    </tr>\n",
       "    <tr>\n",
       "      <th>1446</th>\n",
       "      <td>64697.302146</td>\n",
       "      <td>4269.200859</td>\n",
       "      <td>-73.339305</td>\n",
       "      <td>5.616949</td>\n",
       "      <td>-1.878013</td>\n",
       "      <td>-2.551756</td>\n",
       "      <td>5.418396</td>\n",
       "      <td>-4.111292</td>\n",
       "      <td>2.079416</td>\n",
       "    </tr>\n",
       "    <tr>\n",
       "      <th>1447</th>\n",
       "      <td>-71334.610962</td>\n",
       "      <td>-663.976015</td>\n",
       "      <td>-110.230798</td>\n",
       "      <td>11.296566</td>\n",
       "      <td>23.430739</td>\n",
       "      <td>-1.265351</td>\n",
       "      <td>-3.995896</td>\n",
       "      <td>0.871474</td>\n",
       "      <td>1.621721</td>\n",
       "    </tr>\n",
       "    <tr>\n",
       "      <th>1448</th>\n",
       "      <td>-6888.622719</td>\n",
       "      <td>-701.779202</td>\n",
       "      <td>-100.933948</td>\n",
       "      <td>13.414801</td>\n",
       "      <td>1.704397</td>\n",
       "      <td>-1.797795</td>\n",
       "      <td>-2.749987</td>\n",
       "      <td>-4.455212</td>\n",
       "      <td>1.163994</td>\n",
       "    </tr>\n",
       "  </tbody>\n",
       "</table>\n",
       "<p>1449 rows × 9 columns</p>\n",
       "</div>"
      ],
      "text/plain": [
       "                  0            1            2          3          4  \\\n",
       "0    -114654.328844  1535.413761  -109.077318  -1.158855  -0.866697   \n",
       "1    -108860.603967  -641.974986  -115.753136   3.511838 -29.113947   \n",
       "2      23474.371887  -719.592702   -96.573671  -0.050457   0.071956   \n",
       "3      42549.368284  -730.777755   -93.783761  14.692893  -4.195398   \n",
       "4     146237.349650  -791.600694   -78.803029  -8.656261   3.112986   \n",
       "...             ...          ...          ...        ...        ...   \n",
       "1444  -46597.894594  -685.032040  1795.341512  17.193457  12.081939   \n",
       "1445 -161724.594430  -610.961215  -123.337243  10.962023   1.982220   \n",
       "1446   64697.302146  4269.200859   -73.339305   5.616949  -1.878013   \n",
       "1447  -71334.610962  -663.976015  -110.230798  11.296566  23.430739   \n",
       "1448   -6888.622719  -701.779202  -100.933948  13.414801   1.704397   \n",
       "\n",
       "              5         6         7         8  \n",
       "0     -0.905600 -5.011893  0.455251 -3.684534  \n",
       "1     -1.067150 -0.521310 -0.994932 -4.299004  \n",
       "2     -1.639223 -0.984007 -0.333738  1.052760  \n",
       "3     -0.861692 -1.183527  9.485276  0.065999  \n",
       "4     22.684293  4.743011 -1.188907 -2.837369  \n",
       "...         ...       ...       ...       ...  \n",
       "1444  -3.286743 -0.175815  0.377612  2.293081  \n",
       "1445  -1.395674  7.169626  2.846406 -0.465119  \n",
       "1446  -2.551756  5.418396 -4.111292  2.079416  \n",
       "1447  -1.265351 -3.995896  0.871474  1.621721  \n",
       "1448  -1.797795 -2.749987 -4.455212  1.163994  \n",
       "\n",
       "[1449 rows x 9 columns]"
      ]
     },
     "execution_count": 37,
     "metadata": {},
     "output_type": "execute_result"
    }
   ],
   "source": [
    "x=pd.DataFrame(data=x)\n",
    "x"
   ]
  },
  {
   "cell_type": "code",
   "execution_count": 38,
   "metadata": {},
   "outputs": [],
   "source": [
    "#standardizing the data(mean=0 and std,var=1)\n",
    "from sklearn.preprocessing import StandardScaler"
   ]
  },
  {
   "cell_type": "code",
   "execution_count": 39,
   "metadata": {},
   "outputs": [],
   "source": [
    "std=StandardScaler()"
   ]
  },
  {
   "cell_type": "code",
   "execution_count": 40,
   "metadata": {},
   "outputs": [],
   "source": [
    "x=std.fit_transform(x)\n",
    "x=pd.DataFrame(data=x)"
   ]
  },
  {
   "cell_type": "code",
   "execution_count": 41,
   "metadata": {},
   "outputs": [
    {
     "data": {
      "text/html": [
       "<div>\n",
       "<style scoped>\n",
       "    .dataframe tbody tr th:only-of-type {\n",
       "        vertical-align: middle;\n",
       "    }\n",
       "\n",
       "    .dataframe tbody tr th {\n",
       "        vertical-align: top;\n",
       "    }\n",
       "\n",
       "    .dataframe thead th {\n",
       "        text-align: right;\n",
       "    }\n",
       "</style>\n",
       "<table border=\"1\" class=\"dataframe\">\n",
       "  <thead>\n",
       "    <tr style=\"text-align: right;\">\n",
       "      <th></th>\n",
       "      <th>0</th>\n",
       "      <th>1</th>\n",
       "      <th>2</th>\n",
       "      <th>3</th>\n",
       "      <th>4</th>\n",
       "      <th>5</th>\n",
       "      <th>6</th>\n",
       "      <th>7</th>\n",
       "      <th>8</th>\n",
       "    </tr>\n",
       "  </thead>\n",
       "  <tbody>\n",
       "    <tr>\n",
       "      <th>0</th>\n",
       "      <td>-1.066487</td>\n",
       "      <td>0.344248</td>\n",
       "      <td>-0.260108</td>\n",
       "      <td>-0.087194</td>\n",
       "      <td>-0.072314</td>\n",
       "      <td>-0.153689</td>\n",
       "      <td>-1.166753</td>\n",
       "      <td>0.120137</td>\n",
       "      <td>-1.679971</td>\n",
       "    </tr>\n",
       "    <tr>\n",
       "      <th>1</th>\n",
       "      <td>-1.012596</td>\n",
       "      <td>-0.143934</td>\n",
       "      <td>-0.276027</td>\n",
       "      <td>0.264235</td>\n",
       "      <td>-2.429152</td>\n",
       "      <td>-0.181105</td>\n",
       "      <td>-0.121359</td>\n",
       "      <td>-0.262555</td>\n",
       "      <td>-1.960139</td>\n",
       "    </tr>\n",
       "    <tr>\n",
       "      <th>2</th>\n",
       "      <td>0.218353</td>\n",
       "      <td>-0.161336</td>\n",
       "      <td>-0.230291</td>\n",
       "      <td>-0.003796</td>\n",
       "      <td>0.006004</td>\n",
       "      <td>-0.278192</td>\n",
       "      <td>-0.229074</td>\n",
       "      <td>-0.088071</td>\n",
       "      <td>0.480008</td>\n",
       "    </tr>\n",
       "    <tr>\n",
       "      <th>3</th>\n",
       "      <td>0.395784</td>\n",
       "      <td>-0.163844</td>\n",
       "      <td>-0.223638</td>\n",
       "      <td>1.105513</td>\n",
       "      <td>-0.350047</td>\n",
       "      <td>-0.146237</td>\n",
       "      <td>-0.275521</td>\n",
       "      <td>2.503087</td>\n",
       "      <td>0.030092</td>\n",
       "    </tr>\n",
       "    <tr>\n",
       "      <th>4</th>\n",
       "      <td>1.360265</td>\n",
       "      <td>-0.177481</td>\n",
       "      <td>-0.187915</td>\n",
       "      <td>-0.651309</td>\n",
       "      <td>0.259735</td>\n",
       "      <td>3.849738</td>\n",
       "      <td>1.104158</td>\n",
       "      <td>-0.313743</td>\n",
       "      <td>-1.293704</td>\n",
       "    </tr>\n",
       "    <tr>\n",
       "      <th>...</th>\n",
       "      <td>...</td>\n",
       "      <td>...</td>\n",
       "      <td>...</td>\n",
       "      <td>...</td>\n",
       "      <td>...</td>\n",
       "      <td>...</td>\n",
       "      <td>...</td>\n",
       "      <td>...</td>\n",
       "      <td>...</td>\n",
       "    </tr>\n",
       "    <tr>\n",
       "      <th>1444</th>\n",
       "      <td>-0.433443</td>\n",
       "      <td>-0.153588</td>\n",
       "      <td>4.281200</td>\n",
       "      <td>1.293659</td>\n",
       "      <td>1.008069</td>\n",
       "      <td>-0.557791</td>\n",
       "      <td>-0.040929</td>\n",
       "      <td>0.099649</td>\n",
       "      <td>1.045535</td>\n",
       "    </tr>\n",
       "    <tr>\n",
       "      <th>1445</th>\n",
       "      <td>-1.504324</td>\n",
       "      <td>-0.136981</td>\n",
       "      <td>-0.294112</td>\n",
       "      <td>0.824798</td>\n",
       "      <td>0.165389</td>\n",
       "      <td>-0.236859</td>\n",
       "      <td>1.669066</td>\n",
       "      <td>0.751143</td>\n",
       "      <td>-0.212072</td>\n",
       "    </tr>\n",
       "    <tr>\n",
       "      <th>1446</th>\n",
       "      <td>0.601799</td>\n",
       "      <td>0.957177</td>\n",
       "      <td>-0.174886</td>\n",
       "      <td>0.422627</td>\n",
       "      <td>-0.156694</td>\n",
       "      <td>-0.433057</td>\n",
       "      <td>1.261385</td>\n",
       "      <td>-1.084937</td>\n",
       "      <td>0.948114</td>\n",
       "    </tr>\n",
       "    <tr>\n",
       "      <th>1447</th>\n",
       "      <td>-0.663538</td>\n",
       "      <td>-0.148867</td>\n",
       "      <td>-0.262858</td>\n",
       "      <td>0.849969</td>\n",
       "      <td>1.954968</td>\n",
       "      <td>-0.214742</td>\n",
       "      <td>-0.930232</td>\n",
       "      <td>0.229975</td>\n",
       "      <td>0.739427</td>\n",
       "    </tr>\n",
       "    <tr>\n",
       "      <th>1448</th>\n",
       "      <td>-0.064076</td>\n",
       "      <td>-0.157343</td>\n",
       "      <td>-0.240689</td>\n",
       "      <td>1.009348</td>\n",
       "      <td>0.142208</td>\n",
       "      <td>-0.305103</td>\n",
       "      <td>-0.640188</td>\n",
       "      <td>-1.175694</td>\n",
       "      <td>0.530725</td>\n",
       "    </tr>\n",
       "  </tbody>\n",
       "</table>\n",
       "<p>1449 rows × 9 columns</p>\n",
       "</div>"
      ],
      "text/plain": [
       "             0         1         2         3         4         5         6  \\\n",
       "0    -1.066487  0.344248 -0.260108 -0.087194 -0.072314 -0.153689 -1.166753   \n",
       "1    -1.012596 -0.143934 -0.276027  0.264235 -2.429152 -0.181105 -0.121359   \n",
       "2     0.218353 -0.161336 -0.230291 -0.003796  0.006004 -0.278192 -0.229074   \n",
       "3     0.395784 -0.163844 -0.223638  1.105513 -0.350047 -0.146237 -0.275521   \n",
       "4     1.360265 -0.177481 -0.187915 -0.651309  0.259735  3.849738  1.104158   \n",
       "...        ...       ...       ...       ...       ...       ...       ...   \n",
       "1444 -0.433443 -0.153588  4.281200  1.293659  1.008069 -0.557791 -0.040929   \n",
       "1445 -1.504324 -0.136981 -0.294112  0.824798  0.165389 -0.236859  1.669066   \n",
       "1446  0.601799  0.957177 -0.174886  0.422627 -0.156694 -0.433057  1.261385   \n",
       "1447 -0.663538 -0.148867 -0.262858  0.849969  1.954968 -0.214742 -0.930232   \n",
       "1448 -0.064076 -0.157343 -0.240689  1.009348  0.142208 -0.305103 -0.640188   \n",
       "\n",
       "             7         8  \n",
       "0     0.120137 -1.679971  \n",
       "1    -0.262555 -1.960139  \n",
       "2    -0.088071  0.480008  \n",
       "3     2.503087  0.030092  \n",
       "4    -0.313743 -1.293704  \n",
       "...        ...       ...  \n",
       "1444  0.099649  1.045535  \n",
       "1445  0.751143 -0.212072  \n",
       "1446 -1.084937  0.948114  \n",
       "1447  0.229975  0.739427  \n",
       "1448 -1.175694  0.530725  \n",
       "\n",
       "[1449 rows x 9 columns]"
      ]
     },
     "execution_count": 41,
     "metadata": {},
     "output_type": "execute_result"
    }
   ],
   "source": [
    "x"
   ]
  },
  {
   "cell_type": "code",
   "execution_count": 42,
   "metadata": {},
   "outputs": [
    {
     "name": "stdout",
     "output_type": "stream",
     "text": [
      "<class 'pandas.core.frame.DataFrame'>\n",
      "RangeIndex: 1449 entries, 0 to 1448\n",
      "Data columns (total 9 columns):\n",
      " #   Column  Non-Null Count  Dtype  \n",
      "---  ------  --------------  -----  \n",
      " 0   0       1449 non-null   float64\n",
      " 1   1       1449 non-null   float64\n",
      " 2   2       1449 non-null   float64\n",
      " 3   3       1449 non-null   float64\n",
      " 4   4       1449 non-null   float64\n",
      " 5   5       1449 non-null   float64\n",
      " 6   6       1449 non-null   float64\n",
      " 7   7       1449 non-null   float64\n",
      " 8   8       1449 non-null   float64\n",
      "dtypes: float64(9)\n",
      "memory usage: 102.0 KB\n"
     ]
    }
   ],
   "source": [
    "x.info()"
   ]
  },
  {
   "cell_type": "code",
   "execution_count": 43,
   "metadata": {},
   "outputs": [
    {
     "data": {
      "text/plain": [
       "0     1.402931\n",
       "1    16.302258\n",
       "2     4.156702\n",
       "3     0.189800\n",
       "4    -0.086095\n",
       "5     3.685516\n",
       "6     0.051801\n",
       "7     1.062881\n",
       "8    -0.208598\n",
       "dtype: float64"
      ]
     },
     "execution_count": 43,
     "metadata": {},
     "output_type": "execute_result"
    }
   ],
   "source": [
    "x.skew()"
   ]
  },
  {
   "cell_type": "code",
   "execution_count": 44,
   "metadata": {},
   "outputs": [],
   "source": [
    "x[1]=np.log1p(x[1])"
   ]
  },
  {
   "cell_type": "code",
   "execution_count": 45,
   "metadata": {},
   "outputs": [
    {
     "data": {
      "text/plain": [
       "4.78242724391227"
      ]
     },
     "execution_count": 45,
     "metadata": {},
     "output_type": "execute_result"
    }
   ],
   "source": [
    "x[1].skew()"
   ]
  },
  {
   "cell_type": "code",
   "execution_count": 46,
   "metadata": {},
   "outputs": [],
   "source": [
    "x[2]=np.log1p(x[2])"
   ]
  },
  {
   "cell_type": "code",
   "execution_count": 47,
   "metadata": {},
   "outputs": [
    {
     "data": {
      "text/plain": [
       "3.937449907898792"
      ]
     },
     "execution_count": 47,
     "metadata": {},
     "output_type": "execute_result"
    }
   ],
   "source": [
    "x[2].skew()"
   ]
  },
  {
   "cell_type": "code",
   "execution_count": 48,
   "metadata": {},
   "outputs": [
    {
     "data": {
      "text/plain": [
       "2.4501939341031838"
      ]
     },
     "execution_count": 48,
     "metadata": {},
     "output_type": "execute_result"
    }
   ],
   "source": [
    "x[5]=np.log1p(x[5])\n",
    "x[5].skew()"
   ]
  },
  {
   "cell_type": "code",
   "execution_count": 49,
   "metadata": {},
   "outputs": [
    {
     "data": {
      "text/html": [
       "<div>\n",
       "<style scoped>\n",
       "    .dataframe tbody tr th:only-of-type {\n",
       "        vertical-align: middle;\n",
       "    }\n",
       "\n",
       "    .dataframe tbody tr th {\n",
       "        vertical-align: top;\n",
       "    }\n",
       "\n",
       "    .dataframe thead th {\n",
       "        text-align: right;\n",
       "    }\n",
       "</style>\n",
       "<table border=\"1\" class=\"dataframe\">\n",
       "  <thead>\n",
       "    <tr style=\"text-align: right;\">\n",
       "      <th></th>\n",
       "      <th>0</th>\n",
       "      <th>1</th>\n",
       "      <th>2</th>\n",
       "      <th>3</th>\n",
       "      <th>4</th>\n",
       "      <th>5</th>\n",
       "      <th>6</th>\n",
       "      <th>7</th>\n",
       "      <th>8</th>\n",
       "    </tr>\n",
       "  </thead>\n",
       "  <tbody>\n",
       "    <tr>\n",
       "      <th>count</th>\n",
       "      <td>1.449000e+03</td>\n",
       "      <td>1449.000000</td>\n",
       "      <td>1449.000000</td>\n",
       "      <td>1.449000e+03</td>\n",
       "      <td>1.449000e+03</td>\n",
       "      <td>1449.000000</td>\n",
       "      <td>1.449000e+03</td>\n",
       "      <td>1.449000e+03</td>\n",
       "      <td>1.449000e+03</td>\n",
       "    </tr>\n",
       "    <tr>\n",
       "      <th>mean</th>\n",
       "      <td>1.254652e-17</td>\n",
       "      <td>-0.091913</td>\n",
       "      <td>-0.166138</td>\n",
       "      <td>-3.846321e-17</td>\n",
       "      <td>2.698938e-17</td>\n",
       "      <td>-0.200212</td>\n",
       "      <td>-2.988178e-17</td>\n",
       "      <td>2.574430e-17</td>\n",
       "      <td>5.976356e-18</td>\n",
       "    </tr>\n",
       "    <tr>\n",
       "      <th>std</th>\n",
       "      <td>1.000345e+00</td>\n",
       "      <td>0.313177</td>\n",
       "      <td>0.429807</td>\n",
       "      <td>1.000345e+00</td>\n",
       "      <td>1.000345e+00</td>\n",
       "      <td>0.509016</td>\n",
       "      <td>1.000345e+00</td>\n",
       "      <td>1.000345e+00</td>\n",
       "      <td>1.000345e+00</td>\n",
       "    </tr>\n",
       "    <tr>\n",
       "      <th>min</th>\n",
       "      <td>-1.590579e+00</td>\n",
       "      <td>-0.313141</td>\n",
       "      <td>-0.352799</td>\n",
       "      <td>-2.372490e+00</td>\n",
       "      <td>-3.900019e+00</td>\n",
       "      <td>-1.693059</td>\n",
       "      <td>-1.909267e+00</td>\n",
       "      <td>-1.920261e+00</td>\n",
       "      <td>-2.999017e+00</td>\n",
       "    </tr>\n",
       "    <tr>\n",
       "      <th>25%</th>\n",
       "      <td>-6.935916e-01</td>\n",
       "      <td>-0.179212</td>\n",
       "      <td>-0.303325</td>\n",
       "      <td>-7.256720e-01</td>\n",
       "      <td>-3.746005e-01</td>\n",
       "      <td>-0.405980</td>\n",
       "      <td>-8.752319e-01</td>\n",
       "      <td>-7.245311e-01</td>\n",
       "      <td>-1.004039e+00</td>\n",
       "    </tr>\n",
       "    <tr>\n",
       "      <th>50%</th>\n",
       "      <td>-1.034135e-01</td>\n",
       "      <td>-0.169394</td>\n",
       "      <td>-0.272402</td>\n",
       "      <td>-2.048910e-02</td>\n",
       "      <td>3.153410e-02</td>\n",
       "      <td>-0.312377</td>\n",
       "      <td>-9.752489e-03</td>\n",
       "      <td>-5.337649e-02</td>\n",
       "      <td>3.358700e-01</td>\n",
       "    </tr>\n",
       "    <tr>\n",
       "      <th>75%</th>\n",
       "      <td>4.787047e-01</td>\n",
       "      <td>-0.158241</td>\n",
       "      <td>-0.230113</td>\n",
       "      <td>6.945835e-01</td>\n",
       "      <td>3.717404e-01</td>\n",
       "      <td>-0.208112</td>\n",
       "      <td>8.843070e-01</td>\n",
       "      <td>2.916819e-01</td>\n",
       "      <td>6.627795e-01</td>\n",
       "    </tr>\n",
       "    <tr>\n",
       "      <th>max</th>\n",
       "      <td>7.823250e+00</td>\n",
       "      <td>3.147043</td>\n",
       "      <td>1.876790</td>\n",
       "      <td>3.711341e+00</td>\n",
       "      <td>5.061260e+00</td>\n",
       "      <td>1.786390</td>\n",
       "      <td>2.123041e+00</td>\n",
       "      <td>3.088271e+00</td>\n",
       "      <td>4.292967e+00</td>\n",
       "    </tr>\n",
       "  </tbody>\n",
       "</table>\n",
       "</div>"
      ],
      "text/plain": [
       "                  0            1            2             3             4  \\\n",
       "count  1.449000e+03  1449.000000  1449.000000  1.449000e+03  1.449000e+03   \n",
       "mean   1.254652e-17    -0.091913    -0.166138 -3.846321e-17  2.698938e-17   \n",
       "std    1.000345e+00     0.313177     0.429807  1.000345e+00  1.000345e+00   \n",
       "min   -1.590579e+00    -0.313141    -0.352799 -2.372490e+00 -3.900019e+00   \n",
       "25%   -6.935916e-01    -0.179212    -0.303325 -7.256720e-01 -3.746005e-01   \n",
       "50%   -1.034135e-01    -0.169394    -0.272402 -2.048910e-02  3.153410e-02   \n",
       "75%    4.787047e-01    -0.158241    -0.230113  6.945835e-01  3.717404e-01   \n",
       "max    7.823250e+00     3.147043     1.876790  3.711341e+00  5.061260e+00   \n",
       "\n",
       "                 5             6             7             8  \n",
       "count  1449.000000  1.449000e+03  1.449000e+03  1.449000e+03  \n",
       "mean     -0.200212 -2.988178e-17  2.574430e-17  5.976356e-18  \n",
       "std       0.509016  1.000345e+00  1.000345e+00  1.000345e+00  \n",
       "min      -1.693059 -1.909267e+00 -1.920261e+00 -2.999017e+00  \n",
       "25%      -0.405980 -8.752319e-01 -7.245311e-01 -1.004039e+00  \n",
       "50%      -0.312377 -9.752489e-03 -5.337649e-02  3.358700e-01  \n",
       "75%      -0.208112  8.843070e-01  2.916819e-01  6.627795e-01  \n",
       "max       1.786390  2.123041e+00  3.088271e+00  4.292967e+00  "
      ]
     },
     "execution_count": 49,
     "metadata": {},
     "output_type": "execute_result"
    }
   ],
   "source": [
    "x.describe()"
   ]
  },
  {
   "cell_type": "code",
   "execution_count": 50,
   "metadata": {},
   "outputs": [
    {
     "data": {
      "text/plain": [
       "array([[0],\n",
       "       [0],\n",
       "       [0],\n",
       "       ...,\n",
       "       [0],\n",
       "       [0],\n",
       "       [1]])"
      ]
     },
     "execution_count": 50,
     "metadata": {},
     "output_type": "execute_result"
    }
   ],
   "source": [
    "y"
   ]
  },
  {
   "cell_type": "code",
   "execution_count": 51,
   "metadata": {},
   "outputs": [
    {
     "data": {
      "text/plain": [
       "<matplotlib.axes._subplots.AxesSubplot at 0x99d7a86c8>"
      ]
     },
     "execution_count": 51,
     "metadata": {},
     "output_type": "execute_result"
    },
    {
     "data": {
      "image/png": "[encoded data removed]",
      "text/plain": [
       "<Figure size 720x360 with 2 Axes>"
      ]
     },
     "metadata": {
      "needs_background": "light"
     },
     "output_type": "display_data"
    }
   ],
   "source": [
    "plt.figure(figsize=(10,5))\n",
    "sns.heatmap(x.corr(),annot=True,cmap='RdYlGn')"
   ]
  },
  {
   "cell_type": "code",
   "execution_count": 52,
   "metadata": {},
   "outputs": [
    {
     "data": {
      "image/png": "[encoded data removed]",
      "text/plain": [
       "<Figure size 432x288 with 1 Axes>"
      ]
     },
     "metadata": {
      "needs_background": "light"
     },
     "output_type": "display_data"
    },
    {
     "data": {
      "image/png": "[encoded data removed]",
      "text/plain": [
       "<Figure size 432x288 with 1 Axes>"
      ]
     },
     "metadata": {
      "needs_background": "light"
     },
     "output_type": "display_data"
    },
    {
     "data": {
      "image/png": "[encoded data removed]",
      "text/plain": [
       "<Figure size 432x288 with 1 Axes>"
      ]
     },
     "metadata": {
      "needs_background": "light"
     },
     "output_type": "display_data"
    },
    {
     "data": {
      "image/png": "[encoded data removed]",
      "text/plain": [
       "<Figure size 432x288 with 1 Axes>"
      ]
     },
     "metadata": {
      "needs_background": "light"
     },
     "output_type": "display_data"
    },
    {
     "data": {
      "image/png": "[encoded data removed]",
      "text/plain": [
       "<Figure size 432x288 with 1 Axes>"
      ]
     },
     "metadata": {
      "needs_background": "light"
     },
     "output_type": "display_data"
    },
    {
     "data": {
      "image/png": "[encoded data removed]",
      "text/plain": [
       "<Figure size 432x288 with 1 Axes>"
      ]
     },
     "metadata": {
      "needs_background": "light"
     },
     "output_type": "display_data"
    },
    {
     "data": {
      "image/png": "[encoded data removed]",
      "text/plain": [
       "<Figure size 432x288 with 1 Axes>"
      ]
     },
     "metadata": {
      "needs_background": "light"
     },
     "output_type": "display_data"
    },
    {
     "data": {
      "image/png": "[encoded data removed]",
      "text/plain": [
       "<Figure size 432x288 with 1 Axes>"
      ]
     },
     "metadata": {
      "needs_background": "light"
     },
     "output_type": "display_data"
    },
    {
     "data": {
      "image/png": "[encoded data removed]",
      "text/plain": [
       "<Figure size 432x288 with 1 Axes>"
      ]
     },
     "metadata": {
      "needs_background": "light"
     },
     "output_type": "display_data"
    }
   ],
   "source": [
    "for i in x.columns:\n",
    "    plt.figure()\n",
    "    sns.boxplot(x[i])       # shows that some of the columns contain outliers"
   ]
  },
  {
   "cell_type": "code",
   "execution_count": 53,
   "metadata": {},
   "outputs": [
    {
     "data": {
      "image/png": "[encoded data removed]",
      "text/plain": [
       "<Figure size 432x288 with 1 Axes>"
      ]
     },
     "metadata": {
      "needs_background": "light"
     },
     "output_type": "display_data"
    },
    {
     "data": {
      "image/png": "[encoded data removed]",
      "text/plain": [
       "<Figure size 432x288 with 1 Axes>"
      ]
     },
     "metadata": {
      "needs_background": "light"
     },
     "output_type": "display_data"
    },
    {
     "data": {
      "image/png": "[encoded data removed]",
      "text/plain": [
       "<Figure size 432x288 with 1 Axes>"
      ]
     },
     "metadata": {
      "needs_background": "light"
     },
     "output_type": "display_data"
    },
    {
     "data": {
      "image/png": "[encoded data removed]",
      "text/plain": [
       "<Figure size 432x288 with 1 Axes>"
      ]
     },
     "metadata": {
      "needs_background": "light"
     },
     "output_type": "display_data"
    },
    {
     "data": {
      "image/png": "[encoded data removed]",
      "text/plain": [
       "<Figure size 432x288 with 1 Axes>"
      ]
     },
     "metadata": {
      "needs_background": "light"
     },
     "output_type": "display_data"
    },
    {
     "data": {
      "image/png": "[encoded data removed]",
      "text/plain": [
       "<Figure size 432x288 with 1 Axes>"
      ]
     },
     "metadata": {
      "needs_background": "light"
     },
     "output_type": "display_data"
    },
    {
     "data": {
      "image/png": "[encoded data removed]",
      "text/plain": [
       "<Figure size 432x288 with 1 Axes>"
      ]
     },
     "metadata": {
      "needs_background": "light"
     },
     "output_type": "display_data"
    },
    {
     "data": {
      "image/png": "[encoded data removed]",
      "text/plain": [
       "<Figure size 432x288 with 1 Axes>"
      ]
     },
     "metadata": {
      "needs_background": "light"
     },
     "output_type": "display_data"
    },
    {
     "data": {
      "image/png": "[encoded data removed]",
      "text/plain": [
       "<Figure size 432x288 with 1 Axes>"
      ]
     },
     "metadata": {
      "needs_background": "light"
     },
     "output_type": "display_data"
    }
   ],
   "source": [
    "for i in x.columns:\n",
    "    plt.figure()\n",
    "    plt.hist(x[i])"
   ]
  },
  {
   "cell_type": "code",
   "execution_count": 54,
   "metadata": {},
   "outputs": [
    {
     "data": {
      "image/png": "[encoded data removed]",
      "text/plain": [
       "<Figure size 432x288 with 1 Axes>"
      ]
     },
     "metadata": {
      "needs_background": "light"
     },
     "output_type": "display_data"
    },
    {
     "data": {
      "image/png": "[encoded data removed]",
      "text/plain": [
       "<Figure size 432x288 with 1 Axes>"
      ]
     },
     "metadata": {
      "needs_background": "light"
     },
     "output_type": "display_data"
    },
    {
     "data": {
      "image/png": "[encoded data removed]",
      "text/plain": [
       "<Figure size 432x288 with 1 Axes>"
      ]
     },
     "metadata": {
      "needs_background": "light"
     },
     "output_type": "display_data"
    },
    {
     "data": {
      "image/png": "[encoded data removed]",
      "text/plain": [
       "<Figure size 432x288 with 1 Axes>"
      ]
     },
     "metadata": {
      "needs_background": "light"
     },
     "output_type": "display_data"
    },
    {
     "data": {
      "image/png": "[encoded data removed]",
      "text/plain": [
       "<Figure size 432x288 with 1 Axes>"
      ]
     },
     "metadata": {
      "needs_background": "light"
     },
     "output_type": "display_data"
    },
    {
     "data": {
      "image/png": "[encoded data removed]",
      "text/plain": [
       "<Figure size 432x288 with 1 Axes>"
      ]
     },
     "metadata": {
      "needs_background": "light"
     },
     "output_type": "display_data"
    },
    {
     "data": {
      "image/png": "[encoded data removed]",
      "text/plain": [
       "<Figure size 432x288 with 1 Axes>"
      ]
     },
     "metadata": {
      "needs_background": "light"
     },
     "output_type": "display_data"
    },
    {
     "data": {
      "image/png": "[encoded data removed]",
      "text/plain": [
       "<Figure size 432x288 with 1 Axes>"
      ]
     },
     "metadata": {
      "needs_background": "light"
     },
     "output_type": "display_data"
    },
    {
     "data": {
      "image/png": "[encoded data removed]",
      "text/plain": [
       "<Figure size 432x288 with 1 Axes>"
      ]
     },
     "metadata": {
      "needs_background": "light"
     },
     "output_type": "display_data"
    }
   ],
   "source": [
    "for i in x.columns:\n",
    "    plt.figure()\n",
    "    sns.distplot(x[i])"
   ]
  },
  {
   "cell_type": "code",
   "execution_count": 55,
   "metadata": {},
   "outputs": [],
   "source": [
    "#implementing using logistic regression"
   ]
  },
  {
   "cell_type": "code",
   "execution_count": 56,
   "metadata": {},
   "outputs": [],
   "source": [
    "from sklearn.linear_model import LogisticRegression\n",
    "from sklearn.model_selection import train_test_split\n",
    "from sklearn.metrics import accuracy_score,classification_report,confusion_matrix"
   ]
  },
  {
   "cell_type": "code",
   "execution_count": 57,
   "metadata": {},
   "outputs": [
    {
     "name": "stdout",
     "output_type": "stream",
     "text": [
      "accuracy score corrosponding to random state: 42 is: 0.8103448275862069\n",
      "accuracy score corrosponding to random state: 43 is: 0.7758620689655172\n",
      "accuracy score corrosponding to random state: 44 is: 0.7965517241379311\n",
      "accuracy score corrosponding to random state: 45 is: 0.8103448275862069\n",
      "accuracy score corrosponding to random state: 46 is: 0.8103448275862069\n",
      "accuracy score corrosponding to random state: 47 is: 0.8103448275862069\n",
      "accuracy score corrosponding to random state: 48 is: 0.7827586206896552\n",
      "accuracy score corrosponding to random state: 49 is: 0.7965517241379311\n",
      "accuracy score corrosponding to random state: 50 is: 0.7827586206896552\n",
      "accuracy score corrosponding to random state: 51 is: 0.7931034482758621\n",
      "accuracy score corrosponding to random state: 52 is: 0.7827586206896552\n",
      "accuracy score corrosponding to random state: 53 is: 0.7689655172413793\n",
      "accuracy score corrosponding to random state: 54 is: 0.8172413793103448\n",
      "accuracy score corrosponding to random state: 55 is: 0.7896551724137931\n",
      "accuracy score corrosponding to random state: 56 is: 0.8241379310344827\n",
      "accuracy score corrosponding to random state: 57 is: 0.8344827586206897\n",
      "accuracy score corrosponding to random state: 58 is: 0.7965517241379311\n",
      "accuracy score corrosponding to random state: 59 is: 0.803448275862069\n",
      "accuracy score corrosponding to random state: 60 is: 0.7896551724137931\n",
      "accuracy score corrosponding to random state: 61 is: 0.8\n",
      "accuracy score corrosponding to random state: 62 is: 0.8448275862068966\n",
      "accuracy score corrosponding to random state: 63 is: 0.803448275862069\n",
      "accuracy score corrosponding to random state: 64 is: 0.8241379310344827\n",
      "accuracy score corrosponding to random state: 65 is: 0.8655172413793103\n",
      "accuracy score corrosponding to random state: 66 is: 0.8137931034482758\n",
      "accuracy score corrosponding to random state: 67 is: 0.8103448275862069\n",
      "accuracy score corrosponding to random state: 68 is: 0.803448275862069\n",
      "accuracy score corrosponding to random state: 69 is: 0.8310344827586207\n",
      "accuracy score corrosponding to random state: 70 is: 0.8103448275862069\n",
      "accuracy score corrosponding to random state: 71 is: 0.8\n",
      "accuracy score corrosponding to random state: 72 is: 0.803448275862069\n",
      "accuracy score corrosponding to random state: 73 is: 0.8172413793103448\n",
      "accuracy score corrosponding to random state: 74 is: 0.8172413793103448\n",
      "accuracy score corrosponding to random state: 75 is: 0.8068965517241379\n",
      "accuracy score corrosponding to random state: 76 is: 0.7758620689655172\n",
      "accuracy score corrosponding to random state: 77 is: 0.8206896551724138\n",
      "accuracy score corrosponding to random state: 78 is: 0.7827586206896552\n",
      "accuracy score corrosponding to random state: 79 is: 0.8275862068965517\n",
      "accuracy score corrosponding to random state: 80 is: 0.8586206896551725\n",
      "accuracy score corrosponding to random state: 81 is: 0.7965517241379311\n",
      "accuracy score corrosponding to random state: 82 is: 0.8275862068965517\n",
      "accuracy score corrosponding to random state: 83 is: 0.8344827586206897\n",
      "accuracy score corrosponding to random state: 84 is: 0.8103448275862069\n",
      "accuracy score corrosponding to random state: 85 is: 0.803448275862069\n",
      "accuracy score corrosponding to random state: 86 is: 0.7965517241379311\n",
      "accuracy score corrosponding to random state: 87 is: 0.8\n",
      "accuracy score corrosponding to random state: 88 is: 0.7793103448275862\n",
      "accuracy score corrosponding to random state: 89 is: 0.8068965517241379\n",
      "accuracy score corrosponding to random state: 90 is: 0.7896551724137931\n",
      "accuracy score corrosponding to random state: 91 is: 0.8172413793103448\n",
      "accuracy score corrosponding to random state: 92 is: 0.8\n",
      "accuracy score corrosponding to random state: 93 is: 0.803448275862069\n",
      "accuracy score corrosponding to random state: 94 is: 0.7655172413793103\n",
      "accuracy score corrosponding to random state: 95 is: 0.7896551724137931\n",
      "accuracy score corrosponding to random state: 96 is: 0.7758620689655172\n",
      "accuracy score corrosponding to random state: 97 is: 0.8137931034482758\n",
      "accuracy score corrosponding to random state: 98 is: 0.7931034482758621\n",
      "accuracy score corrosponding to random state: 99 is: 0.8068965517241379\n",
      "\n",
      "\n",
      "the max accuracy score for final random state 65 is: 0.8655172413793103\n"
     ]
    }
   ],
   "source": [
    "max_acc_score=0\n",
    "for r_state in range(42,100):\n",
    "    x_train,x_test,y_train,y_test=train_test_split(x,y,random_state=r_state,test_size=0.20)\n",
    "    lg=LogisticRegression()\n",
    "    lg.fit(x_train,y_train)\n",
    "    pred=lg.predict(x_test)\n",
    "    acc_score=accuracy_score(pred,y_test)\n",
    "    print(\"accuracy score corrosponding to random state:\",r_state,\"is:\",acc_score)\n",
    "    if acc_score>max_acc_score:\n",
    "        max_acc_score=acc_score\n",
    "        final_r_state=r_state\n",
    "print()\n",
    "print()\n",
    "print(\"the max accuracy score for final random state\",final_r_state,\"is:\",max_acc_score)"
   ]
  },
  {
   "cell_type": "code",
   "execution_count": 58,
   "metadata": {},
   "outputs": [],
   "source": [
    "#using cross val score"
   ]
  },
  {
   "cell_type": "code",
   "execution_count": 59,
   "metadata": {},
   "outputs": [],
   "source": [
    "from sklearn.model_selection import cross_val_score"
   ]
  },
  {
   "cell_type": "code",
   "execution_count": 60,
   "metadata": {},
   "outputs": [],
   "source": [
    "score=cross_val_score(lg,x,y,cv=5)"
   ]
  },
  {
   "cell_type": "code",
   "execution_count": 61,
   "metadata": {},
   "outputs": [
    {
     "data": {
      "text/plain": [
       "array([0.80689655, 0.8137931 , 0.80689655, 0.81034483, 0.79238754])"
      ]
     },
     "execution_count": 61,
     "metadata": {},
     "output_type": "execute_result"
    }
   ],
   "source": [
    "score"
   ]
  },
  {
   "cell_type": "code",
   "execution_count": 62,
   "metadata": {},
   "outputs": [],
   "source": [
    "#implementing through other classification technique"
   ]
  },
  {
   "cell_type": "code",
   "execution_count": 63,
   "metadata": {},
   "outputs": [],
   "source": [
    "from sklearn.naive_bayes import GaussianNB\n",
    "from sklearn.tree import DecisionTreeClassifier\n",
    "from sklearn.neighbors import KNeighborsClassifier\n",
    "from sklearn.naive_bayes import GaussianNB\n",
    "from sklearn.svm import SVC"
   ]
  },
  {
   "cell_type": "code",
   "execution_count": 64,
   "metadata": {},
   "outputs": [],
   "source": [
    "x_train,x_test,y_train,y_test=train_test_split(x,y,random_state=65,test_size=0.20)"
   ]
  },
  {
   "cell_type": "code",
   "execution_count": 65,
   "metadata": {},
   "outputs": [
    {
     "name": "stdout",
     "output_type": "stream",
     "text": [
      "GaussianNB(priors=None, var_smoothing=1e-09) score is: 0.8620689655172413\n"
     ]
    }
   ],
   "source": [
    "gnb=GaussianNB()\n",
    "gnb.fit(x_train,y_train)\n",
    "pred=gnb.predict(x_test)\n",
    "print(gnb,\"score\",\"is:\",accuracy_score(y_test,pred))"
   ]
  },
  {
   "cell_type": "code",
   "execution_count": 66,
   "metadata": {},
   "outputs": [
    {
     "name": "stdout",
     "output_type": "stream",
     "text": [
      "accuracy score for kernel linear is: 0.8344827586206897\n",
      "accuracy score for kernel rbf is: 0.8586206896551725\n",
      "accuracy score for kernel poly is: 0.8517241379310345\n",
      "cross val score is: 0.7894952869585967\n"
     ]
    }
   ],
   "source": [
    "a=['linear','rbf','poly']\n",
    "for i in a:\n",
    "    svc=SVC(kernel=i)\n",
    "    svc.fit(x_train,y_train)\n",
    "    pred1=svc.predict(x_test)\n",
    "    print(\"accuracy score for kernel\",i,\"is:\",accuracy_score(pred1,y_test))\n",
    "\n",
    "score=cross_val_score(svc,x,y,cv=5).mean()\n",
    "print(\"cross val score is:\",score)"
   ]
  },
  {
   "cell_type": "code",
   "execution_count": 67,
   "metadata": {},
   "outputs": [],
   "source": [
    "#using hyper parameter for SVC"
   ]
  },
  {
   "cell_type": "code",
   "execution_count": 68,
   "metadata": {},
   "outputs": [],
   "source": [
    "from sklearn.model_selection import GridSearchCV"
   ]
  },
  {
   "cell_type": "code",
   "execution_count": 69,
   "metadata": {},
   "outputs": [],
   "source": [
    "attr={'kernel':['poly','linear','rbf'],'C':[1,0,10]}"
   ]
  },
  {
   "cell_type": "code",
   "execution_count": 70,
   "metadata": {},
   "outputs": [],
   "source": [
    "gd=GridSearchCV(estimator=SVC(),param_grid=attr)"
   ]
  },
  {
   "cell_type": "code",
   "execution_count": 71,
   "metadata": {},
   "outputs": [
    {
     "data": {
      "text/plain": [
       "GridSearchCV(cv=None, error_score=nan,\n",
       "             estimator=SVC(C=1.0, break_ties=False, cache_size=200,\n",
       "                           class_weight=None, coef0=0.0,\n",
       "                           decision_function_shape='ovr', degree=3,\n",
       "                           gamma='scale', kernel='rbf', max_iter=-1,\n",
       "                           probability=False, random_state=None, shrinking=True,\n",
       "                           tol=0.001, verbose=False),\n",
       "             iid='deprecated', n_jobs=None,\n",
       "             param_grid={'C': [1, 0, 10], 'kernel': ['poly', 'linear', 'rbf']},\n",
       "             pre_dispatch='2*n_jobs', refit=True, return_train_score=False,\n",
       "             scoring=None, verbose=0)"
      ]
     },
     "execution_count": 71,
     "metadata": {},
     "output_type": "execute_result"
    }
   ],
   "source": [
    "gd.fit(x,y)"
   ]
  },
  {
   "cell_type": "code",
   "execution_count": 72,
   "metadata": {},
   "outputs": [
    {
     "data": {
      "text/plain": [
       "SVC(C=1, break_ties=False, cache_size=200, class_weight=None, coef0=0.0,\n",
       "    decision_function_shape='ovr', degree=3, gamma='scale', kernel='rbf',\n",
       "    max_iter=-1, probability=False, random_state=None, shrinking=True,\n",
       "    tol=0.001, verbose=False)"
      ]
     },
     "execution_count": 72,
     "metadata": {},
     "output_type": "execute_result"
    }
   ],
   "source": [
    "gd.best_estimator_"
   ]
  },
  {
   "cell_type": "code",
   "execution_count": 73,
   "metadata": {},
   "outputs": [
    {
     "data": {
      "text/plain": [
       "{'C': 1, 'kernel': 'rbf'}"
      ]
     },
     "execution_count": 73,
     "metadata": {},
     "output_type": "execute_result"
    }
   ],
   "source": [
    "gd.best_params_"
   ]
  },
  {
   "cell_type": "code",
   "execution_count": 74,
   "metadata": {},
   "outputs": [
    {
     "data": {
      "text/plain": [
       "0.8012313566400191"
      ]
     },
     "execution_count": 74,
     "metadata": {},
     "output_type": "execute_result"
    }
   ],
   "source": [
    "gd.best_score_"
   ]
  },
  {
   "cell_type": "code",
   "execution_count": 75,
   "metadata": {},
   "outputs": [
    {
     "name": "stdout",
     "output_type": "stream",
     "text": [
      "accuracy score for neighbors 1 is: 0.7862068965517242\n",
      "accuracy score for neighbors 2 is: 0.7862068965517242\n",
      "accuracy score for neighbors 3 is: 0.7896551724137931\n",
      "accuracy score for neighbors 4 is: 0.7965517241379311\n",
      "accuracy score for neighbors 5 is: 0.7965517241379311\n",
      "accuracy score for neighbors 6 is: 0.8068965517241379\n",
      "accuracy score for neighbors 7 is: 0.7931034482758621\n",
      "accuracy score for neighbors 8 is: 0.8103448275862069\n",
      "accuracy score for neighbors 9 is: 0.8103448275862069\n",
      "accuracy score for neighbors 10 is: 0.8344827586206897\n",
      "accuracy score for neighbors 11 is: 0.8344827586206897\n",
      "accuracy score for neighbors 12 is: 0.8310344827586207\n",
      "accuracy score for neighbors 13 is: 0.8275862068965517\n",
      "accuracy score for neighbors 14 is: 0.8241379310344827\n",
      "accuracy score for neighbors 15 is: 0.8275862068965517\n",
      "accuracy score for neighbors 16 is: 0.8379310344827586\n",
      "accuracy score for neighbors 17 is: 0.8206896551724138\n",
      "accuracy score for neighbors 18 is: 0.8206896551724138\n",
      "accuracy score for neighbors 19 is: 0.8241379310344827\n",
      "accuracy score for neighbors 20 is: 0.8241379310344827\n",
      "cross val score is: 0.7756950244600882\n"
     ]
    }
   ],
   "source": [
    "for i in range(1,21):\n",
    "    knn=KNeighborsClassifier(n_neighbors=i)\n",
    "    knn.fit(x_train,y_train)\n",
    "    pred2=knn.predict(x_test)\n",
    "    print(\"accuracy score for neighbors\",i,\"is:\",accuracy_score(pred2,y_test))\n",
    "    \n",
    "score=cross_val_score(knn,x,y,cv=5).mean()\n",
    "print(\"cross val score is:\",score)"
   ]
  },
  {
   "cell_type": "code",
   "execution_count": 76,
   "metadata": {},
   "outputs": [
    {
     "name": "stdout",
     "output_type": "stream",
     "text": [
      "accuracy score for criterion gini is 0.7724137931034483\n",
      "accuracy score for criterion entropy is 0.7724137931034483\n"
     ]
    }
   ],
   "source": [
    "a=['gini','entropy']\n",
    "for i in a:\n",
    "    dtc=DecisionTreeClassifier(criterion=i)\n",
    "    dtc.fit(x_train,y_train)\n",
    "    pred=dtc.predict(x_test)\n",
    "    print(\"accuracy score for criterion\",i,\"is\",accuracy_score(y_test,pred))"
   ]
  },
  {
   "cell_type": "code",
   "execution_count": 77,
   "metadata": {},
   "outputs": [],
   "source": [
    "#boosting the result using ensembling techniques"
   ]
  },
  {
   "cell_type": "code",
   "execution_count": 78,
   "metadata": {},
   "outputs": [],
   "source": [
    "from sklearn.ensemble import AdaBoostClassifier,GradientBoostingClassifier,RandomForestClassifier"
   ]
  },
  {
   "cell_type": "code",
   "execution_count": 79,
   "metadata": {},
   "outputs": [
    {
     "name": "stdout",
     "output_type": "stream",
     "text": [
      "accuracy score at 150 is: 0.8482758620689655\n",
      "accuracy score at 200 is: 0.8310344827586207\n",
      "accuracy score at 250 is: 0.8344827586206897\n",
      "accuracy score at 300 is: 0.8482758620689655\n",
      "accuracy score at 350 is: 0.8448275862068966\n"
     ]
    }
   ],
   "source": [
    "a=[150,200,250,300,350]\n",
    "for i in a:\n",
    "    rd=RandomForestClassifier(n_estimators=i)\n",
    "    rd.fit(x_train,y_train)\n",
    "    predrd=rd.predict(x_test)\n",
    "    print('accuracy score at',i,'is:',accuracy_score(predrd,y_test))"
   ]
  },
  {
   "cell_type": "code",
   "execution_count": 80,
   "metadata": {},
   "outputs": [],
   "source": [
    "gd=GradientBoostingClassifier(learning_rate=0.1)"
   ]
  },
  {
   "cell_type": "code",
   "execution_count": 81,
   "metadata": {},
   "outputs": [
    {
     "data": {
      "text/plain": [
       "GradientBoostingClassifier(ccp_alpha=0.0, criterion='friedman_mse', init=None,\n",
       "                           learning_rate=0.1, loss='deviance', max_depth=3,\n",
       "                           max_features=None, max_leaf_nodes=None,\n",
       "                           min_impurity_decrease=0.0, min_impurity_split=None,\n",
       "                           min_samples_leaf=1, min_samples_split=2,\n",
       "                           min_weight_fraction_leaf=0.0, n_estimators=100,\n",
       "                           n_iter_no_change=None, presort='deprecated',\n",
       "                           random_state=None, subsample=1.0, tol=0.0001,\n",
       "                           validation_fraction=0.1, verbose=0,\n",
       "                           warm_start=False)"
      ]
     },
     "execution_count": 81,
     "metadata": {},
     "output_type": "execute_result"
    }
   ],
   "source": [
    "gd.fit(x_train,y_train)"
   ]
  },
  {
   "cell_type": "code",
   "execution_count": 82,
   "metadata": {},
   "outputs": [],
   "source": [
    "predgd=gd.predict(x_test)"
   ]
  },
  {
   "cell_type": "code",
   "execution_count": 83,
   "metadata": {},
   "outputs": [
    {
     "data": {
      "text/plain": [
       "0.8482758620689655"
      ]
     },
     "execution_count": 83,
     "metadata": {},
     "output_type": "execute_result"
    }
   ],
   "source": [
    "accuracy_score(predgd,y_test)"
   ]
  },
  {
   "cell_type": "code",
   "execution_count": 103,
   "metadata": {},
   "outputs": [
    {
     "name": "stdout",
     "output_type": "stream",
     "text": [
      "accuracy score for the estimator 150 is: 0.7724137931034483\n",
      "accuracy score for the estimator 200 is: 0.7724137931034483\n",
      "accuracy score for the estimator 250 is: 0.7827586206896552\n",
      "accuracy score for the estimator 300 is: 0.7655172413793103\n",
      "accuracy score for the estimator 350 is: 0.7655172413793103\n"
     ]
    }
   ],
   "source": [
    "b=[150,200,250,300,350]\n",
    "for i in b:\n",
    "    ad=AdaBoostClassifier(base_estimator=dtc,learning_rate=0.01)\n",
    "    ad.fit(x_train,y_train)\n",
    "    predad=ad.predict(x_test)\n",
    "    print(\"accuracy score for the estimator\",i,\"is:\",accuracy_score(y_test,predad))"
   ]
  },
  {
   "cell_type": "markdown",
   "metadata": {},
   "source": [
    "#conclusion:-so from the above implementation we can infer that we can achieve atmost of 84% accuracy with classifiers and maximum of 86% with logistic regressor so,we will finally use this model for saving the result"
   ]
  },
  {
   "cell_type": "code",
   "execution_count": 85,
   "metadata": {},
   "outputs": [],
   "source": [
    "x_train,x_test,y_train,y_test=train_test_split(x,y,random_state=65,test_size=0.20)"
   ]
  },
  {
   "cell_type": "code",
   "execution_count": 86,
   "metadata": {},
   "outputs": [],
   "source": [
    "lg=LogisticRegression()"
   ]
  },
  {
   "cell_type": "code",
   "execution_count": 87,
   "metadata": {},
   "outputs": [
    {
     "data": {
      "text/plain": [
       "LogisticRegression(C=1.0, class_weight=None, dual=False, fit_intercept=True,\n",
       "                   intercept_scaling=1, l1_ratio=None, max_iter=100,\n",
       "                   multi_class='auto', n_jobs=None, penalty='l2',\n",
       "                   random_state=None, solver='lbfgs', tol=0.0001, verbose=0,\n",
       "                   warm_start=False)"
      ]
     },
     "execution_count": 87,
     "metadata": {},
     "output_type": "execute_result"
    }
   ],
   "source": [
    "lg.fit(x_train,y_train)"
   ]
  },
  {
   "cell_type": "code",
   "execution_count": 88,
   "metadata": {},
   "outputs": [],
   "source": [
    "predlg=lg.predict(x_test)\n",
    "a1=pd.DataFrame(data=predlg)\n",
    "a1.to_csv('census result.csv')"
   ]
  },
  {
   "cell_type": "code",
   "execution_count": 89,
   "metadata": {},
   "outputs": [
    {
     "data": {
      "text/plain": [
       "0.8655172413793103"
      ]
     },
     "execution_count": 89,
     "metadata": {},
     "output_type": "execute_result"
    }
   ],
   "source": [
    "accuracy_score(y_test,predlg)"
   ]
  },
  {
   "cell_type": "code",
   "execution_count": 90,
   "metadata": {},
   "outputs": [
    {
     "name": "stdout",
     "output_type": "stream",
     "text": [
      "              precision    recall  f1-score   support\n",
      "\n",
      "           0       0.88      0.97      0.92       231\n",
      "           1       0.78      0.47      0.59        59\n",
      "\n",
      "    accuracy                           0.87       290\n",
      "   macro avg       0.83      0.72      0.75       290\n",
      "weighted avg       0.86      0.87      0.85       290\n",
      "\n"
     ]
    }
   ],
   "source": [
    "print(classification_report(y_test,predlg))"
   ]
  },
  {
   "cell_type": "code",
   "execution_count": 91,
   "metadata": {},
   "outputs": [
    {
     "name": "stdout",
     "output_type": "stream",
     "text": [
      "[[223   8]\n",
      " [ 31  28]]\n"
     ]
    }
   ],
   "source": [
    "print(confusion_matrix(y_test,predlg))"
   ]
  },
  {
   "cell_type": "code",
   "execution_count": 92,
   "metadata": {},
   "outputs": [],
   "source": [
    "#plotting auc roc curve"
   ]
  },
  {
   "cell_type": "code",
   "execution_count": 93,
   "metadata": {},
   "outputs": [],
   "source": [
    "from sklearn.metrics import roc_curve\n",
    "from sklearn.metrics import roc_auc_score"
   ]
  },
  {
   "cell_type": "code",
   "execution_count": 94,
   "metadata": {},
   "outputs": [],
   "source": [
    "y_pred_prob=lg.predict_proba(x_test)[:,1]"
   ]
  },
  {
   "cell_type": "code",
   "execution_count": 95,
   "metadata": {},
   "outputs": [
    {
     "data": {
      "text/plain": [
       "array([0.12559895, 0.70543885, 0.08576463, 0.28147236, 0.95537458,\n",
       "       0.44152068, 0.10411411, 0.11449072, 0.35821665, 0.01232347,\n",
       "       0.60993022, 0.01105948, 0.22157396, 0.71510359, 0.31223475,\n",
       "       0.0578595 , 0.38377376, 0.03173355, 0.12049778, 0.33325176,\n",
       "       0.02493884, 0.53126016, 0.24843824, 0.20162939, 0.01965241,\n",
       "       0.24244822, 0.04190141, 0.0906095 , 0.99198955, 0.24761398,\n",
       "       0.07570021, 0.55380718, 0.60670056, 0.59413253, 0.00836981,\n",
       "       0.27800275, 0.03149393, 0.08404912, 0.05628649, 0.00906147,\n",
       "       0.09209141, 0.08868676, 0.18336343, 0.42418122, 0.30956935,\n",
       "       0.03637228, 0.07295491, 0.09867   , 0.09045218, 0.29716826,\n",
       "       0.07918537, 0.14885527, 0.1138231 , 0.19614463, 0.14538098,\n",
       "       0.27931907, 0.15209431, 0.96423843, 0.74243156, 0.31570642,\n",
       "       0.13285052, 0.20397397, 0.14165488, 0.57137318, 0.67032154,\n",
       "       0.05440105, 0.04760964, 0.104319  , 0.08530017, 0.01519429,\n",
       "       0.02854428, 0.04528089, 0.09699584, 0.43989716, 0.00654721,\n",
       "       0.48306957, 0.23234821, 0.19513602, 0.28431397, 0.45338702,\n",
       "       0.18030853, 0.03714754, 0.64617934, 0.06315322, 0.21390808,\n",
       "       0.12032934, 0.28829076, 0.20236855, 0.19772753, 0.06970375,\n",
       "       0.16100083, 0.17726221, 0.11649273, 0.17285695, 0.09634178,\n",
       "       0.72019494, 0.06879954, 0.18990228, 0.04053253, 0.07842333,\n",
       "       0.06269412, 0.33169677, 0.40408202, 0.02216366, 0.48168729,\n",
       "       0.04663182, 0.33022976, 0.32989688, 0.03399997, 0.05476595,\n",
       "       0.07012448, 0.14225641, 0.23487786, 0.15263006, 0.3215312 ,\n",
       "       0.02999946, 0.52915396, 0.17353297, 0.24146567, 0.16834716,\n",
       "       0.0769208 , 0.28104694, 0.248147  , 0.02489408, 0.08479168,\n",
       "       0.14981893, 0.71705797, 0.14856579, 0.86272678, 0.07880494,\n",
       "       0.21525618, 0.01859215, 0.05022535, 0.12572307, 0.60780231,\n",
       "       0.02696211, 0.43160211, 0.10448642, 0.2048997 , 0.22801302,\n",
       "       0.10399548, 0.00915199, 0.40696568, 0.02338134, 0.31827207,\n",
       "       0.58073406, 0.18219592, 0.11800836, 0.07473812, 0.6604007 ,\n",
       "       0.32388721, 0.05466148, 0.23648055, 0.00621617, 0.03395277,\n",
       "       0.20750677, 0.18815867, 0.19842304, 0.09956666, 0.10978047,\n",
       "       0.14575893, 0.21896052, 0.62953743, 0.55337724, 0.04370516,\n",
       "       0.85679599, 0.22333832, 0.30883406, 0.31747953, 0.2501511 ,\n",
       "       0.09780216, 0.16763708, 0.24552406, 0.07717633, 0.20682654,\n",
       "       0.10977893, 0.06190529, 0.6263138 , 0.46963926, 0.67244117,\n",
       "       0.09466103, 0.05439281, 0.03757038, 0.20388367, 0.11594208,\n",
       "       0.1973871 , 0.25985703, 0.33803984, 0.05775594, 0.86819266,\n",
       "       0.07915348, 0.23217875, 0.27294803, 0.04600827, 0.04620483,\n",
       "       0.01608812, 0.05861521, 0.0278863 , 0.14936894, 0.28180555,\n",
       "       0.26850587, 0.1912548 , 0.20146981, 0.737512  , 0.44649203,\n",
       "       0.04500453, 0.12218786, 0.24633741, 0.34593176, 0.44239225,\n",
       "       0.13840883, 0.13642516, 0.00777416, 0.17294882, 0.13324122,\n",
       "       0.01098206, 0.44097823, 0.47198833, 0.6657058 , 0.46911743,\n",
       "       0.04682084, 0.27650533, 0.24095792, 0.1479848 , 0.37617691,\n",
       "       0.09984659, 0.14748657, 0.16696848, 0.07465514, 0.06646938,\n",
       "       0.38312697, 0.29411983, 0.11750437, 0.63776783, 0.29015124,\n",
       "       0.25779096, 0.12384158, 0.26411877, 0.20454546, 0.49473382,\n",
       "       0.19044908, 0.31973479, 0.14325725, 0.09373035, 0.20177205,\n",
       "       0.06395039, 0.03176362, 0.87139882, 0.05659095, 0.87905551,\n",
       "       0.1743029 , 0.04046068, 0.20788837, 0.52091673, 0.35348964,\n",
       "       0.1114101 , 0.06483957, 0.84344149, 0.12092825, 0.08359113,\n",
       "       0.19289989, 0.28353428, 0.03100147, 0.06144458, 0.05153056,\n",
       "       0.00373861, 0.19076366, 0.05659461, 0.09810957, 0.21976951,\n",
       "       0.08427174, 0.53917171, 0.29404862, 0.2487704 , 0.07066548,\n",
       "       0.1039765 , 0.27999982, 0.41862351, 0.20681858, 0.16089186,\n",
       "       0.37987678, 0.04104342, 0.26621161, 0.08410557, 0.06422169,\n",
       "       0.106232  , 0.09055234, 0.53499869, 0.41331132, 0.33596983])"
      ]
     },
     "execution_count": 95,
     "metadata": {},
     "output_type": "execute_result"
    }
   ],
   "source": [
    "y_pred_prob"
   ]
  },
  {
   "cell_type": "code",
   "execution_count": 96,
   "metadata": {},
   "outputs": [],
   "source": [
    "fpr,tpr,threshold=roc_curve(y_test,y_pred_prob)"
   ]
  },
  {
   "cell_type": "code",
   "execution_count": 97,
   "metadata": {},
   "outputs": [
    {
     "name": "stdout",
     "output_type": "stream",
     "text": [
      "fpr is: [0.         0.         0.         0.004329   0.004329   0.00865801\n",
      " 0.00865801 0.01298701 0.01298701 0.01731602 0.01731602 0.02164502\n",
      " 0.02164502 0.03896104 0.03896104 0.04329004 0.04329004 0.05627706\n",
      " 0.05627706 0.06926407 0.06926407 0.09090909 0.09090909 0.12554113\n",
      " 0.12554113 0.12987013 0.12987013 0.13419913 0.13419913 0.13852814\n",
      " 0.13852814 0.14285714 0.14285714 0.16017316 0.16017316 0.22943723\n",
      " 0.22943723 0.23809524 0.23809524 0.26406926 0.26406926 0.31601732\n",
      " 0.31601732 0.35497835 0.35497835 0.44588745 0.44588745 0.47619048\n",
      " 0.47619048 0.48484848 0.48484848 0.52380952 0.52380952 0.55844156\n",
      " 0.55844156 0.58874459 0.58874459 0.67965368 0.67965368 1.        ]\n",
      "tpr is: [0.         0.01694915 0.23728814 0.23728814 0.25423729 0.25423729\n",
      " 0.27118644 0.27118644 0.38983051 0.38983051 0.42372881 0.42372881\n",
      " 0.47457627 0.47457627 0.54237288 0.54237288 0.57627119 0.57627119\n",
      " 0.59322034 0.59322034 0.61016949 0.61016949 0.62711864 0.62711864\n",
      " 0.66101695 0.66101695 0.6779661  0.6779661  0.69491525 0.69491525\n",
      " 0.71186441 0.71186441 0.72881356 0.72881356 0.74576271 0.74576271\n",
      " 0.76271186 0.76271186 0.77966102 0.77966102 0.79661017 0.79661017\n",
      " 0.81355932 0.81355932 0.83050847 0.83050847 0.84745763 0.84745763\n",
      " 0.89830508 0.89830508 0.91525424 0.91525424 0.94915254 0.94915254\n",
      " 0.96610169 0.96610169 0.98305085 0.98305085 1.         1.        ]\n",
      "threshold is: [1.99198955 0.99198955 0.71510359 0.70543885 0.67244117 0.67032154\n",
      " 0.6657058  0.6604007  0.60670056 0.59413253 0.57137318 0.55380718\n",
      " 0.53499869 0.49473382 0.46963926 0.46911743 0.44649203 0.44097823\n",
      " 0.43989716 0.41862351 0.41331132 0.37987678 0.37617691 0.33022976\n",
      " 0.32388721 0.3215312  0.31973479 0.31827207 0.31747953 0.31570642\n",
      " 0.31223475 0.30956935 0.30883406 0.29015124 0.28829076 0.2501511\n",
      " 0.2487704  0.248147   0.24761398 0.23648055 0.23487786 0.20682654\n",
      " 0.20681858 0.19842304 0.19772753 0.16100083 0.16089186 0.1479848\n",
      " 0.14538098 0.14225641 0.14165488 0.12092825 0.12032934 0.10978047\n",
      " 0.10977893 0.09984659 0.09956666 0.07915348 0.07880494 0.00373861]\n"
     ]
    }
   ],
   "source": [
    "print(\"fpr is:\",fpr)\n",
    "print(\"tpr is:\",tpr)\n",
    "print(\"threshold is:\",threshold)"
   ]
  },
  {
   "cell_type": "code",
   "execution_count": 98,
   "metadata": {},
   "outputs": [
    {
     "data": {
      "image/png": "[encoded data removed]",
      "text/plain": [
       "<Figure size 432x288 with 1 Axes>"
      ]
     },
     "metadata": {
      "needs_background": "light"
     },
     "output_type": "display_data"
    }
   ],
   "source": [
    "plt.plot([1,0],[1,0],'k--')\n",
    "plt.plot(fpr,tpr,label='Decision Tree')\n",
    "plt.xlabel('false postive rate')\n",
    "plt.ylabel(\"true positive rate\")\n",
    "plt.title(\"logistic regression\")\n",
    "plt.show()"
   ]
  },
  {
   "cell_type": "code",
   "execution_count": 99,
   "metadata": {},
   "outputs": [],
   "source": [
    "#saving the final model"
   ]
  },
  {
   "cell_type": "code",
   "execution_count": 100,
   "metadata": {},
   "outputs": [],
   "source": [
    "import joblib"
   ]
  },
  {
   "cell_type": "code",
   "execution_count": 101,
   "metadata": {},
   "outputs": [
    {
     "data": {
      "text/plain": [
       "['census.obj']"
      ]
     },
     "execution_count": 101,
     "metadata": {},
     "output_type": "execute_result"
    }
   ],
   "source": [
    "joblib.dump(lg,'census.obj')"
   ]
  },
  {
   "cell_type": "code",
   "execution_count": null,
   "metadata": {},
   "outputs": [],
   "source": []
  }
 ],
 "metadata": {
  "kernelspec": {
   "display_name": "Python 3",
   "language": "python",
   "name": "python3"
  },
  "language_info": {
   "codemirror_mode": {
    "name": "ipython",
    "version": 3
   },
   "file_extension": ".py",
   "mimetype": "text/x-python",
   "name": "python",
   "nbconvert_exporter": "python",
   "pygments_lexer": "ipython3",
   "version": "3.7.6"
  }
 },
 "nbformat": 4,
 "nbformat_minor": 4
}
