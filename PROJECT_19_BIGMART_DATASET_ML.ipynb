{
 "cells": [
  {
   "cell_type": "code",
   "execution_count": 1,
   "metadata": {},
   "outputs": [],
   "source": [
    "#importing libraries"
   ]
  },
  {
   "cell_type": "code",
   "execution_count": 2,
   "metadata": {},
   "outputs": [],
   "source": [
    "import warnings\n",
    "warnings.filterwarnings('ignore')\n",
    "import pandas as pd\n",
    "import numpy as np"
   ]
  },
  {
   "cell_type": "code",
   "execution_count": 3,
   "metadata": {},
   "outputs": [],
   "source": [
    "from sklearn.linear_model import LinearRegression\n",
    "from sklearn.model_selection import train_test_split\n",
    "from sklearn.metrics import r2_score,mean_absolute_error,mean_squared_error"
   ]
  },
  {
   "cell_type": "code",
   "execution_count": 4,
   "metadata": {},
   "outputs": [],
   "source": [
    "#importing the dataset"
   ]
  },
  {
   "cell_type": "code",
   "execution_count": 5,
   "metadata": {},
   "outputs": [],
   "source": [
    "df1=pd.read_csv('bigmart.csv')"
   ]
  },
  {
   "cell_type": "code",
   "execution_count": 6,
   "metadata": {},
   "outputs": [
    {
     "data": {
      "text/html": [
       "<div>\n",
       "<style scoped>\n",
       "    .dataframe tbody tr th:only-of-type {\n",
       "        vertical-align: middle;\n",
       "    }\n",
       "\n",
       "    .dataframe tbody tr th {\n",
       "        vertical-align: top;\n",
       "    }\n",
       "\n",
       "    .dataframe thead th {\n",
       "        text-align: right;\n",
       "    }\n",
       "</style>\n",
       "<table border=\"1\" class=\"dataframe\">\n",
       "  <thead>\n",
       "    <tr style=\"text-align: right;\">\n",
       "      <th></th>\n",
       "      <th>Item_Identifier</th>\n",
       "      <th>Item_Weight</th>\n",
       "      <th>Item_Fat_Content</th>\n",
       "      <th>Item_Visibility</th>\n",
       "      <th>Item_Type</th>\n",
       "      <th>Item_MRP</th>\n",
       "      <th>Outlet_Identifier</th>\n",
       "      <th>Outlet_Establishment_Year</th>\n",
       "      <th>Outlet_Size</th>\n",
       "      <th>Outlet_Location_Type</th>\n",
       "      <th>Outlet_Type</th>\n",
       "      <th>Item_Outlet_Sales</th>\n",
       "    </tr>\n",
       "  </thead>\n",
       "  <tbody>\n",
       "    <tr>\n",
       "      <th>0</th>\n",
       "      <td>FDA15</td>\n",
       "      <td>9.30</td>\n",
       "      <td>Low Fat</td>\n",
       "      <td>0.016047</td>\n",
       "      <td>Dairy</td>\n",
       "      <td>249.8092</td>\n",
       "      <td>OUT049</td>\n",
       "      <td>1999</td>\n",
       "      <td>Medium</td>\n",
       "      <td>Tier 1</td>\n",
       "      <td>Supermarket Type1</td>\n",
       "      <td>3735.1380</td>\n",
       "    </tr>\n",
       "    <tr>\n",
       "      <th>1</th>\n",
       "      <td>DRC01</td>\n",
       "      <td>5.92</td>\n",
       "      <td>Regular</td>\n",
       "      <td>0.019278</td>\n",
       "      <td>Soft Drinks</td>\n",
       "      <td>48.2692</td>\n",
       "      <td>OUT018</td>\n",
       "      <td>2009</td>\n",
       "      <td>Medium</td>\n",
       "      <td>Tier 3</td>\n",
       "      <td>Supermarket Type2</td>\n",
       "      <td>443.4228</td>\n",
       "    </tr>\n",
       "    <tr>\n",
       "      <th>2</th>\n",
       "      <td>FDN15</td>\n",
       "      <td>17.50</td>\n",
       "      <td>Low Fat</td>\n",
       "      <td>0.016760</td>\n",
       "      <td>Meat</td>\n",
       "      <td>141.6180</td>\n",
       "      <td>OUT049</td>\n",
       "      <td>1999</td>\n",
       "      <td>Medium</td>\n",
       "      <td>Tier 1</td>\n",
       "      <td>Supermarket Type1</td>\n",
       "      <td>2097.2700</td>\n",
       "    </tr>\n",
       "    <tr>\n",
       "      <th>3</th>\n",
       "      <td>FDX07</td>\n",
       "      <td>19.20</td>\n",
       "      <td>Regular</td>\n",
       "      <td>0.000000</td>\n",
       "      <td>Fruits and Vegetables</td>\n",
       "      <td>182.0950</td>\n",
       "      <td>OUT010</td>\n",
       "      <td>1998</td>\n",
       "      <td>NaN</td>\n",
       "      <td>Tier 3</td>\n",
       "      <td>Grocery Store</td>\n",
       "      <td>732.3800</td>\n",
       "    </tr>\n",
       "    <tr>\n",
       "      <th>4</th>\n",
       "      <td>NCD19</td>\n",
       "      <td>8.93</td>\n",
       "      <td>Low Fat</td>\n",
       "      <td>0.000000</td>\n",
       "      <td>Household</td>\n",
       "      <td>53.8614</td>\n",
       "      <td>OUT013</td>\n",
       "      <td>1987</td>\n",
       "      <td>High</td>\n",
       "      <td>Tier 3</td>\n",
       "      <td>Supermarket Type1</td>\n",
       "      <td>994.7052</td>\n",
       "    </tr>\n",
       "  </tbody>\n",
       "</table>\n",
       "</div>"
      ],
      "text/plain": [
       "  Item_Identifier  Item_Weight Item_Fat_Content  Item_Visibility  \\\n",
       "0           FDA15         9.30          Low Fat         0.016047   \n",
       "1           DRC01         5.92          Regular         0.019278   \n",
       "2           FDN15        17.50          Low Fat         0.016760   \n",
       "3           FDX07        19.20          Regular         0.000000   \n",
       "4           NCD19         8.93          Low Fat         0.000000   \n",
       "\n",
       "               Item_Type  Item_MRP Outlet_Identifier  \\\n",
       "0                  Dairy  249.8092            OUT049   \n",
       "1            Soft Drinks   48.2692            OUT018   \n",
       "2                   Meat  141.6180            OUT049   \n",
       "3  Fruits and Vegetables  182.0950            OUT010   \n",
       "4              Household   53.8614            OUT013   \n",
       "\n",
       "   Outlet_Establishment_Year Outlet_Size Outlet_Location_Type  \\\n",
       "0                       1999      Medium               Tier 1   \n",
       "1                       2009      Medium               Tier 3   \n",
       "2                       1999      Medium               Tier 1   \n",
       "3                       1998         NaN               Tier 3   \n",
       "4                       1987        High               Tier 3   \n",
       "\n",
       "         Outlet_Type  Item_Outlet_Sales  \n",
       "0  Supermarket Type1          3735.1380  \n",
       "1  Supermarket Type2           443.4228  \n",
       "2  Supermarket Type1          2097.2700  \n",
       "3      Grocery Store           732.3800  \n",
       "4  Supermarket Type1           994.7052  "
      ]
     },
     "execution_count": 6,
     "metadata": {},
     "output_type": "execute_result"
    }
   ],
   "source": [
    "df1.head()"
   ]
  },
  {
   "cell_type": "code",
   "execution_count": 7,
   "metadata": {},
   "outputs": [],
   "source": [
    "df=df1.copy()  #making a copy of original "
   ]
  },
  {
   "cell_type": "code",
   "execution_count": 8,
   "metadata": {},
   "outputs": [
    {
     "data": {
      "text/html": [
       "<div>\n",
       "<style scoped>\n",
       "    .dataframe tbody tr th:only-of-type {\n",
       "        vertical-align: middle;\n",
       "    }\n",
       "\n",
       "    .dataframe tbody tr th {\n",
       "        vertical-align: top;\n",
       "    }\n",
       "\n",
       "    .dataframe thead th {\n",
       "        text-align: right;\n",
       "    }\n",
       "</style>\n",
       "<table border=\"1\" class=\"dataframe\">\n",
       "  <thead>\n",
       "    <tr style=\"text-align: right;\">\n",
       "      <th></th>\n",
       "      <th>Item_Identifier</th>\n",
       "      <th>Item_Weight</th>\n",
       "      <th>Item_Fat_Content</th>\n",
       "      <th>Item_Visibility</th>\n",
       "      <th>Item_Type</th>\n",
       "      <th>Item_MRP</th>\n",
       "      <th>Outlet_Identifier</th>\n",
       "      <th>Outlet_Establishment_Year</th>\n",
       "      <th>Outlet_Size</th>\n",
       "      <th>Outlet_Location_Type</th>\n",
       "      <th>Outlet_Type</th>\n",
       "      <th>Item_Outlet_Sales</th>\n",
       "    </tr>\n",
       "  </thead>\n",
       "  <tbody>\n",
       "    <tr>\n",
       "      <th>0</th>\n",
       "      <td>FDA15</td>\n",
       "      <td>9.30</td>\n",
       "      <td>Low Fat</td>\n",
       "      <td>0.016047</td>\n",
       "      <td>Dairy</td>\n",
       "      <td>249.8092</td>\n",
       "      <td>OUT049</td>\n",
       "      <td>1999</td>\n",
       "      <td>Medium</td>\n",
       "      <td>Tier 1</td>\n",
       "      <td>Supermarket Type1</td>\n",
       "      <td>3735.1380</td>\n",
       "    </tr>\n",
       "    <tr>\n",
       "      <th>1</th>\n",
       "      <td>DRC01</td>\n",
       "      <td>5.92</td>\n",
       "      <td>Regular</td>\n",
       "      <td>0.019278</td>\n",
       "      <td>Soft Drinks</td>\n",
       "      <td>48.2692</td>\n",
       "      <td>OUT018</td>\n",
       "      <td>2009</td>\n",
       "      <td>Medium</td>\n",
       "      <td>Tier 3</td>\n",
       "      <td>Supermarket Type2</td>\n",
       "      <td>443.4228</td>\n",
       "    </tr>\n",
       "    <tr>\n",
       "      <th>2</th>\n",
       "      <td>FDN15</td>\n",
       "      <td>17.50</td>\n",
       "      <td>Low Fat</td>\n",
       "      <td>0.016760</td>\n",
       "      <td>Meat</td>\n",
       "      <td>141.6180</td>\n",
       "      <td>OUT049</td>\n",
       "      <td>1999</td>\n",
       "      <td>Medium</td>\n",
       "      <td>Tier 1</td>\n",
       "      <td>Supermarket Type1</td>\n",
       "      <td>2097.2700</td>\n",
       "    </tr>\n",
       "    <tr>\n",
       "      <th>3</th>\n",
       "      <td>FDX07</td>\n",
       "      <td>19.20</td>\n",
       "      <td>Regular</td>\n",
       "      <td>0.000000</td>\n",
       "      <td>Fruits and Vegetables</td>\n",
       "      <td>182.0950</td>\n",
       "      <td>OUT010</td>\n",
       "      <td>1998</td>\n",
       "      <td>NaN</td>\n",
       "      <td>Tier 3</td>\n",
       "      <td>Grocery Store</td>\n",
       "      <td>732.3800</td>\n",
       "    </tr>\n",
       "    <tr>\n",
       "      <th>4</th>\n",
       "      <td>NCD19</td>\n",
       "      <td>8.93</td>\n",
       "      <td>Low Fat</td>\n",
       "      <td>0.000000</td>\n",
       "      <td>Household</td>\n",
       "      <td>53.8614</td>\n",
       "      <td>OUT013</td>\n",
       "      <td>1987</td>\n",
       "      <td>High</td>\n",
       "      <td>Tier 3</td>\n",
       "      <td>Supermarket Type1</td>\n",
       "      <td>994.7052</td>\n",
       "    </tr>\n",
       "  </tbody>\n",
       "</table>\n",
       "</div>"
      ],
      "text/plain": [
       "  Item_Identifier  Item_Weight Item_Fat_Content  Item_Visibility  \\\n",
       "0           FDA15         9.30          Low Fat         0.016047   \n",
       "1           DRC01         5.92          Regular         0.019278   \n",
       "2           FDN15        17.50          Low Fat         0.016760   \n",
       "3           FDX07        19.20          Regular         0.000000   \n",
       "4           NCD19         8.93          Low Fat         0.000000   \n",
       "\n",
       "               Item_Type  Item_MRP Outlet_Identifier  \\\n",
       "0                  Dairy  249.8092            OUT049   \n",
       "1            Soft Drinks   48.2692            OUT018   \n",
       "2                   Meat  141.6180            OUT049   \n",
       "3  Fruits and Vegetables  182.0950            OUT010   \n",
       "4              Household   53.8614            OUT013   \n",
       "\n",
       "   Outlet_Establishment_Year Outlet_Size Outlet_Location_Type  \\\n",
       "0                       1999      Medium               Tier 1   \n",
       "1                       2009      Medium               Tier 3   \n",
       "2                       1999      Medium               Tier 1   \n",
       "3                       1998         NaN               Tier 3   \n",
       "4                       1987        High               Tier 3   \n",
       "\n",
       "         Outlet_Type  Item_Outlet_Sales  \n",
       "0  Supermarket Type1          3735.1380  \n",
       "1  Supermarket Type2           443.4228  \n",
       "2  Supermarket Type1          2097.2700  \n",
       "3      Grocery Store           732.3800  \n",
       "4  Supermarket Type1           994.7052  "
      ]
     },
     "execution_count": 8,
     "metadata": {},
     "output_type": "execute_result"
    }
   ],
   "source": [
    "df.head()"
   ]
  },
  {
   "cell_type": "code",
   "execution_count": 9,
   "metadata": {},
   "outputs": [
    {
     "data": {
      "text/plain": [
       "Item_Identifier               object\n",
       "Item_Weight                  float64\n",
       "Item_Fat_Content              object\n",
       "Item_Visibility              float64\n",
       "Item_Type                     object\n",
       "Item_MRP                     float64\n",
       "Outlet_Identifier             object\n",
       "Outlet_Establishment_Year      int64\n",
       "Outlet_Size                   object\n",
       "Outlet_Location_Type          object\n",
       "Outlet_Type                   object\n",
       "Item_Outlet_Sales            float64\n",
       "dtype: object"
      ]
     },
     "execution_count": 9,
     "metadata": {},
     "output_type": "execute_result"
    }
   ],
   "source": [
    "df.dtypes        # checking data types of all the column"
   ]
  },
  {
   "cell_type": "code",
   "execution_count": 10,
   "metadata": {},
   "outputs": [
    {
     "data": {
      "text/plain": [
       "Index(['Item_Identifier', 'Item_Weight', 'Item_Fat_Content', 'Item_Visibility',\n",
       "       'Item_Type', 'Item_MRP', 'Outlet_Identifier',\n",
       "       'Outlet_Establishment_Year', 'Outlet_Size', 'Outlet_Location_Type',\n",
       "       'Outlet_Type', 'Item_Outlet_Sales'],\n",
       "      dtype='object')"
      ]
     },
     "execution_count": 10,
     "metadata": {},
     "output_type": "execute_result"
    }
   ],
   "source": [
    "df.columns"
   ]
  },
  {
   "cell_type": "code",
   "execution_count": 11,
   "metadata": {},
   "outputs": [
    {
     "data": {
      "text/plain": [
       "(1255, 12)"
      ]
     },
     "execution_count": 11,
     "metadata": {},
     "output_type": "execute_result"
    }
   ],
   "source": [
    "df.shape"
   ]
  },
  {
   "cell_type": "code",
   "execution_count": 12,
   "metadata": {},
   "outputs": [
    {
     "name": "stdout",
     "output_type": "stream",
     "text": [
      "<class 'pandas.core.frame.DataFrame'>\n",
      "RangeIndex: 1255 entries, 0 to 1254\n",
      "Data columns (total 12 columns):\n",
      " #   Column                     Non-Null Count  Dtype  \n",
      "---  ------                     --------------  -----  \n",
      " 0   Item_Identifier            1255 non-null   object \n",
      " 1   Item_Weight                1022 non-null   float64\n",
      " 2   Item_Fat_Content           1255 non-null   object \n",
      " 3   Item_Visibility            1255 non-null   float64\n",
      " 4   Item_Type                  1255 non-null   object \n",
      " 5   Item_MRP                   1255 non-null   float64\n",
      " 6   Outlet_Identifier          1255 non-null   object \n",
      " 7   Outlet_Establishment_Year  1255 non-null   int64  \n",
      " 8   Outlet_Size                897 non-null    object \n",
      " 9   Outlet_Location_Type       1255 non-null   object \n",
      " 10  Outlet_Type                1255 non-null   object \n",
      " 11  Item_Outlet_Sales          1255 non-null   float64\n",
      "dtypes: float64(4), int64(1), object(7)\n",
      "memory usage: 117.8+ KB\n"
     ]
    }
   ],
   "source": [
    "df.info()"
   ]
  },
  {
   "cell_type": "code",
   "execution_count": 13,
   "metadata": {},
   "outputs": [],
   "source": [
    "import seaborn as sns\n",
    "from matplotlib import pyplot as plt"
   ]
  },
  {
   "cell_type": "code",
   "execution_count": 14,
   "metadata": {},
   "outputs": [
    {
     "data": {
      "text/plain": [
       "<matplotlib.axes._subplots.AxesSubplot at 0x5d4a3af608>"
      ]
     },
     "execution_count": 14,
     "metadata": {},
     "output_type": "execute_result"
    },
    {
     "data": {
      "image/png": "[encoded data removed]",
      "text/plain": [
       "<Figure size 432x288 with 2 Axes>"
      ]
     },
     "metadata": {
      "needs_background": "light"
     },
     "output_type": "display_data"
    }
   ],
   "source": [
    "sns.heatmap(df.isnull())   #checking if there is any null values present or not"
   ]
  },
  {
   "cell_type": "code",
   "execution_count": 15,
   "metadata": {},
   "outputs": [],
   "source": [
    "#filling the null values in dataset"
   ]
  },
  {
   "cell_type": "code",
   "execution_count": 16,
   "metadata": {},
   "outputs": [
    {
     "data": {
      "text/plain": [
       "Item_Identifier                0\n",
       "Item_Weight                  233\n",
       "Item_Fat_Content               0\n",
       "Item_Visibility                0\n",
       "Item_Type                      0\n",
       "Item_MRP                       0\n",
       "Outlet_Identifier              0\n",
       "Outlet_Establishment_Year      0\n",
       "Outlet_Size                  358\n",
       "Outlet_Location_Type           0\n",
       "Outlet_Type                    0\n",
       "Item_Outlet_Sales              0\n",
       "dtype: int64"
      ]
     },
     "execution_count": 16,
     "metadata": {},
     "output_type": "execute_result"
    }
   ],
   "source": [
    "df.isnull().sum()"
   ]
  },
  {
   "cell_type": "code",
   "execution_count": 17,
   "metadata": {},
   "outputs": [],
   "source": [
    "df[\"Item_Weight\"]=df.fillna(df[\"Item_Weight\"].mean())"
   ]
  },
  {
   "cell_type": "code",
   "execution_count": 18,
   "metadata": {},
   "outputs": [
    {
     "data": {
      "text/plain": [
       "0"
      ]
     },
     "execution_count": 18,
     "metadata": {},
     "output_type": "execute_result"
    }
   ],
   "source": [
    "df[\"Item_Weight\"].isnull().sum()"
   ]
  },
  {
   "cell_type": "code",
   "execution_count": 19,
   "metadata": {
    "scrolled": true
   },
   "outputs": [],
   "source": [
    "df[\"Outlet_Size\"]=df.fillna(df[\"Outlet_Size\"].mode())"
   ]
  },
  {
   "cell_type": "code",
   "execution_count": 20,
   "metadata": {},
   "outputs": [
    {
     "data": {
      "text/plain": [
       "0"
      ]
     },
     "execution_count": 20,
     "metadata": {},
     "output_type": "execute_result"
    }
   ],
   "source": [
    "df[\"Outlet_Size\"].isnull().sum()"
   ]
  },
  {
   "cell_type": "code",
   "execution_count": 21,
   "metadata": {},
   "outputs": [],
   "source": [
    "from sklearn.preprocessing import LabelEncoder"
   ]
  },
  {
   "cell_type": "code",
   "execution_count": 22,
   "metadata": {},
   "outputs": [],
   "source": [
    "le=LabelEncoder()    #changing object dtype to int dtype"
   ]
  },
  {
   "cell_type": "code",
   "execution_count": 23,
   "metadata": {},
   "outputs": [],
   "source": [
    "df[\"Outlet_Size\"]=le.fit_transform(df[\"Outlet_Size\"])"
   ]
  },
  {
   "cell_type": "code",
   "execution_count": 24,
   "metadata": {},
   "outputs": [
    {
     "data": {
      "text/plain": [
       "0       100\n",
       "1         4\n",
       "2       386\n",
       "3       638\n",
       "4       745\n",
       "       ... \n",
       "1250    298\n",
       "1251    765\n",
       "1252     19\n",
       "1253      6\n",
       "1254    254\n",
       "Name: Outlet_Size, Length: 1255, dtype: int32"
      ]
     },
     "execution_count": 24,
     "metadata": {},
     "output_type": "execute_result"
    }
   ],
   "source": [
    "df[\"Outlet_Size\"]"
   ]
  },
  {
   "cell_type": "code",
   "execution_count": 25,
   "metadata": {},
   "outputs": [
    {
     "data": {
      "text/html": [
       "<div>\n",
       "<style scoped>\n",
       "    .dataframe tbody tr th:only-of-type {\n",
       "        vertical-align: middle;\n",
       "    }\n",
       "\n",
       "    .dataframe tbody tr th {\n",
       "        vertical-align: top;\n",
       "    }\n",
       "\n",
       "    .dataframe thead th {\n",
       "        text-align: right;\n",
       "    }\n",
       "</style>\n",
       "<table border=\"1\" class=\"dataframe\">\n",
       "  <thead>\n",
       "    <tr style=\"text-align: right;\">\n",
       "      <th></th>\n",
       "      <th>Item_Identifier</th>\n",
       "      <th>Item_Weight</th>\n",
       "      <th>Item_Fat_Content</th>\n",
       "      <th>Item_Visibility</th>\n",
       "      <th>Item_Type</th>\n",
       "      <th>Item_MRP</th>\n",
       "      <th>Outlet_Identifier</th>\n",
       "      <th>Outlet_Establishment_Year</th>\n",
       "      <th>Outlet_Size</th>\n",
       "      <th>Outlet_Location_Type</th>\n",
       "      <th>Outlet_Type</th>\n",
       "      <th>Item_Outlet_Sales</th>\n",
       "    </tr>\n",
       "  </thead>\n",
       "  <tbody>\n",
       "    <tr>\n",
       "      <th>0</th>\n",
       "      <td>FDA15</td>\n",
       "      <td>FDA15</td>\n",
       "      <td>Low Fat</td>\n",
       "      <td>0.016047</td>\n",
       "      <td>Dairy</td>\n",
       "      <td>249.8092</td>\n",
       "      <td>OUT049</td>\n",
       "      <td>1999</td>\n",
       "      <td>100</td>\n",
       "      <td>Tier 1</td>\n",
       "      <td>Supermarket Type1</td>\n",
       "      <td>3735.1380</td>\n",
       "    </tr>\n",
       "    <tr>\n",
       "      <th>1</th>\n",
       "      <td>DRC01</td>\n",
       "      <td>DRC01</td>\n",
       "      <td>Regular</td>\n",
       "      <td>0.019278</td>\n",
       "      <td>Soft Drinks</td>\n",
       "      <td>48.2692</td>\n",
       "      <td>OUT018</td>\n",
       "      <td>2009</td>\n",
       "      <td>4</td>\n",
       "      <td>Tier 3</td>\n",
       "      <td>Supermarket Type2</td>\n",
       "      <td>443.4228</td>\n",
       "    </tr>\n",
       "    <tr>\n",
       "      <th>2</th>\n",
       "      <td>FDN15</td>\n",
       "      <td>FDN15</td>\n",
       "      <td>Low Fat</td>\n",
       "      <td>0.016760</td>\n",
       "      <td>Meat</td>\n",
       "      <td>141.6180</td>\n",
       "      <td>OUT049</td>\n",
       "      <td>1999</td>\n",
       "      <td>386</td>\n",
       "      <td>Tier 1</td>\n",
       "      <td>Supermarket Type1</td>\n",
       "      <td>2097.2700</td>\n",
       "    </tr>\n",
       "    <tr>\n",
       "      <th>3</th>\n",
       "      <td>FDX07</td>\n",
       "      <td>FDX07</td>\n",
       "      <td>Regular</td>\n",
       "      <td>0.000000</td>\n",
       "      <td>Fruits and Vegetables</td>\n",
       "      <td>182.0950</td>\n",
       "      <td>OUT010</td>\n",
       "      <td>1998</td>\n",
       "      <td>638</td>\n",
       "      <td>Tier 3</td>\n",
       "      <td>Grocery Store</td>\n",
       "      <td>732.3800</td>\n",
       "    </tr>\n",
       "    <tr>\n",
       "      <th>4</th>\n",
       "      <td>NCD19</td>\n",
       "      <td>NCD19</td>\n",
       "      <td>Low Fat</td>\n",
       "      <td>0.000000</td>\n",
       "      <td>Household</td>\n",
       "      <td>53.8614</td>\n",
       "      <td>OUT013</td>\n",
       "      <td>1987</td>\n",
       "      <td>745</td>\n",
       "      <td>Tier 3</td>\n",
       "      <td>Supermarket Type1</td>\n",
       "      <td>994.7052</td>\n",
       "    </tr>\n",
       "  </tbody>\n",
       "</table>\n",
       "</div>"
      ],
      "text/plain": [
       "  Item_Identifier Item_Weight Item_Fat_Content  Item_Visibility  \\\n",
       "0           FDA15       FDA15          Low Fat         0.016047   \n",
       "1           DRC01       DRC01          Regular         0.019278   \n",
       "2           FDN15       FDN15          Low Fat         0.016760   \n",
       "3           FDX07       FDX07          Regular         0.000000   \n",
       "4           NCD19       NCD19          Low Fat         0.000000   \n",
       "\n",
       "               Item_Type  Item_MRP Outlet_Identifier  \\\n",
       "0                  Dairy  249.8092            OUT049   \n",
       "1            Soft Drinks   48.2692            OUT018   \n",
       "2                   Meat  141.6180            OUT049   \n",
       "3  Fruits and Vegetables  182.0950            OUT010   \n",
       "4              Household   53.8614            OUT013   \n",
       "\n",
       "   Outlet_Establishment_Year  Outlet_Size Outlet_Location_Type  \\\n",
       "0                       1999          100               Tier 1   \n",
       "1                       2009            4               Tier 3   \n",
       "2                       1999          386               Tier 1   \n",
       "3                       1998          638               Tier 3   \n",
       "4                       1987          745               Tier 3   \n",
       "\n",
       "         Outlet_Type  Item_Outlet_Sales  \n",
       "0  Supermarket Type1          3735.1380  \n",
       "1  Supermarket Type2           443.4228  \n",
       "2  Supermarket Type1          2097.2700  \n",
       "3      Grocery Store           732.3800  \n",
       "4  Supermarket Type1           994.7052  "
      ]
     },
     "execution_count": 25,
     "metadata": {},
     "output_type": "execute_result"
    }
   ],
   "source": [
    "df.head()"
   ]
  },
  {
   "cell_type": "code",
   "execution_count": 26,
   "metadata": {},
   "outputs": [],
   "source": [
    "df.drop(\"Item_Identifier\",axis=1,inplace=True) #dropping the irrelevant columns"
   ]
  },
  {
   "cell_type": "code",
   "execution_count": 27,
   "metadata": {},
   "outputs": [
    {
     "data": {
      "text/plain": [
       "Index(['Item_Weight', 'Item_Fat_Content', 'Item_Visibility', 'Item_Type',\n",
       "       'Item_MRP', 'Outlet_Identifier', 'Outlet_Establishment_Year',\n",
       "       'Outlet_Size', 'Outlet_Location_Type', 'Outlet_Type',\n",
       "       'Item_Outlet_Sales'],\n",
       "      dtype='object')"
      ]
     },
     "execution_count": 27,
     "metadata": {},
     "output_type": "execute_result"
    }
   ],
   "source": [
    "df.columns"
   ]
  },
  {
   "cell_type": "code",
   "execution_count": 28,
   "metadata": {},
   "outputs": [],
   "source": [
    "col=[\"Item_Weight\",\"Item_Fat_Content\",\"Item_Type\",\"Outlet_Identifier\",\"Outlet_Location_Type\",\"Outlet_Type\"]"
   ]
  },
  {
   "cell_type": "code",
   "execution_count": 29,
   "metadata": {},
   "outputs": [],
   "source": [
    "for i in col:\n",
    "    df[i]=le.fit_transform(df[i])"
   ]
  },
  {
   "cell_type": "code",
   "execution_count": 30,
   "metadata": {},
   "outputs": [
    {
     "data": {
      "text/html": [
       "<div>\n",
       "<style scoped>\n",
       "    .dataframe tbody tr th:only-of-type {\n",
       "        vertical-align: middle;\n",
       "    }\n",
       "\n",
       "    .dataframe tbody tr th {\n",
       "        vertical-align: top;\n",
       "    }\n",
       "\n",
       "    .dataframe thead th {\n",
       "        text-align: right;\n",
       "    }\n",
       "</style>\n",
       "<table border=\"1\" class=\"dataframe\">\n",
       "  <thead>\n",
       "    <tr style=\"text-align: right;\">\n",
       "      <th></th>\n",
       "      <th>Item_Weight</th>\n",
       "      <th>Item_Fat_Content</th>\n",
       "      <th>Item_Visibility</th>\n",
       "      <th>Item_Type</th>\n",
       "      <th>Item_MRP</th>\n",
       "      <th>Outlet_Identifier</th>\n",
       "      <th>Outlet_Establishment_Year</th>\n",
       "      <th>Outlet_Size</th>\n",
       "      <th>Outlet_Location_Type</th>\n",
       "      <th>Outlet_Type</th>\n",
       "      <th>Item_Outlet_Sales</th>\n",
       "    </tr>\n",
       "  </thead>\n",
       "  <tbody>\n",
       "    <tr>\n",
       "      <th>0</th>\n",
       "      <td>100</td>\n",
       "      <td>1</td>\n",
       "      <td>0.016047</td>\n",
       "      <td>4</td>\n",
       "      <td>249.8092</td>\n",
       "      <td>9</td>\n",
       "      <td>1999</td>\n",
       "      <td>100</td>\n",
       "      <td>0</td>\n",
       "      <td>1</td>\n",
       "      <td>3735.1380</td>\n",
       "    </tr>\n",
       "    <tr>\n",
       "      <th>1</th>\n",
       "      <td>4</td>\n",
       "      <td>2</td>\n",
       "      <td>0.019278</td>\n",
       "      <td>14</td>\n",
       "      <td>48.2692</td>\n",
       "      <td>3</td>\n",
       "      <td>2009</td>\n",
       "      <td>4</td>\n",
       "      <td>2</td>\n",
       "      <td>2</td>\n",
       "      <td>443.4228</td>\n",
       "    </tr>\n",
       "    <tr>\n",
       "      <th>2</th>\n",
       "      <td>386</td>\n",
       "      <td>1</td>\n",
       "      <td>0.016760</td>\n",
       "      <td>10</td>\n",
       "      <td>141.6180</td>\n",
       "      <td>9</td>\n",
       "      <td>1999</td>\n",
       "      <td>386</td>\n",
       "      <td>0</td>\n",
       "      <td>1</td>\n",
       "      <td>2097.2700</td>\n",
       "    </tr>\n",
       "    <tr>\n",
       "      <th>3</th>\n",
       "      <td>638</td>\n",
       "      <td>2</td>\n",
       "      <td>0.000000</td>\n",
       "      <td>6</td>\n",
       "      <td>182.0950</td>\n",
       "      <td>0</td>\n",
       "      <td>1998</td>\n",
       "      <td>638</td>\n",
       "      <td>2</td>\n",
       "      <td>0</td>\n",
       "      <td>732.3800</td>\n",
       "    </tr>\n",
       "    <tr>\n",
       "      <th>4</th>\n",
       "      <td>745</td>\n",
       "      <td>1</td>\n",
       "      <td>0.000000</td>\n",
       "      <td>9</td>\n",
       "      <td>53.8614</td>\n",
       "      <td>1</td>\n",
       "      <td>1987</td>\n",
       "      <td>745</td>\n",
       "      <td>2</td>\n",
       "      <td>1</td>\n",
       "      <td>994.7052</td>\n",
       "    </tr>\n",
       "  </tbody>\n",
       "</table>\n",
       "</div>"
      ],
      "text/plain": [
       "   Item_Weight  Item_Fat_Content  Item_Visibility  Item_Type  Item_MRP  \\\n",
       "0          100                 1         0.016047          4  249.8092   \n",
       "1            4                 2         0.019278         14   48.2692   \n",
       "2          386                 1         0.016760         10  141.6180   \n",
       "3          638                 2         0.000000          6  182.0950   \n",
       "4          745                 1         0.000000          9   53.8614   \n",
       "\n",
       "   Outlet_Identifier  Outlet_Establishment_Year  Outlet_Size  \\\n",
       "0                  9                       1999          100   \n",
       "1                  3                       2009            4   \n",
       "2                  9                       1999          386   \n",
       "3                  0                       1998          638   \n",
       "4                  1                       1987          745   \n",
       "\n",
       "   Outlet_Location_Type  Outlet_Type  Item_Outlet_Sales  \n",
       "0                     0            1          3735.1380  \n",
       "1                     2            2           443.4228  \n",
       "2                     0            1          2097.2700  \n",
       "3                     2            0           732.3800  \n",
       "4                     2            1           994.7052  "
      ]
     },
     "execution_count": 30,
     "metadata": {},
     "output_type": "execute_result"
    }
   ],
   "source": [
    "df.head()"
   ]
  },
  {
   "cell_type": "code",
   "execution_count": 31,
   "metadata": {},
   "outputs": [],
   "source": [
    "# checking the datatypes of each column after changing dtype through label encoder"
   ]
  },
  {
   "cell_type": "code",
   "execution_count": 32,
   "metadata": {},
   "outputs": [
    {
     "data": {
      "text/plain": [
       "Item_Weight                    int32\n",
       "Item_Fat_Content               int32\n",
       "Item_Visibility              float64\n",
       "Item_Type                      int32\n",
       "Item_MRP                     float64\n",
       "Outlet_Identifier              int32\n",
       "Outlet_Establishment_Year      int64\n",
       "Outlet_Size                    int32\n",
       "Outlet_Location_Type           int32\n",
       "Outlet_Type                    int32\n",
       "Item_Outlet_Sales            float64\n",
       "dtype: object"
      ]
     },
     "execution_count": 32,
     "metadata": {},
     "output_type": "execute_result"
    }
   ],
   "source": [
    "df.dtypes"
   ]
  },
  {
   "cell_type": "code",
   "execution_count": 33,
   "metadata": {},
   "outputs": [
    {
     "data": {
      "text/plain": [
       "0       249\n",
       "1        48\n",
       "2       141\n",
       "3       182\n",
       "4        53\n",
       "       ... \n",
       "1250    193\n",
       "1251    246\n",
       "1252    189\n",
       "1253    124\n",
       "1254    260\n",
       "Name: Item_MRP, Length: 1255, dtype: int32"
      ]
     },
     "execution_count": 33,
     "metadata": {},
     "output_type": "execute_result"
    }
   ],
   "source": [
    "df[\"Item_MRP\"].astype(int)"
   ]
  },
  {
   "cell_type": "code",
   "execution_count": 34,
   "metadata": {},
   "outputs": [],
   "source": [
    "#visulaizing the data"
   ]
  },
  {
   "cell_type": "code",
   "execution_count": 35,
   "metadata": {},
   "outputs": [
    {
     "data": {
      "text/plain": [
       "<matplotlib.axes._subplots.AxesSubplot at 0x5d49f00b08>"
      ]
     },
     "execution_count": 35,
     "metadata": {},
     "output_type": "execute_result"
    },
    {
     "data": {
      "image/png": "[encoded data removed]",
      "text/plain": [
       "<Figure size 720x1080 with 2 Axes>"
      ]
     },
     "metadata": {
      "needs_background": "light"
     },
     "output_type": "display_data"
    }
   ],
   "source": [
    "plt.figure(figsize=(10,15))\n",
    "sns.heatmap(df.corr(),annot=True)"
   ]
  },
  {
   "cell_type": "code",
   "execution_count": 36,
   "metadata": {},
   "outputs": [
    {
     "data": {
      "text/plain": [
       "Text(0, 0.5, 'fat content')"
      ]
     },
     "execution_count": 36,
     "metadata": {},
     "output_type": "execute_result"
    },
    {
     "data": {
      "image/png": "[encoded data removed]",
      "text/plain": [
       "<Figure size 432x288 with 1 Axes>"
      ]
     },
     "metadata": {
      "needs_background": "light"
     },
     "output_type": "display_data"
    }
   ],
   "source": [
    "plt.bar(df[\"Item_Type\"],df[\"Item_Fat_Content\"])\n",
    "plt.xlabel(\"item type\")\n",
    "plt.ylabel(\"fat content\")"
   ]
  },
  {
   "cell_type": "code",
   "execution_count": 37,
   "metadata": {
    "scrolled": true
   },
   "outputs": [
    {
     "data": {
      "text/plain": [
       "<matplotlib.axes._subplots.AxesSubplot at 0x5d4cb3a948>"
      ]
     },
     "execution_count": 37,
     "metadata": {},
     "output_type": "execute_result"
    },
    {
     "data": {
      "image/png": "[encoded data removed]",
      "text/plain": [
       "<Figure size 432x288 with 1 Axes>"
      ]
     },
     "metadata": {
      "needs_background": "light"
     },
     "output_type": "display_data"
    }
   ],
   "source": [
    "sns.countplot(df[\"Outlet_Type\"])"
   ]
  },
  {
   "cell_type": "code",
   "execution_count": 38,
   "metadata": {},
   "outputs": [
    {
     "data": {
      "text/plain": [
       "<matplotlib.axes._subplots.AxesSubplot at 0x5d4cc15288>"
      ]
     },
     "execution_count": 38,
     "metadata": {},
     "output_type": "execute_result"
    },
    {
     "data": {
      "image/png": "[encoded data removed]",
      "text/plain": [
       "<Figure size 432x288 with 1 Axes>"
      ]
     },
     "metadata": {
      "needs_background": "light"
     },
     "output_type": "display_data"
    }
   ],
   "source": [
    "sns.countplot(df[\"Outlet_Location_Type\"])"
   ]
  },
  {
   "cell_type": "code",
   "execution_count": 39,
   "metadata": {},
   "outputs": [
    {
     "data": {
      "text/plain": [
       "<matplotlib.axes._subplots.AxesSubplot at 0x5d4cd4d4c8>"
      ]
     },
     "execution_count": 39,
     "metadata": {},
     "output_type": "execute_result"
    },
    {
     "data": {
      "image/png": "[encoded data removed]",
      "text/plain": [
       "<Figure size 432x288 with 1 Axes>"
      ]
     },
     "metadata": {
      "needs_background": "light"
     },
     "output_type": "display_data"
    }
   ],
   "source": [
    "sns.lineplot(df[\"Item_MRP\"],df[\"Item_Type\"])"
   ]
  },
  {
   "cell_type": "code",
   "execution_count": 40,
   "metadata": {},
   "outputs": [
    {
     "data": {
      "text/plain": [
       "<BarContainer object of 1255 artists>"
      ]
     },
     "execution_count": 40,
     "metadata": {},
     "output_type": "execute_result"
    },
    {
     "data": {
      "image/png": "[encoded data removed]",
      "text/plain": [
       "<Figure size 432x288 with 1 Axes>"
      ]
     },
     "metadata": {
      "needs_background": "light"
     },
     "output_type": "display_data"
    }
   ],
   "source": [
    "plt.bar(df[\"Outlet_Establishment_Year\"],df[\"Outlet_Size\"])"
   ]
  },
  {
   "cell_type": "code",
   "execution_count": 41,
   "metadata": {},
   "outputs": [
    {
     "data": {
      "text/plain": [
       "<matplotlib.axes._subplots.AxesSubplot at 0x5d4efd38c8>"
      ]
     },
     "execution_count": 41,
     "metadata": {},
     "output_type": "execute_result"
    },
    {
     "data": {
      "image/png": "[encoded data removed]",
      "text/plain": [
       "<Figure size 432x288 with 1 Axes>"
      ]
     },
     "metadata": {
      "needs_background": "light"
     },
     "output_type": "display_data"
    }
   ],
   "source": [
    "sns.stripplot(df[\"Item_Fat_Content\"],df[\"Item_Outlet_Sales\"])"
   ]
  },
  {
   "cell_type": "code",
   "execution_count": 42,
   "metadata": {},
   "outputs": [
    {
     "data": {
      "text/plain": [
       "<matplotlib.axes._subplots.AxesSubplot at 0x5d4f0d3ec8>"
      ]
     },
     "execution_count": 42,
     "metadata": {},
     "output_type": "execute_result"
    },
    {
     "data": {
      "image/png": "[encoded data removed]",
      "text/plain": [
       "<Figure size 432x288 with 1 Axes>"
      ]
     },
     "metadata": {
      "needs_background": "light"
     },
     "output_type": "display_data"
    }
   ],
   "source": [
    "sns.swarmplot(df[\"Item_Fat_Content\"],df[\"Item_Outlet_Sales\"])"
   ]
  },
  {
   "cell_type": "code",
   "execution_count": 43,
   "metadata": {},
   "outputs": [
    {
     "data": {
      "image/png": "[encoded data removed]",
      "text/plain": [
       "<Figure size 432x288 with 1 Axes>"
      ]
     },
     "metadata": {
      "needs_background": "light"
     },
     "output_type": "display_data"
    },
    {
     "data": {
      "image/png": "[encoded data removed]",
      "text/plain": [
       "<Figure size 432x288 with 1 Axes>"
      ]
     },
     "metadata": {
      "needs_background": "light"
     },
     "output_type": "display_data"
    },
    {
     "data": {
      "image/png": "[encoded data removed]",
      "text/plain": [
       "<Figure size 432x288 with 1 Axes>"
      ]
     },
     "metadata": {
      "needs_background": "light"
     },
     "output_type": "display_data"
    },
    {
     "data": {
      "image/png": "[encoded data removed]",
      "text/plain": [
       "<Figure size 432x288 with 1 Axes>"
      ]
     },
     "metadata": {
      "needs_background": "light"
     },
     "output_type": "display_data"
    },
    {
     "data": {
      "image/png": "[encoded data removed]",
      "text/plain": [
       "<Figure size 432x288 with 1 Axes>"
      ]
     },
     "metadata": {
      "needs_background": "light"
     },
     "output_type": "display_data"
    },
    {
     "data": {
      "image/png": "[encoded data removed]",
      "text/plain": [
       "<Figure size 432x288 with 1 Axes>"
      ]
     },
     "metadata": {
      "needs_background": "light"
     },
     "output_type": "display_data"
    },
    {
     "data": {
      "image/png": "[encoded data removed]",
      "text/plain": [
       "<Figure size 432x288 with 1 Axes>"
      ]
     },
     "metadata": {
      "needs_background": "light"
     },
     "output_type": "display_data"
    },
    {
     "data": {
      "image/png": "[encoded data removed]",
      "text/plain": [
       "<Figure size 432x288 with 1 Axes>"
      ]
     },
     "metadata": {
      "needs_background": "light"
     },
     "output_type": "display_data"
    },
    {
     "data": {
      "image/png": "[encoded data removed]",
      "text/plain": [
       "<Figure size 432x288 with 1 Axes>"
      ]
     },
     "metadata": {
      "needs_background": "light"
     },
     "output_type": "display_data"
    },
    {
     "data": {
      "image/png": "[encoded data removed]",
      "text/plain": [
       "<Figure size 432x288 with 1 Axes>"
      ]
     },
     "metadata": {
      "needs_background": "light"
     },
     "output_type": "display_data"
    },
    {
     "data": {
      "image/png": "[encoded data removed]",
      "text/plain": [
       "<Figure size 432x288 with 1 Axes>"
      ]
     },
     "metadata": {
      "needs_background": "light"
     },
     "output_type": "display_data"
    }
   ],
   "source": [
    "for i in df.columns:\n",
    "    plt.figure()\n",
    "    plt.hist(df[i])"
   ]
  },
  {
   "cell_type": "code",
   "execution_count": 44,
   "metadata": {},
   "outputs": [],
   "source": [
    "x=df.drop(\"Item_Outlet_Sales\",axis=1)"
   ]
  },
  {
   "cell_type": "code",
   "execution_count": 45,
   "metadata": {},
   "outputs": [],
   "source": [
    "y=df[\"Item_Outlet_Sales\"].values"
   ]
  },
  {
   "cell_type": "code",
   "execution_count": 46,
   "metadata": {},
   "outputs": [],
   "source": [
    "y=y.reshape(-1,1)"
   ]
  },
  {
   "cell_type": "code",
   "execution_count": 47,
   "metadata": {},
   "outputs": [
    {
     "data": {
      "text/plain": [
       "(1255, 1)"
      ]
     },
     "execution_count": 47,
     "metadata": {},
     "output_type": "execute_result"
    }
   ],
   "source": [
    "y.shape"
   ]
  },
  {
   "cell_type": "code",
   "execution_count": 48,
   "metadata": {},
   "outputs": [
    {
     "data": {
      "text/plain": [
       "(1255, 10)"
      ]
     },
     "execution_count": 48,
     "metadata": {},
     "output_type": "execute_result"
    }
   ],
   "source": [
    "x.shape"
   ]
  },
  {
   "cell_type": "code",
   "execution_count": 49,
   "metadata": {},
   "outputs": [],
   "source": [
    "#removing outliers from dataset\n",
    "from scipy.stats import zscore"
   ]
  },
  {
   "cell_type": "code",
   "execution_count": 50,
   "metadata": {},
   "outputs": [],
   "source": [
    "z=np.abs(zscore(x))"
   ]
  },
  {
   "cell_type": "code",
   "execution_count": 51,
   "metadata": {},
   "outputs": [
    {
     "name": "stdout",
     "output_type": "stream",
     "text": [
      "(array([  49,   81,   83,  108,  151,  174,  199,  339,  396,  434,  489,\n",
      "        502,  521,  532,  615,  727,  753,  838,  854,  891, 1010, 1034,\n",
      "       1090, 1124, 1133, 1159, 1183, 1209], dtype=int64), array([2, 1, 2, 2, 1, 2, 1, 1, 1, 2, 1, 2, 2, 2, 1, 1, 1, 1, 2, 1, 1, 1,\n",
      "       1, 1, 1, 2, 1, 1], dtype=int64))\n"
     ]
    }
   ],
   "source": [
    "print(np.where(z>3))"
   ]
  },
  {
   "cell_type": "code",
   "execution_count": 52,
   "metadata": {},
   "outputs": [],
   "source": [
    "x_new=x[(z<3).all(axis=1)]"
   ]
  },
  {
   "cell_type": "code",
   "execution_count": 53,
   "metadata": {},
   "outputs": [
    {
     "data": {
      "text/plain": [
       "(1255, 10)"
      ]
     },
     "execution_count": 53,
     "metadata": {},
     "output_type": "execute_result"
    }
   ],
   "source": [
    "x.shape"
   ]
  },
  {
   "cell_type": "code",
   "execution_count": 54,
   "metadata": {},
   "outputs": [
    {
     "data": {
      "text/plain": [
       "(1227, 10)"
      ]
     },
     "execution_count": 54,
     "metadata": {},
     "output_type": "execute_result"
    }
   ],
   "source": [
    "x_new.shape"
   ]
  },
  {
   "cell_type": "code",
   "execution_count": 55,
   "metadata": {},
   "outputs": [],
   "source": [
    "#splitting data in x_train and y_train and predicting the result using linear reg algo"
   ]
  },
  {
   "cell_type": "code",
   "execution_count": 85,
   "metadata": {},
   "outputs": [
    {
     "name": "stdout",
     "output_type": "stream",
     "text": [
      "r2 score for corrosponding random state  42 is:  0.09407182129154246\n",
      "r2 score for corrosponding random state  43 is:  -0.06784752192573351\n",
      "r2 score for corrosponding random state  44 is:  -0.054981250894814426\n",
      "r2 score for corrosponding random state  45 is:  0.05326564471488626\n",
      "r2 score for corrosponding random state  46 is:  0.09853765779283818\n",
      "r2 score for corrosponding random state  47 is:  0.05187826455826283\n",
      "r2 score for corrosponding random state  48 is:  -0.09003072712143112\n",
      "r2 score for corrosponding random state  49 is:  0.13482610402742146\n",
      "r2 score for corrosponding random state  50 is:  -0.08412717045453322\n",
      "r2 score for corrosponding random state  51 is:  0.08154767950315034\n",
      "r2 score for corrosponding random state  52 is:  0.16708439245965734\n",
      "r2 score for corrosponding random state  53 is:  0.049158918523867556\n",
      "r2 score for corrosponding random state  54 is:  -0.02502202820589705\n",
      "r2 score for corrosponding random state  55 is:  0.007014042595169356\n",
      "r2 score for corrosponding random state  56 is:  0.09884160670064923\n",
      "r2 score for corrosponding random state  57 is:  0.16525024140187194\n",
      "r2 score for corrosponding random state  58 is:  0.0699186340142709\n",
      "r2 score for corrosponding random state  59 is:  0.015248820430337373\n",
      "r2 score for corrosponding random state  60 is:  -0.09160167758218973\n",
      "r2 score for corrosponding random state  61 is:  0.15971286967134524\n",
      "r2 score for corrosponding random state  62 is:  0.06869871604659361\n",
      "r2 score for corrosponding random state  63 is:  0.18445606895666677\n",
      "r2 score for corrosponding random state  64 is:  0.04421171311370942\n",
      "r2 score for corrosponding random state  65 is:  0.09798734348231286\n",
      "r2 score for corrosponding random state  66 is:  0.17075386840692952\n",
      "r2 score for corrosponding random state  67 is:  0.08644524198380732\n",
      "r2 score for corrosponding random state  68 is:  0.10812405224456845\n",
      "r2 score for corrosponding random state  69 is:  0.09239702770852276\n",
      "r2 score for corrosponding random state  70 is:  0.06297069431780544\n",
      "r2 score for corrosponding random state  71 is:  -0.036810131957244474\n",
      "r2 score for corrosponding random state  72 is:  -0.024161370844381524\n",
      "r2 score for corrosponding random state  73 is:  0.01947365665403522\n",
      "r2 score for corrosponding random state  74 is:  0.19007610249220452\n",
      "r2 score for corrosponding random state  75 is:  0.29824048668445247\n",
      "r2 score for corrosponding random state  76 is:  0.13516222617653662\n",
      "r2 score for corrosponding random state  77 is:  0.12362265616717305\n",
      "r2 score for corrosponding random state  78 is:  0.12039505563788888\n",
      "r2 score for corrosponding random state  79 is:  0.1312339370714075\n",
      "r2 score for corrosponding random state  80 is:  0.17649902056258693\n",
      "r2 score for corrosponding random state  81 is:  0.1715202258894527\n",
      "r2 score for corrosponding random state  82 is:  -0.031209019602992827\n",
      "r2 score for corrosponding random state  83 is:  0.15256624829493914\n",
      "r2 score for corrosponding random state  84 is:  0.21854374034423818\n",
      "r2 score for corrosponding random state  85 is:  -0.06709283991605264\n",
      "r2 score for corrosponding random state  86 is:  0.17921242859752007\n",
      "r2 score for corrosponding random state  87 is:  -0.03688820995726183\n",
      "r2 score for corrosponding random state  88 is:  0.1344926242929756\n",
      "r2 score for corrosponding random state  89 is:  0.06785695030283212\n",
      "r2 score for corrosponding random state  90 is:  -0.014448999421875719\n",
      "r2 score for corrosponding random state  91 is:  0.12771988472203266\n",
      "r2 score for corrosponding random state  92 is:  0.0923852525232477\n",
      "r2 score for corrosponding random state  93 is:  0.10524880259142977\n",
      "r2 score for corrosponding random state  94 is:  -0.11856967547508557\n",
      "r2 score for corrosponding random state  95 is:  0.04190213290625078\n",
      "r2 score for corrosponding random state  96 is:  0.16930269067610837\n",
      "r2 score for corrosponding random state  97 is:  0.21344464335439173\n",
      "r2 score for corrosponding random state  98 is:  0.036926707753908716\n",
      "r2 score for corrosponding random state  99 is:  0.11821505088446349\n",
      "\n",
      "max r2 score corrosponding to the final r state 75 is:  0.29824048668445247\n"
     ]
    }
   ],
   "source": [
    "max_r_score=0\n",
    "for r_state in range(42,100):\n",
    "    x_train,x_test,y_train,y_test=train_test_split(x,y,random_state=r_state,test_size=0.33)\n",
    "    lr=LinearRegression()\n",
    "    lr.fit(x_train,y_train)\n",
    "    pred=lr.predict(x_test)\n",
    "    r2_scr=r2_score(pred,y_test)\n",
    "    print(\"r2 score for corrosponding random state \",r_state,\"is: \",r2_scr)\n",
    "    if r2_scr>max_r_score:\n",
    "        max_r_score=r2_scr\n",
    "        final_r_state=r_state\n",
    "        \n",
    "print()\n",
    "print(\"max r2 score corrosponding to the final r state\",final_r_state,\"is: \",max_r_score)"
   ]
  },
  {
   "cell_type": "code",
   "execution_count": 57,
   "metadata": {},
   "outputs": [],
   "source": [
    "#finalising the model"
   ]
  },
  {
   "cell_type": "code",
   "execution_count": 58,
   "metadata": {},
   "outputs": [],
   "source": [
    "x_train,x_test,y_train,y_test=train_test_split(x,y,random_state=75,test_size=0.33)"
   ]
  },
  {
   "cell_type": "code",
   "execution_count": 59,
   "metadata": {},
   "outputs": [],
   "source": [
    "lr=LinearRegression()\n"
   ]
  },
  {
   "cell_type": "code",
   "execution_count": 60,
   "metadata": {},
   "outputs": [
    {
     "data": {
      "text/plain": [
       "LinearRegression(copy_X=True, fit_intercept=True, n_jobs=None, normalize=False)"
      ]
     },
     "execution_count": 60,
     "metadata": {},
     "output_type": "execute_result"
    }
   ],
   "source": [
    "lr.fit(x_train,y_train)"
   ]
  },
  {
   "cell_type": "code",
   "execution_count": 61,
   "metadata": {
    "scrolled": true
   },
   "outputs": [
    {
     "data": {
      "text/plain": [
       "array([[ 6.90246357e-02,  5.53180386e+01, -7.48804437e+02,\n",
       "         1.92623565e+01,  1.69038697e+01,  6.97101707e+01,\n",
       "        -5.12164939e+00,  6.90246357e-02, -5.61004710e+01,\n",
       "         9.08325154e+02]])"
      ]
     },
     "execution_count": 61,
     "metadata": {},
     "output_type": "execute_result"
    }
   ],
   "source": [
    "lr.coef_"
   ]
  },
  {
   "cell_type": "code",
   "execution_count": 91,
   "metadata": {},
   "outputs": [
    {
     "data": {
      "text/plain": [
       "0.0690246357"
      ]
     },
     "execution_count": 91,
     "metadata": {},
     "output_type": "execute_result"
    }
   ],
   "source": [
    "float(6.90246357e-02)"
   ]
  },
  {
   "cell_type": "code",
   "execution_count": 62,
   "metadata": {},
   "outputs": [
    {
     "data": {
      "text/plain": [
       "array([8494.67237122])"
      ]
     },
     "execution_count": 62,
     "metadata": {},
     "output_type": "execute_result"
    }
   ],
   "source": [
    "lr.intercept_"
   ]
  },
  {
   "cell_type": "code",
   "execution_count": 63,
   "metadata": {},
   "outputs": [],
   "source": [
    "predlr=lr.predict(x_test)"
   ]
  },
  {
   "cell_type": "code",
   "execution_count": 64,
   "metadata": {},
   "outputs": [
    {
     "name": "stdout",
     "output_type": "stream",
     "text": [
      "[[ 3.65324408e+03]\n",
      " [ 2.08809453e+03]\n",
      " [ 4.38675672e+03]\n",
      " [ 4.83723566e+03]\n",
      " [ 7.08332290e+02]\n",
      " [ 3.90205021e+03]\n",
      " [ 1.76901800e+03]\n",
      " [ 2.37315281e+03]\n",
      " [ 2.42327015e+03]\n",
      " [ 2.70120275e+03]\n",
      " [ 1.29644487e+03]\n",
      " [ 2.65239246e+03]\n",
      " [ 3.73857525e+03]\n",
      " [ 2.18627815e+03]\n",
      " [-8.42089109e+01]\n",
      " [ 1.68909214e+03]\n",
      " [ 1.66983544e+03]\n",
      " [ 2.49696895e+03]\n",
      " [ 2.13966461e+03]\n",
      " [ 1.22727097e+03]\n",
      " [ 1.75129039e+02]\n",
      " [ 4.04124687e+03]\n",
      " [ 1.22924918e+03]\n",
      " [ 3.75024927e+03]\n",
      " [ 1.10423918e+03]\n",
      " [ 3.41120008e+03]\n",
      " [ 2.99420572e+03]\n",
      " [ 5.80510113e+02]\n",
      " [ 2.87641649e+03]\n",
      " [ 5.49759942e+03]\n",
      " [ 1.87904138e+03]\n",
      " [ 1.80129452e+03]\n",
      " [ 3.42508489e+03]\n",
      " [ 3.11855382e+03]\n",
      " [ 5.98963190e+02]\n",
      " [-5.09270252e+02]\n",
      " [ 2.58247324e+03]\n",
      " [ 3.60627952e+03]\n",
      " [ 1.84856302e+03]\n",
      " [ 2.56641280e+03]\n",
      " [ 9.90929331e+02]\n",
      " [ 1.09815400e+03]\n",
      " [ 1.80246731e+03]\n",
      " [ 4.68205065e+03]\n",
      " [ 2.52596938e+03]\n",
      " [ 2.47478275e+03]\n",
      " [ 2.76714871e+03]\n",
      " [ 2.98041255e+03]\n",
      " [ 9.27264176e+02]\n",
      " [ 1.94751171e+03]\n",
      " [ 1.08935666e+03]\n",
      " [ 3.66291442e+03]\n",
      " [ 3.07806903e+03]\n",
      " [ 3.27538085e+03]\n",
      " [ 1.94336447e+03]\n",
      " [ 2.65544589e+03]\n",
      " [ 6.00816733e+02]\n",
      " [ 1.45922262e+03]\n",
      " [ 3.14865943e+03]\n",
      " [ 2.43484355e+03]\n",
      " [ 4.71308416e+03]\n",
      " [ 9.11345160e+02]\n",
      " [ 2.31761691e+03]\n",
      " [ 1.96072892e+02]\n",
      " [ 2.86482574e+03]\n",
      " [-2.70811157e+02]\n",
      " [ 2.49826436e+03]\n",
      " [ 3.94498031e+03]\n",
      " [ 1.08342848e+03]\n",
      " [ 3.96849531e+03]\n",
      " [ 3.09509651e+03]\n",
      " [ 8.26608872e+02]\n",
      " [ 3.23058531e+03]\n",
      " [ 2.30816081e+03]\n",
      " [ 1.74198097e+03]\n",
      " [ 4.32552341e+03]\n",
      " [ 3.96306205e+03]\n",
      " [ 3.87351722e+03]\n",
      " [ 9.66115558e+02]\n",
      " [ 1.34190979e+03]\n",
      " [ 3.47205157e+03]\n",
      " [ 5.24115755e+02]\n",
      " [ 2.77716304e+03]\n",
      " [ 3.32652772e+03]\n",
      " [ 3.90630355e+03]\n",
      " [ 1.95528803e+03]\n",
      " [ 1.41644054e+03]\n",
      " [ 1.93608598e+03]\n",
      " [ 2.13330542e+03]\n",
      " [ 2.39242831e+03]\n",
      " [-1.01065339e+03]\n",
      " [ 2.84441899e+03]\n",
      " [ 2.12694228e+03]\n",
      " [ 4.02953265e+03]\n",
      " [ 1.79480541e+03]\n",
      " [ 1.71612671e+03]\n",
      " [ 1.56844254e+03]\n",
      " [ 2.25387519e+03]\n",
      " [ 2.50659009e+02]\n",
      " [ 2.27176423e+03]\n",
      " [ 1.20165437e+03]\n",
      " [ 4.15056141e+03]\n",
      " [ 2.53333990e+03]\n",
      " [ 3.37559510e+03]\n",
      " [ 2.62721735e+03]\n",
      " [ 2.46610517e+03]\n",
      " [ 2.28814299e+03]\n",
      " [ 7.77831034e+02]\n",
      " [ 3.87646967e+03]\n",
      " [ 1.61243549e+03]\n",
      " [ 2.36403140e+03]\n",
      " [ 6.08322850e+02]\n",
      " [ 1.26964094e+03]\n",
      " [ 4.33933365e+03]\n",
      " [ 3.78258441e+02]\n",
      " [ 5.99577554e+03]\n",
      " [ 2.15848227e+03]\n",
      " [ 1.59953500e+03]\n",
      " [ 8.20223742e+02]\n",
      " [ 4.33210221e+03]\n",
      " [ 5.07309847e+03]\n",
      " [ 4.97058423e+02]\n",
      " [ 2.71940702e+03]\n",
      " [ 1.05555615e+03]\n",
      " [ 3.74688337e+03]\n",
      " [ 2.74388249e+03]\n",
      " [ 2.30995026e+03]\n",
      " [ 4.08499016e+03]\n",
      " [ 8.57037980e+02]\n",
      " [ 3.33851148e+03]\n",
      " [ 3.72560587e+03]\n",
      " [ 3.12033220e+03]\n",
      " [ 1.51298005e+03]\n",
      " [ 4.71336386e+03]\n",
      " [ 1.14737914e+03]\n",
      " [ 3.64725797e+03]\n",
      " [ 8.23615839e+02]\n",
      " [ 2.10938237e+02]\n",
      " [ 4.49520206e+03]\n",
      " [ 7.02338965e+02]\n",
      " [ 6.87810165e+02]\n",
      " [ 4.00802176e+03]\n",
      " [ 6.23069422e+02]\n",
      " [ 4.20500250e+03]\n",
      " [ 2.37779122e+03]\n",
      " [ 4.51380958e+03]\n",
      " [ 4.05493591e+02]\n",
      " [ 4.14911020e+03]\n",
      " [ 1.94778340e+03]\n",
      " [ 1.73439678e+03]\n",
      " [ 6.62832351e+02]\n",
      " [ 4.94628717e+02]\n",
      " [ 1.26911621e+03]\n",
      " [ 4.01214749e+03]\n",
      " [ 3.58576787e+03]\n",
      " [ 2.28366406e+03]\n",
      " [ 1.67141511e+03]\n",
      " [ 2.07603753e+03]\n",
      " [ 2.18219331e+03]\n",
      " [ 9.44219260e+02]\n",
      " [-2.19594116e+02]\n",
      " [ 1.30476356e+03]\n",
      " [ 3.52063423e+03]\n",
      " [ 3.33593436e+03]\n",
      " [ 1.67684711e+03]\n",
      " [ 1.51698521e+03]\n",
      " [ 2.26750974e+03]\n",
      " [ 1.69792979e+03]\n",
      " [ 3.28384140e+03]\n",
      " [ 3.15427248e+03]\n",
      " [ 1.88572026e+02]\n",
      " [ 1.51684326e+03]\n",
      " [ 6.17649991e+02]\n",
      " [ 3.18764237e+03]\n",
      " [ 4.39881885e+03]\n",
      " [-5.36639980e+02]\n",
      " [ 1.86278825e+03]\n",
      " [ 1.39901335e+03]\n",
      " [ 1.05085679e+03]\n",
      " [ 1.57375126e+03]\n",
      " [ 3.70506485e+03]\n",
      " [ 1.65588505e+03]\n",
      " [ 2.41739939e+03]\n",
      " [ 2.09082503e+03]\n",
      " [ 2.22402503e+03]\n",
      " [ 2.26550932e+03]\n",
      " [ 3.52498957e+03]\n",
      " [ 1.29510663e+03]\n",
      " [ 2.24489967e+03]\n",
      " [ 3.46547452e+03]\n",
      " [ 2.94847332e+03]\n",
      " [ 5.37657081e+02]\n",
      " [ 4.68630049e+03]\n",
      " [ 2.58100792e+03]\n",
      " [-2.30203843e+02]\n",
      " [ 2.15966032e+03]\n",
      " [ 2.81628582e+03]\n",
      " [ 2.12521711e+03]\n",
      " [ 4.33734804e+03]\n",
      " [ 8.74752966e+02]\n",
      " [ 1.41110189e+03]\n",
      " [ 1.52136977e+03]\n",
      " [ 2.22326802e+03]\n",
      " [ 3.48917582e+03]\n",
      " [ 2.64472655e+03]\n",
      " [ 5.27038938e+03]\n",
      " [ 1.66375380e+03]\n",
      " [ 1.50597302e+03]\n",
      " [ 3.14043141e+03]\n",
      " [ 2.45856033e+03]\n",
      " [ 1.45545127e+03]\n",
      " [ 1.93967553e+03]\n",
      " [ 2.98642094e+02]\n",
      " [ 7.32155886e+02]\n",
      " [ 1.35470866e+03]\n",
      " [ 2.54319870e+03]\n",
      " [ 2.78543885e+03]\n",
      " [ 3.90113467e+02]\n",
      " [ 2.59147415e+03]\n",
      " [ 2.56377496e+03]\n",
      " [ 3.35576946e+03]\n",
      " [ 4.54986970e+03]\n",
      " [ 1.51548070e+03]\n",
      " [ 1.87071805e+03]\n",
      " [ 4.09501011e+02]\n",
      " [-7.20093116e+01]\n",
      " [ 7.08876605e+02]\n",
      " [ 2.35143235e+03]\n",
      " [ 2.27210378e+03]\n",
      " [ 3.08871517e+03]\n",
      " [ 1.94197442e+03]\n",
      " [ 1.29779783e+03]\n",
      " [ 2.07244724e+03]\n",
      " [ 1.95411609e+03]\n",
      " [ 2.62846125e+03]\n",
      " [ 5.43779782e+02]\n",
      " [ 2.60130533e+03]\n",
      " [-2.29980530e+02]\n",
      " [ 2.53312390e+03]\n",
      " [ 3.86545092e+03]\n",
      " [ 1.19683208e+03]\n",
      " [ 1.41965701e+03]\n",
      " [ 3.78412978e+03]\n",
      " [ 3.53026658e+03]\n",
      " [ 3.20243035e+03]\n",
      " [ 3.71746146e+03]\n",
      " [-9.98095067e+02]\n",
      " [ 1.26876961e+03]\n",
      " [ 4.05298233e+03]\n",
      " [ 3.03951267e+03]\n",
      " [ 5.66138432e+02]\n",
      " [ 4.49161858e+03]\n",
      " [ 3.38518287e+03]\n",
      " [ 2.58856093e+03]\n",
      " [ 2.19140684e+03]\n",
      " [ 5.58547973e+03]\n",
      " [ 1.55501399e+03]\n",
      " [ 4.67944283e+02]\n",
      " [ 4.32914621e+03]\n",
      " [ 1.19503154e+03]\n",
      " [ 2.91403331e+03]\n",
      " [ 1.19901024e+03]\n",
      " [ 3.20468683e+03]\n",
      " [ 3.88242435e+03]\n",
      " [ 2.05590890e+03]\n",
      " [ 2.04620271e+03]\n",
      " [ 3.83114212e+03]\n",
      " [ 2.30693969e+03]\n",
      " [ 1.87830087e+03]\n",
      " [ 2.75035089e+03]\n",
      " [ 1.67771038e+03]\n",
      " [ 3.37691291e+03]\n",
      " [ 2.39137966e+03]\n",
      " [-5.10891303e+00]\n",
      " [ 3.26100918e+03]\n",
      " [ 1.36806965e+03]\n",
      " [ 4.72141942e+03]\n",
      " [ 1.44055504e+03]\n",
      " [ 1.73963664e+03]\n",
      " [ 2.01550010e+03]\n",
      " [ 2.02968141e+03]\n",
      " [ 1.20829465e+03]\n",
      " [ 2.28058322e+03]\n",
      " [ 1.56101010e+03]\n",
      " [ 1.84233791e+03]\n",
      " [ 1.80488077e+03]\n",
      " [ 1.73957702e+03]\n",
      " [-8.00489393e+02]\n",
      " [ 3.07489755e+03]\n",
      " [ 2.86867860e+03]\n",
      " [ 2.78544636e+03]\n",
      " [ 3.68953724e+03]\n",
      " [ 1.96905918e+03]\n",
      " [ 6.73100451e+02]\n",
      " [ 1.87956722e+03]\n",
      " [ 1.60118805e+03]\n",
      " [ 2.34527272e+03]\n",
      " [ 3.89101661e+02]\n",
      " [ 1.23103880e+03]\n",
      " [ 2.98752174e+03]\n",
      " [ 2.73083108e+03]\n",
      " [ 5.54907966e+02]\n",
      " [ 1.32214493e+03]\n",
      " [ 4.34265024e+03]\n",
      " [ 1.41337172e+03]\n",
      " [ 3.06318818e+02]\n",
      " [ 3.22627286e+03]\n",
      " [ 7.28567972e+02]\n",
      " [ 3.73710719e+03]\n",
      " [ 2.26236592e+03]\n",
      " [ 1.56754925e+03]\n",
      " [ 2.77908894e+03]\n",
      " [ 4.22263245e+03]\n",
      " [ 2.02738498e+03]\n",
      " [ 8.23432952e+02]\n",
      " [ 3.99844324e+03]\n",
      " [ 3.29979242e+03]\n",
      " [ 8.15898970e+02]\n",
      " [ 1.71156899e+03]\n",
      " [ 9.47362471e+02]\n",
      " [ 2.31321245e+03]\n",
      " [ 8.56027731e+02]\n",
      " [ 2.11246966e+03]\n",
      " [ 3.00882139e+03]\n",
      " [ 2.76187491e+03]\n",
      " [ 9.28250407e+02]\n",
      " [-1.09205935e+03]\n",
      " [ 2.93410447e+03]\n",
      " [ 1.89165639e+03]\n",
      " [ 1.57310484e+03]\n",
      " [ 2.94557687e+03]\n",
      " [-5.87193815e+02]\n",
      " [ 1.38927654e+03]\n",
      " [ 3.17143481e+03]\n",
      " [ 3.95440969e+03]\n",
      " [ 4.75753432e+03]\n",
      " [ 1.48145547e+03]\n",
      " [ 2.26328296e+03]\n",
      " [-5.87921826e+02]\n",
      " [ 4.66139859e+03]\n",
      " [ 3.76136078e+03]\n",
      " [ 1.96039456e+03]\n",
      " [ 1.46750464e+03]\n",
      " [ 3.24499220e+03]\n",
      " [ 2.74808544e+03]\n",
      " [ 1.25907528e+03]\n",
      " [ 2.10658257e+03]\n",
      " [ 1.67274050e+03]\n",
      " [ 1.72945377e+03]\n",
      " [ 4.86263985e+02]\n",
      " [-7.28783872e+02]\n",
      " [ 1.37856485e+03]\n",
      " [ 4.33646691e+03]\n",
      " [ 2.42104138e+03]\n",
      " [ 5.62638595e+02]\n",
      " [ 1.11821772e+02]\n",
      " [ 1.17045018e+03]\n",
      " [ 4.66294079e+03]\n",
      " [ 1.49408766e+03]\n",
      " [ 4.65849570e+03]\n",
      " [ 2.36488812e+03]\n",
      " [ 3.76332007e+03]\n",
      " [ 3.15795763e+03]\n",
      " [ 1.08164066e+03]\n",
      " [ 3.61654290e+03]\n",
      " [ 8.63663471e+02]\n",
      " [ 1.00671991e+03]\n",
      " [ 2.78770733e+03]\n",
      " [ 3.98405956e+03]\n",
      " [-9.85543622e+02]\n",
      " [ 3.03892779e+03]\n",
      " [ 2.04709757e+03]\n",
      " [ 1.53588245e+03]\n",
      " [ 2.35944102e+03]\n",
      " [ 3.41940128e+03]\n",
      " [ 5.98297330e+01]\n",
      " [ 1.25607138e+02]\n",
      " [ 1.58643666e+03]\n",
      " [ 1.26913705e+03]\n",
      " [ 2.04359862e+03]\n",
      " [ 2.49491250e+03]\n",
      " [ 4.43429676e+03]\n",
      " [ 3.61123065e+02]\n",
      " [ 3.48628442e+03]\n",
      " [ 3.34069375e+03]\n",
      " [ 2.42699875e+03]\n",
      " [ 2.30016547e+03]\n",
      " [ 4.08372143e+03]\n",
      " [ 1.40271043e+03]\n",
      " [ 1.46536728e+03]\n",
      " [ 2.48535640e+03]\n",
      " [ 2.92500564e+03]\n",
      " [ 2.91321887e+03]\n",
      " [ 6.88860376e+02]\n",
      " [ 4.35909684e+03]\n",
      " [ 9.82899489e+01]\n",
      " [-6.74976797e+02]\n",
      " [ 3.80521824e+03]\n",
      " [ 1.32726505e+03]\n",
      " [ 4.24144647e+03]\n",
      " [ 1.72246875e+03]\n",
      " [ 8.82852896e+01]\n",
      " [ 1.24559906e+03]\n",
      " [ 2.53516090e+03]\n",
      " [ 1.65888846e+03]\n",
      " [ 1.12658252e+03]\n",
      " [ 5.56709075e+02]\n",
      " [ 1.49254414e+03]\n",
      " [ 1.93136910e+03]\n",
      " [ 2.89936030e+02]\n",
      " [ 2.24885213e+03]\n",
      " [ 7.91186182e+02]\n",
      " [ 9.85353680e+02]\n",
      " [ 1.80049684e+03]\n",
      " [ 3.19484496e+03]]\n"
     ]
    }
   ],
   "source": [
    "print(predlr)"
   ]
  },
  {
   "cell_type": "code",
   "execution_count": 65,
   "metadata": {
    "scrolled": true
   },
   "outputs": [
    {
     "name": "stdout",
     "output_type": "stream",
     "text": [
      "0.5366841661004864\n"
     ]
    }
   ],
   "source": [
    "print(r2_score(y_test,predlr))"
   ]
  },
  {
   "cell_type": "code",
   "execution_count": 66,
   "metadata": {},
   "outputs": [
    {
     "name": "stdout",
     "output_type": "stream",
     "text": [
      "879.0575272939162\n"
     ]
    }
   ],
   "source": [
    "print(mean_absolute_error(y_test,predlr))"
   ]
  },
  {
   "cell_type": "code",
   "execution_count": 67,
   "metadata": {},
   "outputs": [
    {
     "name": "stdout",
     "output_type": "stream",
     "text": [
      "1258687.7361925337\n"
     ]
    }
   ],
   "source": [
    "print(mean_squared_error(y_test,predlr))"
   ]
  },
  {
   "cell_type": "code",
   "execution_count": 68,
   "metadata": {},
   "outputs": [],
   "source": [
    "# using regularisation method\n",
    "from sklearn.model_selection import cross_val_score"
   ]
  },
  {
   "cell_type": "code",
   "execution_count": 69,
   "metadata": {},
   "outputs": [],
   "source": [
    "score=cross_val_score(lr,x,y,cv=5)"
   ]
  },
  {
   "cell_type": "code",
   "execution_count": 70,
   "metadata": {},
   "outputs": [
    {
     "data": {
      "text/plain": [
       "array([0.52746297, 0.50665171, 0.48918537, 0.49899986, 0.54147999])"
      ]
     },
     "execution_count": 70,
     "metadata": {},
     "output_type": "execute_result"
    }
   ],
   "source": [
    "score"
   ]
  },
  {
   "cell_type": "code",
   "execution_count": 71,
   "metadata": {},
   "outputs": [],
   "source": [
    "#boosting the result"
   ]
  },
  {
   "cell_type": "code",
   "execution_count": 72,
   "metadata": {},
   "outputs": [],
   "source": [
    "from sklearn.ensemble import AdaBoostRegressor,GradientBoostingRegressor"
   ]
  },
  {
   "cell_type": "code",
   "execution_count": 73,
   "metadata": {},
   "outputs": [],
   "source": [
    "ad=AdaBoostRegressor(base_estimator=lr)"
   ]
  },
  {
   "cell_type": "code",
   "execution_count": 74,
   "metadata": {},
   "outputs": [
    {
     "data": {
      "text/plain": [
       "AdaBoostRegressor(base_estimator=LinearRegression(copy_X=True,\n",
       "                                                  fit_intercept=True,\n",
       "                                                  n_jobs=None,\n",
       "                                                  normalize=False),\n",
       "                  learning_rate=1.0, loss='linear', n_estimators=50,\n",
       "                  random_state=None)"
      ]
     },
     "execution_count": 74,
     "metadata": {},
     "output_type": "execute_result"
    }
   ],
   "source": [
    "ad.fit(x_train,y_train)"
   ]
  },
  {
   "cell_type": "code",
   "execution_count": 75,
   "metadata": {},
   "outputs": [],
   "source": [
    "predad=ad.predict(x_test)"
   ]
  },
  {
   "cell_type": "code",
   "execution_count": 76,
   "metadata": {},
   "outputs": [
    {
     "data": {
      "text/plain": [
       "0.5040301547886554"
      ]
     },
     "execution_count": 76,
     "metadata": {},
     "output_type": "execute_result"
    }
   ],
   "source": [
    "r2_score(y_test,predad)"
   ]
  },
  {
   "cell_type": "code",
   "execution_count": 77,
   "metadata": {},
   "outputs": [],
   "source": [
    "#by using gradient boosting"
   ]
  },
  {
   "cell_type": "code",
   "execution_count": 78,
   "metadata": {},
   "outputs": [],
   "source": [
    "gd=GradientBoostingRegressor()\n"
   ]
  },
  {
   "cell_type": "code",
   "execution_count": 79,
   "metadata": {},
   "outputs": [
    {
     "data": {
      "text/plain": [
       "GradientBoostingRegressor(alpha=0.9, ccp_alpha=0.0, criterion='friedman_mse',\n",
       "                          init=None, learning_rate=0.1, loss='ls', max_depth=3,\n",
       "                          max_features=None, max_leaf_nodes=None,\n",
       "                          min_impurity_decrease=0.0, min_impurity_split=None,\n",
       "                          min_samples_leaf=1, min_samples_split=2,\n",
       "                          min_weight_fraction_leaf=0.0, n_estimators=100,\n",
       "                          n_iter_no_change=None, presort='deprecated',\n",
       "                          random_state=None, subsample=1.0, tol=0.0001,\n",
       "                          validation_fraction=0.1, verbose=0, warm_start=False)"
      ]
     },
     "execution_count": 79,
     "metadata": {},
     "output_type": "execute_result"
    }
   ],
   "source": [
    "gd.fit(x_train,y_train)"
   ]
  },
  {
   "cell_type": "code",
   "execution_count": 80,
   "metadata": {},
   "outputs": [],
   "source": [
    "predgd=gd.predict(x_test)"
   ]
  },
  {
   "cell_type": "code",
   "execution_count": 81,
   "metadata": {},
   "outputs": [
    {
     "data": {
      "text/plain": [
       "0.43504143181601795"
      ]
     },
     "execution_count": 81,
     "metadata": {},
     "output_type": "execute_result"
    }
   ],
   "source": [
    "r2_score(predgd,y_test)"
   ]
  },
  {
   "cell_type": "code",
   "execution_count": 82,
   "metadata": {},
   "outputs": [],
   "source": [
    "#dumping the model by using serialisation"
   ]
  },
  {
   "cell_type": "code",
   "execution_count": 83,
   "metadata": {},
   "outputs": [],
   "source": [
    "from sklearn.externals import joblib"
   ]
  },
  {
   "cell_type": "code",
   "execution_count": 84,
   "metadata": {},
   "outputs": [],
   "source": [
    "filename='bigmart.obj'\n",
    "joblib.dump(lr,open(filename,'wb'))"
   ]
  },
  {
   "cell_type": "code",
   "execution_count": null,
   "metadata": {},
   "outputs": [],
   "source": []
  }
 ],
 "metadata": {
  "kernelspec": {
   "display_name": "Python 3",
   "language": "python",
   "name": "python3"
  },
  "language_info": {
   "codemirror_mode": {
    "name": "ipython",
    "version": 3
   },
   "file_extension": ".py",
   "mimetype": "text/x-python",
   "name": "python",
   "nbconvert_exporter": "python",
   "pygments_lexer": "ipython3",
   "version": "3.7.6"
  }
 },
 "nbformat": 4,
 "nbformat_minor": 4
}
