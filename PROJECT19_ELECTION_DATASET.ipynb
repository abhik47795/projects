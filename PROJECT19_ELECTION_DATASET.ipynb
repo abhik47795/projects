{
 "cells": [
  {
   "cell_type": "markdown",
   "metadata": {},
   "source": [
    "A data set describing the evolution of results in the Portuguese Parliamentary Elections of October 6th 2019.\n",
    "The data spans a time interval of 4 hours and 25 minutes, in intervals of 5 minutes, concerning the results of the 27 parties involved in the electoral event.So we will use regression models to predict final number of elected MP's in a district/national-level which is our target."
   ]
  },
  {
   "cell_type": "code",
   "execution_count": 7,
   "metadata": {},
   "outputs": [],
   "source": [
    "#importing all the libraries and loading the csv file"
   ]
  },
  {
   "cell_type": "code",
   "execution_count": 8,
   "metadata": {},
   "outputs": [],
   "source": [
    "import warnings\n",
    "warnings.filterwarnings('ignore')"
   ]
  },
  {
   "cell_type": "code",
   "execution_count": 9,
   "metadata": {},
   "outputs": [],
   "source": [
    "import pandas as pd\n",
    "import numpy as np"
   ]
  },
  {
   "cell_type": "code",
   "execution_count": 10,
   "metadata": {},
   "outputs": [],
   "source": [
    "df=pd.read_csv('election.csv',names=range(0,28),header=0)  #reading the csv file "
   ]
  },
  {
   "cell_type": "code",
   "execution_count": 11,
   "metadata": {},
   "outputs": [
    {
     "data": {
      "text/html": [
       "<div>\n",
       "<style scoped>\n",
       "    .dataframe tbody tr th:only-of-type {\n",
       "        vertical-align: middle;\n",
       "    }\n",
       "\n",
       "    .dataframe tbody tr th {\n",
       "        vertical-align: top;\n",
       "    }\n",
       "\n",
       "    .dataframe thead th {\n",
       "        text-align: right;\n",
       "    }\n",
       "</style>\n",
       "<table border=\"1\" class=\"dataframe\">\n",
       "  <thead>\n",
       "    <tr style=\"text-align: right;\">\n",
       "      <th></th>\n",
       "      <th>0</th>\n",
       "      <th>1</th>\n",
       "      <th>2</th>\n",
       "      <th>3</th>\n",
       "      <th>4</th>\n",
       "      <th>5</th>\n",
       "      <th>6</th>\n",
       "      <th>7</th>\n",
       "      <th>8</th>\n",
       "      <th>9</th>\n",
       "      <th>...</th>\n",
       "      <th>18</th>\n",
       "      <th>19</th>\n",
       "      <th>20</th>\n",
       "      <th>21</th>\n",
       "      <th>22</th>\n",
       "      <th>23</th>\n",
       "      <th>24</th>\n",
       "      <th>25</th>\n",
       "      <th>26</th>\n",
       "      <th>27</th>\n",
       "    </tr>\n",
       "  </thead>\n",
       "  <tbody>\n",
       "    <tr>\n",
       "      <th>0</th>\n",
       "      <td>0</td>\n",
       "      <td>2019-10-06 20:10:02</td>\n",
       "      <td>Território Nacional</td>\n",
       "      <td>0</td>\n",
       "      <td>226</td>\n",
       "      <td>3092</td>\n",
       "      <td>1081</td>\n",
       "      <td>9652</td>\n",
       "      <td>2.5</td>\n",
       "      <td>8874</td>\n",
       "      <td>...</td>\n",
       "      <td>52.66</td>\n",
       "      <td>813743</td>\n",
       "      <td>428546</td>\n",
       "      <td>PS</td>\n",
       "      <td>0</td>\n",
       "      <td>38.29</td>\n",
       "      <td>40.22</td>\n",
       "      <td>147993</td>\n",
       "      <td>94</td>\n",
       "      <td>106</td>\n",
       "    </tr>\n",
       "    <tr>\n",
       "      <th>1</th>\n",
       "      <td>0</td>\n",
       "      <td>2019-10-06 20:10:02</td>\n",
       "      <td>Território Nacional</td>\n",
       "      <td>0</td>\n",
       "      <td>226</td>\n",
       "      <td>3092</td>\n",
       "      <td>1081</td>\n",
       "      <td>9652</td>\n",
       "      <td>2.5</td>\n",
       "      <td>8874</td>\n",
       "      <td>...</td>\n",
       "      <td>52.66</td>\n",
       "      <td>813743</td>\n",
       "      <td>428546</td>\n",
       "      <td>PPD/PSD</td>\n",
       "      <td>0</td>\n",
       "      <td>33.28</td>\n",
       "      <td>34.95</td>\n",
       "      <td>128624</td>\n",
       "      <td>81</td>\n",
       "      <td>77</td>\n",
       "    </tr>\n",
       "    <tr>\n",
       "      <th>2</th>\n",
       "      <td>0</td>\n",
       "      <td>2019-10-06 20:10:02</td>\n",
       "      <td>Território Nacional</td>\n",
       "      <td>0</td>\n",
       "      <td>226</td>\n",
       "      <td>3092</td>\n",
       "      <td>1081</td>\n",
       "      <td>9652</td>\n",
       "      <td>2.5</td>\n",
       "      <td>8874</td>\n",
       "      <td>...</td>\n",
       "      <td>52.66</td>\n",
       "      <td>813743</td>\n",
       "      <td>428546</td>\n",
       "      <td>B.E.</td>\n",
       "      <td>0</td>\n",
       "      <td>6.81</td>\n",
       "      <td>7.15</td>\n",
       "      <td>26307</td>\n",
       "      <td>16</td>\n",
       "      <td>19</td>\n",
       "    </tr>\n",
       "    <tr>\n",
       "      <th>3</th>\n",
       "      <td>0</td>\n",
       "      <td>2019-10-06 20:10:02</td>\n",
       "      <td>Território Nacional</td>\n",
       "      <td>0</td>\n",
       "      <td>226</td>\n",
       "      <td>3092</td>\n",
       "      <td>1081</td>\n",
       "      <td>9652</td>\n",
       "      <td>2.5</td>\n",
       "      <td>8874</td>\n",
       "      <td>...</td>\n",
       "      <td>52.66</td>\n",
       "      <td>813743</td>\n",
       "      <td>428546</td>\n",
       "      <td>CDS-PP</td>\n",
       "      <td>0</td>\n",
       "      <td>4.90</td>\n",
       "      <td>5.14</td>\n",
       "      <td>18923</td>\n",
       "      <td>12</td>\n",
       "      <td>5</td>\n",
       "    </tr>\n",
       "    <tr>\n",
       "      <th>4</th>\n",
       "      <td>0</td>\n",
       "      <td>2019-10-06 20:10:02</td>\n",
       "      <td>Território Nacional</td>\n",
       "      <td>0</td>\n",
       "      <td>226</td>\n",
       "      <td>3092</td>\n",
       "      <td>1081</td>\n",
       "      <td>9652</td>\n",
       "      <td>2.5</td>\n",
       "      <td>8874</td>\n",
       "      <td>...</td>\n",
       "      <td>52.66</td>\n",
       "      <td>813743</td>\n",
       "      <td>428546</td>\n",
       "      <td>PCP-PEV</td>\n",
       "      <td>0</td>\n",
       "      <td>4.59</td>\n",
       "      <td>4.83</td>\n",
       "      <td>17757</td>\n",
       "      <td>11</td>\n",
       "      <td>12</td>\n",
       "    </tr>\n",
       "  </tbody>\n",
       "</table>\n",
       "<p>5 rows × 28 columns</p>\n",
       "</div>"
      ],
      "text/plain": [
       "   0                    1                    2   3    4     5     6     7   \\\n",
       "0   0  2019-10-06 20:10:02  Território Nacional   0  226  3092  1081  9652   \n",
       "1   0  2019-10-06 20:10:02  Território Nacional   0  226  3092  1081  9652   \n",
       "2   0  2019-10-06 20:10:02  Território Nacional   0  226  3092  1081  9652   \n",
       "3   0  2019-10-06 20:10:02  Território Nacional   0  226  3092  1081  9652   \n",
       "4   0  2019-10-06 20:10:02  Território Nacional   0  226  3092  1081  9652   \n",
       "\n",
       "    8     9   ...     18      19      20       21  22     23     24      25  \\\n",
       "0  2.5  8874  ...  52.66  813743  428546       PS   0  38.29  40.22  147993   \n",
       "1  2.5  8874  ...  52.66  813743  428546  PPD/PSD   0  33.28  34.95  128624   \n",
       "2  2.5  8874  ...  52.66  813743  428546     B.E.   0   6.81   7.15   26307   \n",
       "3  2.5  8874  ...  52.66  813743  428546   CDS-PP   0   4.90   5.14   18923   \n",
       "4  2.5  8874  ...  52.66  813743  428546  PCP-PEV   0   4.59   4.83   17757   \n",
       "\n",
       "   26   27  \n",
       "0  94  106  \n",
       "1  81   77  \n",
       "2  16   19  \n",
       "3  12    5  \n",
       "4  11   12  \n",
       "\n",
       "[5 rows x 28 columns]"
      ]
     },
     "execution_count": 11,
     "metadata": {},
     "output_type": "execute_result"
    }
   ],
   "source": [
    "df.head()"
   ]
  },
  {
   "cell_type": "markdown",
   "metadata": {},
   "source": [
    "EDA PROCESS"
   ]
  },
  {
   "cell_type": "code",
   "execution_count": 12,
   "metadata": {},
   "outputs": [
    {
     "data": {
      "text/plain": [
       "0       int64\n",
       "1      object\n",
       "2      object\n",
       "3       int64\n",
       "4       int64\n",
       "5       int64\n",
       "6       int64\n",
       "7       int64\n",
       "8     float64\n",
       "9       int64\n",
       "10    float64\n",
       "11    float64\n",
       "12      int64\n",
       "13      int64\n",
       "14      int64\n",
       "15    float64\n",
       "16      int64\n",
       "17    float64\n",
       "18    float64\n",
       "19      int64\n",
       "20      int64\n",
       "21     object\n",
       "22      int64\n",
       "23    float64\n",
       "24    float64\n",
       "25      int64\n",
       "26      int64\n",
       "27      int64\n",
       "dtype: object"
      ]
     },
     "execution_count": 12,
     "metadata": {},
     "output_type": "execute_result"
    }
   ],
   "source": [
    "df.dtypes"
   ]
  },
  {
   "cell_type": "code",
   "execution_count": 13,
   "metadata": {},
   "outputs": [],
   "source": [
    "df.drop(1,axis=1,inplace=True)"
   ]
  },
  {
   "cell_type": "code",
   "execution_count": 16,
   "metadata": {},
   "outputs": [],
   "source": [
    "df.drop(0,axis=1,inplace=True)"
   ]
  },
  {
   "cell_type": "code",
   "execution_count": 17,
   "metadata": {},
   "outputs": [
    {
     "data": {
      "text/html": [
       "<div>\n",
       "<style scoped>\n",
       "    .dataframe tbody tr th:only-of-type {\n",
       "        vertical-align: middle;\n",
       "    }\n",
       "\n",
       "    .dataframe tbody tr th {\n",
       "        vertical-align: top;\n",
       "    }\n",
       "\n",
       "    .dataframe thead th {\n",
       "        text-align: right;\n",
       "    }\n",
       "</style>\n",
       "<table border=\"1\" class=\"dataframe\">\n",
       "  <thead>\n",
       "    <tr style=\"text-align: right;\">\n",
       "      <th></th>\n",
       "      <th>2</th>\n",
       "      <th>3</th>\n",
       "      <th>4</th>\n",
       "      <th>5</th>\n",
       "      <th>6</th>\n",
       "      <th>7</th>\n",
       "      <th>8</th>\n",
       "      <th>9</th>\n",
       "      <th>10</th>\n",
       "      <th>11</th>\n",
       "      <th>...</th>\n",
       "      <th>18</th>\n",
       "      <th>19</th>\n",
       "      <th>20</th>\n",
       "      <th>21</th>\n",
       "      <th>22</th>\n",
       "      <th>23</th>\n",
       "      <th>24</th>\n",
       "      <th>25</th>\n",
       "      <th>26</th>\n",
       "      <th>27</th>\n",
       "    </tr>\n",
       "  </thead>\n",
       "  <tbody>\n",
       "    <tr>\n",
       "      <th>0</th>\n",
       "      <td>Território Nacional</td>\n",
       "      <td>0</td>\n",
       "      <td>226</td>\n",
       "      <td>3092</td>\n",
       "      <td>1081</td>\n",
       "      <td>9652</td>\n",
       "      <td>2.5</td>\n",
       "      <td>8874</td>\n",
       "      <td>2.3</td>\n",
       "      <td>51.36</td>\n",
       "      <td>...</td>\n",
       "      <td>52.66</td>\n",
       "      <td>813743</td>\n",
       "      <td>428546</td>\n",
       "      <td>PS</td>\n",
       "      <td>0</td>\n",
       "      <td>38.29</td>\n",
       "      <td>40.22</td>\n",
       "      <td>147993</td>\n",
       "      <td>94</td>\n",
       "      <td>106</td>\n",
       "    </tr>\n",
       "    <tr>\n",
       "      <th>1</th>\n",
       "      <td>Território Nacional</td>\n",
       "      <td>0</td>\n",
       "      <td>226</td>\n",
       "      <td>3092</td>\n",
       "      <td>1081</td>\n",
       "      <td>9652</td>\n",
       "      <td>2.5</td>\n",
       "      <td>8874</td>\n",
       "      <td>2.3</td>\n",
       "      <td>51.36</td>\n",
       "      <td>...</td>\n",
       "      <td>52.66</td>\n",
       "      <td>813743</td>\n",
       "      <td>428546</td>\n",
       "      <td>PPD/PSD</td>\n",
       "      <td>0</td>\n",
       "      <td>33.28</td>\n",
       "      <td>34.95</td>\n",
       "      <td>128624</td>\n",
       "      <td>81</td>\n",
       "      <td>77</td>\n",
       "    </tr>\n",
       "    <tr>\n",
       "      <th>2</th>\n",
       "      <td>Território Nacional</td>\n",
       "      <td>0</td>\n",
       "      <td>226</td>\n",
       "      <td>3092</td>\n",
       "      <td>1081</td>\n",
       "      <td>9652</td>\n",
       "      <td>2.5</td>\n",
       "      <td>8874</td>\n",
       "      <td>2.3</td>\n",
       "      <td>51.36</td>\n",
       "      <td>...</td>\n",
       "      <td>52.66</td>\n",
       "      <td>813743</td>\n",
       "      <td>428546</td>\n",
       "      <td>B.E.</td>\n",
       "      <td>0</td>\n",
       "      <td>6.81</td>\n",
       "      <td>7.15</td>\n",
       "      <td>26307</td>\n",
       "      <td>16</td>\n",
       "      <td>19</td>\n",
       "    </tr>\n",
       "    <tr>\n",
       "      <th>3</th>\n",
       "      <td>Território Nacional</td>\n",
       "      <td>0</td>\n",
       "      <td>226</td>\n",
       "      <td>3092</td>\n",
       "      <td>1081</td>\n",
       "      <td>9652</td>\n",
       "      <td>2.5</td>\n",
       "      <td>8874</td>\n",
       "      <td>2.3</td>\n",
       "      <td>51.36</td>\n",
       "      <td>...</td>\n",
       "      <td>52.66</td>\n",
       "      <td>813743</td>\n",
       "      <td>428546</td>\n",
       "      <td>CDS-PP</td>\n",
       "      <td>0</td>\n",
       "      <td>4.90</td>\n",
       "      <td>5.14</td>\n",
       "      <td>18923</td>\n",
       "      <td>12</td>\n",
       "      <td>5</td>\n",
       "    </tr>\n",
       "    <tr>\n",
       "      <th>4</th>\n",
       "      <td>Território Nacional</td>\n",
       "      <td>0</td>\n",
       "      <td>226</td>\n",
       "      <td>3092</td>\n",
       "      <td>1081</td>\n",
       "      <td>9652</td>\n",
       "      <td>2.5</td>\n",
       "      <td>8874</td>\n",
       "      <td>2.3</td>\n",
       "      <td>51.36</td>\n",
       "      <td>...</td>\n",
       "      <td>52.66</td>\n",
       "      <td>813743</td>\n",
       "      <td>428546</td>\n",
       "      <td>PCP-PEV</td>\n",
       "      <td>0</td>\n",
       "      <td>4.59</td>\n",
       "      <td>4.83</td>\n",
       "      <td>17757</td>\n",
       "      <td>11</td>\n",
       "      <td>12</td>\n",
       "    </tr>\n",
       "  </tbody>\n",
       "</table>\n",
       "<p>5 rows × 26 columns</p>\n",
       "</div>"
      ],
      "text/plain": [
       "                    2   3    4     5     6     7    8     9    10     11  ...  \\\n",
       "0  Território Nacional   0  226  3092  1081  9652  2.5  8874  2.3  51.36  ...   \n",
       "1  Território Nacional   0  226  3092  1081  9652  2.5  8874  2.3  51.36  ...   \n",
       "2  Território Nacional   0  226  3092  1081  9652  2.5  8874  2.3  51.36  ...   \n",
       "3  Território Nacional   0  226  3092  1081  9652  2.5  8874  2.3  51.36  ...   \n",
       "4  Território Nacional   0  226  3092  1081  9652  2.5  8874  2.3  51.36  ...   \n",
       "\n",
       "      18      19      20       21  22     23     24      25  26   27  \n",
       "0  52.66  813743  428546       PS   0  38.29  40.22  147993  94  106  \n",
       "1  52.66  813743  428546  PPD/PSD   0  33.28  34.95  128624  81   77  \n",
       "2  52.66  813743  428546     B.E.   0   6.81   7.15   26307  16   19  \n",
       "3  52.66  813743  428546   CDS-PP   0   4.90   5.14   18923  12    5  \n",
       "4  52.66  813743  428546  PCP-PEV   0   4.59   4.83   17757  11   12  \n",
       "\n",
       "[5 rows x 26 columns]"
      ]
     },
     "execution_count": 17,
     "metadata": {},
     "output_type": "execute_result"
    }
   ],
   "source": [
    "df.head()"
   ]
  },
  {
   "cell_type": "code",
   "execution_count": 15,
   "metadata": {},
   "outputs": [
    {
     "data": {
      "text/plain": [
       "array([106,  77,  19,   5,  12,   4,   1,   0,   6,   7,   2,   8,   3,\n",
       "        20,  17,  15,   9], dtype=int64)"
      ]
     },
     "execution_count": 15,
     "metadata": {},
     "output_type": "execute_result"
    }
   ],
   "source": [
    "df[27].unique()"
   ]
  },
  {
   "cell_type": "code",
   "execution_count": 18,
   "metadata": {},
   "outputs": [
    {
     "name": "stdout",
     "output_type": "stream",
     "text": [
      "<class 'pandas.core.frame.DataFrame'>\n",
      "RangeIndex: 3504 entries, 0 to 3503\n",
      "Data columns (total 26 columns):\n",
      " #   Column  Non-Null Count  Dtype  \n",
      "---  ------  --------------  -----  \n",
      " 0   2       3504 non-null   object \n",
      " 1   3       3504 non-null   int64  \n",
      " 2   4       3504 non-null   int64  \n",
      " 3   5       3504 non-null   int64  \n",
      " 4   6       3504 non-null   int64  \n",
      " 5   7       3504 non-null   int64  \n",
      " 6   8       3504 non-null   float64\n",
      " 7   9       3504 non-null   int64  \n",
      " 8   10      3504 non-null   float64\n",
      " 9   11      3504 non-null   float64\n",
      " 10  12      3504 non-null   int64  \n",
      " 11  13      3504 non-null   int64  \n",
      " 12  14      3504 non-null   int64  \n",
      " 13  15      3504 non-null   float64\n",
      " 14  16      3504 non-null   int64  \n",
      " 15  17      3504 non-null   float64\n",
      " 16  18      3504 non-null   float64\n",
      " 17  19      3504 non-null   int64  \n",
      " 18  20      3504 non-null   int64  \n",
      " 19  21      3504 non-null   object \n",
      " 20  22      3504 non-null   int64  \n",
      " 21  23      3504 non-null   float64\n",
      " 22  24      3504 non-null   float64\n",
      " 23  25      3504 non-null   int64  \n",
      " 24  26      3504 non-null   int64  \n",
      " 25  27      3504 non-null   int64  \n",
      "dtypes: float64(8), int64(16), object(2)\n",
      "memory usage: 711.9+ KB\n"
     ]
    }
   ],
   "source": [
    "df.info()"
   ]
  },
  {
   "cell_type": "code",
   "execution_count": 19,
   "metadata": {},
   "outputs": [
    {
     "data": {
      "text/plain": [
       "(3504, 26)"
      ]
     },
     "execution_count": 19,
     "metadata": {},
     "output_type": "execute_result"
    }
   ],
   "source": [
    "df.shape"
   ]
  },
  {
   "cell_type": "code",
   "execution_count": 20,
   "metadata": {},
   "outputs": [],
   "source": [
    "#from the above we can see that no null value is present in the dataset"
   ]
  },
  {
   "cell_type": "code",
   "execution_count": 21,
   "metadata": {},
   "outputs": [],
   "source": [
    "#converting the catagorical value to numerical value"
   ]
  },
  {
   "cell_type": "code",
   "execution_count": 22,
   "metadata": {},
   "outputs": [],
   "source": [
    "from sklearn.preprocessing import LabelEncoder"
   ]
  },
  {
   "cell_type": "code",
   "execution_count": 23,
   "metadata": {},
   "outputs": [],
   "source": [
    "le=LabelEncoder()"
   ]
  },
  {
   "cell_type": "code",
   "execution_count": 24,
   "metadata": {},
   "outputs": [],
   "source": [
    "df[2]=le.fit_transform(df[2])\n",
    "df[21]=le.fit_transform(df[21])"
   ]
  },
  {
   "cell_type": "code",
   "execution_count": 26,
   "metadata": {},
   "outputs": [
    {
     "data": {
      "text/plain": [
       "2       int32\n",
       "3       int64\n",
       "4       int64\n",
       "5       int64\n",
       "6       int64\n",
       "7       int64\n",
       "8     float64\n",
       "9       int64\n",
       "10    float64\n",
       "11    float64\n",
       "12      int64\n",
       "13      int64\n",
       "14      int64\n",
       "15    float64\n",
       "16      int64\n",
       "17    float64\n",
       "18    float64\n",
       "19      int64\n",
       "20      int64\n",
       "21      int32\n",
       "22      int64\n",
       "23    float64\n",
       "24    float64\n",
       "25      int64\n",
       "26      int64\n",
       "27      int64\n",
       "dtype: object"
      ]
     },
     "execution_count": 26,
     "metadata": {},
     "output_type": "execute_result"
    }
   ],
   "source": [
    "df.dtypes"
   ]
  },
  {
   "cell_type": "code",
   "execution_count": 27,
   "metadata": {},
   "outputs": [],
   "source": [
    "#importing Libraries\n",
    "import matplotlib.pyplot as plt\n",
    "import seaborn as sns\n",
    "%matplotlib inline"
   ]
  },
  {
   "cell_type": "code",
   "execution_count": 28,
   "metadata": {},
   "outputs": [
    {
     "data": {
      "text/plain": [
       "<matplotlib.axes._subplots.AxesSubplot at 0xcd500405c8>"
      ]
     },
     "execution_count": 28,
     "metadata": {},
     "output_type": "execute_result"
    },
    {
     "data": {
      "image/png": "[encoded data removed]",
      "text/plain": [
       "<Figure size 432x288 with 2 Axes>"
      ]
     },
     "metadata": {
      "needs_background": "light"
     },
     "output_type": "display_data"
    }
   ],
   "source": [
    "sns.heatmap(df.isna())"
   ]
  },
  {
   "cell_type": "code",
   "execution_count": 29,
   "metadata": {},
   "outputs": [
    {
     "data": {
      "text/html": [
       "<div>\n",
       "<style scoped>\n",
       "    .dataframe tbody tr th:only-of-type {\n",
       "        vertical-align: middle;\n",
       "    }\n",
       "\n",
       "    .dataframe tbody tr th {\n",
       "        vertical-align: top;\n",
       "    }\n",
       "\n",
       "    .dataframe thead th {\n",
       "        text-align: right;\n",
       "    }\n",
       "</style>\n",
       "<table border=\"1\" class=\"dataframe\">\n",
       "  <thead>\n",
       "    <tr style=\"text-align: right;\">\n",
       "      <th></th>\n",
       "      <th>2</th>\n",
       "      <th>3</th>\n",
       "      <th>4</th>\n",
       "      <th>5</th>\n",
       "      <th>6</th>\n",
       "      <th>7</th>\n",
       "      <th>8</th>\n",
       "      <th>9</th>\n",
       "      <th>10</th>\n",
       "      <th>11</th>\n",
       "      <th>...</th>\n",
       "      <th>18</th>\n",
       "      <th>19</th>\n",
       "      <th>20</th>\n",
       "      <th>21</th>\n",
       "      <th>22</th>\n",
       "      <th>23</th>\n",
       "      <th>24</th>\n",
       "      <th>25</th>\n",
       "      <th>26</th>\n",
       "      <th>27</th>\n",
       "    </tr>\n",
       "  </thead>\n",
       "  <tbody>\n",
       "    <tr>\n",
       "      <th>count</th>\n",
       "      <td>3504.000000</td>\n",
       "      <td>3504.000000</td>\n",
       "      <td>3504.000000</td>\n",
       "      <td>3504.000000</td>\n",
       "      <td>3504.000000</td>\n",
       "      <td>3504.000000</td>\n",
       "      <td>3504.000000</td>\n",
       "      <td>3504.000000</td>\n",
       "      <td>3504.000000</td>\n",
       "      <td>3504.000000</td>\n",
       "      <td>...</td>\n",
       "      <td>3504.000000</td>\n",
       "      <td>3.504000e+03</td>\n",
       "      <td>3.504000e+03</td>\n",
       "      <td>3504.000000</td>\n",
       "      <td>3504.000000</td>\n",
       "      <td>3504.000000</td>\n",
       "      <td>3504.000000</td>\n",
       "      <td>3504.000000</td>\n",
       "      <td>3504.00000</td>\n",
       "      <td>3504.000000</td>\n",
       "    </tr>\n",
       "    <tr>\n",
       "      <th>mean</th>\n",
       "      <td>10.364726</td>\n",
       "      <td>0.106450</td>\n",
       "      <td>23.465468</td>\n",
       "      <td>314.350742</td>\n",
       "      <td>107.789384</td>\n",
       "      <td>1045.402397</td>\n",
       "      <td>2.447123</td>\n",
       "      <td>924.944920</td>\n",
       "      <td>2.168610</td>\n",
       "      <td>51.883944</td>\n",
       "      <td>...</td>\n",
       "      <td>54.084506</td>\n",
       "      <td>8.580718e+04</td>\n",
       "      <td>4.526591e+04</td>\n",
       "      <td>10.119578</td>\n",
       "      <td>0.005137</td>\n",
       "      <td>4.954983</td>\n",
       "      <td>5.193827</td>\n",
       "      <td>1928.527968</td>\n",
       "      <td>1.15097</td>\n",
       "      <td>1.150970</td>\n",
       "    </tr>\n",
       "    <tr>\n",
       "      <th>std</th>\n",
       "      <td>5.863610</td>\n",
       "      <td>0.966657</td>\n",
       "      <td>49.537339</td>\n",
       "      <td>668.250422</td>\n",
       "      <td>251.401108</td>\n",
       "      <td>3219.732277</td>\n",
       "      <td>0.811443</td>\n",
       "      <td>2567.087684</td>\n",
       "      <td>0.516861</td>\n",
       "      <td>4.219284</td>\n",
       "      <td>...</td>\n",
       "      <td>5.008850</td>\n",
       "      <td>2.448900e+05</td>\n",
       "      <td>1.316365e+05</td>\n",
       "      <td>6.141237</td>\n",
       "      <td>0.151034</td>\n",
       "      <td>10.915866</td>\n",
       "      <td>11.443283</td>\n",
       "      <td>14040.617995</td>\n",
       "      <td>6.69952</td>\n",
       "      <td>6.970988</td>\n",
       "    </tr>\n",
       "    <tr>\n",
       "      <th>min</th>\n",
       "      <td>0.000000</td>\n",
       "      <td>0.000000</td>\n",
       "      <td>2.000000</td>\n",
       "      <td>54.000000</td>\n",
       "      <td>3.000000</td>\n",
       "      <td>19.000000</td>\n",
       "      <td>0.550000</td>\n",
       "      <td>39.000000</td>\n",
       "      <td>1.340000</td>\n",
       "      <td>37.150000</td>\n",
       "      <td>...</td>\n",
       "      <td>43.570000</td>\n",
       "      <td>6.383000e+03</td>\n",
       "      <td>3.215000e+03</td>\n",
       "      <td>0.000000</td>\n",
       "      <td>0.000000</td>\n",
       "      <td>0.020000</td>\n",
       "      <td>0.020000</td>\n",
       "      <td>1.000000</td>\n",
       "      <td>0.00000</td>\n",
       "      <td>0.000000</td>\n",
       "    </tr>\n",
       "    <tr>\n",
       "      <th>25%</th>\n",
       "      <td>5.000000</td>\n",
       "      <td>0.000000</td>\n",
       "      <td>4.000000</td>\n",
       "      <td>75.000000</td>\n",
       "      <td>12.000000</td>\n",
       "      <td>138.000000</td>\n",
       "      <td>1.910000</td>\n",
       "      <td>117.000000</td>\n",
       "      <td>1.750000</td>\n",
       "      <td>49.120000</td>\n",
       "      <td>...</td>\n",
       "      <td>50.155000</td>\n",
       "      <td>1.419100e+04</td>\n",
       "      <td>8.146000e+03</td>\n",
       "      <td>4.000000</td>\n",
       "      <td>0.000000</td>\n",
       "      <td>0.220000</td>\n",
       "      <td>0.230000</td>\n",
       "      <td>27.000000</td>\n",
       "      <td>0.00000</td>\n",
       "      <td>0.000000</td>\n",
       "    </tr>\n",
       "    <tr>\n",
       "      <th>50%</th>\n",
       "      <td>10.000000</td>\n",
       "      <td>0.000000</td>\n",
       "      <td>9.000000</td>\n",
       "      <td>147.000000</td>\n",
       "      <td>32.000000</td>\n",
       "      <td>291.000000</td>\n",
       "      <td>2.490000</td>\n",
       "      <td>284.000000</td>\n",
       "      <td>2.160000</td>\n",
       "      <td>52.240000</td>\n",
       "      <td>...</td>\n",
       "      <td>55.080000</td>\n",
       "      <td>2.257600e+04</td>\n",
       "      <td>1.231400e+04</td>\n",
       "      <td>11.000000</td>\n",
       "      <td>0.000000</td>\n",
       "      <td>0.530000</td>\n",
       "      <td>0.550000</td>\n",
       "      <td>92.000000</td>\n",
       "      <td>0.00000</td>\n",
       "      <td>0.000000</td>\n",
       "    </tr>\n",
       "    <tr>\n",
       "      <th>75%</th>\n",
       "      <td>15.000000</td>\n",
       "      <td>0.000000</td>\n",
       "      <td>18.000000</td>\n",
       "      <td>242.000000</td>\n",
       "      <td>96.000000</td>\n",
       "      <td>735.000000</td>\n",
       "      <td>2.890000</td>\n",
       "      <td>779.000000</td>\n",
       "      <td>2.490000</td>\n",
       "      <td>55.480000</td>\n",
       "      <td>...</td>\n",
       "      <td>57.400000</td>\n",
       "      <td>6.783400e+04</td>\n",
       "      <td>3.243900e+04</td>\n",
       "      <td>15.000000</td>\n",
       "      <td>0.000000</td>\n",
       "      <td>2.390000</td>\n",
       "      <td>2.500000</td>\n",
       "      <td>492.000000</td>\n",
       "      <td>0.00000</td>\n",
       "      <td>0.000000</td>\n",
       "    </tr>\n",
       "    <tr>\n",
       "      <th>max</th>\n",
       "      <td>20.000000</td>\n",
       "      <td>12.000000</td>\n",
       "      <td>226.000000</td>\n",
       "      <td>3092.000000</td>\n",
       "      <td>2131.000000</td>\n",
       "      <td>36878.000000</td>\n",
       "      <td>5.380000</td>\n",
       "      <td>27702.000000</td>\n",
       "      <td>3.350000</td>\n",
       "      <td>59.450000</td>\n",
       "      <td>...</td>\n",
       "      <td>62.580000</td>\n",
       "      <td>2.697514e+06</td>\n",
       "      <td>1.467094e+06</td>\n",
       "      <td>20.000000</td>\n",
       "      <td>6.000000</td>\n",
       "      <td>49.110000</td>\n",
       "      <td>51.420000</td>\n",
       "      <td>513915.000000</td>\n",
       "      <td>94.00000</td>\n",
       "      <td>106.000000</td>\n",
       "    </tr>\n",
       "  </tbody>\n",
       "</table>\n",
       "<p>8 rows × 26 columns</p>\n",
       "</div>"
      ],
      "text/plain": [
       "                2            3            4            5            6   \\\n",
       "count  3504.000000  3504.000000  3504.000000  3504.000000  3504.000000   \n",
       "mean     10.364726     0.106450    23.465468   314.350742   107.789384   \n",
       "std       5.863610     0.966657    49.537339   668.250422   251.401108   \n",
       "min       0.000000     0.000000     2.000000    54.000000     3.000000   \n",
       "25%       5.000000     0.000000     4.000000    75.000000    12.000000   \n",
       "50%      10.000000     0.000000     9.000000   147.000000    32.000000   \n",
       "75%      15.000000     0.000000    18.000000   242.000000    96.000000   \n",
       "max      20.000000    12.000000   226.000000  3092.000000  2131.000000   \n",
       "\n",
       "                 7            8             9            10           11  ...  \\\n",
       "count   3504.000000  3504.000000   3504.000000  3504.000000  3504.000000  ...   \n",
       "mean    1045.402397     2.447123    924.944920     2.168610    51.883944  ...   \n",
       "std     3219.732277     0.811443   2567.087684     0.516861     4.219284  ...   \n",
       "min       19.000000     0.550000     39.000000     1.340000    37.150000  ...   \n",
       "25%      138.000000     1.910000    117.000000     1.750000    49.120000  ...   \n",
       "50%      291.000000     2.490000    284.000000     2.160000    52.240000  ...   \n",
       "75%      735.000000     2.890000    779.000000     2.490000    55.480000  ...   \n",
       "max    36878.000000     5.380000  27702.000000     3.350000    59.450000  ...   \n",
       "\n",
       "                18            19            20           21           22  \\\n",
       "count  3504.000000  3.504000e+03  3.504000e+03  3504.000000  3504.000000   \n",
       "mean     54.084506  8.580718e+04  4.526591e+04    10.119578     0.005137   \n",
       "std       5.008850  2.448900e+05  1.316365e+05     6.141237     0.151034   \n",
       "min      43.570000  6.383000e+03  3.215000e+03     0.000000     0.000000   \n",
       "25%      50.155000  1.419100e+04  8.146000e+03     4.000000     0.000000   \n",
       "50%      55.080000  2.257600e+04  1.231400e+04    11.000000     0.000000   \n",
       "75%      57.400000  6.783400e+04  3.243900e+04    15.000000     0.000000   \n",
       "max      62.580000  2.697514e+06  1.467094e+06    20.000000     6.000000   \n",
       "\n",
       "                23           24             25          26           27  \n",
       "count  3504.000000  3504.000000    3504.000000  3504.00000  3504.000000  \n",
       "mean      4.954983     5.193827    1928.527968     1.15097     1.150970  \n",
       "std      10.915866    11.443283   14040.617995     6.69952     6.970988  \n",
       "min       0.020000     0.020000       1.000000     0.00000     0.000000  \n",
       "25%       0.220000     0.230000      27.000000     0.00000     0.000000  \n",
       "50%       0.530000     0.550000      92.000000     0.00000     0.000000  \n",
       "75%       2.390000     2.500000     492.000000     0.00000     0.000000  \n",
       "max      49.110000    51.420000  513915.000000    94.00000   106.000000  \n",
       "\n",
       "[8 rows x 26 columns]"
      ]
     },
     "execution_count": 29,
     "metadata": {},
     "output_type": "execute_result"
    }
   ],
   "source": [
    "df.describe()"
   ]
  },
  {
   "cell_type": "markdown",
   "metadata": {},
   "source": [
    "From the above we can see that outliers is present in the dataset which we will visualise through boxplots plot further, as the values are deviating from 3rd quartile to max value and also the data is skewed as mean is greater than median and vice versa."
   ]
  },
  {
   "cell_type": "code",
   "execution_count": 30,
   "metadata": {},
   "outputs": [],
   "source": [
    "#data visualisation"
   ]
  },
  {
   "cell_type": "code",
   "execution_count": 31,
   "metadata": {},
   "outputs": [
    {
     "data": {
      "text/plain": [
       "<matplotlib.axes._subplots.AxesSubplot at 0xcd529f5d08>"
      ]
     },
     "execution_count": 31,
     "metadata": {},
     "output_type": "execute_result"
    },
    {
     "data": {
      "image/png": "[encoded data removed]",
      "text/plain": [
       "<Figure size 1080x720 with 2 Axes>"
      ]
     },
     "metadata": {
      "needs_background": "light"
     },
     "output_type": "display_data"
    }
   ],
   "source": [
    "plt.figure(figsize=(15,10))\n",
    "sns.heatmap(df.corr(),annot=True,cmap='RdYlGn')"
   ]
  },
  {
   "cell_type": "code",
   "execution_count": 32,
   "metadata": {},
   "outputs": [],
   "source": [
    "#from the above we can see that most of the values are positively corrrelated amongst each other"
   ]
  },
  {
   "cell_type": "code",
   "execution_count": 37,
   "metadata": {},
   "outputs": [
    {
     "data": {
      "text/plain": [
       "Text(0.5, 1.0, 'pre.subscribedVoters')"
      ]
     },
     "execution_count": 37,
     "metadata": {},
     "output_type": "execute_result"
    },
    {
     "data": {
      "image/png": "[encoded data removed]",
      "text/plain": [
       "<Figure size 432x288 with 1 Axes>"
      ]
     },
     "metadata": {
      "needs_background": "light"
     },
     "output_type": "display_data"
    }
   ],
   "source": [
    "sns.distplot(df[19])\n",
    "plt.title('pre.subscribedVoters')"
   ]
  },
  {
   "cell_type": "code",
   "execution_count": 41,
   "metadata": {},
   "outputs": [
    {
     "data": {
      "text/plain": [
       "<matplotlib.axes._subplots.AxesSubplot at 0xcd5555ea08>"
      ]
     },
     "execution_count": 41,
     "metadata": {},
     "output_type": "execute_result"
    },
    {
     "data": {
      "image/png": "[encoded data removed]",
      "text/plain": [
       "<Figure size 1080x360 with 1 Axes>"
      ]
     },
     "metadata": {
      "needs_background": "light"
     },
     "output_type": "display_data"
    }
   ],
   "source": [
    "df.boxplot(figsize=(15,5),color='green')      #shows outliers in the columns"
   ]
  },
  {
   "cell_type": "code",
   "execution_count": 51,
   "metadata": {},
   "outputs": [
    {
     "data": {
      "text/plain": [
       "Text(0, 0.5, 'FinalMandates')"
      ]
     },
     "execution_count": 51,
     "metadata": {},
     "output_type": "execute_result"
    },
    {
     "data": {
      "image/png": "[encoded data removed]",
      "text/plain": [
       "<Figure size 432x288 with 1 Axes>"
      ]
     },
     "metadata": {
      "needs_background": "light"
     },
     "output_type": "display_data"
    }
   ],
   "source": [
    "plt.bar(df[2],df[27],color='purple')\n",
    "plt.xlabel('territoryName')\n",
    "plt.ylabel('FinalMandates')"
   ]
  },
  {
   "cell_type": "code",
   "execution_count": 62,
   "metadata": {},
   "outputs": [
    {
     "data": {
      "text/plain": [
       "Text(0.5, 1.0, 'Parties')"
      ]
     },
     "execution_count": 62,
     "metadata": {},
     "output_type": "execute_result"
    },
    {
     "data": {
      "image/png": "[encoded data removed]",
      "text/plain": [
       "<Figure size 432x288 with 1 Axes>"
      ]
     },
     "metadata": {
      "needs_background": "light"
     },
     "output_type": "display_data"
    }
   ],
   "source": [
    "sns.countplot(df[21])\n",
    "plt.title('Parties')"
   ]
  },
  {
   "cell_type": "code",
   "execution_count": 55,
   "metadata": {},
   "outputs": [
    {
     "data": {
      "image/png": "[encoded data removed]",
      "text/plain": [
       "<Figure size 432x432 with 3 Axes>"
      ]
     },
     "metadata": {
      "needs_background": "light"
     },
     "output_type": "display_data"
    }
   ],
   "source": [
    "sns.jointplot(df[7],df[14],kind=\"kde\")\n",
    "plt.show()"
   ]
  },
  {
   "cell_type": "code",
   "execution_count": 56,
   "metadata": {},
   "outputs": [
    {
     "data": {
      "text/html": [
       "<div>\n",
       "<style scoped>\n",
       "    .dataframe tbody tr th:only-of-type {\n",
       "        vertical-align: middle;\n",
       "    }\n",
       "\n",
       "    .dataframe tbody tr th {\n",
       "        vertical-align: top;\n",
       "    }\n",
       "\n",
       "    .dataframe thead th {\n",
       "        text-align: right;\n",
       "    }\n",
       "</style>\n",
       "<table border=\"1\" class=\"dataframe\">\n",
       "  <thead>\n",
       "    <tr style=\"text-align: right;\">\n",
       "      <th></th>\n",
       "      <th>2</th>\n",
       "      <th>3</th>\n",
       "      <th>4</th>\n",
       "      <th>5</th>\n",
       "      <th>6</th>\n",
       "      <th>7</th>\n",
       "      <th>8</th>\n",
       "      <th>9</th>\n",
       "      <th>10</th>\n",
       "      <th>11</th>\n",
       "      <th>...</th>\n",
       "      <th>18</th>\n",
       "      <th>19</th>\n",
       "      <th>20</th>\n",
       "      <th>21</th>\n",
       "      <th>22</th>\n",
       "      <th>23</th>\n",
       "      <th>24</th>\n",
       "      <th>25</th>\n",
       "      <th>26</th>\n",
       "      <th>27</th>\n",
       "    </tr>\n",
       "  </thead>\n",
       "  <tbody>\n",
       "    <tr>\n",
       "      <th>0</th>\n",
       "      <td>16</td>\n",
       "      <td>0</td>\n",
       "      <td>226</td>\n",
       "      <td>3092</td>\n",
       "      <td>1081</td>\n",
       "      <td>9652</td>\n",
       "      <td>2.5</td>\n",
       "      <td>8874</td>\n",
       "      <td>2.3</td>\n",
       "      <td>51.36</td>\n",
       "      <td>...</td>\n",
       "      <td>52.66</td>\n",
       "      <td>813743</td>\n",
       "      <td>428546</td>\n",
       "      <td>17</td>\n",
       "      <td>0</td>\n",
       "      <td>38.29</td>\n",
       "      <td>40.22</td>\n",
       "      <td>147993</td>\n",
       "      <td>94</td>\n",
       "      <td>106</td>\n",
       "    </tr>\n",
       "    <tr>\n",
       "      <th>1</th>\n",
       "      <td>16</td>\n",
       "      <td>0</td>\n",
       "      <td>226</td>\n",
       "      <td>3092</td>\n",
       "      <td>1081</td>\n",
       "      <td>9652</td>\n",
       "      <td>2.5</td>\n",
       "      <td>8874</td>\n",
       "      <td>2.3</td>\n",
       "      <td>51.36</td>\n",
       "      <td>...</td>\n",
       "      <td>52.66</td>\n",
       "      <td>813743</td>\n",
       "      <td>428546</td>\n",
       "      <td>15</td>\n",
       "      <td>0</td>\n",
       "      <td>33.28</td>\n",
       "      <td>34.95</td>\n",
       "      <td>128624</td>\n",
       "      <td>81</td>\n",
       "      <td>77</td>\n",
       "    </tr>\n",
       "    <tr>\n",
       "      <th>2</th>\n",
       "      <td>16</td>\n",
       "      <td>0</td>\n",
       "      <td>226</td>\n",
       "      <td>3092</td>\n",
       "      <td>1081</td>\n",
       "      <td>9652</td>\n",
       "      <td>2.5</td>\n",
       "      <td>8874</td>\n",
       "      <td>2.3</td>\n",
       "      <td>51.36</td>\n",
       "      <td>...</td>\n",
       "      <td>52.66</td>\n",
       "      <td>813743</td>\n",
       "      <td>428546</td>\n",
       "      <td>1</td>\n",
       "      <td>0</td>\n",
       "      <td>6.81</td>\n",
       "      <td>7.15</td>\n",
       "      <td>26307</td>\n",
       "      <td>16</td>\n",
       "      <td>19</td>\n",
       "    </tr>\n",
       "    <tr>\n",
       "      <th>3</th>\n",
       "      <td>16</td>\n",
       "      <td>0</td>\n",
       "      <td>226</td>\n",
       "      <td>3092</td>\n",
       "      <td>1081</td>\n",
       "      <td>9652</td>\n",
       "      <td>2.5</td>\n",
       "      <td>8874</td>\n",
       "      <td>2.3</td>\n",
       "      <td>51.36</td>\n",
       "      <td>...</td>\n",
       "      <td>52.66</td>\n",
       "      <td>813743</td>\n",
       "      <td>428546</td>\n",
       "      <td>2</td>\n",
       "      <td>0</td>\n",
       "      <td>4.90</td>\n",
       "      <td>5.14</td>\n",
       "      <td>18923</td>\n",
       "      <td>12</td>\n",
       "      <td>5</td>\n",
       "    </tr>\n",
       "    <tr>\n",
       "      <th>4</th>\n",
       "      <td>16</td>\n",
       "      <td>0</td>\n",
       "      <td>226</td>\n",
       "      <td>3092</td>\n",
       "      <td>1081</td>\n",
       "      <td>9652</td>\n",
       "      <td>2.5</td>\n",
       "      <td>8874</td>\n",
       "      <td>2.3</td>\n",
       "      <td>51.36</td>\n",
       "      <td>...</td>\n",
       "      <td>52.66</td>\n",
       "      <td>813743</td>\n",
       "      <td>428546</td>\n",
       "      <td>11</td>\n",
       "      <td>0</td>\n",
       "      <td>4.59</td>\n",
       "      <td>4.83</td>\n",
       "      <td>17757</td>\n",
       "      <td>11</td>\n",
       "      <td>12</td>\n",
       "    </tr>\n",
       "  </tbody>\n",
       "</table>\n",
       "<p>5 rows × 26 columns</p>\n",
       "</div>"
      ],
      "text/plain": [
       "   2   3    4     5     6     7    8     9    10     11  ...     18      19  \\\n",
       "0  16   0  226  3092  1081  9652  2.5  8874  2.3  51.36  ...  52.66  813743   \n",
       "1  16   0  226  3092  1081  9652  2.5  8874  2.3  51.36  ...  52.66  813743   \n",
       "2  16   0  226  3092  1081  9652  2.5  8874  2.3  51.36  ...  52.66  813743   \n",
       "3  16   0  226  3092  1081  9652  2.5  8874  2.3  51.36  ...  52.66  813743   \n",
       "4  16   0  226  3092  1081  9652  2.5  8874  2.3  51.36  ...  52.66  813743   \n",
       "\n",
       "       20  21  22     23     24      25  26   27  \n",
       "0  428546  17   0  38.29  40.22  147993  94  106  \n",
       "1  428546  15   0  33.28  34.95  128624  81   77  \n",
       "2  428546   1   0   6.81   7.15   26307  16   19  \n",
       "3  428546   2   0   4.90   5.14   18923  12    5  \n",
       "4  428546  11   0   4.59   4.83   17757  11   12  \n",
       "\n",
       "[5 rows x 26 columns]"
      ]
     },
     "execution_count": 56,
     "metadata": {},
     "output_type": "execute_result"
    }
   ],
   "source": [
    "df.head()"
   ]
  },
  {
   "cell_type": "code",
   "execution_count": 61,
   "metadata": {},
   "outputs": [
    {
     "data": {
      "text/plain": [
       "<Figure size 360x720 with 0 Axes>"
      ]
     },
     "execution_count": 61,
     "metadata": {},
     "output_type": "execute_result"
    },
    {
     "data": {
      "image/png": "[encoded data removed]",
      "text/plain": [
       "<Figure size 432x288 with 1 Axes>"
      ]
     },
     "metadata": {
      "needs_background": "light"
     },
     "output_type": "display_data"
    },
    {
     "data": {
      "text/plain": [
       "<Figure size 360x720 with 0 Axes>"
      ]
     },
     "metadata": {},
     "output_type": "display_data"
    }
   ],
   "source": [
    "sns.countplot(df[8])   #count of % of null votes"
   ]
  },
  {
   "cell_type": "code",
   "execution_count": 59,
   "metadata": {},
   "outputs": [
    {
     "data": {
      "text/plain": [
       "<matplotlib.axes._subplots.AxesSubplot at 0xcd5fb58888>"
      ]
     },
     "execution_count": 59,
     "metadata": {},
     "output_type": "execute_result"
    },
    {
     "data": {
      "image/png": "[encoded data removed]",
      "text/plain": [
       "<Figure size 432x288 with 1 Axes>"
      ]
     },
     "metadata": {
      "needs_background": "light"
     },
     "output_type": "display_data"
    }
   ],
   "source": [
    "sns.countplot(df[10])  #count of blank votes%"
   ]
  },
  {
   "cell_type": "code",
   "execution_count": 65,
   "metadata": {},
   "outputs": [
    {
     "data": {
      "text/plain": [
       "Text(0, 0.5, 'votes')"
      ]
     },
     "execution_count": 65,
     "metadata": {},
     "output_type": "execute_result"
    },
    {
     "data": {
      "image/png": "[encoded data removed]",
      "text/plain": [
       "<Figure size 432x288 with 1 Axes>"
      ]
     },
     "metadata": {
      "needs_background": "light"
     },
     "output_type": "display_data"
    }
   ],
   "source": [
    "plt.bar(df[21],df[25])\n",
    "plt.xlabel('parties')\n",
    "plt.ylabel('votes')"
   ]
  },
  {
   "cell_type": "code",
   "execution_count": 66,
   "metadata": {},
   "outputs": [],
   "source": [
    "#removing the outliers"
   ]
  },
  {
   "cell_type": "code",
   "execution_count": 67,
   "metadata": {},
   "outputs": [],
   "source": [
    "from scipy.stats import zscore"
   ]
  },
  {
   "cell_type": "code",
   "execution_count": 68,
   "metadata": {},
   "outputs": [],
   "source": [
    "z=np.abs(zscore(df))"
   ]
  },
  {
   "cell_type": "code",
   "execution_count": 69,
   "metadata": {},
   "outputs": [
    {
     "name": "stdout",
     "output_type": "stream",
     "text": [
      "(array([   0,    0,    0, ..., 3472, 3473, 3473], dtype=int64), array([ 2,  3,  4, ..., 22, 21, 22], dtype=int64))\n"
     ]
    }
   ],
   "source": [
    "threshold=3\n",
    "print(np.where(z>3))"
   ]
  },
  {
   "cell_type": "code",
   "execution_count": 70,
   "metadata": {},
   "outputs": [],
   "source": [
    "df_new=df[(z<3).all(axis=1)]"
   ]
  },
  {
   "cell_type": "code",
   "execution_count": 71,
   "metadata": {},
   "outputs": [
    {
     "data": {
      "text/plain": [
       "(3112, 26)"
      ]
     },
     "execution_count": 71,
     "metadata": {},
     "output_type": "execute_result"
    }
   ],
   "source": [
    "df_new.shape   #shape of the df after removing outliers"
   ]
  },
  {
   "cell_type": "code",
   "execution_count": 72,
   "metadata": {},
   "outputs": [
    {
     "data": {
      "text/plain": [
       "(3504, 26)"
      ]
     },
     "execution_count": 72,
     "metadata": {},
     "output_type": "execute_result"
    }
   ],
   "source": [
    "df.shape  #original shape of the dataset"
   ]
  },
  {
   "cell_type": "code",
   "execution_count": 75,
   "metadata": {},
   "outputs": [],
   "source": [
    "#splitting the dataset in x and y"
   ]
  },
  {
   "cell_type": "code",
   "execution_count": 76,
   "metadata": {},
   "outputs": [
    {
     "data": {
      "text/html": [
       "<div>\n",
       "<style scoped>\n",
       "    .dataframe tbody tr th:only-of-type {\n",
       "        vertical-align: middle;\n",
       "    }\n",
       "\n",
       "    .dataframe tbody tr th {\n",
       "        vertical-align: top;\n",
       "    }\n",
       "\n",
       "    .dataframe thead th {\n",
       "        text-align: right;\n",
       "    }\n",
       "</style>\n",
       "<table border=\"1\" class=\"dataframe\">\n",
       "  <thead>\n",
       "    <tr style=\"text-align: right;\">\n",
       "      <th></th>\n",
       "      <th>2</th>\n",
       "      <th>3</th>\n",
       "      <th>4</th>\n",
       "      <th>5</th>\n",
       "      <th>6</th>\n",
       "      <th>7</th>\n",
       "      <th>8</th>\n",
       "      <th>9</th>\n",
       "      <th>10</th>\n",
       "      <th>11</th>\n",
       "      <th>...</th>\n",
       "      <th>17</th>\n",
       "      <th>18</th>\n",
       "      <th>19</th>\n",
       "      <th>20</th>\n",
       "      <th>21</th>\n",
       "      <th>22</th>\n",
       "      <th>23</th>\n",
       "      <th>24</th>\n",
       "      <th>25</th>\n",
       "      <th>26</th>\n",
       "    </tr>\n",
       "  </thead>\n",
       "  <tbody>\n",
       "    <tr>\n",
       "      <th>0</th>\n",
       "      <td>16</td>\n",
       "      <td>0</td>\n",
       "      <td>226</td>\n",
       "      <td>3092</td>\n",
       "      <td>1081</td>\n",
       "      <td>9652</td>\n",
       "      <td>2.5</td>\n",
       "      <td>8874</td>\n",
       "      <td>2.3</td>\n",
       "      <td>51.36</td>\n",
       "      <td>...</td>\n",
       "      <td>1.91</td>\n",
       "      <td>52.66</td>\n",
       "      <td>813743</td>\n",
       "      <td>428546</td>\n",
       "      <td>17</td>\n",
       "      <td>0</td>\n",
       "      <td>38.29</td>\n",
       "      <td>40.22</td>\n",
       "      <td>147993</td>\n",
       "      <td>94</td>\n",
       "    </tr>\n",
       "    <tr>\n",
       "      <th>1</th>\n",
       "      <td>16</td>\n",
       "      <td>0</td>\n",
       "      <td>226</td>\n",
       "      <td>3092</td>\n",
       "      <td>1081</td>\n",
       "      <td>9652</td>\n",
       "      <td>2.5</td>\n",
       "      <td>8874</td>\n",
       "      <td>2.3</td>\n",
       "      <td>51.36</td>\n",
       "      <td>...</td>\n",
       "      <td>1.91</td>\n",
       "      <td>52.66</td>\n",
       "      <td>813743</td>\n",
       "      <td>428546</td>\n",
       "      <td>15</td>\n",
       "      <td>0</td>\n",
       "      <td>33.28</td>\n",
       "      <td>34.95</td>\n",
       "      <td>128624</td>\n",
       "      <td>81</td>\n",
       "    </tr>\n",
       "    <tr>\n",
       "      <th>2</th>\n",
       "      <td>16</td>\n",
       "      <td>0</td>\n",
       "      <td>226</td>\n",
       "      <td>3092</td>\n",
       "      <td>1081</td>\n",
       "      <td>9652</td>\n",
       "      <td>2.5</td>\n",
       "      <td>8874</td>\n",
       "      <td>2.3</td>\n",
       "      <td>51.36</td>\n",
       "      <td>...</td>\n",
       "      <td>1.91</td>\n",
       "      <td>52.66</td>\n",
       "      <td>813743</td>\n",
       "      <td>428546</td>\n",
       "      <td>1</td>\n",
       "      <td>0</td>\n",
       "      <td>6.81</td>\n",
       "      <td>7.15</td>\n",
       "      <td>26307</td>\n",
       "      <td>16</td>\n",
       "    </tr>\n",
       "    <tr>\n",
       "      <th>3</th>\n",
       "      <td>16</td>\n",
       "      <td>0</td>\n",
       "      <td>226</td>\n",
       "      <td>3092</td>\n",
       "      <td>1081</td>\n",
       "      <td>9652</td>\n",
       "      <td>2.5</td>\n",
       "      <td>8874</td>\n",
       "      <td>2.3</td>\n",
       "      <td>51.36</td>\n",
       "      <td>...</td>\n",
       "      <td>1.91</td>\n",
       "      <td>52.66</td>\n",
       "      <td>813743</td>\n",
       "      <td>428546</td>\n",
       "      <td>2</td>\n",
       "      <td>0</td>\n",
       "      <td>4.90</td>\n",
       "      <td>5.14</td>\n",
       "      <td>18923</td>\n",
       "      <td>12</td>\n",
       "    </tr>\n",
       "    <tr>\n",
       "      <th>4</th>\n",
       "      <td>16</td>\n",
       "      <td>0</td>\n",
       "      <td>226</td>\n",
       "      <td>3092</td>\n",
       "      <td>1081</td>\n",
       "      <td>9652</td>\n",
       "      <td>2.5</td>\n",
       "      <td>8874</td>\n",
       "      <td>2.3</td>\n",
       "      <td>51.36</td>\n",
       "      <td>...</td>\n",
       "      <td>1.91</td>\n",
       "      <td>52.66</td>\n",
       "      <td>813743</td>\n",
       "      <td>428546</td>\n",
       "      <td>11</td>\n",
       "      <td>0</td>\n",
       "      <td>4.59</td>\n",
       "      <td>4.83</td>\n",
       "      <td>17757</td>\n",
       "      <td>11</td>\n",
       "    </tr>\n",
       "  </tbody>\n",
       "</table>\n",
       "<p>5 rows × 25 columns</p>\n",
       "</div>"
      ],
      "text/plain": [
       "   2   3    4     5     6     7    8     9    10     11  ...    17     18  \\\n",
       "0  16   0  226  3092  1081  9652  2.5  8874  2.3  51.36  ...  1.91  52.66   \n",
       "1  16   0  226  3092  1081  9652  2.5  8874  2.3  51.36  ...  1.91  52.66   \n",
       "2  16   0  226  3092  1081  9652  2.5  8874  2.3  51.36  ...  1.91  52.66   \n",
       "3  16   0  226  3092  1081  9652  2.5  8874  2.3  51.36  ...  1.91  52.66   \n",
       "4  16   0  226  3092  1081  9652  2.5  8874  2.3  51.36  ...  1.91  52.66   \n",
       "\n",
       "       19      20  21  22     23     24      25  26  \n",
       "0  813743  428546  17   0  38.29  40.22  147993  94  \n",
       "1  813743  428546  15   0  33.28  34.95  128624  81  \n",
       "2  813743  428546   1   0   6.81   7.15   26307  16  \n",
       "3  813743  428546   2   0   4.90   5.14   18923  12  \n",
       "4  813743  428546  11   0   4.59   4.83   17757  11  \n",
       "\n",
       "[5 rows x 25 columns]"
      ]
     },
     "execution_count": 76,
     "metadata": {},
     "output_type": "execute_result"
    }
   ],
   "source": [
    "x=df.drop(27,axis=1)\n",
    "x.head()"
   ]
  },
  {
   "cell_type": "code",
   "execution_count": 77,
   "metadata": {},
   "outputs": [
    {
     "data": {
      "text/plain": [
       "(3504, 1)"
      ]
     },
     "execution_count": 77,
     "metadata": {},
     "output_type": "execute_result"
    }
   ],
   "source": [
    "y=df[27].values\n",
    "y=y.reshape(-1,1)\n",
    "y.shape"
   ]
  },
  {
   "cell_type": "code",
   "execution_count": 78,
   "metadata": {},
   "outputs": [
    {
     "data": {
      "text/plain": [
       "(3504, 25)"
      ]
     },
     "execution_count": 78,
     "metadata": {},
     "output_type": "execute_result"
    }
   ],
   "source": [
    "x.shape"
   ]
  },
  {
   "cell_type": "code",
   "execution_count": 73,
   "metadata": {},
   "outputs": [],
   "source": [
    "#using dimensionality redution technique will reduce the dimension of the dataset"
   ]
  },
  {
   "cell_type": "code",
   "execution_count": 74,
   "metadata": {},
   "outputs": [],
   "source": [
    "from sklearn.decomposition import PCA"
   ]
  },
  {
   "cell_type": "code",
   "execution_count": 79,
   "metadata": {},
   "outputs": [],
   "source": [
    "pca=PCA(n_components=9)"
   ]
  },
  {
   "cell_type": "code",
   "execution_count": 80,
   "metadata": {},
   "outputs": [
    {
     "data": {
      "text/html": [
       "<div>\n",
       "<style scoped>\n",
       "    .dataframe tbody tr th:only-of-type {\n",
       "        vertical-align: middle;\n",
       "    }\n",
       "\n",
       "    .dataframe tbody tr th {\n",
       "        vertical-align: top;\n",
       "    }\n",
       "\n",
       "    .dataframe thead th {\n",
       "        text-align: right;\n",
       "    }\n",
       "</style>\n",
       "<table border=\"1\" class=\"dataframe\">\n",
       "  <thead>\n",
       "    <tr style=\"text-align: right;\">\n",
       "      <th></th>\n",
       "      <th>0</th>\n",
       "      <th>1</th>\n",
       "      <th>2</th>\n",
       "      <th>3</th>\n",
       "      <th>4</th>\n",
       "      <th>5</th>\n",
       "      <th>6</th>\n",
       "      <th>7</th>\n",
       "      <th>8</th>\n",
       "    </tr>\n",
       "  </thead>\n",
       "  <tbody>\n",
       "    <tr>\n",
       "      <th>0</th>\n",
       "      <td>1.119737e+06</td>\n",
       "      <td>129962.174348</td>\n",
       "      <td>-13808.619115</td>\n",
       "      <td>-3422.119828</td>\n",
       "      <td>413.061911</td>\n",
       "      <td>330.221250</td>\n",
       "      <td>230.318776</td>\n",
       "      <td>120.813385</td>\n",
       "      <td>-107.533548</td>\n",
       "    </tr>\n",
       "    <tr>\n",
       "      <th>1</th>\n",
       "      <td>1.119459e+06</td>\n",
       "      <td>110595.492024</td>\n",
       "      <td>-13694.635665</td>\n",
       "      <td>-3416.451371</td>\n",
       "      <td>412.784072</td>\n",
       "      <td>329.625432</td>\n",
       "      <td>231.074210</td>\n",
       "      <td>121.179236</td>\n",
       "      <td>-107.098577</td>\n",
       "    </tr>\n",
       "    <tr>\n",
       "      <th>2</th>\n",
       "      <td>1.117994e+06</td>\n",
       "      <td>8290.736395</td>\n",
       "      <td>-13092.517298</td>\n",
       "      <td>-3386.508943</td>\n",
       "      <td>411.315908</td>\n",
       "      <td>326.492780</td>\n",
       "      <td>235.057715</td>\n",
       "      <td>123.099730</td>\n",
       "      <td>-104.811751</td>\n",
       "    </tr>\n",
       "    <tr>\n",
       "      <th>3</th>\n",
       "      <td>1.117888e+06</td>\n",
       "      <td>907.620378</td>\n",
       "      <td>-13049.063829</td>\n",
       "      <td>-3384.348388</td>\n",
       "      <td>411.209849</td>\n",
       "      <td>326.268641</td>\n",
       "      <td>235.344648</td>\n",
       "      <td>123.237399</td>\n",
       "      <td>-104.652144</td>\n",
       "    </tr>\n",
       "    <tr>\n",
       "      <th>4</th>\n",
       "      <td>1.117871e+06</td>\n",
       "      <td>-258.239815</td>\n",
       "      <td>-13042.202050</td>\n",
       "      <td>-3384.007366</td>\n",
       "      <td>411.193096</td>\n",
       "      <td>326.229071</td>\n",
       "      <td>235.393199</td>\n",
       "      <td>123.264678</td>\n",
       "      <td>-104.636566</td>\n",
       "    </tr>\n",
       "  </tbody>\n",
       "</table>\n",
       "</div>"
      ],
      "text/plain": [
       "              0              1             2            3           4  \\\n",
       "0  1.119737e+06  129962.174348 -13808.619115 -3422.119828  413.061911   \n",
       "1  1.119459e+06  110595.492024 -13694.635665 -3416.451371  412.784072   \n",
       "2  1.117994e+06    8290.736395 -13092.517298 -3386.508943  411.315908   \n",
       "3  1.117888e+06     907.620378 -13049.063829 -3384.348388  411.209849   \n",
       "4  1.117871e+06    -258.239815 -13042.202050 -3384.007366  411.193096   \n",
       "\n",
       "            5           6           7           8  \n",
       "0  330.221250  230.318776  120.813385 -107.533548  \n",
       "1  329.625432  231.074210  121.179236 -107.098577  \n",
       "2  326.492780  235.057715  123.099730 -104.811751  \n",
       "3  326.268641  235.344648  123.237399 -104.652144  \n",
       "4  326.229071  235.393199  123.264678 -104.636566  "
      ]
     },
     "execution_count": 80,
     "metadata": {},
     "output_type": "execute_result"
    }
   ],
   "source": [
    "x=pca.fit_transform(x)\n",
    "x=pd.DataFrame(data=x)\n",
    "x.head()"
   ]
  },
  {
   "cell_type": "code",
   "execution_count": 81,
   "metadata": {},
   "outputs": [],
   "source": [
    "#performing standardisation of the data to bring mean to 0 and std and var to 1"
   ]
  },
  {
   "cell_type": "code",
   "execution_count": 82,
   "metadata": {},
   "outputs": [],
   "source": [
    "from sklearn.preprocessing import StandardScaler"
   ]
  },
  {
   "cell_type": "code",
   "execution_count": 83,
   "metadata": {},
   "outputs": [],
   "source": [
    "std=StandardScaler()"
   ]
  },
  {
   "cell_type": "code",
   "execution_count": 84,
   "metadata": {},
   "outputs": [
    {
     "data": {
      "text/html": [
       "<div>\n",
       "<style scoped>\n",
       "    .dataframe tbody tr th:only-of-type {\n",
       "        vertical-align: middle;\n",
       "    }\n",
       "\n",
       "    .dataframe tbody tr th {\n",
       "        vertical-align: top;\n",
       "    }\n",
       "\n",
       "    .dataframe thead th {\n",
       "        text-align: right;\n",
       "    }\n",
       "</style>\n",
       "<table border=\"1\" class=\"dataframe\">\n",
       "  <thead>\n",
       "    <tr style=\"text-align: right;\">\n",
       "      <th></th>\n",
       "      <th>0</th>\n",
       "      <th>1</th>\n",
       "      <th>2</th>\n",
       "      <th>3</th>\n",
       "      <th>4</th>\n",
       "      <th>5</th>\n",
       "      <th>6</th>\n",
       "      <th>7</th>\n",
       "      <th>8</th>\n",
       "    </tr>\n",
       "  </thead>\n",
       "  <tbody>\n",
       "    <tr>\n",
       "      <th>0</th>\n",
       "      <td>2.938626</td>\n",
       "      <td>10.046416</td>\n",
       "      <td>-2.463810</td>\n",
       "      <td>-1.813317</td>\n",
       "      <td>0.613383</td>\n",
       "      <td>1.573072</td>\n",
       "      <td>1.759575</td>\n",
       "      <td>1.103705</td>\n",
       "      <td>-1.574114</td>\n",
       "    </tr>\n",
       "    <tr>\n",
       "      <th>1</th>\n",
       "      <td>2.937898</td>\n",
       "      <td>8.549321</td>\n",
       "      <td>-2.443472</td>\n",
       "      <td>-1.810313</td>\n",
       "      <td>0.612970</td>\n",
       "      <td>1.570234</td>\n",
       "      <td>1.765346</td>\n",
       "      <td>1.107047</td>\n",
       "      <td>-1.567747</td>\n",
       "    </tr>\n",
       "    <tr>\n",
       "      <th>2</th>\n",
       "      <td>2.934053</td>\n",
       "      <td>0.640896</td>\n",
       "      <td>-2.336039</td>\n",
       "      <td>-1.794447</td>\n",
       "      <td>0.610790</td>\n",
       "      <td>1.555311</td>\n",
       "      <td>1.795779</td>\n",
       "      <td>1.124592</td>\n",
       "      <td>-1.534271</td>\n",
       "    </tr>\n",
       "    <tr>\n",
       "      <th>3</th>\n",
       "      <td>2.933775</td>\n",
       "      <td>0.070161</td>\n",
       "      <td>-2.328286</td>\n",
       "      <td>-1.793302</td>\n",
       "      <td>0.610632</td>\n",
       "      <td>1.554243</td>\n",
       "      <td>1.797971</td>\n",
       "      <td>1.125849</td>\n",
       "      <td>-1.531935</td>\n",
       "    </tr>\n",
       "    <tr>\n",
       "      <th>4</th>\n",
       "      <td>2.933731</td>\n",
       "      <td>-0.019963</td>\n",
       "      <td>-2.327062</td>\n",
       "      <td>-1.793122</td>\n",
       "      <td>0.610607</td>\n",
       "      <td>1.554055</td>\n",
       "      <td>1.798342</td>\n",
       "      <td>1.126099</td>\n",
       "      <td>-1.531707</td>\n",
       "    </tr>\n",
       "  </tbody>\n",
       "</table>\n",
       "</div>"
      ],
      "text/plain": [
       "          0          1         2         3         4         5         6  \\\n",
       "0  2.938626  10.046416 -2.463810 -1.813317  0.613383  1.573072  1.759575   \n",
       "1  2.937898   8.549321 -2.443472 -1.810313  0.612970  1.570234  1.765346   \n",
       "2  2.934053   0.640896 -2.336039 -1.794447  0.610790  1.555311  1.795779   \n",
       "3  2.933775   0.070161 -2.328286 -1.793302  0.610632  1.554243  1.797971   \n",
       "4  2.933731  -0.019963 -2.327062 -1.793122  0.610607  1.554055  1.798342   \n",
       "\n",
       "          7         8  \n",
       "0  1.103705 -1.574114  \n",
       "1  1.107047 -1.567747  \n",
       "2  1.124592 -1.534271  \n",
       "3  1.125849 -1.531935  \n",
       "4  1.126099 -1.531707  "
      ]
     },
     "execution_count": 84,
     "metadata": {},
     "output_type": "execute_result"
    }
   ],
   "source": [
    "x=std.fit_transform(x)\n",
    "x=pd.DataFrame(data=x)\n",
    "x.head()"
   ]
  },
  {
   "cell_type": "code",
   "execution_count": 86,
   "metadata": {},
   "outputs": [],
   "source": [
    "y=std.fit_transform(y)\n",
    "y=pd.DataFrame(data=y)"
   ]
  },
  {
   "cell_type": "code",
   "execution_count": 87,
   "metadata": {},
   "outputs": [],
   "source": [
    "#now with the help of linear regression we will build our model and check the accuracy"
   ]
  },
  {
   "cell_type": "code",
   "execution_count": 88,
   "metadata": {},
   "outputs": [],
   "source": [
    "#importing all required libraries"
   ]
  },
  {
   "cell_type": "code",
   "execution_count": 89,
   "metadata": {},
   "outputs": [],
   "source": [
    "from sklearn.linear_model import LinearRegression\n",
    "from sklearn.model_selection import train_test_split\n",
    "from sklearn.metrics import r2_score,mean_absolute_error,mean_squared_error"
   ]
  },
  {
   "cell_type": "code",
   "execution_count": 92,
   "metadata": {},
   "outputs": [
    {
     "name": "stdout",
     "output_type": "stream",
     "text": [
      "the r2 score corrosponding to the random state 42 is: 0.6061459881006518\n",
      "the r2 score corrosponding to the random state 43 is: 0.6377813506217694\n",
      "the r2 score corrosponding to the random state 44 is: 0.5748410806479907\n",
      "the r2 score corrosponding to the random state 45 is: 0.6366310227443714\n",
      "the r2 score corrosponding to the random state 46 is: 0.6316924655185489\n",
      "the r2 score corrosponding to the random state 47 is: 0.5408884060658556\n",
      "the r2 score corrosponding to the random state 48 is: 0.5121395681045703\n",
      "the r2 score corrosponding to the random state 49 is: 0.561222009020065\n",
      "the r2 score corrosponding to the random state 50 is: 0.6183909924777218\n",
      "the r2 score corrosponding to the random state 51 is: 0.6225329841944021\n",
      "the r2 score corrosponding to the random state 52 is: 0.5967927902307906\n",
      "the r2 score corrosponding to the random state 53 is: 0.6529774862973645\n",
      "the r2 score corrosponding to the random state 54 is: 0.6162858128938762\n",
      "the r2 score corrosponding to the random state 55 is: 0.5168479264984762\n",
      "the r2 score corrosponding to the random state 56 is: 0.64379201693562\n",
      "the r2 score corrosponding to the random state 57 is: 0.3687023417640377\n",
      "the r2 score corrosponding to the random state 58 is: 0.575187794421089\n",
      "the r2 score corrosponding to the random state 59 is: 0.5549709781014835\n",
      "the r2 score corrosponding to the random state 60 is: 0.6152158010137774\n",
      "the r2 score corrosponding to the random state 61 is: 0.5993303975980023\n",
      "the r2 score corrosponding to the random state 62 is: 0.6519327338357874\n",
      "the r2 score corrosponding to the random state 63 is: 0.6421072582941003\n",
      "the r2 score corrosponding to the random state 64 is: 0.6130583168390711\n",
      "the r2 score corrosponding to the random state 65 is: 0.5979071681048236\n",
      "the r2 score corrosponding to the random state 66 is: -0.7438261817975891\n",
      "the r2 score corrosponding to the random state 67 is: 0.6501229949108309\n",
      "the r2 score corrosponding to the random state 68 is: 0.636462042678654\n",
      "the r2 score corrosponding to the random state 69 is: 0.6294314586751582\n",
      "the r2 score corrosponding to the random state 70 is: 0.6197718931228546\n",
      "the r2 score corrosponding to the random state 71 is: -0.36812949798771233\n",
      "the r2 score corrosponding to the random state 72 is: 0.5965426481186272\n",
      "the r2 score corrosponding to the random state 73 is: 0.5509094929325691\n",
      "the r2 score corrosponding to the random state 74 is: -0.44234541281334594\n",
      "the r2 score corrosponding to the random state 75 is: 0.5965016354553321\n",
      "the r2 score corrosponding to the random state 76 is: 0.45212369012400766\n",
      "the r2 score corrosponding to the random state 77 is: 0.6549031024649958\n",
      "the r2 score corrosponding to the random state 78 is: 0.619834647538688\n",
      "the r2 score corrosponding to the random state 79 is: 0.6365979827115609\n",
      "the r2 score corrosponding to the random state 80 is: 0.6498074179660815\n",
      "the r2 score corrosponding to the random state 81 is: 0.5938529510440087\n",
      "the r2 score corrosponding to the random state 82 is: 0.6319015537194894\n",
      "the r2 score corrosponding to the random state 83 is: 0.6338417258606759\n",
      "the r2 score corrosponding to the random state 84 is: 0.6387013510164621\n",
      "the r2 score corrosponding to the random state 85 is: 0.616514754068562\n",
      "the r2 score corrosponding to the random state 86 is: 0.6172967804611464\n",
      "the r2 score corrosponding to the random state 87 is: -2.297141123805866\n",
      "the r2 score corrosponding to the random state 88 is: 0.6001595804679118\n",
      "the r2 score corrosponding to the random state 89 is: 0.33842207142303526\n",
      "the r2 score corrosponding to the random state 90 is: 0.6577730012997614\n",
      "the r2 score corrosponding to the random state 91 is: 0.32124702648642056\n",
      "the r2 score corrosponding to the random state 92 is: 0.43157817521743325\n",
      "the r2 score corrosponding to the random state 93 is: -1.0511878401586423\n",
      "the r2 score corrosponding to the random state 94 is: -0.43776765920764227\n",
      "the r2 score corrosponding to the random state 95 is: 0.6425946006853729\n",
      "the r2 score corrosponding to the random state 96 is: 0.6204899252467543\n",
      "the r2 score corrosponding to the random state 97 is: 0.675514678537791\n",
      "the r2 score corrosponding to the random state 98 is: -1.150655705063719\n",
      "the r2 score corrosponding to the random state 99 is: 0.6193354263908308\n",
      "\n",
      "\n",
      "maximum r2 score for the random state 97 is: 0.675514678537791\n"
     ]
    }
   ],
   "source": [
    "max_r2_scr=0\n",
    "for r_state in range(42,100):\n",
    "    x_train,x_test,y_train,y_test=train_test_split(x,y,random_state=r_state,test_size=0.30)\n",
    "    lr=LinearRegression()\n",
    "    lr.fit(x_train,y_train)\n",
    "    pred=lr.predict(x_test)\n",
    "    r2_scr=r2_score(y_test,pred)\n",
    "    print(\"the r2 score corrosponding to the random state\",r_state,\"is:\",r2_scr)\n",
    "    if r2_scr>max_r2_scr:\n",
    "        max_r2_scr=r2_scr\n",
    "        final_r_state=r_state\n",
    "\n",
    "print()\n",
    "print()\n",
    "print(\"maximum r2 score for the random state\",final_r_state,\"is:\",max_r2_scr)"
   ]
  },
  {
   "cell_type": "markdown",
   "metadata": {},
   "source": [
    "From the above we can see that our linear regressor model is predicting with accuracy of 68% at a random state of 97.\n",
    "will also check with other models too, whether the accuracy remains same or not."
   ]
  },
  {
   "cell_type": "code",
   "execution_count": 93,
   "metadata": {},
   "outputs": [
    {
     "data": {
      "text/plain": [
       "(2452, 9)"
      ]
     },
     "execution_count": 93,
     "metadata": {},
     "output_type": "execute_result"
    }
   ],
   "source": [
    "x_train.shape"
   ]
  },
  {
   "cell_type": "code",
   "execution_count": 94,
   "metadata": {},
   "outputs": [
    {
     "data": {
      "text/plain": [
       "(2452, 1)"
      ]
     },
     "execution_count": 94,
     "metadata": {},
     "output_type": "execute_result"
    }
   ],
   "source": [
    "y_train.shape"
   ]
  },
  {
   "cell_type": "code",
   "execution_count": 95,
   "metadata": {},
   "outputs": [
    {
     "data": {
      "text/plain": [
       "(1052, 9)"
      ]
     },
     "execution_count": 95,
     "metadata": {},
     "output_type": "execute_result"
    }
   ],
   "source": [
    "x_test.shape"
   ]
  },
  {
   "cell_type": "code",
   "execution_count": 96,
   "metadata": {},
   "outputs": [
    {
     "data": {
      "text/plain": [
       "(1052, 1)"
      ]
     },
     "execution_count": 96,
     "metadata": {},
     "output_type": "execute_result"
    }
   ],
   "source": [
    "y_test.shape"
   ]
  },
  {
   "cell_type": "code",
   "execution_count": 97,
   "metadata": {},
   "outputs": [
    {
     "data": {
      "text/plain": [
       "array([[ 0.21122765,  0.63516819, -0.16292363, -0.106615  , -0.00944841,\n",
       "         0.11733257, -0.03229554, -0.04065997, -0.04178791]])"
      ]
     },
     "execution_count": 97,
     "metadata": {},
     "output_type": "execute_result"
    }
   ],
   "source": [
    "lr.coef_"
   ]
  },
  {
   "cell_type": "code",
   "execution_count": 98,
   "metadata": {},
   "outputs": [
    {
     "data": {
      "text/plain": [
       "array([-0.00461071])"
      ]
     },
     "execution_count": 98,
     "metadata": {},
     "output_type": "execute_result"
    }
   ],
   "source": [
    "lr.intercept_"
   ]
  },
  {
   "cell_type": "code",
   "execution_count": 99,
   "metadata": {},
   "outputs": [
    {
     "name": "stdout",
     "output_type": "stream",
     "text": [
      "0.4272810244218337\n"
     ]
    }
   ],
   "source": [
    "from math import sqrt\n",
    "print(sqrt(mean_absolute_error(y_test,pred)))   #rms error"
   ]
  },
  {
   "cell_type": "code",
   "execution_count": 100,
   "metadata": {},
   "outputs": [
    {
     "name": "stdout",
     "output_type": "stream",
     "text": [
      "0.18256907383097162\n"
     ]
    }
   ],
   "source": [
    "print(mean_absolute_error(y_test,pred))"
   ]
  },
  {
   "cell_type": "code",
   "execution_count": 104,
   "metadata": {},
   "outputs": [],
   "source": [
    "#performing regularisation by finding the best hyper parameter with gridsearch cv"
   ]
  },
  {
   "cell_type": "code",
   "execution_count": 102,
   "metadata": {},
   "outputs": [],
   "source": [
    "from sklearn.linear_model import Lasso,Ridge"
   ]
  },
  {
   "cell_type": "code",
   "execution_count": 103,
   "metadata": {},
   "outputs": [],
   "source": [
    "from sklearn.model_selection import GridSearchCV"
   ]
  },
  {
   "cell_type": "code",
   "execution_count": 105,
   "metadata": {},
   "outputs": [],
   "source": [
    "ls=Lasso()\n",
    "rg=Ridge()"
   ]
  },
  {
   "cell_type": "code",
   "execution_count": 106,
   "metadata": {},
   "outputs": [],
   "source": [
    "params={'alpha':[1.0,0.1,0.01,0.001]}"
   ]
  },
  {
   "cell_type": "code",
   "execution_count": 107,
   "metadata": {},
   "outputs": [],
   "source": [
    "gd=GridSearchCV(estimator=ls,param_grid=params)\n",
    "gd1=GridSearchCV(estimator=rg,param_grid=params)"
   ]
  },
  {
   "cell_type": "code",
   "execution_count": 108,
   "metadata": {},
   "outputs": [
    {
     "data": {
      "text/plain": [
       "GridSearchCV(cv=None, error_score=nan,\n",
       "             estimator=Ridge(alpha=1.0, copy_X=True, fit_intercept=True,\n",
       "                             max_iter=None, normalize=False, random_state=None,\n",
       "                             solver='auto', tol=0.001),\n",
       "             iid='deprecated', n_jobs=None,\n",
       "             param_grid={'alpha': [1.0, 0.1, 0.01, 0.001]},\n",
       "             pre_dispatch='2*n_jobs', refit=True, return_train_score=False,\n",
       "             scoring=None, verbose=0)"
      ]
     },
     "execution_count": 108,
     "metadata": {},
     "output_type": "execute_result"
    }
   ],
   "source": [
    "gd.fit(x,y)\n",
    "gd1.fit(x,y)"
   ]
  },
  {
   "cell_type": "code",
   "execution_count": 109,
   "metadata": {},
   "outputs": [
    {
     "data": {
      "text/plain": [
       "Lasso(alpha=1.0, copy_X=True, fit_intercept=True, max_iter=1000,\n",
       "      normalize=False, positive=False, precompute=False, random_state=None,\n",
       "      selection='cyclic', tol=0.0001, warm_start=False)"
      ]
     },
     "execution_count": 109,
     "metadata": {},
     "output_type": "execute_result"
    }
   ],
   "source": [
    "gd.best_estimator_"
   ]
  },
  {
   "cell_type": "code",
   "execution_count": 110,
   "metadata": {},
   "outputs": [
    {
     "data": {
      "text/plain": [
       "Ridge(alpha=1.0, copy_X=True, fit_intercept=True, max_iter=None,\n",
       "      normalize=False, random_state=None, solver='auto', tol=0.001)"
      ]
     },
     "execution_count": 110,
     "metadata": {},
     "output_type": "execute_result"
    }
   ],
   "source": [
    "gd1.best_estimator_"
   ]
  },
  {
   "cell_type": "code",
   "execution_count": 111,
   "metadata": {},
   "outputs": [
    {
     "data": {
      "text/plain": [
       "-0.7745158663957113"
      ]
     },
     "execution_count": 111,
     "metadata": {},
     "output_type": "execute_result"
    }
   ],
   "source": [
    "gd1.best_score_"
   ]
  },
  {
   "cell_type": "code",
   "execution_count": 112,
   "metadata": {},
   "outputs": [],
   "source": [
    "#using cross valid score"
   ]
  },
  {
   "cell_type": "code",
   "execution_count": 113,
   "metadata": {},
   "outputs": [],
   "source": [
    "from sklearn.model_selection import cross_val_score"
   ]
  },
  {
   "cell_type": "code",
   "execution_count": 114,
   "metadata": {},
   "outputs": [],
   "source": [
    "score=cross_val_score(lr,x,y,cv=5)"
   ]
  },
  {
   "cell_type": "code",
   "execution_count": 115,
   "metadata": {},
   "outputs": [
    {
     "data": {
      "text/plain": [
       "array([ 0.69064034,  0.64412419,  0.64583294,  0.63637271, -6.50516074])"
      ]
     },
     "execution_count": 115,
     "metadata": {},
     "output_type": "execute_result"
    }
   ],
   "source": [
    "score"
   ]
  },
  {
   "cell_type": "code",
   "execution_count": 116,
   "metadata": {},
   "outputs": [],
   "source": [
    "#cross val score is giving 69%"
   ]
  },
  {
   "cell_type": "code",
   "execution_count": 117,
   "metadata": {},
   "outputs": [],
   "source": [
    "#checking the r2 scores with other models"
   ]
  },
  {
   "cell_type": "code",
   "execution_count": 118,
   "metadata": {},
   "outputs": [],
   "source": [
    "from sklearn.tree import DecisionTreeRegressor\n",
    "from sklearn.svm import SVR\n",
    "from sklearn.neighbors import KNeighborsRegressor"
   ]
  },
  {
   "cell_type": "code",
   "execution_count": 119,
   "metadata": {},
   "outputs": [],
   "source": [
    "model=[KNeighborsRegressor(),SVR(),DecisionTreeRegressor()]"
   ]
  },
  {
   "cell_type": "code",
   "execution_count": 120,
   "metadata": {},
   "outputs": [
    {
     "name": "stdout",
     "output_type": "stream",
     "text": [
      "KNeighborsRegressor(algorithm='auto', leaf_size=30, metric='minkowski',\n",
      "                    metric_params=None, n_jobs=None, n_neighbors=5, p=2,\n",
      "                    weights='uniform') score 0.9941033757609297\n",
      "KNeighborsRegressor(algorithm='auto', leaf_size=30, metric='minkowski',\n",
      "                    metric_params=None, n_jobs=None, n_neighbors=5, p=2,\n",
      "                    weights='uniform') abs error 0.008759784106951322\n",
      "KNeighborsRegressor(algorithm='auto', leaf_size=30, metric='minkowski',\n",
      "                    metric_params=None, n_jobs=None, n_neighbors=5, p=2,\n",
      "                    weights='uniform') sq error 0.0052221186498604\n",
      "SVR(C=1.0, cache_size=200, coef0=0.0, degree=3, epsilon=0.1, gamma='scale',\n",
      "    kernel='rbf', max_iter=-1, shrinking=True, tol=0.001, verbose=False) score 0.9598566421198346\n",
      "SVR(C=1.0, cache_size=200, coef0=0.0, degree=3, epsilon=0.1, gamma='scale',\n",
      "    kernel='rbf', max_iter=-1, shrinking=True, tol=0.001, verbose=False) abs error 0.08624539868856387\n",
      "SVR(C=1.0, cache_size=200, coef0=0.0, degree=3, epsilon=0.1, gamma='scale',\n",
      "    kernel='rbf', max_iter=-1, shrinking=True, tol=0.001, verbose=False) sq error 0.035551422195945245\n",
      "DecisionTreeRegressor(ccp_alpha=0.0, criterion='mse', max_depth=None,\n",
      "                      max_features=None, max_leaf_nodes=None,\n",
      "                      min_impurity_decrease=0.0, min_impurity_split=None,\n",
      "                      min_samples_leaf=1, min_samples_split=2,\n",
      "                      min_weight_fraction_leaf=0.0, presort='deprecated',\n",
      "                      random_state=None, splitter='best') score 0.9942306982816114\n",
      "DecisionTreeRegressor(ccp_alpha=0.0, criterion='mse', max_depth=None,\n",
      "                      max_features=None, max_leaf_nodes=None,\n",
      "                      min_impurity_decrease=0.0, min_impurity_split=None,\n",
      "                      min_samples_leaf=1, min_samples_split=2,\n",
      "                      min_weight_fraction_leaf=0.0, presort='deprecated',\n",
      "                      random_state=None, splitter='best') abs error 0.005321364177123237\n",
      "DecisionTreeRegressor(ccp_alpha=0.0, criterion='mse', max_depth=None,\n",
      "                      max_features=None, max_leaf_nodes=None,\n",
      "                      min_impurity_decrease=0.0, min_impurity_split=None,\n",
      "                      min_samples_leaf=1, min_samples_split=2,\n",
      "                      min_weight_fraction_leaf=0.0, presort='deprecated',\n",
      "                      random_state=None, splitter='best') sq error 0.005109360352427513\n"
     ]
    }
   ],
   "source": [
    "x_train,x_test,y_train,y_test=train_test_split(x,y,random_state=97,test_size=0.20)\n",
    "for i in model:\n",
    "    i.fit(x_train,y_train)\n",
    "    pred=i.predict(x_test)\n",
    "    print(i,\"score\",r2_score(y_test,pred))\n",
    "    print(i,\"abs error\",mean_absolute_error(y_test,pred))\n",
    "    print(i,\"sq error\",mean_squared_error(y_test,pred))"
   ]
  },
  {
   "cell_type": "code",
   "execution_count": 121,
   "metadata": {},
   "outputs": [],
   "source": [
    "#KNN is giving 99.4% r2 scor, svr is giving 96% r3 score and dtr is giving the max of 99.42%"
   ]
  },
  {
   "cell_type": "code",
   "execution_count": 122,
   "metadata": {},
   "outputs": [],
   "source": [
    "#find r2 scores at different n_neighbors for KNN"
   ]
  },
  {
   "cell_type": "code",
   "execution_count": 123,
   "metadata": {},
   "outputs": [
    {
     "name": "stdout",
     "output_type": "stream",
     "text": [
      "r2 score at neighbor 2 is: 0.999171077339312\n",
      "r2 score at neighbor 3 is: 0.998714248850755\n",
      "r2 score at neighbor 4 is: 0.9980582486673383\n",
      "r2 score at neighbor 5 is: 0.9941033757609297\n",
      "r2 score at neighbor 6 is: 0.9876545785068198\n",
      "r2 score at neighbor 7 is: 0.9803697580517883\n",
      "r2 score at neighbor 8 is: 0.9726921790969592\n",
      "r2 score at neighbor 9 is: 0.9654709707287132\n",
      "r2 score at neighbor 10 is: 0.9587770129458564\n",
      "r2 score at neighbor 11 is: 0.9616708901938061\n",
      "r2 score at neighbor 12 is: 0.9580261195382944\n",
      "r2 score at neighbor 13 is: 0.9676474918940937\n",
      "r2 score at neighbor 14 is: 0.9685012772296352\n",
      "r2 score at neighbor 15 is: 0.9634578471082438\n",
      "r2 score at neighbor 16 is: 0.9560275956379867\n",
      "r2 score at neighbor 17 is: 0.9459650271224638\n",
      "r2 score at neighbor 18 is: 0.9347971481825424\n",
      "r2 score at neighbor 19 is: 0.919252737789116\n",
      "r2 score at neighbor 20 is: 0.9027442449590624\n",
      "r2 score at neighbor 21 is: 0.88561220655431\n"
     ]
    }
   ],
   "source": [
    "for i in range(2,22):\n",
    "    knn=KNeighborsRegressor(n_neighbors=i)\n",
    "    knn.fit(x_train,y_train)\n",
    "    pred=knn.predict(x_test)\n",
    "    print(\"r2 score at neighbor\",i,\"is:\",r2_score(y_test,pred))"
   ]
  },
  {
   "cell_type": "code",
   "execution_count": 124,
   "metadata": {},
   "outputs": [],
   "source": [
    "#knn is giving a almost 100% r2 score at n_neighbor=2"
   ]
  },
  {
   "cell_type": "code",
   "execution_count": 125,
   "metadata": {},
   "outputs": [],
   "source": [
    "#using other models will check the r2 score"
   ]
  },
  {
   "cell_type": "code",
   "execution_count": 126,
   "metadata": {},
   "outputs": [],
   "source": [
    "from sklearn.ensemble import AdaBoostRegressor,RandomForestRegressor,GradientBoostingRegressor"
   ]
  },
  {
   "cell_type": "code",
   "execution_count": 127,
   "metadata": {},
   "outputs": [
    {
     "name": "stdout",
     "output_type": "stream",
     "text": [
      "r2 score is: 0.9637700256451951\n"
     ]
    }
   ],
   "source": [
    "a=AdaBoostRegressor(n_estimators=150,learning_rate=0.01)\n",
    "a.fit(x_train,y_train)\n",
    "predad=a.predict(x_test)\n",
    "print(\"r2 score is:\",r2_score(y_test,predad))"
   ]
  },
  {
   "cell_type": "code",
   "execution_count": 128,
   "metadata": {},
   "outputs": [],
   "source": [
    "#from the above we can see that adaboost model is giving r2 score of 96%"
   ]
  },
  {
   "cell_type": "code",
   "execution_count": 129,
   "metadata": {},
   "outputs": [
    {
     "name": "stdout",
     "output_type": "stream",
     "text": [
      "r2 score at lerning rate 0.1 is: 0.9925802229875236\n",
      "r2 score at lerning rate 0.01 is: 0.8502140738972934\n",
      "r2 score at lerning rate 1.0 is: 0.9836313172506705\n"
     ]
    }
   ],
   "source": [
    "l=[0.1,0.01,1.0]\n",
    "for i in l:\n",
    "    gd=GradientBoostingRegressor(learning_rate=i)\n",
    "    gd.fit(x_train,y_train)\n",
    "    predgd=gd.predict(x_test)\n",
    "    print(\"r2 score at lerning rate\",i,\"is:\",r2_score(y_test,predgd))"
   ]
  },
  {
   "cell_type": "code",
   "execution_count": 130,
   "metadata": {},
   "outputs": [],
   "source": [
    "#gradient boost regressor is giving a max of 99.2% r2 score at l_rate of 0.1"
   ]
  },
  {
   "cell_type": "code",
   "execution_count": 132,
   "metadata": {},
   "outputs": [
    {
     "name": "stdout",
     "output_type": "stream",
     "text": [
      "r2 score is: 0.9937336215453673\n"
     ]
    }
   ],
   "source": [
    "rd=RandomForestRegressor(n_estimators=200)\n",
    "rd.fit(x_train,y_train)\n",
    "predrd=rd.predict(x_test)\n",
    "print('r2 score is:',r2_score(y_test,predrd))"
   ]
  },
  {
   "cell_type": "code",
   "execution_count": 133,
   "metadata": {},
   "outputs": [],
   "source": [
    "#from the below DataFrame we will finalise our model"
   ]
  },
  {
   "cell_type": "code",
   "execution_count": 134,
   "metadata": {},
   "outputs": [],
   "source": [
    "a={'model':('lin reg','knn','svr','dtr','adaboostreg','gdboostreg','rdboost'),'r2_score in %':[67,99.9,95,99.4,96,99,99]}"
   ]
  },
  {
   "cell_type": "code",
   "execution_count": 135,
   "metadata": {},
   "outputs": [],
   "source": [
    "results=pd.DataFrame(data=a)"
   ]
  },
  {
   "cell_type": "code",
   "execution_count": 136,
   "metadata": {},
   "outputs": [
    {
     "data": {
      "text/html": [
       "<div>\n",
       "<style scoped>\n",
       "    .dataframe tbody tr th:only-of-type {\n",
       "        vertical-align: middle;\n",
       "    }\n",
       "\n",
       "    .dataframe tbody tr th {\n",
       "        vertical-align: top;\n",
       "    }\n",
       "\n",
       "    .dataframe thead th {\n",
       "        text-align: right;\n",
       "    }\n",
       "</style>\n",
       "<table border=\"1\" class=\"dataframe\">\n",
       "  <thead>\n",
       "    <tr style=\"text-align: right;\">\n",
       "      <th></th>\n",
       "      <th>model</th>\n",
       "      <th>r2_score in %</th>\n",
       "    </tr>\n",
       "  </thead>\n",
       "  <tbody>\n",
       "    <tr>\n",
       "      <th>0</th>\n",
       "      <td>lin reg</td>\n",
       "      <td>67.0</td>\n",
       "    </tr>\n",
       "    <tr>\n",
       "      <th>1</th>\n",
       "      <td>knn</td>\n",
       "      <td>99.9</td>\n",
       "    </tr>\n",
       "    <tr>\n",
       "      <th>2</th>\n",
       "      <td>svr</td>\n",
       "      <td>95.0</td>\n",
       "    </tr>\n",
       "    <tr>\n",
       "      <th>3</th>\n",
       "      <td>dtr</td>\n",
       "      <td>99.4</td>\n",
       "    </tr>\n",
       "    <tr>\n",
       "      <th>4</th>\n",
       "      <td>adaboostreg</td>\n",
       "      <td>96.0</td>\n",
       "    </tr>\n",
       "    <tr>\n",
       "      <th>5</th>\n",
       "      <td>gdboostreg</td>\n",
       "      <td>99.0</td>\n",
       "    </tr>\n",
       "    <tr>\n",
       "      <th>6</th>\n",
       "      <td>rdboost</td>\n",
       "      <td>99.0</td>\n",
       "    </tr>\n",
       "  </tbody>\n",
       "</table>\n",
       "</div>"
      ],
      "text/plain": [
       "         model  r2_score in %\n",
       "0      lin reg           67.0\n",
       "1          knn           99.9\n",
       "2          svr           95.0\n",
       "3          dtr           99.4\n",
       "4  adaboostreg           96.0\n",
       "5   gdboostreg           99.0\n",
       "6      rdboost           99.0"
      ]
     },
     "execution_count": 136,
     "metadata": {},
     "output_type": "execute_result"
    }
   ],
   "source": [
    "results"
   ]
  },
  {
   "cell_type": "code",
   "execution_count": 137,
   "metadata": {},
   "outputs": [],
   "source": [
    "#from the above we will select KNN regressor as our final model for prediction and will dump the same \n",
    "#using serialisation."
   ]
  },
  {
   "cell_type": "code",
   "execution_count": 138,
   "metadata": {},
   "outputs": [],
   "source": [
    "x_train,x_test,y_train,y_test=train_test_split(x,y,random_state=97,test_size=0.20)"
   ]
  },
  {
   "cell_type": "code",
   "execution_count": 139,
   "metadata": {},
   "outputs": [],
   "source": [
    "knn=KNeighborsRegressor(n_neighbors=2)"
   ]
  },
  {
   "cell_type": "code",
   "execution_count": 142,
   "metadata": {},
   "outputs": [],
   "source": [
    "knn.fit(x_train,y_train)\n",
    "predknn=knn.predict(x_test)\n",
    "a1=pd.DataFrame(data=predknn)\n",
    "a1.to_csv('pred_election_knn_result.csv')  #saving the predicted result in csv form"
   ]
  },
  {
   "cell_type": "code",
   "execution_count": 141,
   "metadata": {},
   "outputs": [
    {
     "data": {
      "text/plain": [
       "0.999171077339312"
      ]
     },
     "execution_count": 141,
     "metadata": {},
     "output_type": "execute_result"
    }
   ],
   "source": [
    "r2_score(y_test,predknn)"
   ]
  },
  {
   "cell_type": "code",
   "execution_count": 144,
   "metadata": {},
   "outputs": [
    {
     "name": "stdout",
     "output_type": "stream",
     "text": [
      "0.02709434440823396\n"
     ]
    }
   ],
   "source": [
    "from math import sqrt\n",
    "print(sqrt(mean_squared_error(y_test,predknn)) )  #root mean square error"
   ]
  },
  {
   "cell_type": "code",
   "execution_count": 145,
   "metadata": {},
   "outputs": [
    {
     "data": {
      "text/plain": [
       "0.002456014235593828"
      ]
     },
     "execution_count": 145,
     "metadata": {},
     "output_type": "execute_result"
    }
   ],
   "source": [
    "mean_absolute_error(y_test,predknn)"
   ]
  },
  {
   "cell_type": "code",
   "execution_count": 146,
   "metadata": {},
   "outputs": [],
   "source": [
    "#dumping the final model for prediction"
   ]
  },
  {
   "cell_type": "code",
   "execution_count": 147,
   "metadata": {},
   "outputs": [],
   "source": [
    "from sklearn.externals import joblib"
   ]
  },
  {
   "cell_type": "code",
   "execution_count": 148,
   "metadata": {},
   "outputs": [
    {
     "data": {
      "text/plain": [
       "['election_knn.obj']"
      ]
     },
     "execution_count": 148,
     "metadata": {},
     "output_type": "execute_result"
    }
   ],
   "source": [
    "joblib.dump(knn,'election_knn.obj')"
   ]
  },
  {
   "cell_type": "code",
   "execution_count": null,
   "metadata": {},
   "outputs": [],
   "source": []
  }
 ],
 "metadata": {
  "kernelspec": {
   "display_name": "Python 3",
   "language": "python",
   "name": "python3"
  },
  "language_info": {
   "codemirror_mode": {
    "name": "ipython",
    "version": 3
   },
   "file_extension": ".py",
   "mimetype": "text/x-python",
   "name": "python",
   "nbconvert_exporter": "python",
   "pygments_lexer": "ipython3",
   "version": "3.7.6"
  }
 },
 "nbformat": 4,
 "nbformat_minor": 4
}
