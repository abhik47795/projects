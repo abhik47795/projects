{
 "cells": [
  {
   "cell_type": "markdown",
   "metadata": {},
   "source": [
    "Customer churn is when a company’s customers stop doing business with that company. Businesses are very keen on measuring churn because keeping an existing customer is far less expensive than acquiring a new customer ,so here we will be building churn prediction model to predict whether the churn is true or false. So here we will make use of the Logistic regression and other classification model to check which model suits best for our analysis."
   ]
  },
  {
   "cell_type": "code",
   "execution_count": 1,
   "metadata": {},
   "outputs": [],
   "source": [
    "#importing the libraries\n",
    "import warnings\n",
    "warnings.filterwarnings('ignore')"
   ]
  },
  {
   "cell_type": "code",
   "execution_count": 2,
   "metadata": {},
   "outputs": [],
   "source": [
    "import pandas as pd\n",
    "import numpy as np"
   ]
  },
  {
   "cell_type": "code",
   "execution_count": 3,
   "metadata": {},
   "outputs": [],
   "source": [
    "df=pd.read_csv('churn.csv')"
   ]
  },
  {
   "cell_type": "code",
   "execution_count": 4,
   "metadata": {},
   "outputs": [
    {
     "data": {
      "text/plain": [
       "(1199, 21)"
      ]
     },
     "execution_count": 4,
     "metadata": {},
     "output_type": "execute_result"
    }
   ],
   "source": [
    "df.shape"
   ]
  },
  {
   "cell_type": "code",
   "execution_count": 5,
   "metadata": {},
   "outputs": [
    {
     "data": {
      "text/html": [
       "<div>\n",
       "<style scoped>\n",
       "    .dataframe tbody tr th:only-of-type {\n",
       "        vertical-align: middle;\n",
       "    }\n",
       "\n",
       "    .dataframe tbody tr th {\n",
       "        vertical-align: top;\n",
       "    }\n",
       "\n",
       "    .dataframe thead th {\n",
       "        text-align: right;\n",
       "    }\n",
       "</style>\n",
       "<table border=\"1\" class=\"dataframe\">\n",
       "  <thead>\n",
       "    <tr style=\"text-align: right;\">\n",
       "      <th></th>\n",
       "      <th>state</th>\n",
       "      <th>account length</th>\n",
       "      <th>area code</th>\n",
       "      <th>phone number</th>\n",
       "      <th>international plan</th>\n",
       "      <th>voice mail plan</th>\n",
       "      <th>number vmail messages</th>\n",
       "      <th>total day minutes</th>\n",
       "      <th>total day calls</th>\n",
       "      <th>total day charge</th>\n",
       "      <th>...</th>\n",
       "      <th>total eve calls</th>\n",
       "      <th>total eve charge</th>\n",
       "      <th>total night minutes</th>\n",
       "      <th>total night calls</th>\n",
       "      <th>total night charge</th>\n",
       "      <th>total intl minutes</th>\n",
       "      <th>total intl calls</th>\n",
       "      <th>total intl charge</th>\n",
       "      <th>customer service calls</th>\n",
       "      <th>churn</th>\n",
       "    </tr>\n",
       "  </thead>\n",
       "  <tbody>\n",
       "    <tr>\n",
       "      <th>0</th>\n",
       "      <td>KS</td>\n",
       "      <td>128</td>\n",
       "      <td>415</td>\n",
       "      <td>382-4657</td>\n",
       "      <td>no</td>\n",
       "      <td>yes</td>\n",
       "      <td>25</td>\n",
       "      <td>265.1</td>\n",
       "      <td>110</td>\n",
       "      <td>45.07</td>\n",
       "      <td>...</td>\n",
       "      <td>99</td>\n",
       "      <td>16.78</td>\n",
       "      <td>244.7</td>\n",
       "      <td>91</td>\n",
       "      <td>11.01</td>\n",
       "      <td>10.0</td>\n",
       "      <td>3</td>\n",
       "      <td>2.70</td>\n",
       "      <td>1</td>\n",
       "      <td>False</td>\n",
       "    </tr>\n",
       "    <tr>\n",
       "      <th>1</th>\n",
       "      <td>OH</td>\n",
       "      <td>107</td>\n",
       "      <td>415</td>\n",
       "      <td>371-7191</td>\n",
       "      <td>no</td>\n",
       "      <td>yes</td>\n",
       "      <td>26</td>\n",
       "      <td>161.6</td>\n",
       "      <td>123</td>\n",
       "      <td>27.47</td>\n",
       "      <td>...</td>\n",
       "      <td>103</td>\n",
       "      <td>16.62</td>\n",
       "      <td>254.4</td>\n",
       "      <td>103</td>\n",
       "      <td>11.45</td>\n",
       "      <td>13.7</td>\n",
       "      <td>3</td>\n",
       "      <td>3.70</td>\n",
       "      <td>1</td>\n",
       "      <td>False</td>\n",
       "    </tr>\n",
       "    <tr>\n",
       "      <th>2</th>\n",
       "      <td>NJ</td>\n",
       "      <td>137</td>\n",
       "      <td>415</td>\n",
       "      <td>358-1921</td>\n",
       "      <td>no</td>\n",
       "      <td>no</td>\n",
       "      <td>0</td>\n",
       "      <td>243.4</td>\n",
       "      <td>114</td>\n",
       "      <td>41.38</td>\n",
       "      <td>...</td>\n",
       "      <td>110</td>\n",
       "      <td>10.30</td>\n",
       "      <td>162.6</td>\n",
       "      <td>104</td>\n",
       "      <td>7.32</td>\n",
       "      <td>12.2</td>\n",
       "      <td>5</td>\n",
       "      <td>3.29</td>\n",
       "      <td>0</td>\n",
       "      <td>False</td>\n",
       "    </tr>\n",
       "    <tr>\n",
       "      <th>3</th>\n",
       "      <td>OH</td>\n",
       "      <td>84</td>\n",
       "      <td>408</td>\n",
       "      <td>375-9999</td>\n",
       "      <td>yes</td>\n",
       "      <td>no</td>\n",
       "      <td>0</td>\n",
       "      <td>299.4</td>\n",
       "      <td>71</td>\n",
       "      <td>50.90</td>\n",
       "      <td>...</td>\n",
       "      <td>88</td>\n",
       "      <td>5.26</td>\n",
       "      <td>196.9</td>\n",
       "      <td>89</td>\n",
       "      <td>8.86</td>\n",
       "      <td>6.6</td>\n",
       "      <td>7</td>\n",
       "      <td>1.78</td>\n",
       "      <td>2</td>\n",
       "      <td>False</td>\n",
       "    </tr>\n",
       "    <tr>\n",
       "      <th>4</th>\n",
       "      <td>OK</td>\n",
       "      <td>75</td>\n",
       "      <td>415</td>\n",
       "      <td>330-6626</td>\n",
       "      <td>yes</td>\n",
       "      <td>no</td>\n",
       "      <td>0</td>\n",
       "      <td>166.7</td>\n",
       "      <td>113</td>\n",
       "      <td>28.34</td>\n",
       "      <td>...</td>\n",
       "      <td>122</td>\n",
       "      <td>12.61</td>\n",
       "      <td>186.9</td>\n",
       "      <td>121</td>\n",
       "      <td>8.41</td>\n",
       "      <td>10.1</td>\n",
       "      <td>3</td>\n",
       "      <td>2.73</td>\n",
       "      <td>3</td>\n",
       "      <td>False</td>\n",
       "    </tr>\n",
       "  </tbody>\n",
       "</table>\n",
       "<p>5 rows × 21 columns</p>\n",
       "</div>"
      ],
      "text/plain": [
       "  state  account length  area code phone number international plan  \\\n",
       "0    KS             128        415     382-4657                 no   \n",
       "1    OH             107        415     371-7191                 no   \n",
       "2    NJ             137        415     358-1921                 no   \n",
       "3    OH              84        408     375-9999                yes   \n",
       "4    OK              75        415     330-6626                yes   \n",
       "\n",
       "  voice mail plan  number vmail messages  total day minutes  total day calls  \\\n",
       "0             yes                     25              265.1              110   \n",
       "1             yes                     26              161.6              123   \n",
       "2              no                      0              243.4              114   \n",
       "3              no                      0              299.4               71   \n",
       "4              no                      0              166.7              113   \n",
       "\n",
       "   total day charge  ...  total eve calls  total eve charge  \\\n",
       "0             45.07  ...               99             16.78   \n",
       "1             27.47  ...              103             16.62   \n",
       "2             41.38  ...              110             10.30   \n",
       "3             50.90  ...               88              5.26   \n",
       "4             28.34  ...              122             12.61   \n",
       "\n",
       "   total night minutes  total night calls  total night charge  \\\n",
       "0                244.7                 91               11.01   \n",
       "1                254.4                103               11.45   \n",
       "2                162.6                104                7.32   \n",
       "3                196.9                 89                8.86   \n",
       "4                186.9                121                8.41   \n",
       "\n",
       "   total intl minutes  total intl calls  total intl charge  \\\n",
       "0                10.0                 3               2.70   \n",
       "1                13.7                 3               3.70   \n",
       "2                12.2                 5               3.29   \n",
       "3                 6.6                 7               1.78   \n",
       "4                10.1                 3               2.73   \n",
       "\n",
       "   customer service calls  churn  \n",
       "0                       1  False  \n",
       "1                       1  False  \n",
       "2                       0  False  \n",
       "3                       2  False  \n",
       "4                       3  False  \n",
       "\n",
       "[5 rows x 21 columns]"
      ]
     },
     "execution_count": 5,
     "metadata": {},
     "output_type": "execute_result"
    }
   ],
   "source": [
    "df.head()"
   ]
  },
  {
   "cell_type": "code",
   "execution_count": 6,
   "metadata": {},
   "outputs": [],
   "source": [
    "#so here will do a data cleanse process to remove the irrelevant columns"
   ]
  },
  {
   "cell_type": "code",
   "execution_count": 7,
   "metadata": {},
   "outputs": [],
   "source": [
    "df.drop('phone number',axis=1,inplace=True)"
   ]
  },
  {
   "cell_type": "code",
   "execution_count": 8,
   "metadata": {},
   "outputs": [],
   "source": [
    "df.drop('area code',axis=1,inplace=True)"
   ]
  },
  {
   "cell_type": "code",
   "execution_count": 9,
   "metadata": {},
   "outputs": [
    {
     "data": {
      "text/html": [
       "<div>\n",
       "<style scoped>\n",
       "    .dataframe tbody tr th:only-of-type {\n",
       "        vertical-align: middle;\n",
       "    }\n",
       "\n",
       "    .dataframe tbody tr th {\n",
       "        vertical-align: top;\n",
       "    }\n",
       "\n",
       "    .dataframe thead th {\n",
       "        text-align: right;\n",
       "    }\n",
       "</style>\n",
       "<table border=\"1\" class=\"dataframe\">\n",
       "  <thead>\n",
       "    <tr style=\"text-align: right;\">\n",
       "      <th></th>\n",
       "      <th>state</th>\n",
       "      <th>account length</th>\n",
       "      <th>international plan</th>\n",
       "      <th>voice mail plan</th>\n",
       "      <th>number vmail messages</th>\n",
       "      <th>total day minutes</th>\n",
       "      <th>total day calls</th>\n",
       "      <th>total day charge</th>\n",
       "      <th>total eve minutes</th>\n",
       "      <th>total eve calls</th>\n",
       "      <th>total eve charge</th>\n",
       "      <th>total night minutes</th>\n",
       "      <th>total night calls</th>\n",
       "      <th>total night charge</th>\n",
       "      <th>total intl minutes</th>\n",
       "      <th>total intl calls</th>\n",
       "      <th>total intl charge</th>\n",
       "      <th>customer service calls</th>\n",
       "      <th>churn</th>\n",
       "    </tr>\n",
       "  </thead>\n",
       "  <tbody>\n",
       "    <tr>\n",
       "      <th>0</th>\n",
       "      <td>KS</td>\n",
       "      <td>128</td>\n",
       "      <td>no</td>\n",
       "      <td>yes</td>\n",
       "      <td>25</td>\n",
       "      <td>265.1</td>\n",
       "      <td>110</td>\n",
       "      <td>45.07</td>\n",
       "      <td>197.4</td>\n",
       "      <td>99</td>\n",
       "      <td>16.78</td>\n",
       "      <td>244.7</td>\n",
       "      <td>91</td>\n",
       "      <td>11.01</td>\n",
       "      <td>10.0</td>\n",
       "      <td>3</td>\n",
       "      <td>2.70</td>\n",
       "      <td>1</td>\n",
       "      <td>False</td>\n",
       "    </tr>\n",
       "    <tr>\n",
       "      <th>1</th>\n",
       "      <td>OH</td>\n",
       "      <td>107</td>\n",
       "      <td>no</td>\n",
       "      <td>yes</td>\n",
       "      <td>26</td>\n",
       "      <td>161.6</td>\n",
       "      <td>123</td>\n",
       "      <td>27.47</td>\n",
       "      <td>195.5</td>\n",
       "      <td>103</td>\n",
       "      <td>16.62</td>\n",
       "      <td>254.4</td>\n",
       "      <td>103</td>\n",
       "      <td>11.45</td>\n",
       "      <td>13.7</td>\n",
       "      <td>3</td>\n",
       "      <td>3.70</td>\n",
       "      <td>1</td>\n",
       "      <td>False</td>\n",
       "    </tr>\n",
       "    <tr>\n",
       "      <th>2</th>\n",
       "      <td>NJ</td>\n",
       "      <td>137</td>\n",
       "      <td>no</td>\n",
       "      <td>no</td>\n",
       "      <td>0</td>\n",
       "      <td>243.4</td>\n",
       "      <td>114</td>\n",
       "      <td>41.38</td>\n",
       "      <td>121.2</td>\n",
       "      <td>110</td>\n",
       "      <td>10.30</td>\n",
       "      <td>162.6</td>\n",
       "      <td>104</td>\n",
       "      <td>7.32</td>\n",
       "      <td>12.2</td>\n",
       "      <td>5</td>\n",
       "      <td>3.29</td>\n",
       "      <td>0</td>\n",
       "      <td>False</td>\n",
       "    </tr>\n",
       "    <tr>\n",
       "      <th>3</th>\n",
       "      <td>OH</td>\n",
       "      <td>84</td>\n",
       "      <td>yes</td>\n",
       "      <td>no</td>\n",
       "      <td>0</td>\n",
       "      <td>299.4</td>\n",
       "      <td>71</td>\n",
       "      <td>50.90</td>\n",
       "      <td>61.9</td>\n",
       "      <td>88</td>\n",
       "      <td>5.26</td>\n",
       "      <td>196.9</td>\n",
       "      <td>89</td>\n",
       "      <td>8.86</td>\n",
       "      <td>6.6</td>\n",
       "      <td>7</td>\n",
       "      <td>1.78</td>\n",
       "      <td>2</td>\n",
       "      <td>False</td>\n",
       "    </tr>\n",
       "    <tr>\n",
       "      <th>4</th>\n",
       "      <td>OK</td>\n",
       "      <td>75</td>\n",
       "      <td>yes</td>\n",
       "      <td>no</td>\n",
       "      <td>0</td>\n",
       "      <td>166.7</td>\n",
       "      <td>113</td>\n",
       "      <td>28.34</td>\n",
       "      <td>148.3</td>\n",
       "      <td>122</td>\n",
       "      <td>12.61</td>\n",
       "      <td>186.9</td>\n",
       "      <td>121</td>\n",
       "      <td>8.41</td>\n",
       "      <td>10.1</td>\n",
       "      <td>3</td>\n",
       "      <td>2.73</td>\n",
       "      <td>3</td>\n",
       "      <td>False</td>\n",
       "    </tr>\n",
       "  </tbody>\n",
       "</table>\n",
       "</div>"
      ],
      "text/plain": [
       "  state  account length international plan voice mail plan  \\\n",
       "0    KS             128                 no             yes   \n",
       "1    OH             107                 no             yes   \n",
       "2    NJ             137                 no              no   \n",
       "3    OH              84                yes              no   \n",
       "4    OK              75                yes              no   \n",
       "\n",
       "   number vmail messages  total day minutes  total day calls  \\\n",
       "0                     25              265.1              110   \n",
       "1                     26              161.6              123   \n",
       "2                      0              243.4              114   \n",
       "3                      0              299.4               71   \n",
       "4                      0              166.7              113   \n",
       "\n",
       "   total day charge  total eve minutes  total eve calls  total eve charge  \\\n",
       "0             45.07              197.4               99             16.78   \n",
       "1             27.47              195.5              103             16.62   \n",
       "2             41.38              121.2              110             10.30   \n",
       "3             50.90               61.9               88              5.26   \n",
       "4             28.34              148.3              122             12.61   \n",
       "\n",
       "   total night minutes  total night calls  total night charge  \\\n",
       "0                244.7                 91               11.01   \n",
       "1                254.4                103               11.45   \n",
       "2                162.6                104                7.32   \n",
       "3                196.9                 89                8.86   \n",
       "4                186.9                121                8.41   \n",
       "\n",
       "   total intl minutes  total intl calls  total intl charge  \\\n",
       "0                10.0                 3               2.70   \n",
       "1                13.7                 3               3.70   \n",
       "2                12.2                 5               3.29   \n",
       "3                 6.6                 7               1.78   \n",
       "4                10.1                 3               2.73   \n",
       "\n",
       "   customer service calls  churn  \n",
       "0                       1  False  \n",
       "1                       1  False  \n",
       "2                       0  False  \n",
       "3                       2  False  \n",
       "4                       3  False  "
      ]
     },
     "execution_count": 9,
     "metadata": {},
     "output_type": "execute_result"
    }
   ],
   "source": [
    "df.head()"
   ]
  },
  {
   "cell_type": "code",
   "execution_count": 10,
   "metadata": {},
   "outputs": [
    {
     "data": {
      "text/plain": [
       "(1199, 19)"
      ]
     },
     "execution_count": 10,
     "metadata": {},
     "output_type": "execute_result"
    }
   ],
   "source": [
    "df.shape"
   ]
  },
  {
   "cell_type": "code",
   "execution_count": 11,
   "metadata": {},
   "outputs": [
    {
     "data": {
      "text/plain": [
       "array(['KS', 'OH', 'NJ', 'OK', 'AL', 'MA', 'MO', 'LA', 'WV', 'IN', 'RI',\n",
       "       'IA', 'MT', 'NY', 'ID', 'VT', 'VA', 'TX', 'FL', 'CO', 'AZ', 'SC',\n",
       "       'NE', 'WY', 'HI', 'IL', 'NH', 'GA', 'AK', 'MD', 'AR', 'WI', 'OR',\n",
       "       'MI', 'DE', 'UT', 'CA', 'MN', 'SD', 'NC', 'WA', 'NM', 'NV', 'DC',\n",
       "       'KY', 'ME', 'MS', 'TN', 'PA', 'CT', 'ND'], dtype=object)"
      ]
     },
     "execution_count": 11,
     "metadata": {},
     "output_type": "execute_result"
    }
   ],
   "source": [
    "df['state'].unique()"
   ]
  },
  {
   "cell_type": "code",
   "execution_count": 12,
   "metadata": {},
   "outputs": [],
   "source": [
    "#to check data types of the columns"
   ]
  },
  {
   "cell_type": "code",
   "execution_count": 13,
   "metadata": {},
   "outputs": [
    {
     "data": {
      "text/plain": [
       "state                      object\n",
       "account length              int64\n",
       "international plan         object\n",
       "voice mail plan            object\n",
       "number vmail messages       int64\n",
       "total day minutes         float64\n",
       "total day calls             int64\n",
       "total day charge          float64\n",
       "total eve minutes         float64\n",
       "total eve calls             int64\n",
       "total eve charge          float64\n",
       "total night minutes       float64\n",
       "total night calls           int64\n",
       "total night charge        float64\n",
       "total intl minutes        float64\n",
       "total intl calls            int64\n",
       "total intl charge         float64\n",
       "customer service calls      int64\n",
       "churn                        bool\n",
       "dtype: object"
      ]
     },
     "execution_count": 13,
     "metadata": {},
     "output_type": "execute_result"
    }
   ],
   "source": [
    "df.dtypes"
   ]
  },
  {
   "cell_type": "code",
   "execution_count": 14,
   "metadata": {},
   "outputs": [
    {
     "name": "stdout",
     "output_type": "stream",
     "text": [
      "<class 'pandas.core.frame.DataFrame'>\n",
      "RangeIndex: 1199 entries, 0 to 1198\n",
      "Data columns (total 19 columns):\n",
      " #   Column                  Non-Null Count  Dtype  \n",
      "---  ------                  --------------  -----  \n",
      " 0   state                   1199 non-null   object \n",
      " 1   account length          1199 non-null   int64  \n",
      " 2   international plan      1199 non-null   object \n",
      " 3   voice mail plan         1199 non-null   object \n",
      " 4   number vmail messages   1199 non-null   int64  \n",
      " 5   total day minutes       1199 non-null   float64\n",
      " 6   total day calls         1199 non-null   int64  \n",
      " 7   total day charge        1199 non-null   float64\n",
      " 8   total eve minutes       1199 non-null   float64\n",
      " 9   total eve calls         1199 non-null   int64  \n",
      " 10  total eve charge        1199 non-null   float64\n",
      " 11  total night minutes     1199 non-null   float64\n",
      " 12  total night calls       1199 non-null   int64  \n",
      " 13  total night charge      1199 non-null   float64\n",
      " 14  total intl minutes      1199 non-null   float64\n",
      " 15  total intl calls        1199 non-null   int64  \n",
      " 16  total intl charge       1199 non-null   float64\n",
      " 17  customer service calls  1199 non-null   int64  \n",
      " 18  churn                   1199 non-null   bool   \n",
      "dtypes: bool(1), float64(8), int64(7), object(3)\n",
      "memory usage: 169.9+ KB\n"
     ]
    }
   ],
   "source": [
    "df.info()              #we can see from the below that no null value is present in the dataset"
   ]
  },
  {
   "cell_type": "code",
   "execution_count": 15,
   "metadata": {},
   "outputs": [],
   "source": [
    "#converting catagorical to numerical value"
   ]
  },
  {
   "cell_type": "code",
   "execution_count": 16,
   "metadata": {},
   "outputs": [],
   "source": [
    "from sklearn.preprocessing import LabelEncoder"
   ]
  },
  {
   "cell_type": "code",
   "execution_count": 17,
   "metadata": {},
   "outputs": [],
   "source": [
    "le=LabelEncoder()"
   ]
  },
  {
   "cell_type": "code",
   "execution_count": 18,
   "metadata": {},
   "outputs": [],
   "source": [
    "a=['state','international plan','voice mail plan','churn']"
   ]
  },
  {
   "cell_type": "code",
   "execution_count": 19,
   "metadata": {},
   "outputs": [],
   "source": [
    "for i in a:\n",
    "    df[i]=le.fit_transform(df[i])"
   ]
  },
  {
   "cell_type": "code",
   "execution_count": 20,
   "metadata": {},
   "outputs": [
    {
     "data": {
      "text/plain": [
       "state                       int32\n",
       "account length              int64\n",
       "international plan          int32\n",
       "voice mail plan             int32\n",
       "number vmail messages       int64\n",
       "total day minutes         float64\n",
       "total day calls             int64\n",
       "total day charge          float64\n",
       "total eve minutes         float64\n",
       "total eve calls             int64\n",
       "total eve charge          float64\n",
       "total night minutes       float64\n",
       "total night calls           int64\n",
       "total night charge        float64\n",
       "total intl minutes        float64\n",
       "total intl calls            int64\n",
       "total intl charge         float64\n",
       "customer service calls      int64\n",
       "churn                       int64\n",
       "dtype: object"
      ]
     },
     "execution_count": 20,
     "metadata": {},
     "output_type": "execute_result"
    }
   ],
   "source": [
    "df.dtypes"
   ]
  },
  {
   "cell_type": "code",
   "execution_count": 21,
   "metadata": {},
   "outputs": [],
   "source": [
    "# now we will divide the dataset in x and y(target variable)"
   ]
  },
  {
   "cell_type": "code",
   "execution_count": 22,
   "metadata": {},
   "outputs": [],
   "source": [
    "x=df.drop('churn',axis=1)"
   ]
  },
  {
   "cell_type": "code",
   "execution_count": 23,
   "metadata": {},
   "outputs": [
    {
     "data": {
      "text/html": [
       "<div>\n",
       "<style scoped>\n",
       "    .dataframe tbody tr th:only-of-type {\n",
       "        vertical-align: middle;\n",
       "    }\n",
       "\n",
       "    .dataframe tbody tr th {\n",
       "        vertical-align: top;\n",
       "    }\n",
       "\n",
       "    .dataframe thead th {\n",
       "        text-align: right;\n",
       "    }\n",
       "</style>\n",
       "<table border=\"1\" class=\"dataframe\">\n",
       "  <thead>\n",
       "    <tr style=\"text-align: right;\">\n",
       "      <th></th>\n",
       "      <th>state</th>\n",
       "      <th>account length</th>\n",
       "      <th>international plan</th>\n",
       "      <th>voice mail plan</th>\n",
       "      <th>number vmail messages</th>\n",
       "      <th>total day minutes</th>\n",
       "      <th>total day calls</th>\n",
       "      <th>total day charge</th>\n",
       "      <th>total eve minutes</th>\n",
       "      <th>total eve calls</th>\n",
       "      <th>total eve charge</th>\n",
       "      <th>total night minutes</th>\n",
       "      <th>total night calls</th>\n",
       "      <th>total night charge</th>\n",
       "      <th>total intl minutes</th>\n",
       "      <th>total intl calls</th>\n",
       "      <th>total intl charge</th>\n",
       "      <th>customer service calls</th>\n",
       "    </tr>\n",
       "  </thead>\n",
       "  <tbody>\n",
       "    <tr>\n",
       "      <th>0</th>\n",
       "      <td>16</td>\n",
       "      <td>128</td>\n",
       "      <td>0</td>\n",
       "      <td>1</td>\n",
       "      <td>25</td>\n",
       "      <td>265.1</td>\n",
       "      <td>110</td>\n",
       "      <td>45.07</td>\n",
       "      <td>197.4</td>\n",
       "      <td>99</td>\n",
       "      <td>16.78</td>\n",
       "      <td>244.7</td>\n",
       "      <td>91</td>\n",
       "      <td>11.01</td>\n",
       "      <td>10.0</td>\n",
       "      <td>3</td>\n",
       "      <td>2.70</td>\n",
       "      <td>1</td>\n",
       "    </tr>\n",
       "    <tr>\n",
       "      <th>1</th>\n",
       "      <td>35</td>\n",
       "      <td>107</td>\n",
       "      <td>0</td>\n",
       "      <td>1</td>\n",
       "      <td>26</td>\n",
       "      <td>161.6</td>\n",
       "      <td>123</td>\n",
       "      <td>27.47</td>\n",
       "      <td>195.5</td>\n",
       "      <td>103</td>\n",
       "      <td>16.62</td>\n",
       "      <td>254.4</td>\n",
       "      <td>103</td>\n",
       "      <td>11.45</td>\n",
       "      <td>13.7</td>\n",
       "      <td>3</td>\n",
       "      <td>3.70</td>\n",
       "      <td>1</td>\n",
       "    </tr>\n",
       "    <tr>\n",
       "      <th>2</th>\n",
       "      <td>31</td>\n",
       "      <td>137</td>\n",
       "      <td>0</td>\n",
       "      <td>0</td>\n",
       "      <td>0</td>\n",
       "      <td>243.4</td>\n",
       "      <td>114</td>\n",
       "      <td>41.38</td>\n",
       "      <td>121.2</td>\n",
       "      <td>110</td>\n",
       "      <td>10.30</td>\n",
       "      <td>162.6</td>\n",
       "      <td>104</td>\n",
       "      <td>7.32</td>\n",
       "      <td>12.2</td>\n",
       "      <td>5</td>\n",
       "      <td>3.29</td>\n",
       "      <td>0</td>\n",
       "    </tr>\n",
       "    <tr>\n",
       "      <th>3</th>\n",
       "      <td>35</td>\n",
       "      <td>84</td>\n",
       "      <td>1</td>\n",
       "      <td>0</td>\n",
       "      <td>0</td>\n",
       "      <td>299.4</td>\n",
       "      <td>71</td>\n",
       "      <td>50.90</td>\n",
       "      <td>61.9</td>\n",
       "      <td>88</td>\n",
       "      <td>5.26</td>\n",
       "      <td>196.9</td>\n",
       "      <td>89</td>\n",
       "      <td>8.86</td>\n",
       "      <td>6.6</td>\n",
       "      <td>7</td>\n",
       "      <td>1.78</td>\n",
       "      <td>2</td>\n",
       "    </tr>\n",
       "    <tr>\n",
       "      <th>4</th>\n",
       "      <td>36</td>\n",
       "      <td>75</td>\n",
       "      <td>1</td>\n",
       "      <td>0</td>\n",
       "      <td>0</td>\n",
       "      <td>166.7</td>\n",
       "      <td>113</td>\n",
       "      <td>28.34</td>\n",
       "      <td>148.3</td>\n",
       "      <td>122</td>\n",
       "      <td>12.61</td>\n",
       "      <td>186.9</td>\n",
       "      <td>121</td>\n",
       "      <td>8.41</td>\n",
       "      <td>10.1</td>\n",
       "      <td>3</td>\n",
       "      <td>2.73</td>\n",
       "      <td>3</td>\n",
       "    </tr>\n",
       "  </tbody>\n",
       "</table>\n",
       "</div>"
      ],
      "text/plain": [
       "   state  account length  international plan  voice mail plan  \\\n",
       "0     16             128                   0                1   \n",
       "1     35             107                   0                1   \n",
       "2     31             137                   0                0   \n",
       "3     35              84                   1                0   \n",
       "4     36              75                   1                0   \n",
       "\n",
       "   number vmail messages  total day minutes  total day calls  \\\n",
       "0                     25              265.1              110   \n",
       "1                     26              161.6              123   \n",
       "2                      0              243.4              114   \n",
       "3                      0              299.4               71   \n",
       "4                      0              166.7              113   \n",
       "\n",
       "   total day charge  total eve minutes  total eve calls  total eve charge  \\\n",
       "0             45.07              197.4               99             16.78   \n",
       "1             27.47              195.5              103             16.62   \n",
       "2             41.38              121.2              110             10.30   \n",
       "3             50.90               61.9               88              5.26   \n",
       "4             28.34              148.3              122             12.61   \n",
       "\n",
       "   total night minutes  total night calls  total night charge  \\\n",
       "0                244.7                 91               11.01   \n",
       "1                254.4                103               11.45   \n",
       "2                162.6                104                7.32   \n",
       "3                196.9                 89                8.86   \n",
       "4                186.9                121                8.41   \n",
       "\n",
       "   total intl minutes  total intl calls  total intl charge  \\\n",
       "0                10.0                 3               2.70   \n",
       "1                13.7                 3               3.70   \n",
       "2                12.2                 5               3.29   \n",
       "3                 6.6                 7               1.78   \n",
       "4                10.1                 3               2.73   \n",
       "\n",
       "   customer service calls  \n",
       "0                       1  \n",
       "1                       1  \n",
       "2                       0  \n",
       "3                       2  \n",
       "4                       3  "
      ]
     },
     "execution_count": 23,
     "metadata": {},
     "output_type": "execute_result"
    }
   ],
   "source": [
    "x.head()"
   ]
  },
  {
   "cell_type": "code",
   "execution_count": 24,
   "metadata": {},
   "outputs": [
    {
     "data": {
      "text/plain": [
       "(1199, 18)"
      ]
     },
     "execution_count": 24,
     "metadata": {},
     "output_type": "execute_result"
    }
   ],
   "source": [
    "x.shape"
   ]
  },
  {
   "cell_type": "code",
   "execution_count": 25,
   "metadata": {},
   "outputs": [],
   "source": [
    "y=df['churn'].values"
   ]
  },
  {
   "cell_type": "code",
   "execution_count": 26,
   "metadata": {},
   "outputs": [
    {
     "data": {
      "text/plain": [
       "(1199, 1)"
      ]
     },
     "execution_count": 26,
     "metadata": {},
     "output_type": "execute_result"
    }
   ],
   "source": [
    "y=y.reshape(-1,1)\n",
    "y.shape"
   ]
  },
  {
   "cell_type": "code",
   "execution_count": 27,
   "metadata": {},
   "outputs": [
    {
     "name": "stdout",
     "output_type": "stream",
     "text": [
      "<class 'pandas.core.frame.DataFrame'>\n",
      "RangeIndex: 1199 entries, 0 to 1198\n",
      "Data columns (total 18 columns):\n",
      " #   Column                  Non-Null Count  Dtype  \n",
      "---  ------                  --------------  -----  \n",
      " 0   state                   1199 non-null   int32  \n",
      " 1   account length          1199 non-null   int64  \n",
      " 2   international plan      1199 non-null   int32  \n",
      " 3   voice mail plan         1199 non-null   int32  \n",
      " 4   number vmail messages   1199 non-null   int64  \n",
      " 5   total day minutes       1199 non-null   float64\n",
      " 6   total day calls         1199 non-null   int64  \n",
      " 7   total day charge        1199 non-null   float64\n",
      " 8   total eve minutes       1199 non-null   float64\n",
      " 9   total eve calls         1199 non-null   int64  \n",
      " 10  total eve charge        1199 non-null   float64\n",
      " 11  total night minutes     1199 non-null   float64\n",
      " 12  total night calls       1199 non-null   int64  \n",
      " 13  total night charge      1199 non-null   float64\n",
      " 14  total intl minutes      1199 non-null   float64\n",
      " 15  total intl calls        1199 non-null   int64  \n",
      " 16  total intl charge       1199 non-null   float64\n",
      " 17  customer service calls  1199 non-null   int64  \n",
      "dtypes: float64(8), int32(3), int64(7)\n",
      "memory usage: 154.7 KB\n"
     ]
    }
   ],
   "source": [
    "x.info()"
   ]
  },
  {
   "cell_type": "code",
   "execution_count": 28,
   "metadata": {},
   "outputs": [
    {
     "data": {
      "text/html": [
       "<div>\n",
       "<style scoped>\n",
       "    .dataframe tbody tr th:only-of-type {\n",
       "        vertical-align: middle;\n",
       "    }\n",
       "\n",
       "    .dataframe tbody tr th {\n",
       "        vertical-align: top;\n",
       "    }\n",
       "\n",
       "    .dataframe thead th {\n",
       "        text-align: right;\n",
       "    }\n",
       "</style>\n",
       "<table border=\"1\" class=\"dataframe\">\n",
       "  <thead>\n",
       "    <tr style=\"text-align: right;\">\n",
       "      <th></th>\n",
       "      <th>state</th>\n",
       "      <th>account length</th>\n",
       "      <th>international plan</th>\n",
       "      <th>voice mail plan</th>\n",
       "      <th>number vmail messages</th>\n",
       "      <th>total day minutes</th>\n",
       "      <th>total day calls</th>\n",
       "      <th>total day charge</th>\n",
       "      <th>total eve minutes</th>\n",
       "      <th>total eve calls</th>\n",
       "      <th>total eve charge</th>\n",
       "      <th>total night minutes</th>\n",
       "      <th>total night calls</th>\n",
       "      <th>total night charge</th>\n",
       "      <th>total intl minutes</th>\n",
       "      <th>total intl calls</th>\n",
       "      <th>total intl charge</th>\n",
       "      <th>customer service calls</th>\n",
       "    </tr>\n",
       "  </thead>\n",
       "  <tbody>\n",
       "    <tr>\n",
       "      <th>count</th>\n",
       "      <td>1199.000000</td>\n",
       "      <td>1199.000000</td>\n",
       "      <td>1199.000000</td>\n",
       "      <td>1199.000000</td>\n",
       "      <td>1199.000000</td>\n",
       "      <td>1199.000000</td>\n",
       "      <td>1199.000000</td>\n",
       "      <td>1199.000000</td>\n",
       "      <td>1199.000000</td>\n",
       "      <td>1199.000000</td>\n",
       "      <td>1199.000000</td>\n",
       "      <td>1199.000000</td>\n",
       "      <td>1199.000000</td>\n",
       "      <td>1199.000000</td>\n",
       "      <td>1199.000000</td>\n",
       "      <td>1199.000000</td>\n",
       "      <td>1199.000000</td>\n",
       "      <td>1199.000000</td>\n",
       "    </tr>\n",
       "    <tr>\n",
       "      <th>mean</th>\n",
       "      <td>25.048374</td>\n",
       "      <td>100.123436</td>\n",
       "      <td>0.100083</td>\n",
       "      <td>0.286072</td>\n",
       "      <td>8.358632</td>\n",
       "      <td>181.752377</td>\n",
       "      <td>100.397832</td>\n",
       "      <td>30.898407</td>\n",
       "      <td>199.286906</td>\n",
       "      <td>100.015013</td>\n",
       "      <td>16.939575</td>\n",
       "      <td>199.726606</td>\n",
       "      <td>100.016681</td>\n",
       "      <td>8.987731</td>\n",
       "      <td>10.221601</td>\n",
       "      <td>4.541284</td>\n",
       "      <td>2.760367</td>\n",
       "      <td>1.542118</td>\n",
       "    </tr>\n",
       "    <tr>\n",
       "      <th>std</th>\n",
       "      <td>14.874017</td>\n",
       "      <td>40.120309</td>\n",
       "      <td>0.300236</td>\n",
       "      <td>0.452112</td>\n",
       "      <td>13.738002</td>\n",
       "      <td>54.271072</td>\n",
       "      <td>19.774295</td>\n",
       "      <td>9.226030</td>\n",
       "      <td>52.469286</td>\n",
       "      <td>20.073856</td>\n",
       "      <td>4.459893</td>\n",
       "      <td>51.328752</td>\n",
       "      <td>19.892568</td>\n",
       "      <td>2.309747</td>\n",
       "      <td>2.827812</td>\n",
       "      <td>2.548971</td>\n",
       "      <td>0.763479</td>\n",
       "      <td>1.308641</td>\n",
       "    </tr>\n",
       "    <tr>\n",
       "      <th>min</th>\n",
       "      <td>0.000000</td>\n",
       "      <td>1.000000</td>\n",
       "      <td>0.000000</td>\n",
       "      <td>0.000000</td>\n",
       "      <td>0.000000</td>\n",
       "      <td>12.500000</td>\n",
       "      <td>30.000000</td>\n",
       "      <td>2.130000</td>\n",
       "      <td>31.200000</td>\n",
       "      <td>12.000000</td>\n",
       "      <td>2.650000</td>\n",
       "      <td>43.700000</td>\n",
       "      <td>42.000000</td>\n",
       "      <td>1.970000</td>\n",
       "      <td>0.000000</td>\n",
       "      <td>0.000000</td>\n",
       "      <td>0.000000</td>\n",
       "      <td>0.000000</td>\n",
       "    </tr>\n",
       "    <tr>\n",
       "      <th>25%</th>\n",
       "      <td>12.000000</td>\n",
       "      <td>73.000000</td>\n",
       "      <td>0.000000</td>\n",
       "      <td>0.000000</td>\n",
       "      <td>0.000000</td>\n",
       "      <td>147.050000</td>\n",
       "      <td>88.000000</td>\n",
       "      <td>25.000000</td>\n",
       "      <td>164.550000</td>\n",
       "      <td>87.000000</td>\n",
       "      <td>13.985000</td>\n",
       "      <td>166.800000</td>\n",
       "      <td>86.500000</td>\n",
       "      <td>7.505000</td>\n",
       "      <td>8.400000</td>\n",
       "      <td>3.000000</td>\n",
       "      <td>2.270000</td>\n",
       "      <td>1.000000</td>\n",
       "    </tr>\n",
       "    <tr>\n",
       "      <th>50%</th>\n",
       "      <td>24.000000</td>\n",
       "      <td>98.000000</td>\n",
       "      <td>0.000000</td>\n",
       "      <td>0.000000</td>\n",
       "      <td>0.000000</td>\n",
       "      <td>182.900000</td>\n",
       "      <td>101.000000</td>\n",
       "      <td>31.090000</td>\n",
       "      <td>200.300000</td>\n",
       "      <td>101.000000</td>\n",
       "      <td>17.030000</td>\n",
       "      <td>200.100000</td>\n",
       "      <td>101.000000</td>\n",
       "      <td>9.000000</td>\n",
       "      <td>10.200000</td>\n",
       "      <td>4.000000</td>\n",
       "      <td>2.750000</td>\n",
       "      <td>1.000000</td>\n",
       "    </tr>\n",
       "    <tr>\n",
       "      <th>75%</th>\n",
       "      <td>37.000000</td>\n",
       "      <td>128.000000</td>\n",
       "      <td>0.000000</td>\n",
       "      <td>1.000000</td>\n",
       "      <td>21.500000</td>\n",
       "      <td>216.400000</td>\n",
       "      <td>113.000000</td>\n",
       "      <td>36.785000</td>\n",
       "      <td>233.950000</td>\n",
       "      <td>114.000000</td>\n",
       "      <td>19.885000</td>\n",
       "      <td>236.600000</td>\n",
       "      <td>114.000000</td>\n",
       "      <td>10.650000</td>\n",
       "      <td>12.100000</td>\n",
       "      <td>6.000000</td>\n",
       "      <td>3.270000</td>\n",
       "      <td>2.000000</td>\n",
       "    </tr>\n",
       "    <tr>\n",
       "      <th>max</th>\n",
       "      <td>50.000000</td>\n",
       "      <td>243.000000</td>\n",
       "      <td>1.000000</td>\n",
       "      <td>1.000000</td>\n",
       "      <td>51.000000</td>\n",
       "      <td>350.800000</td>\n",
       "      <td>165.000000</td>\n",
       "      <td>59.640000</td>\n",
       "      <td>351.600000</td>\n",
       "      <td>168.000000</td>\n",
       "      <td>29.890000</td>\n",
       "      <td>364.300000</td>\n",
       "      <td>175.000000</td>\n",
       "      <td>16.390000</td>\n",
       "      <td>20.000000</td>\n",
       "      <td>19.000000</td>\n",
       "      <td>5.400000</td>\n",
       "      <td>9.000000</td>\n",
       "    </tr>\n",
       "  </tbody>\n",
       "</table>\n",
       "</div>"
      ],
      "text/plain": [
       "             state  account length  international plan  voice mail plan  \\\n",
       "count  1199.000000     1199.000000         1199.000000      1199.000000   \n",
       "mean     25.048374      100.123436            0.100083         0.286072   \n",
       "std      14.874017       40.120309            0.300236         0.452112   \n",
       "min       0.000000        1.000000            0.000000         0.000000   \n",
       "25%      12.000000       73.000000            0.000000         0.000000   \n",
       "50%      24.000000       98.000000            0.000000         0.000000   \n",
       "75%      37.000000      128.000000            0.000000         1.000000   \n",
       "max      50.000000      243.000000            1.000000         1.000000   \n",
       "\n",
       "       number vmail messages  total day minutes  total day calls  \\\n",
       "count            1199.000000        1199.000000      1199.000000   \n",
       "mean                8.358632         181.752377       100.397832   \n",
       "std                13.738002          54.271072        19.774295   \n",
       "min                 0.000000          12.500000        30.000000   \n",
       "25%                 0.000000         147.050000        88.000000   \n",
       "50%                 0.000000         182.900000       101.000000   \n",
       "75%                21.500000         216.400000       113.000000   \n",
       "max                51.000000         350.800000       165.000000   \n",
       "\n",
       "       total day charge  total eve minutes  total eve calls  total eve charge  \\\n",
       "count       1199.000000        1199.000000      1199.000000       1199.000000   \n",
       "mean          30.898407         199.286906       100.015013         16.939575   \n",
       "std            9.226030          52.469286        20.073856          4.459893   \n",
       "min            2.130000          31.200000        12.000000          2.650000   \n",
       "25%           25.000000         164.550000        87.000000         13.985000   \n",
       "50%           31.090000         200.300000       101.000000         17.030000   \n",
       "75%           36.785000         233.950000       114.000000         19.885000   \n",
       "max           59.640000         351.600000       168.000000         29.890000   \n",
       "\n",
       "       total night minutes  total night calls  total night charge  \\\n",
       "count          1199.000000        1199.000000         1199.000000   \n",
       "mean            199.726606         100.016681            8.987731   \n",
       "std              51.328752          19.892568            2.309747   \n",
       "min              43.700000          42.000000            1.970000   \n",
       "25%             166.800000          86.500000            7.505000   \n",
       "50%             200.100000         101.000000            9.000000   \n",
       "75%             236.600000         114.000000           10.650000   \n",
       "max             364.300000         175.000000           16.390000   \n",
       "\n",
       "       total intl minutes  total intl calls  total intl charge  \\\n",
       "count         1199.000000       1199.000000        1199.000000   \n",
       "mean            10.221601          4.541284           2.760367   \n",
       "std              2.827812          2.548971           0.763479   \n",
       "min              0.000000          0.000000           0.000000   \n",
       "25%              8.400000          3.000000           2.270000   \n",
       "50%             10.200000          4.000000           2.750000   \n",
       "75%             12.100000          6.000000           3.270000   \n",
       "max             20.000000         19.000000           5.400000   \n",
       "\n",
       "       customer service calls  \n",
       "count             1199.000000  \n",
       "mean                 1.542118  \n",
       "std                  1.308641  \n",
       "min                  0.000000  \n",
       "25%                  1.000000  \n",
       "50%                  1.000000  \n",
       "75%                  2.000000  \n",
       "max                  9.000000  "
      ]
     },
     "execution_count": 28,
     "metadata": {},
     "output_type": "execute_result"
    }
   ],
   "source": [
    "x.describe()"
   ]
  },
  {
   "cell_type": "markdown",
   "metadata": {},
   "source": [
    "From the above we can conclude that outliers is present in the dataset as the max value is deviating from the 3rd quartile value and also some of the values is skewed as from the above where mean is greater than the median we can say that the data is right skewed and where the median is grater than mean we can say that data is left skewed."
   ]
  },
  {
   "cell_type": "code",
   "execution_count": 29,
   "metadata": {},
   "outputs": [],
   "source": [
    "#data visualization"
   ]
  },
  {
   "cell_type": "code",
   "execution_count": 30,
   "metadata": {},
   "outputs": [],
   "source": [
    "from matplotlib import pyplot as plt\n",
    "import seaborn as sns"
   ]
  },
  {
   "cell_type": "code",
   "execution_count": 31,
   "metadata": {},
   "outputs": [
    {
     "data": {
      "text/plain": [
       "<matplotlib.axes._subplots.AxesSubplot at 0xb2e1e2d848>"
      ]
     },
     "execution_count": 31,
     "metadata": {},
     "output_type": "execute_result"
    },
    {
     "data": {
      "image/png": "[encoded data removed]",
      "text/plain": [
       "<Figure size 1080x720 with 2 Axes>"
      ]
     },
     "metadata": {
      "needs_background": "light"
     },
     "output_type": "display_data"
    }
   ],
   "source": [
    "plt.figure(figsize=(15,10))\n",
    "sns.heatmap(x.corr(),annot=True,cmap='RdYlGn')\n",
    "\n",
    "#so from the below graph we can interpret that most of the values are below averagely correlated amongst each other"
   ]
  },
  {
   "cell_type": "code",
   "execution_count": 32,
   "metadata": {},
   "outputs": [
    {
     "data": {
      "image/png": "[encoded data removed]",
      "text/plain": [
       "<Figure size 432x288 with 20 Axes>"
      ]
     },
     "metadata": {
      "needs_background": "light"
     },
     "output_type": "display_data"
    }
   ],
   "source": [
    "%matplotlib inline\n",
    "x.hist()\n",
    "plt.show()"
   ]
  },
  {
   "cell_type": "code",
   "execution_count": 33,
   "metadata": {},
   "outputs": [
    {
     "data": {
      "text/plain": [
       "<matplotlib.axes._subplots.AxesSubplot at 0xb2e4652708>"
      ]
     },
     "execution_count": 33,
     "metadata": {},
     "output_type": "execute_result"
    },
    {
     "data": {
      "image/png": "[encoded data removed]",
      "text/plain": [
       "<Figure size 1440x360 with 1 Axes>"
      ]
     },
     "metadata": {
      "needs_background": "light"
     },
     "output_type": "display_data"
    }
   ],
   "source": [
    "x.boxplot(figsize=(20,5),color='green')      #shows outliers are present in each column"
   ]
  },
  {
   "cell_type": "code",
   "execution_count": 34,
   "metadata": {},
   "outputs": [
    {
     "data": {
      "text/plain": [
       "<matplotlib.axes._subplots.AxesSubplot at 0xb2e486b808>"
      ]
     },
     "execution_count": 34,
     "metadata": {},
     "output_type": "execute_result"
    },
    {
     "data": {
      "image/png": "[encoded data removed]",
      "text/plain": [
       "<Figure size 432x288 with 1 Axes>"
      ]
     },
     "metadata": {
      "needs_background": "light"
     },
     "output_type": "display_data"
    }
   ],
   "source": [
    "sns.countplot(df['churn'])  #count of churned or not"
   ]
  },
  {
   "cell_type": "code",
   "execution_count": 35,
   "metadata": {},
   "outputs": [
    {
     "data": {
      "text/plain": [
       "Index(['state', 'account length', 'international plan', 'voice mail plan',\n",
       "       'number vmail messages', 'total day minutes', 'total day calls',\n",
       "       'total day charge', 'total eve minutes', 'total eve calls',\n",
       "       'total eve charge', 'total night minutes', 'total night calls',\n",
       "       'total night charge', 'total intl minutes', 'total intl calls',\n",
       "       'total intl charge', 'customer service calls', 'churn'],\n",
       "      dtype='object')"
      ]
     },
     "execution_count": 35,
     "metadata": {},
     "output_type": "execute_result"
    }
   ],
   "source": [
    "df.columns"
   ]
  },
  {
   "cell_type": "code",
   "execution_count": 36,
   "metadata": {},
   "outputs": [
    {
     "data": {
      "text/plain": [
       "<matplotlib.axes._subplots.AxesSubplot at 0xb2e4899f48>"
      ]
     },
     "execution_count": 36,
     "metadata": {},
     "output_type": "execute_result"
    },
    {
     "data": {
      "image/png": "[encoded data removed]",
      "text/plain": [
       "<Figure size 432x288 with 1 Axes>"
      ]
     },
     "metadata": {
      "needs_background": "light"
     },
     "output_type": "display_data"
    }
   ],
   "source": [
    "sns.countplot(df['international plan'])  #count of male and female"
   ]
  },
  {
   "cell_type": "code",
   "execution_count": 37,
   "metadata": {},
   "outputs": [
    {
     "data": {
      "text/plain": [
       "<matplotlib.axes._subplots.AxesSubplot at 0xb2e48f26c8>"
      ]
     },
     "execution_count": 37,
     "metadata": {},
     "output_type": "execute_result"
    },
    {
     "data": {
      "image/png": "[encoded data removed]",
      "text/plain": [
       "<Figure size 432x288 with 1 Axes>"
      ]
     },
     "metadata": {
      "needs_background": "light"
     },
     "output_type": "display_data"
    }
   ],
   "source": [
    "sns.countplot(df['voice mail plan'])  #count of male and female"
   ]
  },
  {
   "cell_type": "code",
   "execution_count": 38,
   "metadata": {},
   "outputs": [
    {
     "data": {
      "text/plain": [
       "<matplotlib.axes._subplots.AxesSubplot at 0xb2e445dcc8>"
      ]
     },
     "execution_count": 38,
     "metadata": {},
     "output_type": "execute_result"
    },
    {
     "data": {
      "image/png": "[encoded data removed]",
      "text/plain": [
       "<Figure size 432x288 with 1 Axes>"
      ]
     },
     "metadata": {
      "needs_background": "light"
     },
     "output_type": "display_data"
    }
   ],
   "source": [
    "sns.countplot(df['state'],hue=df['churn'])"
   ]
  },
  {
   "cell_type": "code",
   "execution_count": 42,
   "metadata": {},
   "outputs": [
    {
     "data": {
      "text/plain": [
       "<matplotlib.axes._subplots.AxesSubplot at 0xb2e5ea53c8>"
      ]
     },
     "execution_count": 42,
     "metadata": {},
     "output_type": "execute_result"
    },
    {
     "data": {
      "image/png": "[encoded data removed]",
      "text/plain": [
       "<Figure size 432x288 with 1 Axes>"
      ]
     },
     "metadata": {
      "needs_background": "light"
     },
     "output_type": "display_data"
    }
   ],
   "source": [
    "sns.countplot(df['customer service calls'],hue=df['churn'])"
   ]
  },
  {
   "cell_type": "code",
   "execution_count": 49,
   "metadata": {},
   "outputs": [
    {
     "data": {
      "image/png": "[encoded data removed]",
      "text/plain": [
       "<Figure size 432x288 with 1 Axes>"
      ]
     },
     "metadata": {
      "needs_background": "light"
     },
     "output_type": "display_data"
    }
   ],
   "source": [
    "sns.pointplot(x['international plan'],x['total intl calls'])\n",
    "plt.xlabel('international plan')\n",
    "plt.ylabel('total intl calls')\n",
    "plt.grid()"
   ]
  },
  {
   "cell_type": "code",
   "execution_count": 51,
   "metadata": {},
   "outputs": [
    {
     "data": {
      "image/png": "[encoded data removed]",
      "text/plain": [
       "<Figure size 432x288 with 1 Axes>"
      ]
     },
     "metadata": {
      "needs_background": "light"
     },
     "output_type": "display_data"
    }
   ],
   "source": [
    "sns.pointplot(x['total intl calls'],x['customer service calls'])\n",
    "plt.xlabel('international calls')\n",
    "plt.ylabel('service calls')\n",
    "plt.grid()"
   ]
  },
  {
   "cell_type": "code",
   "execution_count": 52,
   "metadata": {},
   "outputs": [],
   "source": [
    "#removing outliers"
   ]
  },
  {
   "cell_type": "code",
   "execution_count": 54,
   "metadata": {},
   "outputs": [],
   "source": [
    "from scipy.stats import zscore"
   ]
  },
  {
   "cell_type": "code",
   "execution_count": 55,
   "metadata": {},
   "outputs": [],
   "source": [
    "z=(np.abs(zscore(x)))"
   ]
  },
  {
   "cell_type": "code",
   "execution_count": 56,
   "metadata": {},
   "outputs": [
    {
     "name": "stdout",
     "output_type": "stream",
     "text": [
      "(array([  22,   32,   32,   41,   58,  115,  115,  179,  179,  185,  244,\n",
      "        244,  272,  301,  314,  314,  332,  343,  343,  365,  365,  377,\n",
      "        416,  468,  483,  488,  488,  493,  522,  542,  595,  595,  636,\n",
      "        642,  646,  674,  692,  694,  712,  712,  721,  740,  756,  762,\n",
      "        762,  778,  817,  837,  845,  854,  863,  878,  878,  883,  883,\n",
      "        902,  908,  921,  922,  922,  957,  960,  974,  982,  985,  985,\n",
      "       1028, 1028, 1052, 1052, 1080, 1080, 1092, 1113, 1113, 1121, 1142,\n",
      "       1144, 1179], dtype=int64), array([15,  8, 10, 15,  9, 14, 16, 14, 16, 15, 11, 13, 15,  9, 14, 16, 17,\n",
      "       14, 16,  5,  7, 15,  1,  6, 15, 14, 16, 12, 17, 17, 14, 16, 15, 15,\n",
      "        9, 15,  6, 17, 14, 16, 17,  6, 15, 14, 16, 17,  1, 15,  4, 15, 15,\n",
      "       14, 16, 11, 13, 17, 17, 15, 11, 13, 15,  9, 17, 15,  5,  7, 14, 16,\n",
      "        5,  7, 14, 16, 15, 11, 13,  6, 17,  6, 15], dtype=int64))\n"
     ]
    }
   ],
   "source": [
    "threshold=3\n",
    "print(np.where(z>3))"
   ]
  },
  {
   "cell_type": "code",
   "execution_count": 57,
   "metadata": {},
   "outputs": [],
   "source": [
    "x_new=x[(z<3).all(axis=1)]"
   ]
  },
  {
   "cell_type": "code",
   "execution_count": 58,
   "metadata": {},
   "outputs": [
    {
     "data": {
      "text/plain": [
       "(1139, 18)"
      ]
     },
     "execution_count": 58,
     "metadata": {},
     "output_type": "execute_result"
    }
   ],
   "source": [
    "x_new.shape"
   ]
  },
  {
   "cell_type": "code",
   "execution_count": 59,
   "metadata": {},
   "outputs": [
    {
     "data": {
      "text/plain": [
       "(1199, 18)"
      ]
     },
     "execution_count": 59,
     "metadata": {},
     "output_type": "execute_result"
    }
   ],
   "source": [
    "x.shape"
   ]
  },
  {
   "cell_type": "code",
   "execution_count": 60,
   "metadata": {},
   "outputs": [],
   "source": [
    "#so we can see from the above that outliers with threshold as 3 has been removed"
   ]
  },
  {
   "cell_type": "code",
   "execution_count": 61,
   "metadata": {},
   "outputs": [],
   "source": [
    "#performing the satndardization will bring mean to 0 and standard deviation,variance to unit"
   ]
  },
  {
   "cell_type": "code",
   "execution_count": 62,
   "metadata": {},
   "outputs": [],
   "source": [
    "from sklearn.preprocessing import StandardScaler"
   ]
  },
  {
   "cell_type": "code",
   "execution_count": 63,
   "metadata": {},
   "outputs": [],
   "source": [
    "std=StandardScaler()"
   ]
  },
  {
   "cell_type": "code",
   "execution_count": 64,
   "metadata": {},
   "outputs": [],
   "source": [
    "x=std.fit_transform(x)"
   ]
  },
  {
   "cell_type": "code",
   "execution_count": 65,
   "metadata": {},
   "outputs": [],
   "source": [
    "x=pd.DataFrame(data=x)"
   ]
  },
  {
   "cell_type": "code",
   "execution_count": 66,
   "metadata": {},
   "outputs": [
    {
     "data": {
      "text/html": [
       "<div>\n",
       "<style scoped>\n",
       "    .dataframe tbody tr th:only-of-type {\n",
       "        vertical-align: middle;\n",
       "    }\n",
       "\n",
       "    .dataframe tbody tr th {\n",
       "        vertical-align: top;\n",
       "    }\n",
       "\n",
       "    .dataframe thead th {\n",
       "        text-align: right;\n",
       "    }\n",
       "</style>\n",
       "<table border=\"1\" class=\"dataframe\">\n",
       "  <thead>\n",
       "    <tr style=\"text-align: right;\">\n",
       "      <th></th>\n",
       "      <th>0</th>\n",
       "      <th>1</th>\n",
       "      <th>2</th>\n",
       "      <th>3</th>\n",
       "      <th>4</th>\n",
       "      <th>5</th>\n",
       "      <th>6</th>\n",
       "      <th>7</th>\n",
       "      <th>8</th>\n",
       "      <th>9</th>\n",
       "      <th>10</th>\n",
       "      <th>11</th>\n",
       "      <th>12</th>\n",
       "      <th>13</th>\n",
       "      <th>14</th>\n",
       "      <th>15</th>\n",
       "      <th>16</th>\n",
       "      <th>17</th>\n",
       "    </tr>\n",
       "  </thead>\n",
       "  <tbody>\n",
       "    <tr>\n",
       "      <th>0</th>\n",
       "      <td>-0.608588</td>\n",
       "      <td>0.695114</td>\n",
       "      <td>-0.333488</td>\n",
       "      <td>1.579755</td>\n",
       "      <td>1.211844</td>\n",
       "      <td>1.536406</td>\n",
       "      <td>0.485791</td>\n",
       "      <td>1.536685</td>\n",
       "      <td>-0.035977</td>\n",
       "      <td>-0.050585</td>\n",
       "      <td>-0.035795</td>\n",
       "      <td>0.876549</td>\n",
       "      <td>-0.453458</td>\n",
       "      <td>0.875902</td>\n",
       "      <td>-0.078398</td>\n",
       "      <td>-0.604922</td>\n",
       "      <td>-0.079101</td>\n",
       "      <td>-0.414434</td>\n",
       "    </tr>\n",
       "    <tr>\n",
       "      <th>1</th>\n",
       "      <td>0.669340</td>\n",
       "      <td>0.171470</td>\n",
       "      <td>-0.333488</td>\n",
       "      <td>1.579755</td>\n",
       "      <td>1.284665</td>\n",
       "      <td>-0.371483</td>\n",
       "      <td>1.143485</td>\n",
       "      <td>-0.371757</td>\n",
       "      <td>-0.072204</td>\n",
       "      <td>0.148762</td>\n",
       "      <td>-0.071685</td>\n",
       "      <td>1.065606</td>\n",
       "      <td>0.150034</td>\n",
       "      <td>1.066479</td>\n",
       "      <td>1.230581</td>\n",
       "      <td>-0.604922</td>\n",
       "      <td>1.231238</td>\n",
       "      <td>-0.414434</td>\n",
       "    </tr>\n",
       "    <tr>\n",
       "      <th>2</th>\n",
       "      <td>0.400303</td>\n",
       "      <td>0.919533</td>\n",
       "      <td>-0.333488</td>\n",
       "      <td>-0.633009</td>\n",
       "      <td>-0.608685</td>\n",
       "      <td>1.136394</td>\n",
       "      <td>0.688158</td>\n",
       "      <td>1.136563</td>\n",
       "      <td>-1.488861</td>\n",
       "      <td>0.497620</td>\n",
       "      <td>-1.489351</td>\n",
       "      <td>-0.723612</td>\n",
       "      <td>0.200325</td>\n",
       "      <td>-0.722342</td>\n",
       "      <td>0.699914</td>\n",
       "      <td>0.180036</td>\n",
       "      <td>0.693999</td>\n",
       "      <td>-1.178904</td>\n",
       "    </tr>\n",
       "    <tr>\n",
       "      <th>3</th>\n",
       "      <td>0.669340</td>\n",
       "      <td>-0.402045</td>\n",
       "      <td>2.998611</td>\n",
       "      <td>-0.633009</td>\n",
       "      <td>-0.608685</td>\n",
       "      <td>2.168682</td>\n",
       "      <td>-1.487289</td>\n",
       "      <td>2.168857</td>\n",
       "      <td>-2.619518</td>\n",
       "      <td>-0.598790</td>\n",
       "      <td>-2.619894</td>\n",
       "      <td>-0.055092</td>\n",
       "      <td>-0.554040</td>\n",
       "      <td>-0.055324</td>\n",
       "      <td>-1.281242</td>\n",
       "      <td>0.964994</td>\n",
       "      <td>-1.284614</td>\n",
       "      <td>0.350037</td>\n",
       "    </tr>\n",
       "    <tr>\n",
       "      <th>4</th>\n",
       "      <td>0.736600</td>\n",
       "      <td>-0.626464</td>\n",
       "      <td>2.998611</td>\n",
       "      <td>-0.633009</td>\n",
       "      <td>-0.608685</td>\n",
       "      <td>-0.277471</td>\n",
       "      <td>0.637566</td>\n",
       "      <td>-0.277419</td>\n",
       "      <td>-0.972153</td>\n",
       "      <td>1.095662</td>\n",
       "      <td>-0.971185</td>\n",
       "      <td>-0.249996</td>\n",
       "      <td>1.055272</td>\n",
       "      <td>-0.250232</td>\n",
       "      <td>-0.043020</td>\n",
       "      <td>-0.604922</td>\n",
       "      <td>-0.039791</td>\n",
       "      <td>1.114508</td>\n",
       "    </tr>\n",
       "  </tbody>\n",
       "</table>\n",
       "</div>"
      ],
      "text/plain": [
       "          0         1         2         3         4         5         6  \\\n",
       "0 -0.608588  0.695114 -0.333488  1.579755  1.211844  1.536406  0.485791   \n",
       "1  0.669340  0.171470 -0.333488  1.579755  1.284665 -0.371483  1.143485   \n",
       "2  0.400303  0.919533 -0.333488 -0.633009 -0.608685  1.136394  0.688158   \n",
       "3  0.669340 -0.402045  2.998611 -0.633009 -0.608685  2.168682 -1.487289   \n",
       "4  0.736600 -0.626464  2.998611 -0.633009 -0.608685 -0.277471  0.637566   \n",
       "\n",
       "          7         8         9        10        11        12        13  \\\n",
       "0  1.536685 -0.035977 -0.050585 -0.035795  0.876549 -0.453458  0.875902   \n",
       "1 -0.371757 -0.072204  0.148762 -0.071685  1.065606  0.150034  1.066479   \n",
       "2  1.136563 -1.488861  0.497620 -1.489351 -0.723612  0.200325 -0.722342   \n",
       "3  2.168857 -2.619518 -0.598790 -2.619894 -0.055092 -0.554040 -0.055324   \n",
       "4 -0.277419 -0.972153  1.095662 -0.971185 -0.249996  1.055272 -0.250232   \n",
       "\n",
       "         14        15        16        17  \n",
       "0 -0.078398 -0.604922 -0.079101 -0.414434  \n",
       "1  1.230581 -0.604922  1.231238 -0.414434  \n",
       "2  0.699914  0.180036  0.693999 -1.178904  \n",
       "3 -1.281242  0.964994 -1.284614  0.350037  \n",
       "4 -0.043020 -0.604922 -0.039791  1.114508  "
      ]
     },
     "execution_count": 66,
     "metadata": {},
     "output_type": "execute_result"
    }
   ],
   "source": [
    "x.head()"
   ]
  },
  {
   "cell_type": "code",
   "execution_count": 72,
   "metadata": {},
   "outputs": [],
   "source": [
    "#minimising the number of columns from 18 to 10 using PCA"
   ]
  },
  {
   "cell_type": "code",
   "execution_count": 73,
   "metadata": {},
   "outputs": [],
   "source": [
    "from sklearn.decomposition import PCA"
   ]
  },
  {
   "cell_type": "code",
   "execution_count": 74,
   "metadata": {},
   "outputs": [],
   "source": [
    "pca=PCA(n_components=9)"
   ]
  },
  {
   "cell_type": "code",
   "execution_count": 75,
   "metadata": {},
   "outputs": [],
   "source": [
    "x=pca.fit_transform(x)"
   ]
  },
  {
   "cell_type": "code",
   "execution_count": 76,
   "metadata": {},
   "outputs": [],
   "source": [
    "x=pd.DataFrame(data=x)"
   ]
  },
  {
   "cell_type": "code",
   "execution_count": 77,
   "metadata": {},
   "outputs": [
    {
     "name": "stdout",
     "output_type": "stream",
     "text": [
      "<class 'pandas.core.frame.DataFrame'>\n",
      "RangeIndex: 1199 entries, 0 to 1198\n",
      "Data columns (total 9 columns):\n",
      " #   Column  Non-Null Count  Dtype  \n",
      "---  ------  --------------  -----  \n",
      " 0   0       1199 non-null   float64\n",
      " 1   1       1199 non-null   float64\n",
      " 2   2       1199 non-null   float64\n",
      " 3   3       1199 non-null   float64\n",
      " 4   4       1199 non-null   float64\n",
      " 5   5       1199 non-null   float64\n",
      " 6   6       1199 non-null   float64\n",
      " 7   7       1199 non-null   float64\n",
      " 8   8       1199 non-null   float64\n",
      "dtypes: float64(9)\n",
      "memory usage: 84.4 KB\n"
     ]
    }
   ],
   "source": [
    "x.info()"
   ]
  },
  {
   "cell_type": "code",
   "execution_count": 78,
   "metadata": {},
   "outputs": [],
   "source": [
    "#performing analysis with various models"
   ]
  },
  {
   "cell_type": "code",
   "execution_count": 110,
   "metadata": {},
   "outputs": [],
   "source": [
    "from sklearn.linear_model import LogisticRegression\n",
    "from sklearn.naive_bayes import GaussianNB\n",
    "from sklearn.neighbors import KNeighborsClassifier\n",
    "from sklearn.tree import DecisionTreeClassifier\n",
    "from sklearn.svm import SVC\n",
    "from sklearn.model_selection import train_test_split\n",
    "from sklearn.metrics import accuracy_score,classification_report,confusion_matrix\n",
    "from sklearn.model_selection import cross_val_score"
   ]
  },
  {
   "cell_type": "code",
   "execution_count": 80,
   "metadata": {},
   "outputs": [
    {
     "name": "stdout",
     "output_type": "stream",
     "text": [
      "accuracy score corrosponding to random state: 42 is: 0.875\n",
      "accuracy score corrosponding to random state: 43 is: 0.875\n",
      "accuracy score corrosponding to random state: 44 is: 0.8916666666666667\n",
      "accuracy score corrosponding to random state: 45 is: 0.8666666666666667\n",
      "accuracy score corrosponding to random state: 46 is: 0.9\n",
      "accuracy score corrosponding to random state: 47 is: 0.9125\n",
      "accuracy score corrosponding to random state: 48 is: 0.8958333333333334\n",
      "accuracy score corrosponding to random state: 49 is: 0.8833333333333333\n",
      "accuracy score corrosponding to random state: 50 is: 0.8708333333333333\n",
      "accuracy score corrosponding to random state: 51 is: 0.8916666666666667\n",
      "accuracy score corrosponding to random state: 52 is: 0.8916666666666667\n",
      "accuracy score corrosponding to random state: 53 is: 0.8875\n",
      "accuracy score corrosponding to random state: 54 is: 0.9291666666666667\n",
      "accuracy score corrosponding to random state: 55 is: 0.8708333333333333\n",
      "accuracy score corrosponding to random state: 56 is: 0.9\n",
      "accuracy score corrosponding to random state: 57 is: 0.85\n",
      "accuracy score corrosponding to random state: 58 is: 0.8458333333333333\n",
      "accuracy score corrosponding to random state: 59 is: 0.9208333333333333\n",
      "accuracy score corrosponding to random state: 60 is: 0.8791666666666667\n",
      "accuracy score corrosponding to random state: 61 is: 0.8958333333333334\n",
      "accuracy score corrosponding to random state: 62 is: 0.9041666666666667\n",
      "accuracy score corrosponding to random state: 63 is: 0.9083333333333333\n",
      "accuracy score corrosponding to random state: 64 is: 0.8916666666666667\n",
      "accuracy score corrosponding to random state: 65 is: 0.8875\n",
      "accuracy score corrosponding to random state: 66 is: 0.875\n",
      "accuracy score corrosponding to random state: 67 is: 0.8916666666666667\n",
      "accuracy score corrosponding to random state: 68 is: 0.8708333333333333\n",
      "accuracy score corrosponding to random state: 69 is: 0.8708333333333333\n",
      "accuracy score corrosponding to random state: 70 is: 0.9125\n",
      "accuracy score corrosponding to random state: 71 is: 0.9041666666666667\n",
      "accuracy score corrosponding to random state: 72 is: 0.8833333333333333\n",
      "accuracy score corrosponding to random state: 73 is: 0.8958333333333334\n",
      "accuracy score corrosponding to random state: 74 is: 0.8625\n",
      "accuracy score corrosponding to random state: 75 is: 0.9125\n",
      "accuracy score corrosponding to random state: 76 is: 0.8708333333333333\n",
      "accuracy score corrosponding to random state: 77 is: 0.9166666666666666\n",
      "accuracy score corrosponding to random state: 78 is: 0.925\n",
      "accuracy score corrosponding to random state: 79 is: 0.9125\n",
      "accuracy score corrosponding to random state: 80 is: 0.8666666666666667\n",
      "accuracy score corrosponding to random state: 81 is: 0.8708333333333333\n",
      "accuracy score corrosponding to random state: 82 is: 0.8708333333333333\n",
      "accuracy score corrosponding to random state: 83 is: 0.8833333333333333\n",
      "accuracy score corrosponding to random state: 84 is: 0.9083333333333333\n",
      "accuracy score corrosponding to random state: 85 is: 0.875\n",
      "accuracy score corrosponding to random state: 86 is: 0.8791666666666667\n",
      "accuracy score corrosponding to random state: 87 is: 0.8833333333333333\n",
      "accuracy score corrosponding to random state: 88 is: 0.8708333333333333\n",
      "accuracy score corrosponding to random state: 89 is: 0.9041666666666667\n",
      "accuracy score corrosponding to random state: 90 is: 0.8666666666666667\n",
      "accuracy score corrosponding to random state: 91 is: 0.8791666666666667\n",
      "accuracy score corrosponding to random state: 92 is: 0.8791666666666667\n",
      "accuracy score corrosponding to random state: 93 is: 0.8958333333333334\n",
      "accuracy score corrosponding to random state: 94 is: 0.9041666666666667\n",
      "accuracy score corrosponding to random state: 95 is: 0.9041666666666667\n",
      "accuracy score corrosponding to random state: 96 is: 0.8625\n",
      "accuracy score corrosponding to random state: 97 is: 0.8583333333333333\n",
      "accuracy score corrosponding to random state: 98 is: 0.8791666666666667\n",
      "accuracy score corrosponding to random state: 99 is: 0.8916666666666667\n",
      "\n",
      "\n",
      "the max accuracy score for final random state 54 is: 0.9291666666666667\n"
     ]
    }
   ],
   "source": [
    "max_acc_score=0\n",
    "for r_state in range(42,100):\n",
    "    x_train,x_test,y_train,y_test=train_test_split(x,y,random_state=r_state,test_size=0.20)\n",
    "    lg=LogisticRegression()\n",
    "    lg.fit(x_train,y_train)\n",
    "    pred=lg.predict(x_test)\n",
    "    acc_score=accuracy_score(pred,y_test)\n",
    "    print(\"accuracy score corrosponding to random state:\",r_state,\"is:\",acc_score)\n",
    "    if acc_score>max_acc_score:\n",
    "        max_acc_score=acc_score\n",
    "        final_r_state=r_state\n",
    "print()\n",
    "print()\n",
    "print(\"the max accuracy score for final random state\",final_r_state,\"is:\",max_acc_score)"
   ]
  },
  {
   "cell_type": "markdown",
   "metadata": {},
   "source": [
    "Logistic regression is giving a max of 93% accuracy result, but we will check with other models too."
   ]
  },
  {
   "cell_type": "code",
   "execution_count": 82,
   "metadata": {},
   "outputs": [
    {
     "name": "stdout",
     "output_type": "stream",
     "text": [
      "              precision    recall  f1-score   support\n",
      "\n",
      "           0       0.92      0.99      0.95       220\n",
      "           1       0.00      0.00      0.00        20\n",
      "\n",
      "    accuracy                           0.90       240\n",
      "   macro avg       0.46      0.49      0.47       240\n",
      "weighted avg       0.84      0.90      0.87       240\n",
      "\n"
     ]
    }
   ],
   "source": [
    "print(classification_report(y_test,pred))"
   ]
  },
  {
   "cell_type": "code",
   "execution_count": 83,
   "metadata": {},
   "outputs": [
    {
     "data": {
      "text/plain": [
       "array([[217,   3],\n",
       "       [ 20,   0]], dtype=int64)"
      ]
     },
     "execution_count": 83,
     "metadata": {},
     "output_type": "execute_result"
    }
   ],
   "source": [
    "confusion_matrix(y_test,pred)"
   ]
  },
  {
   "cell_type": "code",
   "execution_count": 81,
   "metadata": {},
   "outputs": [],
   "source": [
    "x_train,x_test,y_train,y_test=train_test_split(x,y,random_state=54,test_size=0.20)"
   ]
  },
  {
   "cell_type": "code",
   "execution_count": 84,
   "metadata": {},
   "outputs": [
    {
     "name": "stdout",
     "output_type": "stream",
     "text": [
      "accuracy score for neighbors 1 is: 0.9\n",
      "accuracy score for neighbors 2 is: 0.925\n",
      "accuracy score for neighbors 3 is: 0.9291666666666667\n",
      "accuracy score for neighbors 4 is: 0.9333333333333333\n",
      "accuracy score for neighbors 5 is: 0.9416666666666667\n",
      "accuracy score for neighbors 6 is: 0.9333333333333333\n",
      "accuracy score for neighbors 7 is: 0.9333333333333333\n",
      "accuracy score for neighbors 8 is: 0.925\n",
      "accuracy score for neighbors 9 is: 0.9291666666666667\n",
      "accuracy score for neighbors 10 is: 0.925\n",
      "accuracy score for neighbors 11 is: 0.925\n",
      "accuracy score for neighbors 12 is: 0.925\n",
      "accuracy score for neighbors 13 is: 0.925\n",
      "accuracy score for neighbors 14 is: 0.9208333333333333\n",
      "accuracy score for neighbors 15 is: 0.9208333333333333\n",
      "accuracy score for neighbors 16 is: 0.9208333333333333\n",
      "accuracy score for neighbors 17 is: 0.9208333333333333\n",
      "accuracy score for neighbors 18 is: 0.9208333333333333\n",
      "accuracy score for neighbors 19 is: 0.9208333333333333\n",
      "accuracy score for neighbors 20 is: 0.9208333333333333\n",
      "cross val score is: 0.8790690376569039\n"
     ]
    }
   ],
   "source": [
    "#working with knn classifier\n",
    "for i in range(1,21):\n",
    "    knn=KNeighborsClassifier(n_neighbors=i)\n",
    "    knn.fit(x_train,y_train)\n",
    "    pred2=knn.predict(x_test)\n",
    "    print(\"accuracy score for neighbors\",i,\"is:\",accuracy_score(pred2,y_test))\n",
    "    \n",
    "score=cross_val_score(knn,x,y,cv=5).mean()\n",
    "print(\"cross val score is:\",score)"
   ]
  },
  {
   "cell_type": "code",
   "execution_count": 85,
   "metadata": {},
   "outputs": [],
   "source": [
    "#knn classifier is giving a max accuracy score of 93% at n_neighbors=3"
   ]
  },
  {
   "cell_type": "code",
   "execution_count": 111,
   "metadata": {},
   "outputs": [],
   "source": [
    "#using gaussianNB algorithm"
   ]
  },
  {
   "cell_type": "code",
   "execution_count": 112,
   "metadata": {},
   "outputs": [],
   "source": [
    "gb=GaussianNB()\n",
    "gb.fit(x_train,y_train)\n",
    "predgb=gb.predict(x_test)"
   ]
  },
  {
   "cell_type": "code",
   "execution_count": 113,
   "metadata": {},
   "outputs": [
    {
     "data": {
      "text/plain": [
       "0.9166666666666666"
      ]
     },
     "execution_count": 113,
     "metadata": {},
     "output_type": "execute_result"
    }
   ],
   "source": [
    "accuracy_score(y_test,predgb)"
   ]
  },
  {
   "cell_type": "code",
   "execution_count": 114,
   "metadata": {},
   "outputs": [],
   "source": [
    "#gaussian naive bayes is giving a maximum of 92% accuracy score"
   ]
  },
  {
   "cell_type": "code",
   "execution_count": 86,
   "metadata": {},
   "outputs": [
    {
     "name": "stdout",
     "output_type": "stream",
     "text": [
      "accuracy score with criterion as gini is: 0.8458333333333333\n",
      "accuracy score with criterion as entropy is: 0.8875\n"
     ]
    }
   ],
   "source": [
    "a=['gini','entropy']\n",
    "for i in a:\n",
    "    dtc=DecisionTreeClassifier(criterion=i)\n",
    "    dtc.fit(x_train,y_train)\n",
    "    preddtc=dtc.predict(x_test)\n",
    "    print(\"accuracy score with criterion as\",i,\"is:\",accuracy_score(y_test,preddtc))"
   ]
  },
  {
   "cell_type": "code",
   "execution_count": 87,
   "metadata": {},
   "outputs": [],
   "source": [
    "#dtc is giving a maximum odf 89% accuracy score "
   ]
  },
  {
   "cell_type": "code",
   "execution_count": 89,
   "metadata": {},
   "outputs": [],
   "source": [
    "#using GridsearchCV to find the best hyperparameter for SVC"
   ]
  },
  {
   "cell_type": "code",
   "execution_count": 92,
   "metadata": {},
   "outputs": [],
   "source": [
    "svc=SVC()"
   ]
  },
  {
   "cell_type": "code",
   "execution_count": 90,
   "metadata": {},
   "outputs": [],
   "source": [
    "from sklearn.model_selection import GridSearchCV"
   ]
  },
  {
   "cell_type": "code",
   "execution_count": 91,
   "metadata": {},
   "outputs": [],
   "source": [
    "param={'kernel':('linear','rbf','poly'),'C':[0,1,10]}"
   ]
  },
  {
   "cell_type": "code",
   "execution_count": 93,
   "metadata": {},
   "outputs": [],
   "source": [
    "gd=GridSearchCV(estimator=svc,param_grid=param)"
   ]
  },
  {
   "cell_type": "code",
   "execution_count": 94,
   "metadata": {},
   "outputs": [
    {
     "data": {
      "text/plain": [
       "GridSearchCV(cv=None, error_score=nan,\n",
       "             estimator=SVC(C=1.0, break_ties=False, cache_size=200,\n",
       "                           class_weight=None, coef0=0.0,\n",
       "                           decision_function_shape='ovr', degree=3,\n",
       "                           gamma='scale', kernel='rbf', max_iter=-1,\n",
       "                           probability=False, random_state=None, shrinking=True,\n",
       "                           tol=0.001, verbose=False),\n",
       "             iid='deprecated', n_jobs=None,\n",
       "             param_grid={'C': [0, 1, 10], 'kernel': ('linear', 'rbf', 'poly')},\n",
       "             pre_dispatch='2*n_jobs', refit=True, return_train_score=False,\n",
       "             scoring=None, verbose=0)"
      ]
     },
     "execution_count": 94,
     "metadata": {},
     "output_type": "execute_result"
    }
   ],
   "source": [
    "gd.fit(x,y)"
   ]
  },
  {
   "cell_type": "code",
   "execution_count": 95,
   "metadata": {},
   "outputs": [
    {
     "data": {
      "text/plain": [
       "SVC(C=10, break_ties=False, cache_size=200, class_weight=None, coef0=0.0,\n",
       "    decision_function_shape='ovr', degree=3, gamma='scale', kernel='rbf',\n",
       "    max_iter=-1, probability=False, random_state=None, shrinking=True,\n",
       "    tol=0.001, verbose=False)"
      ]
     },
     "execution_count": 95,
     "metadata": {},
     "output_type": "execute_result"
    }
   ],
   "source": [
    "gd.best_estimator_"
   ]
  },
  {
   "cell_type": "code",
   "execution_count": 96,
   "metadata": {},
   "outputs": [
    {
     "data": {
      "text/plain": [
       "{'C': 10, 'kernel': 'rbf'}"
      ]
     },
     "execution_count": 96,
     "metadata": {},
     "output_type": "execute_result"
    }
   ],
   "source": [
    "gd.best_params_"
   ]
  },
  {
   "cell_type": "code",
   "execution_count": 97,
   "metadata": {},
   "outputs": [
    {
     "data": {
      "text/plain": [
       "0.8999267782426779"
      ]
     },
     "execution_count": 97,
     "metadata": {},
     "output_type": "execute_result"
    }
   ],
   "source": [
    "gd.best_score_"
   ]
  },
  {
   "cell_type": "code",
   "execution_count": 98,
   "metadata": {},
   "outputs": [],
   "source": [
    "#so from SVC we are getting a maximum of 90% accuracy "
   ]
  },
  {
   "cell_type": "code",
   "execution_count": 99,
   "metadata": {},
   "outputs": [],
   "source": [
    "#now will try to increase the accuracy score with ensemble techniues"
   ]
  },
  {
   "cell_type": "code",
   "execution_count": 100,
   "metadata": {},
   "outputs": [],
   "source": [
    "from sklearn.ensemble import AdaBoostClassifier,RandomForestClassifier,GradientBoostingClassifier"
   ]
  },
  {
   "cell_type": "code",
   "execution_count": 128,
   "metadata": {},
   "outputs": [
    {
     "name": "stdout",
     "output_type": "stream",
     "text": [
      "accuracy score at 150 is: 0.95\n",
      "accuracy score at 200 is: 0.9458333333333333\n",
      "accuracy score at 250 is: 0.95\n",
      "accuracy score at 300 is: 0.9458333333333333\n",
      "accuracy score at 350 is: 0.95\n"
     ]
    }
   ],
   "source": [
    "#using random forest classifier for different number of n_estimators\n",
    "a=[150,200,250,300,350]\n",
    "for i in a:\n",
    "    rd=RandomForestClassifier(n_estimators=i)\n",
    "    rd.fit(x_train,y_train)\n",
    "    predrd=rd.predict(x_test)\n",
    "    print('accuracy score at',i,'is:',accuracy_score(y_test,predrd))"
   ]
  },
  {
   "cell_type": "code",
   "execution_count": 102,
   "metadata": {},
   "outputs": [],
   "source": [
    "#so we can from the above model that randomforest classifier is giving a max of 95.4 % accuracy score at n_estimator of 350"
   ]
  },
  {
   "cell_type": "code",
   "execution_count": 103,
   "metadata": {},
   "outputs": [
    {
     "name": "stdout",
     "output_type": "stream",
     "text": [
      "accuracy score at 0.1 is: 0.9291666666666667\n",
      "accuracy score at 0.01 is: 0.9375\n",
      "accuracy score at 1.0 is: 0.9083333333333333\n"
     ]
    }
   ],
   "source": [
    "#using Gradient boost classifier at different learning rates\n",
    "l=[0.1,0.01,1.0]\n",
    "for i in l:\n",
    "    gd=GradientBoostingClassifier(learning_rate=i)\n",
    "    gd.fit(x_train,y_train)\n",
    "    predgd=gd.predict(x_test)\n",
    "    print(\"accuracy score at\",i,\"is:\",accuracy_score(y_test,predgd))"
   ]
  },
  {
   "cell_type": "code",
   "execution_count": 104,
   "metadata": {},
   "outputs": [],
   "source": [
    "#Gradient boost classifier is giving a max of 93.75% accuracy score at l_rate=1"
   ]
  },
  {
   "cell_type": "code",
   "execution_count": 127,
   "metadata": {},
   "outputs": [
    {
     "name": "stdout",
     "output_type": "stream",
     "text": [
      "accuracy score at 100 is: 0.9166666666666666\n",
      "accuracy score at 200 is: 0.9125\n",
      "accuracy score at 50 is: 0.9166666666666666\n",
      "accuracy score at 150 is: 0.9208333333333333\n"
     ]
    }
   ],
   "source": [
    "#using adaboost classiers at different n_estimator\n",
    "a=[100,200,50,150]\n",
    "for i in a:\n",
    "    ad=AdaBoostClassifier(n_estimators=i)\n",
    "    ad.fit(x_train,y_train)\n",
    "    predad=ad.predict(x_test)\n",
    "    print(\"accuracy score at\",i,\"is:\",accuracy_score(y_test,predad))\n",
    "    "
   ]
  },
  {
   "cell_type": "code",
   "execution_count": 117,
   "metadata": {},
   "outputs": [],
   "source": [
    "#adaboost classifier is giving a max of 92% accuracy"
   ]
  },
  {
   "cell_type": "code",
   "execution_count": 160,
   "metadata": {},
   "outputs": [],
   "source": [
    "results={'models':('Logistic Regeression','GaussianNB','KNeighborsClassifier','SVC','DecisionTreeClassifier','RandomForestClassifier','GradientBoostingClassifier','AdaBoostClassifier'),'Accuracy Score':[92.9,92.5,91.6,90,89,95.41,93.75,92]}"
   ]
  },
  {
   "cell_type": "code",
   "execution_count": 161,
   "metadata": {},
   "outputs": [],
   "source": [
    "a=pd.DataFrame(data=results)"
   ]
  },
  {
   "cell_type": "code",
   "execution_count": 162,
   "metadata": {},
   "outputs": [
    {
     "data": {
      "text/html": [
       "<div>\n",
       "<style scoped>\n",
       "    .dataframe tbody tr th:only-of-type {\n",
       "        vertical-align: middle;\n",
       "    }\n",
       "\n",
       "    .dataframe tbody tr th {\n",
       "        vertical-align: top;\n",
       "    }\n",
       "\n",
       "    .dataframe thead th {\n",
       "        text-align: right;\n",
       "    }\n",
       "</style>\n",
       "<table border=\"1\" class=\"dataframe\">\n",
       "  <thead>\n",
       "    <tr style=\"text-align: right;\">\n",
       "      <th></th>\n",
       "      <th>models</th>\n",
       "      <th>Accuracy Score</th>\n",
       "    </tr>\n",
       "  </thead>\n",
       "  <tbody>\n",
       "    <tr>\n",
       "      <th>0</th>\n",
       "      <td>Logistic Regeression</td>\n",
       "      <td>92.90</td>\n",
       "    </tr>\n",
       "    <tr>\n",
       "      <th>1</th>\n",
       "      <td>GaussianNB</td>\n",
       "      <td>92.50</td>\n",
       "    </tr>\n",
       "    <tr>\n",
       "      <th>2</th>\n",
       "      <td>KNeighborsClassifier</td>\n",
       "      <td>91.60</td>\n",
       "    </tr>\n",
       "    <tr>\n",
       "      <th>3</th>\n",
       "      <td>SVC</td>\n",
       "      <td>90.00</td>\n",
       "    </tr>\n",
       "    <tr>\n",
       "      <th>4</th>\n",
       "      <td>DecisionTreeClassifier</td>\n",
       "      <td>89.00</td>\n",
       "    </tr>\n",
       "    <tr>\n",
       "      <th>5</th>\n",
       "      <td>RandomForestClassifier</td>\n",
       "      <td>95.41</td>\n",
       "    </tr>\n",
       "    <tr>\n",
       "      <th>6</th>\n",
       "      <td>GradientBoostingClassifier</td>\n",
       "      <td>93.75</td>\n",
       "    </tr>\n",
       "    <tr>\n",
       "      <th>7</th>\n",
       "      <td>AdaBoostClassifier</td>\n",
       "      <td>92.00</td>\n",
       "    </tr>\n",
       "  </tbody>\n",
       "</table>\n",
       "</div>"
      ],
      "text/plain": [
       "                       models  Accuracy Score\n",
       "0        Logistic Regeression           92.90\n",
       "1                  GaussianNB           92.50\n",
       "2        KNeighborsClassifier           91.60\n",
       "3                         SVC           90.00\n",
       "4      DecisionTreeClassifier           89.00\n",
       "5      RandomForestClassifier           95.41\n",
       "6  GradientBoostingClassifier           93.75\n",
       "7          AdaBoostClassifier           92.00"
      ]
     },
     "execution_count": 162,
     "metadata": {},
     "output_type": "execute_result"
    }
   ],
   "source": [
    "a"
   ]
  },
  {
   "cell_type": "markdown",
   "metadata": {},
   "source": [
    "#from the above we can conclude that Random Forest Classifier is giving a maximum of accuracy score, so will finalise the model and dump this model using serialisation"
   ]
  },
  {
   "cell_type": "code",
   "execution_count": 121,
   "metadata": {},
   "outputs": [],
   "source": [
    "#finalizing the model"
   ]
  },
  {
   "cell_type": "code",
   "execution_count": 154,
   "metadata": {},
   "outputs": [],
   "source": [
    "x_train,x_test,y_train,y_test=train_test_split(x,y,random_state=54,test_size=0.20)"
   ]
  },
  {
   "cell_type": "code",
   "execution_count": 159,
   "metadata": {},
   "outputs": [
    {
     "name": "stdout",
     "output_type": "stream",
     "text": [
      "accuracy score is: 0.9541666666666667\n"
     ]
    }
   ],
   "source": [
    "rd=RandomForestClassifier(n_estimators=300)\n",
    "rd.fit(x_train,y_train)\n",
    "predrd=rd.predict(x_test)\n",
    "a1=pd.DataFrame(data=predrd)\n",
    "a1.to_csv('customerchurn.csv')\n",
    "print('accuracy score is:',accuracy_score(y_test,predrd))"
   ]
  },
  {
   "cell_type": "code",
   "execution_count": 163,
   "metadata": {},
   "outputs": [
    {
     "name": "stdout",
     "output_type": "stream",
     "text": [
      "              precision    recall  f1-score   support\n",
      "\n",
      "           0       0.96      1.00      0.98       220\n",
      "           1       0.91      0.50      0.65        20\n",
      "\n",
      "    accuracy                           0.95       240\n",
      "   macro avg       0.93      0.75      0.81       240\n",
      "weighted avg       0.95      0.95      0.95       240\n",
      "\n"
     ]
    }
   ],
   "source": [
    "print(classification_report(y_test,predrd))"
   ]
  },
  {
   "cell_type": "code",
   "execution_count": 164,
   "metadata": {},
   "outputs": [
    {
     "data": {
      "text/plain": [
       "array([[219,   1],\n",
       "       [ 10,  10]], dtype=int64)"
      ]
     },
     "execution_count": 164,
     "metadata": {},
     "output_type": "execute_result"
    }
   ],
   "source": [
    "confusion_matrix(y_test,predrd)"
   ]
  },
  {
   "cell_type": "code",
   "execution_count": 138,
   "metadata": {},
   "outputs": [],
   "source": [
    "#we can see the type 1 and type 2 error from the above matrix"
   ]
  },
  {
   "cell_type": "code",
   "execution_count": 140,
   "metadata": {},
   "outputs": [],
   "source": [
    "#plotting auc roc curve"
   ]
  },
  {
   "cell_type": "code",
   "execution_count": 141,
   "metadata": {},
   "outputs": [],
   "source": [
    "from sklearn.metrics import roc_auc_score,roc_curve"
   ]
  },
  {
   "cell_type": "code",
   "execution_count": 142,
   "metadata": {},
   "outputs": [],
   "source": [
    "y_pred_prob=rd.predict_proba(x_test)[:,1]"
   ]
  },
  {
   "cell_type": "code",
   "execution_count": 143,
   "metadata": {},
   "outputs": [
    {
     "data": {
      "text/plain": [
       "array([0.06 , 0.235, 0.085, 0.45 , 0.205, 0.05 , 0.005, 0.1  , 0.005,\n",
       "       0.105, 0.125, 0.295, 0.065, 0.235, 0.065, 0.02 , 0.21 , 0.035,\n",
       "       0.215, 0.03 , 0.075, 0.13 , 0.075, 0.17 , 0.18 , 0.09 , 0.035,\n",
       "       0.085, 0.08 , 0.035, 0.545, 0.085, 0.14 , 0.005, 0.085, 0.06 ,\n",
       "       0.195, 0.04 , 0.125, 0.065, 0.015, 0.135, 0.52 , 0.025, 0.04 ,\n",
       "       0.355, 0.025, 0.04 , 0.115, 0.085, 0.145, 0.09 , 0.11 , 0.015,\n",
       "       0.035, 0.045, 0.025, 0.305, 0.015, 0.08 , 0.035, 0.005, 0.07 ,\n",
       "       0.14 , 0.06 , 0.065, 0.255, 0.085, 0.06 , 0.78 , 0.01 , 0.095,\n",
       "       0.015, 0.145, 0.125, 0.095, 0.03 , 0.6  , 0.105, 0.1  , 0.055,\n",
       "       0.05 , 0.28 , 0.045, 0.005, 0.085, 0.07 , 0.06 , 0.01 , 0.24 ,\n",
       "       0.09 , 0.04 , 0.205, 0.   , 0.005, 0.175, 0.145, 0.115, 0.075,\n",
       "       0.325, 0.015, 0.02 , 0.13 , 0.065, 0.125, 0.055, 0.1  , 0.03 ,\n",
       "       0.075, 0.02 , 0.21 , 0.345, 0.   , 0.505, 0.05 , 0.05 , 0.43 ,\n",
       "       0.225, 0.33 , 0.115, 0.06 , 0.14 , 0.135, 0.825, 0.14 , 0.125,\n",
       "       0.285, 0.025, 0.075, 0.03 , 0.035, 0.04 , 0.025, 0.03 , 0.25 ,\n",
       "       0.28 , 0.06 , 0.02 , 0.335, 0.035, 0.055, 0.275, 0.15 , 0.105,\n",
       "       0.01 , 0.67 , 0.05 , 0.065, 0.11 , 0.03 , 0.12 , 0.04 , 0.535,\n",
       "       0.005, 0.095, 0.52 , 0.02 , 0.075, 0.01 , 0.065, 0.03 , 0.05 ,\n",
       "       0.135, 0.015, 0.165, 0.075, 0.045, 0.025, 0.04 , 0.075, 0.555,\n",
       "       0.03 , 0.02 , 0.165, 0.005, 0.155, 0.735, 0.02 , 0.03 , 0.265,\n",
       "       0.   , 0.   , 0.025, 0.135, 0.385, 0.025, 0.01 , 0.33 , 0.475,\n",
       "       0.06 , 0.125, 0.015, 0.015, 0.165, 0.095, 0.005, 0.08 , 0.11 ,\n",
       "       0.045, 0.055, 0.28 , 0.285, 0.05 , 0.04 , 0.32 , 0.08 , 0.06 ,\n",
       "       0.27 , 0.11 , 0.205, 0.025, 0.   , 0.055, 0.12 , 0.135, 0.215,\n",
       "       0.095, 0.045, 0.03 , 0.145, 0.335, 0.115, 0.05 , 0.16 , 0.285,\n",
       "       0.015, 0.04 , 0.04 , 0.09 , 0.03 , 0.66 , 0.235, 0.06 , 0.035,\n",
       "       0.245, 0.02 , 0.195, 0.03 , 0.095, 0.305])"
      ]
     },
     "execution_count": 143,
     "metadata": {},
     "output_type": "execute_result"
    }
   ],
   "source": [
    "y_pred_prob"
   ]
  },
  {
   "cell_type": "code",
   "execution_count": 144,
   "metadata": {},
   "outputs": [],
   "source": [
    "fpr,tpr,threshold=roc_curve(y_test,y_pred_prob)"
   ]
  },
  {
   "cell_type": "code",
   "execution_count": 146,
   "metadata": {},
   "outputs": [
    {
     "data": {
      "image/png": "[encoded data removed]",
      "text/plain": [
       "<Figure size 432x288 with 1 Axes>"
      ]
     },
     "metadata": {
      "needs_background": "light"
     },
     "output_type": "display_data"
    }
   ],
   "source": [
    "plt.plot([1,0],[1,0],'k--')\n",
    "plt.plot(fpr,tpr,label='Decision Tree')\n",
    "plt.xlabel('false postive rate')\n",
    "plt.ylabel(\"true positive rate\")\n",
    "plt.title(\"RandomForest Classifier\")\n",
    "plt.show()"
   ]
  },
  {
   "cell_type": "code",
   "execution_count": 147,
   "metadata": {},
   "outputs": [],
   "source": [
    "#dumping the final model using serialisation"
   ]
  },
  {
   "cell_type": "code",
   "execution_count": 165,
   "metadata": {},
   "outputs": [],
   "source": [
    "import joblib"
   ]
  },
  {
   "cell_type": "code",
   "execution_count": 166,
   "metadata": {},
   "outputs": [
    {
     "data": {
      "text/plain": [
       "['customer_churn.obj']"
      ]
     },
     "execution_count": 166,
     "metadata": {},
     "output_type": "execute_result"
    }
   ],
   "source": [
    "joblib.dump(rd,'customer_churn.obj')"
   ]
  },
  {
   "cell_type": "code",
   "execution_count": null,
   "metadata": {},
   "outputs": [],
   "source": []
  }
 ],
 "metadata": {
  "kernelspec": {
   "display_name": "Python 3",
   "language": "python",
   "name": "python3"
  },
  "language_info": {
   "codemirror_mode": {
    "name": "ipython",
    "version": 3
   },
   "file_extension": ".py",
   "mimetype": "text/x-python",
   "name": "python",
   "nbconvert_exporter": "python",
   "pygments_lexer": "ipython3",
   "version": "3.7.6"
  }
 },
 "nbformat": 4,
 "nbformat_minor": 4
}
