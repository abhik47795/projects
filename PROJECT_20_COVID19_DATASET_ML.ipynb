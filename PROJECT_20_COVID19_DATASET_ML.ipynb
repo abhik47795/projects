{
 "cells": [
  {
   "cell_type": "code",
   "execution_count": 54,
   "metadata": {},
   "outputs": [],
   "source": [
    "import warnings\n",
    "warnings.filterwarnings('ignore')\n",
    "import pandas as pd\n",
    "import numpy as np"
   ]
  },
  {
   "cell_type": "code",
   "execution_count": 55,
   "metadata": {},
   "outputs": [],
   "source": [
    "from sklearn.linear_model import LinearRegression\n",
    "from sklearn.metrics import r2_score,mean_absolute_error,mean_squared_error\n",
    "from sklearn.model_selection import train_test_split"
   ]
  },
  {
   "cell_type": "code",
   "execution_count": 56,
   "metadata": {},
   "outputs": [],
   "source": [
    "df=pd.read_csv('covid.csv',parse_dates=[\"Date\"])"
   ]
  },
  {
   "cell_type": "code",
   "execution_count": 57,
   "metadata": {},
   "outputs": [
    {
     "data": {
      "text/html": [
       "<div>\n",
       "<style scoped>\n",
       "    .dataframe tbody tr th:only-of-type {\n",
       "        vertical-align: middle;\n",
       "    }\n",
       "\n",
       "    .dataframe tbody tr th {\n",
       "        vertical-align: top;\n",
       "    }\n",
       "\n",
       "    .dataframe thead th {\n",
       "        text-align: right;\n",
       "    }\n",
       "</style>\n",
       "<table border=\"1\" class=\"dataframe\">\n",
       "  <thead>\n",
       "    <tr style=\"text-align: right;\">\n",
       "      <th></th>\n",
       "      <th>Date</th>\n",
       "      <th>Country</th>\n",
       "      <th>Confirmed</th>\n",
       "      <th>Recovered</th>\n",
       "      <th>Deaths</th>\n",
       "    </tr>\n",
       "  </thead>\n",
       "  <tbody>\n",
       "    <tr>\n",
       "      <th>0</th>\n",
       "      <td>2020-01-22</td>\n",
       "      <td>Afghanistan</td>\n",
       "      <td>0</td>\n",
       "      <td>0</td>\n",
       "      <td>0</td>\n",
       "    </tr>\n",
       "    <tr>\n",
       "      <th>1</th>\n",
       "      <td>2020-01-22</td>\n",
       "      <td>Albania</td>\n",
       "      <td>0</td>\n",
       "      <td>0</td>\n",
       "      <td>0</td>\n",
       "    </tr>\n",
       "    <tr>\n",
       "      <th>2</th>\n",
       "      <td>2020-01-22</td>\n",
       "      <td>Algeria</td>\n",
       "      <td>0</td>\n",
       "      <td>0</td>\n",
       "      <td>0</td>\n",
       "    </tr>\n",
       "    <tr>\n",
       "      <th>3</th>\n",
       "      <td>2020-01-22</td>\n",
       "      <td>Andorra</td>\n",
       "      <td>0</td>\n",
       "      <td>0</td>\n",
       "      <td>0</td>\n",
       "    </tr>\n",
       "    <tr>\n",
       "      <th>4</th>\n",
       "      <td>2020-01-22</td>\n",
       "      <td>Angola</td>\n",
       "      <td>0</td>\n",
       "      <td>0</td>\n",
       "      <td>0</td>\n",
       "    </tr>\n",
       "  </tbody>\n",
       "</table>\n",
       "</div>"
      ],
      "text/plain": [
       "        Date      Country  Confirmed  Recovered  Deaths\n",
       "0 2020-01-22  Afghanistan          0          0       0\n",
       "1 2020-01-22      Albania          0          0       0\n",
       "2 2020-01-22      Algeria          0          0       0\n",
       "3 2020-01-22      Andorra          0          0       0\n",
       "4 2020-01-22       Angola          0          0       0"
      ]
     },
     "execution_count": 57,
     "metadata": {},
     "output_type": "execute_result"
    }
   ],
   "source": [
    "df.head()"
   ]
  },
  {
   "cell_type": "code",
   "execution_count": 58,
   "metadata": {},
   "outputs": [
    {
     "data": {
      "text/plain": [
       "Date         datetime64[ns]\n",
       "Country              object\n",
       "Confirmed             int64\n",
       "Recovered             int64\n",
       "Deaths                int64\n",
       "dtype: object"
      ]
     },
     "execution_count": 58,
     "metadata": {},
     "output_type": "execute_result"
    }
   ],
   "source": [
    "df.dtypes        #checking datatypes of all columns"
   ]
  },
  {
   "cell_type": "code",
   "execution_count": 59,
   "metadata": {},
   "outputs": [
    {
     "data": {
      "text/plain": [
       "(1128, 5)"
      ]
     },
     "execution_count": 59,
     "metadata": {},
     "output_type": "execute_result"
    }
   ],
   "source": [
    "df.shape"
   ]
  },
  {
   "cell_type": "code",
   "execution_count": 60,
   "metadata": {},
   "outputs": [
    {
     "name": "stdout",
     "output_type": "stream",
     "text": [
      "<class 'pandas.core.frame.DataFrame'>\n",
      "RangeIndex: 1128 entries, 0 to 1127\n",
      "Data columns (total 5 columns):\n",
      " #   Column     Non-Null Count  Dtype         \n",
      "---  ------     --------------  -----         \n",
      " 0   Date       1128 non-null   datetime64[ns]\n",
      " 1   Country    1128 non-null   object        \n",
      " 2   Confirmed  1128 non-null   int64         \n",
      " 3   Recovered  1128 non-null   int64         \n",
      " 4   Deaths     1128 non-null   int64         \n",
      "dtypes: datetime64[ns](1), int64(3), object(1)\n",
      "memory usage: 44.2+ KB\n"
     ]
    }
   ],
   "source": [
    "df.info()"
   ]
  },
  {
   "cell_type": "code",
   "execution_count": 61,
   "metadata": {},
   "outputs": [],
   "source": [
    "import seaborn as sns\n",
    "from matplotlib import pyplot as plt\n",
    "%matplotlib inline"
   ]
  },
  {
   "cell_type": "code",
   "execution_count": 62,
   "metadata": {},
   "outputs": [
    {
     "data": {
      "text/plain": [
       "<matplotlib.axes._subplots.AxesSubplot at 0x955c1d7148>"
      ]
     },
     "execution_count": 62,
     "metadata": {},
     "output_type": "execute_result"
    },
    {
     "data": {
      "image/png": "[encoded data removed]",
      "text/plain": [
       "<Figure size 432x288 with 2 Axes>"
      ]
     },
     "metadata": {
      "needs_background": "light"
     },
     "output_type": "display_data"
    }
   ],
   "source": [
    "sns.heatmap(df.isnull())  #checking null values in dataset using heatmap"
   ]
  },
  {
   "cell_type": "code",
   "execution_count": 63,
   "metadata": {},
   "outputs": [],
   "source": [
    "from sklearn.preprocessing import LabelEncoder"
   ]
  },
  {
   "cell_type": "code",
   "execution_count": 64,
   "metadata": {},
   "outputs": [],
   "source": [
    "le=LabelEncoder()"
   ]
  },
  {
   "cell_type": "code",
   "execution_count": 65,
   "metadata": {},
   "outputs": [],
   "source": [
    "df[\"Country\"]=le.fit_transform(df[\"Country\"])"
   ]
  },
  {
   "cell_type": "code",
   "execution_count": 66,
   "metadata": {},
   "outputs": [
    {
     "data": {
      "text/plain": [
       "0         0\n",
       "1         1\n",
       "2         2\n",
       "3         3\n",
       "4         4\n",
       "       ... \n",
       "1123    183\n",
       "1124    184\n",
       "1125    185\n",
       "1126    186\n",
       "1127    187\n",
       "Name: Country, Length: 1128, dtype: int32"
      ]
     },
     "execution_count": 66,
     "metadata": {},
     "output_type": "execute_result"
    }
   ],
   "source": [
    "df[\"Country\"]"
   ]
  },
  {
   "cell_type": "code",
   "execution_count": 67,
   "metadata": {},
   "outputs": [
    {
     "data": {
      "text/plain": [
       "array([  0,   1,   2,   3,   4,   5,   6,   7,   8,   9,  10,  11,  12,\n",
       "        13,  14,  15,  16,  17,  18,  19,  20,  21,  22,  23,  24,  25,\n",
       "        26,  27,  28,  29,  30,  31,  32,  33,  34,  35,  36,  37,  38,\n",
       "        39,  40,  41,  42,  43,  44,  45,  46,  47,  48,  49,  50,  51,\n",
       "        52,  53,  54,  55,  56,  57,  58,  59,  60,  61,  62,  63,  64,\n",
       "        65,  66,  67,  68,  69,  70,  71,  72,  73,  74,  75,  76,  77,\n",
       "        78,  79,  80,  81,  82,  83,  84,  85,  86,  87,  88,  89,  90,\n",
       "        91,  92,  93,  94,  95,  96,  97,  98,  99, 100, 101, 102, 103,\n",
       "       104, 105, 106, 107, 108, 109, 110, 111, 112, 113, 114, 115, 116,\n",
       "       117, 118, 119, 120, 121, 122, 123, 124, 125, 126, 127, 128, 129,\n",
       "       130, 131, 132, 133, 134, 135, 136, 137, 138, 139, 140, 141, 142,\n",
       "       143, 144, 145, 146, 147, 148, 149, 150, 151, 152, 153, 154, 155,\n",
       "       156, 157, 158, 159, 160, 161, 162, 163, 164, 165, 166, 167, 168,\n",
       "       169, 170, 171, 172, 173, 174, 175, 176, 177, 178, 179, 180, 181,\n",
       "       182, 183, 184, 185, 186, 187])"
      ]
     },
     "execution_count": 67,
     "metadata": {},
     "output_type": "execute_result"
    }
   ],
   "source": [
    "df[\"Country\"].unique()  #checking unique values for country"
   ]
  },
  {
   "cell_type": "code",
   "execution_count": 68,
   "metadata": {},
   "outputs": [
    {
     "data": {
      "text/plain": [
       "Date         datetime64[ns]\n",
       "Country               int32\n",
       "Confirmed             int64\n",
       "Recovered             int64\n",
       "Deaths                int64\n",
       "dtype: object"
      ]
     },
     "execution_count": 68,
     "metadata": {},
     "output_type": "execute_result"
    }
   ],
   "source": [
    "df.dtypes"
   ]
  },
  {
   "cell_type": "code",
   "execution_count": 69,
   "metadata": {},
   "outputs": [],
   "source": [
    "#visualizing the data"
   ]
  },
  {
   "cell_type": "code",
   "execution_count": 70,
   "metadata": {},
   "outputs": [
    {
     "data": {
      "text/plain": [
       "<matplotlib.axes._subplots.AxesSubplot at 0x955d831d08>"
      ]
     },
     "execution_count": 70,
     "metadata": {},
     "output_type": "execute_result"
    },
    {
     "data": {
      "image/png": "[encoded data removed]",
      "text/plain": [
       "<Figure size 432x288 with 2 Axes>"
      ]
     },
     "metadata": {
      "needs_background": "light"
     },
     "output_type": "display_data"
    }
   ],
   "source": [
    "sns.heatmap(df.corr(),annot=True)"
   ]
  },
  {
   "cell_type": "code",
   "execution_count": 71,
   "metadata": {},
   "outputs": [
    {
     "data": {
      "text/plain": [
       "Country       0.000000\n",
       "Confirmed    19.013047\n",
       "Recovered    15.000762\n",
       "Deaths       18.932635\n",
       "dtype: float64"
      ]
     },
     "execution_count": 71,
     "metadata": {},
     "output_type": "execute_result"
    }
   ],
   "source": [
    "df.skew()"
   ]
  },
  {
   "cell_type": "code",
   "execution_count": 72,
   "metadata": {},
   "outputs": [
    {
     "data": {
      "text/plain": [
       "Text(0, 0.5, 'confirmed cases')"
      ]
     },
     "execution_count": 72,
     "metadata": {},
     "output_type": "execute_result"
    },
    {
     "data": {
      "image/png": "[encoded data removed]",
      "text/plain": [
       "<Figure size 432x288 with 1 Axes>"
      ]
     },
     "metadata": {
      "needs_background": "light"
     },
     "output_type": "display_data"
    }
   ],
   "source": [
    "plt.bar(df['Date'],df['Confirmed'])\n",
    "plt.xlabel(\"date\")\n",
    "plt.ylabel(\"confirmed cases\")"
   ]
  },
  {
   "cell_type": "code",
   "execution_count": 73,
   "metadata": {},
   "outputs": [
    {
     "data": {
      "text/plain": [
       "Index(['Date', 'Country', 'Confirmed', 'Recovered', 'Deaths'], dtype='object')"
      ]
     },
     "execution_count": 73,
     "metadata": {},
     "output_type": "execute_result"
    }
   ],
   "source": [
    "df.columns"
   ]
  },
  {
   "cell_type": "code",
   "execution_count": 74,
   "metadata": {},
   "outputs": [
    {
     "data": {
      "text/plain": [
       "<matplotlib.axes._subplots.AxesSubplot at 0x955e44a7c8>"
      ]
     },
     "execution_count": 74,
     "metadata": {},
     "output_type": "execute_result"
    },
    {
     "data": {
      "image/png": "[encoded data removed]",
      "text/plain": [
       "<Figure size 432x288 with 1 Axes>"
      ]
     },
     "metadata": {
      "needs_background": "light"
     },
     "output_type": "display_data"
    }
   ],
   "source": [
    "sns.swarmplot(df[\"Date\"],df[\"Deaths\"])"
   ]
  },
  {
   "cell_type": "code",
   "execution_count": 75,
   "metadata": {},
   "outputs": [
    {
     "data": {
      "text/plain": [
       "<matplotlib.axes._subplots.AxesSubplot at 0x955e4b70c8>"
      ]
     },
     "execution_count": 75,
     "metadata": {},
     "output_type": "execute_result"
    },
    {
     "data": {
      "image/png": "[encoded data removed]",
      "text/plain": [
       "<Figure size 432x288 with 1 Axes>"
      ]
     },
     "metadata": {
      "needs_background": "light"
     },
     "output_type": "display_data"
    }
   ],
   "source": [
    "sns.lineplot(x=\"Country\",y=\"Deaths\",data=df)"
   ]
  },
  {
   "cell_type": "code",
   "execution_count": 76,
   "metadata": {},
   "outputs": [
    {
     "data": {
      "text/plain": [
       "<matplotlib.axes._subplots.AxesSubplot at 0x955e5b92c8>"
      ]
     },
     "execution_count": 76,
     "metadata": {},
     "output_type": "execute_result"
    },
    {
     "data": {
      "image/png": "[encoded data removed]",
      "text/plain": [
       "<Figure size 432x288 with 1 Axes>"
      ]
     },
     "metadata": {
      "needs_background": "light"
     },
     "output_type": "display_data"
    }
   ],
   "source": [
    "sns.lineplot(x=\"Date\",y=\"Confirmed\",data=df)"
   ]
  },
  {
   "cell_type": "code",
   "execution_count": 77,
   "metadata": {},
   "outputs": [
    {
     "data": {
      "text/plain": [
       "[<matplotlib.lines.Line2D at 0x955e642188>]"
      ]
     },
     "execution_count": 77,
     "metadata": {},
     "output_type": "execute_result"
    },
    {
     "data": {
      "image/png": "[encoded data removed]",
      "text/plain": [
       "<Figure size 432x288 with 1 Axes>"
      ]
     },
     "metadata": {
      "needs_background": "light"
     },
     "output_type": "display_data"
    }
   ],
   "source": [
    "plt.plot(df[\"Date\"],df[\"Confirmed\"],linestyle=\"-\",color='red')"
   ]
  },
  {
   "cell_type": "code",
   "execution_count": 78,
   "metadata": {},
   "outputs": [
    {
     "data": {
      "text/plain": [
       "<matplotlib.axes._subplots.AxesSubplot at 0x955e67e8c8>"
      ]
     },
     "execution_count": 78,
     "metadata": {},
     "output_type": "execute_result"
    },
    {
     "data": {
      "image/png": "[encoded data removed]",
      "text/plain": [
       "<Figure size 432x288 with 1 Axes>"
      ]
     },
     "metadata": {
      "needs_background": "light"
     },
     "output_type": "display_data"
    }
   ],
   "source": [
    "sns.countplot(df[\"Date\"])"
   ]
  },
  {
   "cell_type": "code",
   "execution_count": 79,
   "metadata": {
    "scrolled": true
   },
   "outputs": [
    {
     "data": {
      "text/plain": [
       "<matplotlib.axes._subplots.AxesSubplot at 0x955e6f07c8>"
      ]
     },
     "execution_count": 79,
     "metadata": {},
     "output_type": "execute_result"
    },
    {
     "data": {
      "image/png": "[encoded data removed]",
      "text/plain": [
       "<Figure size 432x288 with 1 Axes>"
      ]
     },
     "metadata": {
      "needs_background": "light"
     },
     "output_type": "display_data"
    }
   ],
   "source": [
    "sns.stripplot(df[\"Date\"],df[\"Confirmed\"])"
   ]
  },
  {
   "cell_type": "code",
   "execution_count": 80,
   "metadata": {},
   "outputs": [],
   "source": [
    "#checking the outliers\n",
    "from scipy.stats import zscore"
   ]
  },
  {
   "cell_type": "code",
   "execution_count": 81,
   "metadata": {},
   "outputs": [],
   "source": [
    "z1=df.iloc[:,1:]\n",
    "z=np.abs(zscore(z1))"
   ]
  },
  {
   "cell_type": "code",
   "execution_count": 82,
   "metadata": {},
   "outputs": [
    {
     "name": "stdout",
     "output_type": "stream",
     "text": [
      "(array([ 36,  36,  36, 224, 224, 224, 412, 412, 412, 600, 600, 600, 788,\n",
      "       788, 788, 976, 976, 976], dtype=int64), array([1, 2, 3, 1, 2, 3, 1, 2, 3, 1, 2, 3, 1, 2, 3, 1, 2, 3], dtype=int64))\n"
     ]
    }
   ],
   "source": [
    "print(np.where(z>3))"
   ]
  },
  {
   "cell_type": "code",
   "execution_count": 83,
   "metadata": {},
   "outputs": [],
   "source": [
    "df_new=z1[(z<3).all(axis=1)]"
   ]
  },
  {
   "cell_type": "code",
   "execution_count": 84,
   "metadata": {},
   "outputs": [
    {
     "data": {
      "text/plain": [
       "(1122, 4)"
      ]
     },
     "execution_count": 84,
     "metadata": {},
     "output_type": "execute_result"
    }
   ],
   "source": [
    "df_new.shape"
   ]
  },
  {
   "cell_type": "code",
   "execution_count": 85,
   "metadata": {},
   "outputs": [
    {
     "data": {
      "text/plain": [
       "(1128, 5)"
      ]
     },
     "execution_count": 85,
     "metadata": {},
     "output_type": "execute_result"
    }
   ],
   "source": [
    "df.shape"
   ]
  },
  {
   "cell_type": "code",
   "execution_count": 86,
   "metadata": {},
   "outputs": [],
   "source": [
    "df.drop(\"Date\",axis=1,inplace=True)"
   ]
  },
  {
   "cell_type": "code",
   "execution_count": 87,
   "metadata": {},
   "outputs": [
    {
     "data": {
      "text/html": [
       "<div>\n",
       "<style scoped>\n",
       "    .dataframe tbody tr th:only-of-type {\n",
       "        vertical-align: middle;\n",
       "    }\n",
       "\n",
       "    .dataframe tbody tr th {\n",
       "        vertical-align: top;\n",
       "    }\n",
       "\n",
       "    .dataframe thead th {\n",
       "        text-align: right;\n",
       "    }\n",
       "</style>\n",
       "<table border=\"1\" class=\"dataframe\">\n",
       "  <thead>\n",
       "    <tr style=\"text-align: right;\">\n",
       "      <th></th>\n",
       "      <th>Country</th>\n",
       "      <th>Confirmed</th>\n",
       "      <th>Recovered</th>\n",
       "      <th>Deaths</th>\n",
       "    </tr>\n",
       "  </thead>\n",
       "  <tbody>\n",
       "    <tr>\n",
       "      <th>0</th>\n",
       "      <td>0</td>\n",
       "      <td>0</td>\n",
       "      <td>0</td>\n",
       "      <td>0</td>\n",
       "    </tr>\n",
       "    <tr>\n",
       "      <th>1</th>\n",
       "      <td>1</td>\n",
       "      <td>0</td>\n",
       "      <td>0</td>\n",
       "      <td>0</td>\n",
       "    </tr>\n",
       "    <tr>\n",
       "      <th>2</th>\n",
       "      <td>2</td>\n",
       "      <td>0</td>\n",
       "      <td>0</td>\n",
       "      <td>0</td>\n",
       "    </tr>\n",
       "    <tr>\n",
       "      <th>3</th>\n",
       "      <td>3</td>\n",
       "      <td>0</td>\n",
       "      <td>0</td>\n",
       "      <td>0</td>\n",
       "    </tr>\n",
       "    <tr>\n",
       "      <th>4</th>\n",
       "      <td>4</td>\n",
       "      <td>0</td>\n",
       "      <td>0</td>\n",
       "      <td>0</td>\n",
       "    </tr>\n",
       "    <tr>\n",
       "      <th>...</th>\n",
       "      <td>...</td>\n",
       "      <td>...</td>\n",
       "      <td>...</td>\n",
       "      <td>...</td>\n",
       "    </tr>\n",
       "    <tr>\n",
       "      <th>1123</th>\n",
       "      <td>183</td>\n",
       "      <td>0</td>\n",
       "      <td>0</td>\n",
       "      <td>0</td>\n",
       "    </tr>\n",
       "    <tr>\n",
       "      <th>1124</th>\n",
       "      <td>184</td>\n",
       "      <td>0</td>\n",
       "      <td>0</td>\n",
       "      <td>0</td>\n",
       "    </tr>\n",
       "    <tr>\n",
       "      <th>1125</th>\n",
       "      <td>185</td>\n",
       "      <td>0</td>\n",
       "      <td>0</td>\n",
       "      <td>0</td>\n",
       "    </tr>\n",
       "    <tr>\n",
       "      <th>1126</th>\n",
       "      <td>186</td>\n",
       "      <td>0</td>\n",
       "      <td>0</td>\n",
       "      <td>0</td>\n",
       "    </tr>\n",
       "    <tr>\n",
       "      <th>1127</th>\n",
       "      <td>187</td>\n",
       "      <td>0</td>\n",
       "      <td>0</td>\n",
       "      <td>0</td>\n",
       "    </tr>\n",
       "  </tbody>\n",
       "</table>\n",
       "<p>1128 rows × 4 columns</p>\n",
       "</div>"
      ],
      "text/plain": [
       "      Country  Confirmed  Recovered  Deaths\n",
       "0           0          0          0       0\n",
       "1           1          0          0       0\n",
       "2           2          0          0       0\n",
       "3           3          0          0       0\n",
       "4           4          0          0       0\n",
       "...       ...        ...        ...     ...\n",
       "1123      183          0          0       0\n",
       "1124      184          0          0       0\n",
       "1125      185          0          0       0\n",
       "1126      186          0          0       0\n",
       "1127      187          0          0       0\n",
       "\n",
       "[1128 rows x 4 columns]"
      ]
     },
     "execution_count": 87,
     "metadata": {},
     "output_type": "execute_result"
    }
   ],
   "source": [
    "df"
   ]
  },
  {
   "cell_type": "code",
   "execution_count": 88,
   "metadata": {},
   "outputs": [],
   "source": [
    "x=df.drop(\"Deaths\",axis=1)"
   ]
  },
  {
   "cell_type": "code",
   "execution_count": 93,
   "metadata": {},
   "outputs": [],
   "source": [
    "y=df[\"Deaths\"].values\n",
    "y=y.reshape(-1,1)"
   ]
  },
  {
   "cell_type": "code",
   "execution_count": 94,
   "metadata": {},
   "outputs": [
    {
     "data": {
      "text/plain": [
       "Index(['Country', 'Confirmed', 'Recovered'], dtype='object')"
      ]
     },
     "execution_count": 94,
     "metadata": {},
     "output_type": "execute_result"
    }
   ],
   "source": [
    "x.columns"
   ]
  },
  {
   "cell_type": "code",
   "execution_count": 96,
   "metadata": {},
   "outputs": [
    {
     "data": {
      "text/plain": [
       "(1128, 1)"
      ]
     },
     "execution_count": 96,
     "metadata": {},
     "output_type": "execute_result"
    }
   ],
   "source": [
    "y.shape"
   ]
  },
  {
   "cell_type": "code",
   "execution_count": 97,
   "metadata": {},
   "outputs": [
    {
     "data": {
      "text/plain": [
       "(1128, 3)"
      ]
     },
     "execution_count": 97,
     "metadata": {},
     "output_type": "execute_result"
    }
   ],
   "source": [
    "x.shape"
   ]
  },
  {
   "cell_type": "code",
   "execution_count": 98,
   "metadata": {},
   "outputs": [
    {
     "name": "stdout",
     "output_type": "stream",
     "text": [
      "r2 score for the random state  42 is  -0.00047600940225644983\n",
      "r2 score for the random state  43 is  0.9985200715127956\n",
      "r2 score for the random state  44 is  0.9973799914179188\n",
      "r2 score for the random state  45 is  0.9941580441078756\n",
      "r2 score for the random state  46 is  0.9966617196468984\n",
      "r2 score for the random state  47 is  0.9982736438098644\n",
      "r2 score for the random state  48 is  0.9982176453736799\n",
      "r2 score for the random state  49 is  0.9982003114309254\n",
      "r2 score for the random state  50 is  0.9982271886735831\n",
      "r2 score for the random state  51 is  -0.0034787796775874735\n",
      "r2 score for the random state  52 is  -0.0016798842183858298\n",
      "r2 score for the random state  53 is  0.9915717472862469\n",
      "r2 score for the random state  54 is  0.9966842671606063\n",
      "r2 score for the random state  55 is  0.996084701360912\n",
      "r2 score for the random state  56 is  0.9990016703087777\n",
      "r2 score for the random state  57 is  0.9992669194546628\n",
      "r2 score for the random state  58 is  0.9992213661927307\n",
      "r2 score for the random state  59 is  0.9964106993463172\n",
      "r2 score for the random state  60 is  -0.0012684193414411737\n",
      "r2 score for the random state  61 is  -1.1255175250690641e-05\n",
      "r2 score for the random state  62 is  0.996912364606486\n",
      "r2 score for the random state  63 is  0.9800973949643235\n",
      "r2 score for the random state  64 is  0.9975254615723043\n",
      "r2 score for the random state  65 is  -0.010370593424630759\n",
      "r2 score for the random state  66 is  -1.78950246720877e-05\n",
      "r2 score for the random state  67 is  0.9948329007081503\n",
      "r2 score for the random state  68 is  0.9989442956828473\n",
      "r2 score for the random state  69 is  0.9981640422675058\n",
      "r2 score for the random state  70 is  -0.0011518106934897965\n",
      "r2 score for the random state  71 is  0.9969407854292495\n",
      "r2 score for the random state  72 is  0.9932924237822577\n",
      "r2 score for the random state  73 is  0.9977692609203938\n",
      "r2 score for the random state  74 is  0.9962975105418485\n",
      "r2 score for the random state  75 is  0.9973183872541185\n",
      "r2 score for the random state  76 is  0.9977395673059418\n",
      "r2 score for the random state  77 is  0.9922530634908474\n",
      "r2 score for the random state  78 is  0.9896218581137151\n",
      "r2 score for the random state  79 is  0.9961243473741297\n",
      "r2 score for the random state  80 is  0.9965810041277371\n",
      "r2 score for the random state  81 is  0.9909836840015259\n",
      "r2 score for the random state  82 is  0.9985087531224036\n",
      "r2 score for the random state  83 is  0.9975256282549799\n",
      "r2 score for the random state  84 is  -0.007343706797365401\n",
      "r2 score for the random state  85 is  0.9932877348432189\n",
      "r2 score for the random state  86 is  0.9968882624471649\n",
      "r2 score for the random state  87 is  0.9962440647099422\n",
      "r2 score for the random state  88 is  0.9904122803051159\n",
      "r2 score for the random state  89 is  0.9979405538819557\n",
      "r2 score for the random state  90 is  0.996254634070406\n",
      "r2 score for the random state  91 is  0.9933131490283585\n",
      "r2 score for the random state  92 is  0.997303928323903\n",
      "r2 score for the random state  93 is  0.9910134337851585\n",
      "r2 score for the random state  94 is  0.997305194620259\n",
      "r2 score for the random state  95 is  -0.0001233523877426368\n",
      "r2 score for the random state  96 is  0.992402455007873\n",
      "r2 score for the random state  97 is  0.9963917378697087\n",
      "r2 score for the random state  98 is  0.9949704219264546\n",
      "r2 score for the random state  99 is  0.9872906423279038\n",
      "\n",
      "\n",
      "\n",
      "\n",
      "the max r2 score for the final random state: 57 is:  0.9992669194546628\n"
     ]
    }
   ],
   "source": [
    "max_r2_score=0\n",
    "for r_state in range(42,100):\n",
    "    x_train,x_test,y_train,y_test=train_test_split(x,y,random_state=r_state,test_size=0.33)\n",
    "    lr=LinearRegression()\n",
    "    lr.fit(x_train,y_train)\n",
    "    pred=lr.predict(x_test)\n",
    "    r_score=r2_score(pred,y_test)\n",
    "    print(\"r2 score for the random state \",r_state,\"is \",r_score)\n",
    "    if max_r2_score<r_score:\n",
    "        max_r2_score=r_score\n",
    "        final_r_state=r_state\n",
    "        \n",
    "print('\\n')\n",
    "print('\\n')\n",
    "\n",
    "print(\"the max r2 score for the final random state:\",final_r_state,\"is: \",max_r2_score)"
   ]
  },
  {
   "cell_type": "code",
   "execution_count": 100,
   "metadata": {},
   "outputs": [],
   "source": [
    "#finalising the model using random state as 57"
   ]
  },
  {
   "cell_type": "code",
   "execution_count": 101,
   "metadata": {},
   "outputs": [],
   "source": [
    "x_train,x_test,y_train,y_test=train_test_split(x,y,random_state=57,test_size=0.33)"
   ]
  },
  {
   "cell_type": "code",
   "execution_count": 102,
   "metadata": {},
   "outputs": [],
   "source": [
    "lr=LinearRegression()"
   ]
  },
  {
   "cell_type": "code",
   "execution_count": 104,
   "metadata": {},
   "outputs": [
    {
     "data": {
      "text/plain": [
       "LinearRegression(copy_X=True, fit_intercept=True, n_jobs=None, normalize=False)"
      ]
     },
     "execution_count": 104,
     "metadata": {},
     "output_type": "execute_result"
    }
   ],
   "source": [
    "lr.fit(x_train,y_train)"
   ]
  },
  {
   "cell_type": "code",
   "execution_count": 105,
   "metadata": {},
   "outputs": [],
   "source": [
    "predlr=lr.predict(x_test)"
   ]
  },
  {
   "cell_type": "code",
   "execution_count": 106,
   "metadata": {},
   "outputs": [
    {
     "name": "stdout",
     "output_type": "stream",
     "text": [
      "[[ 0]\n",
      " [ 0]\n",
      " [ 0]\n",
      " [ 0]\n",
      " [ 0]\n",
      " [ 0]\n",
      " [ 0]\n",
      " [ 0]\n",
      " [ 0]\n",
      " [ 0]\n",
      " [ 0]\n",
      " [ 0]\n",
      " [ 0]\n",
      " [ 0]\n",
      " [ 0]\n",
      " [ 0]\n",
      " [ 0]\n",
      " [ 0]\n",
      " [ 0]\n",
      " [ 0]\n",
      " [ 0]\n",
      " [ 0]\n",
      " [ 0]\n",
      " [ 0]\n",
      " [ 0]\n",
      " [ 0]\n",
      " [ 0]\n",
      " [ 0]\n",
      " [ 0]\n",
      " [ 0]\n",
      " [ 0]\n",
      " [ 0]\n",
      " [ 0]\n",
      " [ 0]\n",
      " [ 0]\n",
      " [ 0]\n",
      " [ 0]\n",
      " [ 0]\n",
      " [ 0]\n",
      " [ 0]\n",
      " [ 0]\n",
      " [ 0]\n",
      " [ 0]\n",
      " [ 0]\n",
      " [ 0]\n",
      " [ 0]\n",
      " [ 0]\n",
      " [ 0]\n",
      " [ 0]\n",
      " [ 0]\n",
      " [ 0]\n",
      " [ 0]\n",
      " [ 0]\n",
      " [ 0]\n",
      " [ 0]\n",
      " [ 0]\n",
      " [ 0]\n",
      " [ 0]\n",
      " [ 0]\n",
      " [ 0]\n",
      " [ 0]\n",
      " [ 0]\n",
      " [ 0]\n",
      " [ 0]\n",
      " [ 0]\n",
      " [ 0]\n",
      " [ 0]\n",
      " [ 0]\n",
      " [ 0]\n",
      " [ 0]\n",
      " [ 0]\n",
      " [ 0]\n",
      " [ 0]\n",
      " [ 0]\n",
      " [ 0]\n",
      " [ 0]\n",
      " [ 0]\n",
      " [ 0]\n",
      " [ 0]\n",
      " [ 0]\n",
      " [ 0]\n",
      " [ 0]\n",
      " [ 0]\n",
      " [ 0]\n",
      " [ 0]\n",
      " [ 0]\n",
      " [ 0]\n",
      " [ 0]\n",
      " [ 0]\n",
      " [ 0]\n",
      " [ 0]\n",
      " [ 0]\n",
      " [ 0]\n",
      " [ 0]\n",
      " [ 0]\n",
      " [ 0]\n",
      " [ 0]\n",
      " [ 0]\n",
      " [ 0]\n",
      " [ 0]\n",
      " [ 0]\n",
      " [ 0]\n",
      " [ 0]\n",
      " [ 0]\n",
      " [ 0]\n",
      " [ 0]\n",
      " [ 0]\n",
      " [ 0]\n",
      " [ 0]\n",
      " [ 0]\n",
      " [ 0]\n",
      " [ 0]\n",
      " [ 0]\n",
      " [ 0]\n",
      " [ 0]\n",
      " [ 0]\n",
      " [ 0]\n",
      " [ 0]\n",
      " [ 0]\n",
      " [ 0]\n",
      " [ 0]\n",
      " [ 0]\n",
      " [ 0]\n",
      " [ 0]\n",
      " [ 0]\n",
      " [ 0]\n",
      " [ 0]\n",
      " [ 0]\n",
      " [ 0]\n",
      " [ 0]\n",
      " [ 0]\n",
      " [ 0]\n",
      " [ 0]\n",
      " [ 0]\n",
      " [ 0]\n",
      " [ 0]\n",
      " [ 0]\n",
      " [ 0]\n",
      " [ 0]\n",
      " [ 0]\n",
      " [ 0]\n",
      " [ 0]\n",
      " [ 0]\n",
      " [ 0]\n",
      " [ 0]\n",
      " [ 0]\n",
      " [ 0]\n",
      " [ 0]\n",
      " [ 0]\n",
      " [ 0]\n",
      " [ 0]\n",
      " [ 0]\n",
      " [ 0]\n",
      " [ 0]\n",
      " [ 0]\n",
      " [ 0]\n",
      " [ 0]\n",
      " [ 0]\n",
      " [ 0]\n",
      " [ 0]\n",
      " [ 0]\n",
      " [ 0]\n",
      " [ 0]\n",
      " [ 0]\n",
      " [ 0]\n",
      " [ 0]\n",
      " [ 0]\n",
      " [ 0]\n",
      " [ 0]\n",
      " [ 0]\n",
      " [ 0]\n",
      " [ 0]\n",
      " [ 0]\n",
      " [ 0]\n",
      " [ 0]\n",
      " [ 0]\n",
      " [ 0]\n",
      " [ 0]\n",
      " [ 0]\n",
      " [ 0]\n",
      " [ 0]\n",
      " [ 0]\n",
      " [ 0]\n",
      " [ 0]\n",
      " [ 0]\n",
      " [ 0]\n",
      " [26]\n",
      " [ 0]\n",
      " [ 0]\n",
      " [ 0]\n",
      " [ 0]\n",
      " [ 0]\n",
      " [ 0]\n",
      " [ 0]\n",
      " [ 0]\n",
      " [ 0]\n",
      " [ 0]\n",
      " [ 0]\n",
      " [ 0]\n",
      " [ 0]\n",
      " [ 0]\n",
      " [ 0]\n",
      " [ 0]\n",
      " [ 0]\n",
      " [ 0]\n",
      " [ 0]\n",
      " [ 0]\n",
      " [ 0]\n",
      " [ 0]\n",
      " [ 0]\n",
      " [ 0]\n",
      " [ 0]\n",
      " [ 0]\n",
      " [ 0]\n",
      " [ 0]\n",
      " [ 0]\n",
      " [ 0]\n",
      " [ 0]\n",
      " [ 0]\n",
      " [ 0]\n",
      " [ 0]\n",
      " [ 0]\n",
      " [ 0]\n",
      " [ 0]\n",
      " [ 0]\n",
      " [ 0]\n",
      " [ 0]\n",
      " [ 0]\n",
      " [ 0]\n",
      " [ 0]\n",
      " [ 0]\n",
      " [ 0]\n",
      " [ 0]\n",
      " [ 0]\n",
      " [ 0]\n",
      " [ 0]\n",
      " [ 0]\n",
      " [ 0]\n",
      " [ 0]\n",
      " [ 0]\n",
      " [ 0]\n",
      " [ 0]\n",
      " [ 0]\n",
      " [ 0]\n",
      " [ 0]\n",
      " [ 0]\n",
      " [ 0]\n",
      " [ 0]\n",
      " [ 0]\n",
      " [ 0]\n",
      " [ 0]\n",
      " [ 0]\n",
      " [ 0]\n",
      " [ 0]\n",
      " [ 0]\n",
      " [ 0]\n",
      " [ 0]\n",
      " [ 0]\n",
      " [ 0]\n",
      " [ 0]\n",
      " [ 0]\n",
      " [ 0]\n",
      " [ 0]\n",
      " [ 0]\n",
      " [ 0]\n",
      " [ 0]\n",
      " [ 0]\n",
      " [ 0]\n",
      " [ 0]\n",
      " [ 0]\n",
      " [ 0]\n",
      " [ 0]\n",
      " [ 0]\n",
      " [ 0]\n",
      " [ 0]\n",
      " [ 0]\n",
      " [ 0]\n",
      " [ 0]\n",
      " [ 0]\n",
      " [ 0]\n",
      " [ 0]\n",
      " [ 0]\n",
      " [ 0]\n",
      " [ 0]\n",
      " [ 0]\n",
      " [ 0]\n",
      " [ 0]\n",
      " [ 0]\n",
      " [ 0]\n",
      " [ 0]\n",
      " [ 0]\n",
      " [ 0]\n",
      " [ 0]\n",
      " [ 0]\n",
      " [ 0]\n",
      " [ 0]\n",
      " [ 0]\n",
      " [ 0]\n",
      " [ 0]\n",
      " [ 0]\n",
      " [ 0]\n",
      " [ 0]\n",
      " [ 0]\n",
      " [ 0]\n",
      " [ 0]\n",
      " [ 0]\n",
      " [ 0]\n",
      " [ 0]\n",
      " [ 0]\n",
      " [ 0]\n",
      " [ 0]\n",
      " [ 0]\n",
      " [ 0]\n",
      " [ 0]\n",
      " [ 0]\n",
      " [ 0]\n",
      " [ 0]\n",
      " [ 0]\n",
      " [ 0]\n",
      " [ 0]\n",
      " [ 0]\n",
      " [ 0]\n",
      " [ 0]\n",
      " [ 0]\n",
      " [ 0]\n",
      " [ 0]\n",
      " [ 0]\n",
      " [ 0]\n",
      " [ 0]\n",
      " [ 0]\n",
      " [ 0]\n",
      " [ 0]\n",
      " [ 0]\n",
      " [ 0]\n",
      " [ 0]\n",
      " [ 0]\n",
      " [ 0]\n",
      " [ 0]\n",
      " [ 0]\n",
      " [ 0]\n",
      " [ 0]\n",
      " [ 0]\n",
      " [ 0]\n",
      " [ 0]\n",
      " [ 0]\n",
      " [ 0]\n",
      " [ 0]\n",
      " [ 0]\n",
      " [ 0]\n",
      " [ 0]\n",
      " [ 0]\n",
      " [ 0]\n",
      " [ 0]\n",
      " [ 0]\n",
      " [ 0]\n",
      " [ 0]\n",
      " [ 0]\n",
      " [ 0]\n",
      " [ 0]\n",
      " [ 0]\n",
      " [ 0]\n",
      " [ 0]\n",
      " [ 0]\n",
      " [ 0]\n",
      " [ 0]\n",
      " [ 0]\n",
      " [ 0]\n",
      " [ 0]\n",
      " [ 0]\n",
      " [ 0]\n",
      " [ 0]\n",
      " [ 0]\n",
      " [ 0]]\n"
     ]
    }
   ],
   "source": [
    "print(y_test)"
   ]
  },
  {
   "cell_type": "code",
   "execution_count": 109,
   "metadata": {},
   "outputs": [
    {
     "name": "stdout",
     "output_type": "stream",
     "text": [
      "[[-7.98091417e-03]\n",
      " [-8.95293229e-03]\n",
      " [ 3.35240806e-04]\n",
      " [-2.47281152e-03]\n",
      " [-8.73692826e-03]\n",
      " [-2.47281152e-03]\n",
      " [-9.38494034e-03]\n",
      " [-8.84493027e-03]\n",
      " [-7.06289706e-03]\n",
      " [-4.79485480e-03]\n",
      " [-8.30492021e-03]\n",
      " [-4.90285681e-03]\n",
      " [-6.30688297e-03]\n",
      " [-7.00889606e-03]\n",
      " [-6.90778315e-04]\n",
      " [-8.57492524e-03]\n",
      " [-6.68489002e-03]\n",
      " [-5.22686285e-03]\n",
      " [ 5.51244831e-04]\n",
      " [-9.06093430e-03]\n",
      " [-7.11689807e-03]\n",
      " [-5.65887090e-03]\n",
      " [-5.65887090e-03]\n",
      " [-1.28478938e-03]\n",
      " [-3.87683769e-03]\n",
      " [-4.09284171e-03]\n",
      " [-1.12278637e-03]\n",
      " [-5.82776302e-04]\n",
      " [-6.14487996e-03]\n",
      " [-6.30688297e-03]\n",
      " [-7.65690813e-03]\n",
      " [ 1.12347679e-05]\n",
      " [-1.82479945e-03]\n",
      " [-3.12771270e-04]\n",
      " [-6.84689304e-03]\n",
      " [-3.28282662e-03]\n",
      " [-7.33290210e-03]\n",
      " [-6.09087895e-03]\n",
      " [-5.28775296e-04]\n",
      " [-7.60290713e-03]\n",
      " [-6.57688801e-03]\n",
      " [-9.38494034e-03]\n",
      " [-1.28478938e-03]\n",
      " [-5.76687291e-03]\n",
      " [-2.79681756e-03]\n",
      " [-2.85081857e-03]\n",
      " [-2.58770264e-04]\n",
      " [-8.03491518e-03]\n",
      " [-6.14487996e-03]\n",
      " [-3.55283165e-03]\n",
      " [-4.79485480e-03]\n",
      " [ 3.89241812e-04]\n",
      " [-8.41292222e-03]\n",
      " [-5.17286184e-03]\n",
      " [-4.14684272e-03]\n",
      " [-2.52681253e-03]\n",
      " [-2.58770264e-04]\n",
      " [-2.09480448e-03]\n",
      " [-2.20280649e-03]\n",
      " [-5.01085882e-03]\n",
      " [-6.36088398e-03]\n",
      " [-5.65887090e-03]\n",
      " [ 4.43242819e-04]\n",
      " [-2.52681253e-03]\n",
      " [-7.92691317e-03]\n",
      " [-7.27890109e-03]\n",
      " [-1.28478938e-03]\n",
      " [-3.39082863e-03]\n",
      " [ 1.27599712e-01]\n",
      " [-6.09087895e-03]\n",
      " [-3.49883064e-03]\n",
      " [-4.74774289e-04]\n",
      " [-5.98287694e-03]\n",
      " [-1.39279140e-03]\n",
      " [-8.46692323e-03]\n",
      " [-5.71287191e-03]\n",
      " [-2.25680750e-03]\n",
      " [-9.16893631e-03]\n",
      " [-6.84689304e-03]\n",
      " [ 1.19236781e-04]\n",
      " [-8.03491518e-03]\n",
      " [ 4.97243825e-04]\n",
      " [-9.22293732e-03]\n",
      " [-7.87291216e-03]\n",
      " [-5.44286687e-03]\n",
      " [-3.71483467e-03]\n",
      " [ 2.27238793e-04]\n",
      " [-6.52288700e-03]\n",
      " [-5.28775296e-04]\n",
      " [ 5.51244831e-04]\n",
      " [-1.28478938e-03]\n",
      " [-6.09087895e-03]\n",
      " [-1.39279140e-03]\n",
      " [-5.87487492e-03]\n",
      " [-8.95293229e-03]\n",
      " [-2.52681253e-03]\n",
      " [-5.11886084e-03]\n",
      " [-5.22686285e-03]\n",
      " [-4.95685782e-03]\n",
      " [-1.60879542e-03]\n",
      " [-3.44482964e-03]\n",
      " [-3.17482461e-03]\n",
      " [-1.93280146e-03]\n",
      " [-7.76491015e-03]\n",
      " [-7.54890612e-03]\n",
      " [-1.33879039e-03]\n",
      " [-4.68685278e-03]\n",
      " [-6.73889103e-03]\n",
      " [-4.14684272e-03]\n",
      " [-4.25484473e-03]\n",
      " [-8.95293229e-03]\n",
      " [-4.41684775e-03]\n",
      " [-6.14487996e-03]\n",
      " [-1.50079341e-03]\n",
      " [-5.11886084e-03]\n",
      " [-8.52781334e-04]\n",
      " [-8.57492524e-03]\n",
      " [-3.93083870e-03]\n",
      " [-6.36777308e-04]\n",
      " [ 5.05282160e-02]\n",
      " [ 6.52357742e-05]\n",
      " [-1.50079341e-03]\n",
      " [-5.49686788e-03]\n",
      " [-2.58770264e-04]\n",
      " [-7.65690813e-03]\n",
      " [-8.41292222e-03]\n",
      " [-5.98287694e-03]\n",
      " [-1.98680247e-03]\n",
      " [-1.66279643e-03]\n",
      " [-1.17678737e-03]\n",
      " [-1.60879542e-03]\n",
      " [-4.41684775e-03]\n",
      " [-1.12278637e-03]\n",
      " [-5.38886587e-03]\n",
      " [-6.36777308e-04]\n",
      " [-2.58770264e-04]\n",
      " [ 3.35240806e-04]\n",
      " [-8.89893128e-03]\n",
      " [ 7.35726653e-02]\n",
      " [-6.30688297e-03]\n",
      " [-3.22882561e-03]\n",
      " [ 1.73237787e-04]\n",
      " [-5.92887593e-03]\n",
      " [-7.44779321e-04]\n",
      " [ 4.58301284e-02]\n",
      " [-3.44482964e-03]\n",
      " [-5.33486486e-03]\n",
      " [ 6.59246844e-04]\n",
      " [-4.57885077e-03]\n",
      " [-8.52092424e-03]\n",
      " [-5.49686788e-03]\n",
      " [-7.44090411e-03]\n",
      " [-7.44779321e-04]\n",
      " [-4.30884574e-03]\n",
      " [-7.38690310e-03]\n",
      " [-4.20773283e-04]\n",
      " [-1.60879542e-03]\n",
      " [-3.39082863e-03]\n",
      " [-2.20280649e-03]\n",
      " [-3.22882561e-03]\n",
      " [-7.38690310e-03]\n",
      " [-8.46692323e-03]\n",
      " [-8.41292222e-03]\n",
      " [-2.20280649e-03]\n",
      " [-3.33682763e-03]\n",
      " [ 6.52357742e-05]\n",
      " [-8.14291719e-03]\n",
      " [ 3.89241812e-04]\n",
      " [ 1.97616227e-02]\n",
      " [-1.87880045e-03]\n",
      " [-7.54890612e-03]\n",
      " [ 1.12347679e-05]\n",
      " [ 7.42746784e-02]\n",
      " [ 5.51244831e-04]\n",
      " [-8.14291719e-03]\n",
      " [-7.98780327e-04]\n",
      " [-7.17089908e-03]\n",
      " [ 4.43242819e-04]\n",
      " [ 7.42746784e-02]\n",
      " [-5.98287694e-03]\n",
      " [-4.03884071e-03]\n",
      " [-6.57688801e-03]\n",
      " [-3.66772277e-04]\n",
      " [ 2.27238793e-04]\n",
      " [ 6.59246844e-04]\n",
      " [-6.36088398e-03]\n",
      " [ 2.66587746e+01]\n",
      " [-3.01282159e-03]\n",
      " [-2.20280649e-03]\n",
      " [-2.74281656e-03]\n",
      " [ 2.30556841e-02]\n",
      " [-3.39082863e-03]\n",
      " [-3.12082360e-03]\n",
      " [-8.73692826e-03]\n",
      " [-7.00889606e-03]\n",
      " [-6.36777308e-04]\n",
      " [-1.44679240e-03]\n",
      " [-3.55283165e-03]\n",
      " [-8.30492021e-03]\n",
      " [ 4.97243825e-04]\n",
      " [-4.25484473e-03]\n",
      " [-4.90285681e-03]\n",
      " [-4.25484473e-03]\n",
      " [-4.27662385e-05]\n",
      " [-2.74281656e-03]\n",
      " [-3.01282159e-03]\n",
      " [-3.06682259e-03]\n",
      " [ 2.30556841e-02]\n",
      " [-1.44679240e-03]\n",
      " [-5.38886587e-03]\n",
      " [-5.33486486e-03]\n",
      " [ 6.52357742e-05]\n",
      " [-9.06093430e-03]\n",
      " [ 4.58301284e-02]\n",
      " [-5.28086385e-03]\n",
      " [-8.62892625e-03]\n",
      " [ 1.12347679e-05]\n",
      " [-8.30492021e-03]\n",
      " [-5.22686285e-03]\n",
      " [-1.71679744e-03]\n",
      " [-1.50079341e-03]\n",
      " [ 1.19236781e-04]\n",
      " [-1.33879039e-03]\n",
      " [-3.66772277e-04]\n",
      " [-3.01282159e-03]\n",
      " [-6.30688297e-03]\n",
      " [-5.55086889e-03]\n",
      " [-2.41881052e-03]\n",
      " [-3.28282662e-03]\n",
      " [-6.90089404e-03]\n",
      " [-8.03491518e-03]\n",
      " [-2.25680750e-03]\n",
      " [-6.52288700e-03]\n",
      " [-9.33093933e-03]\n",
      " [-9.60783346e-04]\n",
      " [-6.63088901e-03]\n",
      " [-7.33290210e-03]\n",
      " [-3.71483467e-03]\n",
      " [-1.17678737e-03]\n",
      " [-9.22293732e-03]\n",
      " [-9.33093933e-03]\n",
      " [-6.95489505e-03]\n",
      " [-1.71679744e-03]\n",
      " [-2.04080347e-03]\n",
      " [ 1.85736006e-02]\n",
      " [-4.74774289e-04]\n",
      " [-8.95293229e-03]\n",
      " [-8.57492524e-03]\n",
      " [-3.76883568e-03]\n",
      " [-3.55283165e-03]\n",
      " [ 1.28787734e-01]\n",
      " [-7.11689807e-03]\n",
      " [-7.98091417e-03]\n",
      " [-3.49883064e-03]\n",
      " [-3.22882561e-03]\n",
      " [-3.60683266e-03]\n",
      " [-2.58081354e-03]\n",
      " [-2.85081857e-03]\n",
      " [-7.98780327e-04]\n",
      " [-8.41292222e-03]\n",
      " [-6.19888096e-03]\n",
      " [-2.52681253e-03]\n",
      " [-8.89893128e-03]\n",
      " [-6.46888599e-03]\n",
      " [-1.01478435e-03]\n",
      " [-7.00889606e-03]\n",
      " [ 6.52357742e-05]\n",
      " [-4.27662385e-05]\n",
      " [-2.31080851e-03]\n",
      " [-1.93280146e-03]\n",
      " [-8.89893128e-03]\n",
      " [-2.47281152e-03]\n",
      " [-2.68881555e-03]\n",
      " [-5.71287191e-03]\n",
      " [-5.28775296e-04]\n",
      " [-9.27693832e-03]\n",
      " [ 5.51244831e-04]\n",
      " [-2.85081857e-03]\n",
      " [-3.87683769e-03]\n",
      " [-5.01085882e-03]\n",
      " [-7.00889606e-03]\n",
      " [-8.25091920e-03]\n",
      " [-5.38886587e-03]\n",
      " [-6.46888599e-03]\n",
      " [-3.66083366e-03]\n",
      " [-5.92887593e-03]\n",
      " [-9.60783346e-04]\n",
      " [-5.60486989e-03]\n",
      " [-7.06289706e-03]\n",
      " [ 4.43242819e-04]\n",
      " [-4.52484977e-03]\n",
      " [-4.84885580e-03]\n",
      " [-3.76883568e-03]\n",
      " [-4.74774289e-04]\n",
      " [-8.25091920e-03]\n",
      " [-9.67672448e-05]\n",
      " [-5.82776302e-04]\n",
      " [ 1.12347679e-05]\n",
      " [-4.52484977e-03]\n",
      " [-6.95489505e-03]\n",
      " [ 1.00829193e-01]\n",
      " [-8.79092927e-03]\n",
      " [ 1.73237787e-04]\n",
      " [ 7.35726653e-02]\n",
      " [-6.41488499e-03]\n",
      " [-1.82479945e-03]\n",
      " [-3.06682259e-03]\n",
      " [-7.87291216e-03]\n",
      " [-6.36088398e-03]\n",
      " [-2.09480448e-03]\n",
      " [-2.90481957e-03]\n",
      " [-1.60879542e-03]\n",
      " [-7.65690813e-03]\n",
      " [ 2.27238793e-04]\n",
      " [-2.79681756e-03]\n",
      " [-3.87683769e-03]\n",
      " [-2.04769258e-04]\n",
      " [-3.60683266e-03]\n",
      " [-5.44286687e-03]\n",
      " [-3.87683769e-03]\n",
      " [-6.95489505e-03]\n",
      " [-6.36777308e-04]\n",
      " [-8.14291719e-03]\n",
      " [ 3.35240806e-04]\n",
      " [-3.82283668e-03]\n",
      " [-4.90285681e-03]\n",
      " [-1.44679240e-03]\n",
      " [-4.41684775e-03]\n",
      " [-6.09087895e-03]\n",
      " [-5.44286687e-03]\n",
      " [-3.49883064e-03]\n",
      " [-7.54890612e-03]\n",
      " [-8.52092424e-03]\n",
      " [-4.68685278e-03]\n",
      " [-7.71090914e-03]\n",
      " [ 4.43242819e-04]\n",
      " [-3.17482461e-03]\n",
      " [-6.19888096e-03]\n",
      " [-9.00693329e-03]\n",
      " [-1.06878536e-03]\n",
      " [-2.14880549e-03]\n",
      " [-4.20773283e-04]\n",
      " [-3.06682259e-03]\n",
      " [-8.30492021e-03]\n",
      " [-3.82283668e-03]\n",
      " [-6.30688297e-03]\n",
      " [-5.38886587e-03]\n",
      " [-2.58081354e-03]\n",
      " [-2.74281656e-03]\n",
      " [-2.14880549e-03]\n",
      " [-6.68489002e-03]\n",
      " [-7.27890109e-03]\n",
      " [-1.87880045e-03]\n",
      " [-1.93280146e-03]\n",
      " [-2.09480448e-03]\n",
      " [-8.62892625e-03]\n",
      " [-8.52781334e-04]\n",
      " [-2.68881555e-03]\n",
      " [-2.90481957e-03]\n",
      " [-3.12082360e-03]\n",
      " [ 5.05282160e-02]\n",
      " [-8.84493027e-03]\n",
      " [-4.36284675e-03]\n",
      " [-5.11886084e-03]\n",
      " [ 1.12347679e-05]\n",
      " [-6.63088901e-03]\n",
      " [-9.67672448e-05]\n",
      " [-6.09087895e-03]\n",
      " [-3.60683266e-03]\n",
      " [-5.65887090e-03]\n",
      " [-5.82776302e-04]\n",
      " [ 2.14356539e-02]\n",
      " [-8.79092927e-03]]\n"
     ]
    }
   ],
   "source": [
    "print(predlr)"
   ]
  },
  {
   "cell_type": "code",
   "execution_count": 110,
   "metadata": {},
   "outputs": [
    {
     "data": {
      "text/plain": [
       "array([[-5.40010063e-05,  2.72565278e-02,  4.39999948e-02]])"
      ]
     },
     "execution_count": 110,
     "metadata": {},
     "output_type": "execute_result"
    }
   ],
   "source": [
    "lr.coef_"
   ]
  },
  {
   "cell_type": "code",
   "execution_count": 111,
   "metadata": {},
   "outputs": [
    {
     "data": {
      "text/plain": [
       "array([0.00071325])"
      ]
     },
     "execution_count": 111,
     "metadata": {},
     "output_type": "execute_result"
    }
   ],
   "source": [
    "lr.intercept_"
   ]
  },
  {
   "cell_type": "code",
   "execution_count": 112,
   "metadata": {},
   "outputs": [
    {
     "name": "stdout",
     "output_type": "stream",
     "text": [
      "0.9992669194546628\n"
     ]
    }
   ],
   "source": [
    "print(r2_score(predlr,y_test))"
   ]
  },
  {
   "cell_type": "code",
   "execution_count": 113,
   "metadata": {},
   "outputs": [
    {
     "name": "stdout",
     "output_type": "stream",
     "text": [
      "0.008338189857299524\n"
     ]
    }
   ],
   "source": [
    "print(mean_absolute_error(y_test,predlr))"
   ]
  },
  {
   "cell_type": "code",
   "execution_count": 116,
   "metadata": {},
   "outputs": [
    {
     "name": "stdout",
     "output_type": "stream",
     "text": [
      "0.0013933355913279882\n"
     ]
    }
   ],
   "source": [
    "print((mean_squared_error(y_test,predlr)))"
   ]
  },
  {
   "cell_type": "code",
   "execution_count": 118,
   "metadata": {},
   "outputs": [],
   "source": [
    "#regularising the model"
   ]
  },
  {
   "cell_type": "code",
   "execution_count": 119,
   "metadata": {},
   "outputs": [],
   "source": [
    "from sklearn.model_selection import cross_val_score"
   ]
  },
  {
   "cell_type": "code",
   "execution_count": 121,
   "metadata": {},
   "outputs": [],
   "source": [
    "score=cross_val_score(lr,x,y,cv=5).mean()"
   ]
  },
  {
   "cell_type": "code",
   "execution_count": 122,
   "metadata": {},
   "outputs": [
    {
     "data": {
      "text/plain": [
       "0.9973869770855712"
      ]
     },
     "execution_count": 122,
     "metadata": {},
     "output_type": "execute_result"
    }
   ],
   "source": [
    "score"
   ]
  },
  {
   "cell_type": "code",
   "execution_count": 123,
   "metadata": {},
   "outputs": [],
   "source": [
    "#serialisation and deserialisation of model"
   ]
  },
  {
   "cell_type": "code",
   "execution_count": 125,
   "metadata": {},
   "outputs": [],
   "source": [
    "import pickle"
   ]
  },
  {
   "cell_type": "code",
   "execution_count": 128,
   "metadata": {},
   "outputs": [],
   "source": [
    "filename='covid19.pkl'"
   ]
  },
  {
   "cell_type": "code",
   "execution_count": 136,
   "metadata": {},
   "outputs": [],
   "source": [
    "pickle.dump(lr,open(filename,'wb'))  #saving the model"
   ]
  },
  {
   "cell_type": "code",
   "execution_count": 137,
   "metadata": {},
   "outputs": [],
   "source": [
    "#pkl=pickle.load(open(filename,'rb'))\n",
    "#pkl.predict(x_test)"
   ]
  },
  {
   "cell_type": "code",
   "execution_count": null,
   "metadata": {},
   "outputs": [],
   "source": []
  }
 ],
 "metadata": {
  "kernelspec": {
   "display_name": "Python 3",
   "language": "python",
   "name": "python3"
  },
  "language_info": {
   "codemirror_mode": {
    "name": "ipython",
    "version": 3
   },
   "file_extension": ".py",
   "mimetype": "text/x-python",
   "name": "python",
   "nbconvert_exporter": "python",
   "pygments_lexer": "ipython3",
   "version": "3.7.6"
  }
 },
 "nbformat": 4,
 "nbformat_minor": 4
}
