{
 "cells": [
  {
   "cell_type": "code",
   "execution_count": 1,
   "metadata": {},
   "outputs": [],
   "source": [
    "#importing the libraries"
   ]
  },
  {
   "cell_type": "code",
   "execution_count": 2,
   "metadata": {},
   "outputs": [],
   "source": [
    "import warnings\n",
    "warnings.filterwarnings('ignore')"
   ]
  },
  {
   "cell_type": "code",
   "execution_count": 3,
   "metadata": {},
   "outputs": [],
   "source": [
    "import numpy as np\n",
    "import pandas as pd"
   ]
  },
  {
   "cell_type": "code",
   "execution_count": 4,
   "metadata": {},
   "outputs": [],
   "source": [
    "df=pd.read_csv('temp.csv',names=range(0,25),header=0)"
   ]
  },
  {
   "cell_type": "code",
   "execution_count": 5,
   "metadata": {},
   "outputs": [
    {
     "data": {
      "text/html": [
       "<div>\n",
       "<style scoped>\n",
       "    .dataframe tbody tr th:only-of-type {\n",
       "        vertical-align: middle;\n",
       "    }\n",
       "\n",
       "    .dataframe tbody tr th {\n",
       "        vertical-align: top;\n",
       "    }\n",
       "\n",
       "    .dataframe thead th {\n",
       "        text-align: right;\n",
       "    }\n",
       "</style>\n",
       "<table border=\"1\" class=\"dataframe\">\n",
       "  <thead>\n",
       "    <tr style=\"text-align: right;\">\n",
       "      <th></th>\n",
       "      <th>0</th>\n",
       "      <th>1</th>\n",
       "      <th>2</th>\n",
       "      <th>3</th>\n",
       "      <th>4</th>\n",
       "      <th>5</th>\n",
       "      <th>6</th>\n",
       "      <th>7</th>\n",
       "      <th>8</th>\n",
       "      <th>9</th>\n",
       "      <th>...</th>\n",
       "      <th>15</th>\n",
       "      <th>16</th>\n",
       "      <th>17</th>\n",
       "      <th>18</th>\n",
       "      <th>19</th>\n",
       "      <th>20</th>\n",
       "      <th>21</th>\n",
       "      <th>22</th>\n",
       "      <th>23</th>\n",
       "      <th>24</th>\n",
       "    </tr>\n",
       "  </thead>\n",
       "  <tbody>\n",
       "    <tr>\n",
       "      <th>0</th>\n",
       "      <td>1</td>\n",
       "      <td>6/30/2013</td>\n",
       "      <td>28.7</td>\n",
       "      <td>21.4</td>\n",
       "      <td>58.255688</td>\n",
       "      <td>91.116364</td>\n",
       "      <td>28.074101</td>\n",
       "      <td>23.006936</td>\n",
       "      <td>6.818887</td>\n",
       "      <td>69.451805</td>\n",
       "      <td>...</td>\n",
       "      <td>0.0</td>\n",
       "      <td>0.0</td>\n",
       "      <td>0.0</td>\n",
       "      <td>37.6046</td>\n",
       "      <td>126.991</td>\n",
       "      <td>212.3350</td>\n",
       "      <td>2.7850</td>\n",
       "      <td>5992.895996</td>\n",
       "      <td>29.1</td>\n",
       "      <td>21.2</td>\n",
       "    </tr>\n",
       "    <tr>\n",
       "      <th>1</th>\n",
       "      <td>2</td>\n",
       "      <td>6/30/2013</td>\n",
       "      <td>31.9</td>\n",
       "      <td>21.6</td>\n",
       "      <td>52.263397</td>\n",
       "      <td>90.604721</td>\n",
       "      <td>29.850689</td>\n",
       "      <td>24.035009</td>\n",
       "      <td>5.691890</td>\n",
       "      <td>51.937448</td>\n",
       "      <td>...</td>\n",
       "      <td>0.0</td>\n",
       "      <td>0.0</td>\n",
       "      <td>0.0</td>\n",
       "      <td>37.6046</td>\n",
       "      <td>127.032</td>\n",
       "      <td>44.7624</td>\n",
       "      <td>0.5141</td>\n",
       "      <td>5869.312500</td>\n",
       "      <td>30.5</td>\n",
       "      <td>22.5</td>\n",
       "    </tr>\n",
       "    <tr>\n",
       "      <th>2</th>\n",
       "      <td>3</td>\n",
       "      <td>6/30/2013</td>\n",
       "      <td>31.6</td>\n",
       "      <td>23.3</td>\n",
       "      <td>48.690479</td>\n",
       "      <td>83.973587</td>\n",
       "      <td>30.091292</td>\n",
       "      <td>24.565633</td>\n",
       "      <td>6.138224</td>\n",
       "      <td>20.573050</td>\n",
       "      <td>...</td>\n",
       "      <td>0.0</td>\n",
       "      <td>0.0</td>\n",
       "      <td>0.0</td>\n",
       "      <td>37.5776</td>\n",
       "      <td>127.058</td>\n",
       "      <td>33.3068</td>\n",
       "      <td>0.2661</td>\n",
       "      <td>5863.555664</td>\n",
       "      <td>31.1</td>\n",
       "      <td>23.9</td>\n",
       "    </tr>\n",
       "    <tr>\n",
       "      <th>3</th>\n",
       "      <td>4</td>\n",
       "      <td>6/30/2013</td>\n",
       "      <td>32.0</td>\n",
       "      <td>23.4</td>\n",
       "      <td>58.239788</td>\n",
       "      <td>96.483688</td>\n",
       "      <td>29.704629</td>\n",
       "      <td>23.326177</td>\n",
       "      <td>5.650050</td>\n",
       "      <td>65.727144</td>\n",
       "      <td>...</td>\n",
       "      <td>0.0</td>\n",
       "      <td>0.0</td>\n",
       "      <td>0.0</td>\n",
       "      <td>37.6450</td>\n",
       "      <td>127.022</td>\n",
       "      <td>45.7160</td>\n",
       "      <td>2.5348</td>\n",
       "      <td>5856.964844</td>\n",
       "      <td>31.7</td>\n",
       "      <td>24.3</td>\n",
       "    </tr>\n",
       "    <tr>\n",
       "      <th>4</th>\n",
       "      <td>5</td>\n",
       "      <td>6/30/2013</td>\n",
       "      <td>31.4</td>\n",
       "      <td>21.9</td>\n",
       "      <td>56.174095</td>\n",
       "      <td>90.155128</td>\n",
       "      <td>29.113934</td>\n",
       "      <td>23.486480</td>\n",
       "      <td>5.735004</td>\n",
       "      <td>107.965535</td>\n",
       "      <td>...</td>\n",
       "      <td>0.0</td>\n",
       "      <td>0.0</td>\n",
       "      <td>0.0</td>\n",
       "      <td>37.5507</td>\n",
       "      <td>127.135</td>\n",
       "      <td>35.0380</td>\n",
       "      <td>0.5055</td>\n",
       "      <td>5859.552246</td>\n",
       "      <td>31.2</td>\n",
       "      <td>22.5</td>\n",
       "    </tr>\n",
       "  </tbody>\n",
       "</table>\n",
       "<p>5 rows × 25 columns</p>\n",
       "</div>"
      ],
      "text/plain": [
       "   0          1     2     3          4          5          6          7   \\\n",
       "0   1  6/30/2013  28.7  21.4  58.255688  91.116364  28.074101  23.006936   \n",
       "1   2  6/30/2013  31.9  21.6  52.263397  90.604721  29.850689  24.035009   \n",
       "2   3  6/30/2013  31.6  23.3  48.690479  83.973587  30.091292  24.565633   \n",
       "3   4  6/30/2013  32.0  23.4  58.239788  96.483688  29.704629  23.326177   \n",
       "4   5  6/30/2013  31.4  21.9  56.174095  90.155128  29.113934  23.486480   \n",
       "\n",
       "         8           9   ...   15   16   17       18       19        20  \\\n",
       "0  6.818887   69.451805  ...  0.0  0.0  0.0  37.6046  126.991  212.3350   \n",
       "1  5.691890   51.937448  ...  0.0  0.0  0.0  37.6046  127.032   44.7624   \n",
       "2  6.138224   20.573050  ...  0.0  0.0  0.0  37.5776  127.058   33.3068   \n",
       "3  5.650050   65.727144  ...  0.0  0.0  0.0  37.6450  127.022   45.7160   \n",
       "4  5.735004  107.965535  ...  0.0  0.0  0.0  37.5507  127.135   35.0380   \n",
       "\n",
       "       21           22    23    24  \n",
       "0  2.7850  5992.895996  29.1  21.2  \n",
       "1  0.5141  5869.312500  30.5  22.5  \n",
       "2  0.2661  5863.555664  31.1  23.9  \n",
       "3  2.5348  5856.964844  31.7  24.3  \n",
       "4  0.5055  5859.552246  31.2  22.5  \n",
       "\n",
       "[5 rows x 25 columns]"
      ]
     },
     "execution_count": 5,
     "metadata": {},
     "output_type": "execute_result"
    }
   ],
   "source": [
    "df.head()"
   ]
  },
  {
   "cell_type": "markdown",
   "metadata": {},
   "source": [
    "This is the type of multi target dataset ,in which we have to predict the 23rd and 24th column i.e Tmax(max temp for the day) and Tmin(min temprature for the day), so here we will first predict Tmin given Tmax .\n",
    "In second part we will be predicting Tmax given Tmin. So for the prediction we will be using the Linear Regression model."
   ]
  },
  {
   "cell_type": "markdown",
   "metadata": {},
   "source": [
    "EDA PROCESS"
   ]
  },
  {
   "cell_type": "code",
   "execution_count": 6,
   "metadata": {},
   "outputs": [],
   "source": [
    "df.drop(0,axis=1,inplace=True)"
   ]
  },
  {
   "cell_type": "code",
   "execution_count": 7,
   "metadata": {},
   "outputs": [],
   "source": [
    "df.drop(1,axis=1,inplace=True)"
   ]
  },
  {
   "cell_type": "code",
   "execution_count": 8,
   "metadata": {},
   "outputs": [
    {
     "data": {
      "text/html": [
       "<div>\n",
       "<style scoped>\n",
       "    .dataframe tbody tr th:only-of-type {\n",
       "        vertical-align: middle;\n",
       "    }\n",
       "\n",
       "    .dataframe tbody tr th {\n",
       "        vertical-align: top;\n",
       "    }\n",
       "\n",
       "    .dataframe thead th {\n",
       "        text-align: right;\n",
       "    }\n",
       "</style>\n",
       "<table border=\"1\" class=\"dataframe\">\n",
       "  <thead>\n",
       "    <tr style=\"text-align: right;\">\n",
       "      <th></th>\n",
       "      <th>2</th>\n",
       "      <th>3</th>\n",
       "      <th>4</th>\n",
       "      <th>5</th>\n",
       "      <th>6</th>\n",
       "      <th>7</th>\n",
       "      <th>8</th>\n",
       "      <th>9</th>\n",
       "      <th>10</th>\n",
       "      <th>11</th>\n",
       "      <th>...</th>\n",
       "      <th>15</th>\n",
       "      <th>16</th>\n",
       "      <th>17</th>\n",
       "      <th>18</th>\n",
       "      <th>19</th>\n",
       "      <th>20</th>\n",
       "      <th>21</th>\n",
       "      <th>22</th>\n",
       "      <th>23</th>\n",
       "      <th>24</th>\n",
       "    </tr>\n",
       "  </thead>\n",
       "  <tbody>\n",
       "    <tr>\n",
       "      <th>0</th>\n",
       "      <td>28.7</td>\n",
       "      <td>21.4</td>\n",
       "      <td>58.255688</td>\n",
       "      <td>91.116364</td>\n",
       "      <td>28.074101</td>\n",
       "      <td>23.006936</td>\n",
       "      <td>6.818887</td>\n",
       "      <td>69.451805</td>\n",
       "      <td>0.233947</td>\n",
       "      <td>0.203896</td>\n",
       "      <td>...</td>\n",
       "      <td>0.0</td>\n",
       "      <td>0.0</td>\n",
       "      <td>0.0</td>\n",
       "      <td>37.6046</td>\n",
       "      <td>126.991</td>\n",
       "      <td>212.3350</td>\n",
       "      <td>2.7850</td>\n",
       "      <td>5992.895996</td>\n",
       "      <td>29.1</td>\n",
       "      <td>21.2</td>\n",
       "    </tr>\n",
       "    <tr>\n",
       "      <th>1</th>\n",
       "      <td>31.9</td>\n",
       "      <td>21.6</td>\n",
       "      <td>52.263397</td>\n",
       "      <td>90.604721</td>\n",
       "      <td>29.850689</td>\n",
       "      <td>24.035009</td>\n",
       "      <td>5.691890</td>\n",
       "      <td>51.937448</td>\n",
       "      <td>0.225508</td>\n",
       "      <td>0.251771</td>\n",
       "      <td>...</td>\n",
       "      <td>0.0</td>\n",
       "      <td>0.0</td>\n",
       "      <td>0.0</td>\n",
       "      <td>37.6046</td>\n",
       "      <td>127.032</td>\n",
       "      <td>44.7624</td>\n",
       "      <td>0.5141</td>\n",
       "      <td>5869.312500</td>\n",
       "      <td>30.5</td>\n",
       "      <td>22.5</td>\n",
       "    </tr>\n",
       "    <tr>\n",
       "      <th>2</th>\n",
       "      <td>31.6</td>\n",
       "      <td>23.3</td>\n",
       "      <td>48.690479</td>\n",
       "      <td>83.973587</td>\n",
       "      <td>30.091292</td>\n",
       "      <td>24.565633</td>\n",
       "      <td>6.138224</td>\n",
       "      <td>20.573050</td>\n",
       "      <td>0.209344</td>\n",
       "      <td>0.257469</td>\n",
       "      <td>...</td>\n",
       "      <td>0.0</td>\n",
       "      <td>0.0</td>\n",
       "      <td>0.0</td>\n",
       "      <td>37.5776</td>\n",
       "      <td>127.058</td>\n",
       "      <td>33.3068</td>\n",
       "      <td>0.2661</td>\n",
       "      <td>5863.555664</td>\n",
       "      <td>31.1</td>\n",
       "      <td>23.9</td>\n",
       "    </tr>\n",
       "    <tr>\n",
       "      <th>3</th>\n",
       "      <td>32.0</td>\n",
       "      <td>23.4</td>\n",
       "      <td>58.239788</td>\n",
       "      <td>96.483688</td>\n",
       "      <td>29.704629</td>\n",
       "      <td>23.326177</td>\n",
       "      <td>5.650050</td>\n",
       "      <td>65.727144</td>\n",
       "      <td>0.216372</td>\n",
       "      <td>0.226002</td>\n",
       "      <td>...</td>\n",
       "      <td>0.0</td>\n",
       "      <td>0.0</td>\n",
       "      <td>0.0</td>\n",
       "      <td>37.6450</td>\n",
       "      <td>127.022</td>\n",
       "      <td>45.7160</td>\n",
       "      <td>2.5348</td>\n",
       "      <td>5856.964844</td>\n",
       "      <td>31.7</td>\n",
       "      <td>24.3</td>\n",
       "    </tr>\n",
       "    <tr>\n",
       "      <th>4</th>\n",
       "      <td>31.4</td>\n",
       "      <td>21.9</td>\n",
       "      <td>56.174095</td>\n",
       "      <td>90.155128</td>\n",
       "      <td>29.113934</td>\n",
       "      <td>23.486480</td>\n",
       "      <td>5.735004</td>\n",
       "      <td>107.965535</td>\n",
       "      <td>0.151407</td>\n",
       "      <td>0.249995</td>\n",
       "      <td>...</td>\n",
       "      <td>0.0</td>\n",
       "      <td>0.0</td>\n",
       "      <td>0.0</td>\n",
       "      <td>37.5507</td>\n",
       "      <td>127.135</td>\n",
       "      <td>35.0380</td>\n",
       "      <td>0.5055</td>\n",
       "      <td>5859.552246</td>\n",
       "      <td>31.2</td>\n",
       "      <td>22.5</td>\n",
       "    </tr>\n",
       "  </tbody>\n",
       "</table>\n",
       "<p>5 rows × 23 columns</p>\n",
       "</div>"
      ],
      "text/plain": [
       "     2     3          4          5          6          7         8   \\\n",
       "0  28.7  21.4  58.255688  91.116364  28.074101  23.006936  6.818887   \n",
       "1  31.9  21.6  52.263397  90.604721  29.850689  24.035009  5.691890   \n",
       "2  31.6  23.3  48.690479  83.973587  30.091292  24.565633  6.138224   \n",
       "3  32.0  23.4  58.239788  96.483688  29.704629  23.326177  5.650050   \n",
       "4  31.4  21.9  56.174095  90.155128  29.113934  23.486480  5.735004   \n",
       "\n",
       "           9         10        11  ...   15   16   17       18       19  \\\n",
       "0   69.451805  0.233947  0.203896  ...  0.0  0.0  0.0  37.6046  126.991   \n",
       "1   51.937448  0.225508  0.251771  ...  0.0  0.0  0.0  37.6046  127.032   \n",
       "2   20.573050  0.209344  0.257469  ...  0.0  0.0  0.0  37.5776  127.058   \n",
       "3   65.727144  0.216372  0.226002  ...  0.0  0.0  0.0  37.6450  127.022   \n",
       "4  107.965535  0.151407  0.249995  ...  0.0  0.0  0.0  37.5507  127.135   \n",
       "\n",
       "         20      21           22    23    24  \n",
       "0  212.3350  2.7850  5992.895996  29.1  21.2  \n",
       "1   44.7624  0.5141  5869.312500  30.5  22.5  \n",
       "2   33.3068  0.2661  5863.555664  31.1  23.9  \n",
       "3   45.7160  2.5348  5856.964844  31.7  24.3  \n",
       "4   35.0380  0.5055  5859.552246  31.2  22.5  \n",
       "\n",
       "[5 rows x 23 columns]"
      ]
     },
     "execution_count": 8,
     "metadata": {},
     "output_type": "execute_result"
    }
   ],
   "source": [
    "df.head()"
   ]
  },
  {
   "cell_type": "code",
   "execution_count": 9,
   "metadata": {},
   "outputs": [
    {
     "data": {
      "text/plain": [
       "(1174, 23)"
      ]
     },
     "execution_count": 9,
     "metadata": {},
     "output_type": "execute_result"
    }
   ],
   "source": [
    "df.shape  #shape of the dataset"
   ]
  },
  {
   "cell_type": "code",
   "execution_count": 10,
   "metadata": {},
   "outputs": [
    {
     "data": {
      "text/plain": [
       "2     float64\n",
       "3     float64\n",
       "4     float64\n",
       "5     float64\n",
       "6     float64\n",
       "7     float64\n",
       "8     float64\n",
       "9     float64\n",
       "10    float64\n",
       "11    float64\n",
       "12    float64\n",
       "13    float64\n",
       "14    float64\n",
       "15    float64\n",
       "16    float64\n",
       "17    float64\n",
       "18    float64\n",
       "19    float64\n",
       "20    float64\n",
       "21    float64\n",
       "22    float64\n",
       "23    float64\n",
       "24    float64\n",
       "dtype: object"
      ]
     },
     "execution_count": 10,
     "metadata": {},
     "output_type": "execute_result"
    }
   ],
   "source": [
    "df.dtypes   #datatypes of the column"
   ]
  },
  {
   "cell_type": "code",
   "execution_count": 11,
   "metadata": {},
   "outputs": [
    {
     "name": "stdout",
     "output_type": "stream",
     "text": [
      "<class 'pandas.core.frame.DataFrame'>\n",
      "RangeIndex: 1174 entries, 0 to 1173\n",
      "Data columns (total 23 columns):\n",
      " #   Column  Non-Null Count  Dtype  \n",
      "---  ------  --------------  -----  \n",
      " 0   2       1161 non-null   float64\n",
      " 1   3       1161 non-null   float64\n",
      " 2   4       1174 non-null   float64\n",
      " 3   5       1174 non-null   float64\n",
      " 4   6       1174 non-null   float64\n",
      " 5   7       1174 non-null   float64\n",
      " 6   8       1174 non-null   float64\n",
      " 7   9       1174 non-null   float64\n",
      " 8   10      1174 non-null   float64\n",
      " 9   11      1174 non-null   float64\n",
      " 10  12      1174 non-null   float64\n",
      " 11  13      1174 non-null   float64\n",
      " 12  14      1174 non-null   float64\n",
      " 13  15      1174 non-null   float64\n",
      " 14  16      1174 non-null   float64\n",
      " 15  17      1174 non-null   float64\n",
      " 16  18      1174 non-null   float64\n",
      " 17  19      1174 non-null   float64\n",
      " 18  20      1174 non-null   float64\n",
      " 19  21      1174 non-null   float64\n",
      " 20  22      1174 non-null   float64\n",
      " 21  23      1171 non-null   float64\n",
      " 22  24      1171 non-null   float64\n",
      "dtypes: float64(23)\n",
      "memory usage: 211.1 KB\n"
     ]
    }
   ],
   "source": [
    "df.info()"
   ]
  },
  {
   "cell_type": "code",
   "execution_count": 12,
   "metadata": {},
   "outputs": [],
   "source": [
    "df[2]=df[2].fillna(df[2].mean())"
   ]
  },
  {
   "cell_type": "code",
   "execution_count": 13,
   "metadata": {},
   "outputs": [],
   "source": [
    "df[3]=df[3].fillna(df[3].mean())"
   ]
  },
  {
   "cell_type": "code",
   "execution_count": 14,
   "metadata": {},
   "outputs": [],
   "source": [
    "df[23]=df[23].fillna(df[23].mean())"
   ]
  },
  {
   "cell_type": "code",
   "execution_count": 15,
   "metadata": {},
   "outputs": [],
   "source": [
    "df[24]=df[24].fillna(df[24].median())"
   ]
  },
  {
   "cell_type": "code",
   "execution_count": 16,
   "metadata": {
    "scrolled": false
   },
   "outputs": [
    {
     "data": {
      "text/html": [
       "<div>\n",
       "<style scoped>\n",
       "    .dataframe tbody tr th:only-of-type {\n",
       "        vertical-align: middle;\n",
       "    }\n",
       "\n",
       "    .dataframe tbody tr th {\n",
       "        vertical-align: top;\n",
       "    }\n",
       "\n",
       "    .dataframe thead th {\n",
       "        text-align: right;\n",
       "    }\n",
       "</style>\n",
       "<table border=\"1\" class=\"dataframe\">\n",
       "  <thead>\n",
       "    <tr style=\"text-align: right;\">\n",
       "      <th></th>\n",
       "      <th>2</th>\n",
       "      <th>3</th>\n",
       "      <th>4</th>\n",
       "      <th>5</th>\n",
       "      <th>6</th>\n",
       "      <th>7</th>\n",
       "      <th>8</th>\n",
       "      <th>9</th>\n",
       "      <th>10</th>\n",
       "      <th>11</th>\n",
       "      <th>...</th>\n",
       "      <th>15</th>\n",
       "      <th>16</th>\n",
       "      <th>17</th>\n",
       "      <th>18</th>\n",
       "      <th>19</th>\n",
       "      <th>20</th>\n",
       "      <th>21</th>\n",
       "      <th>22</th>\n",
       "      <th>23</th>\n",
       "      <th>24</th>\n",
       "    </tr>\n",
       "  </thead>\n",
       "  <tbody>\n",
       "    <tr>\n",
       "      <th>0</th>\n",
       "      <td>28.7</td>\n",
       "      <td>21.4</td>\n",
       "      <td>58.255688</td>\n",
       "      <td>91.116364</td>\n",
       "      <td>28.074101</td>\n",
       "      <td>23.006936</td>\n",
       "      <td>6.818887</td>\n",
       "      <td>69.451805</td>\n",
       "      <td>0.233947</td>\n",
       "      <td>0.203896</td>\n",
       "      <td>...</td>\n",
       "      <td>0.0</td>\n",
       "      <td>0.0</td>\n",
       "      <td>0.0</td>\n",
       "      <td>37.6046</td>\n",
       "      <td>126.991</td>\n",
       "      <td>212.3350</td>\n",
       "      <td>2.7850</td>\n",
       "      <td>5992.895996</td>\n",
       "      <td>29.1</td>\n",
       "      <td>21.2</td>\n",
       "    </tr>\n",
       "    <tr>\n",
       "      <th>1</th>\n",
       "      <td>31.9</td>\n",
       "      <td>21.6</td>\n",
       "      <td>52.263397</td>\n",
       "      <td>90.604721</td>\n",
       "      <td>29.850689</td>\n",
       "      <td>24.035009</td>\n",
       "      <td>5.691890</td>\n",
       "      <td>51.937448</td>\n",
       "      <td>0.225508</td>\n",
       "      <td>0.251771</td>\n",
       "      <td>...</td>\n",
       "      <td>0.0</td>\n",
       "      <td>0.0</td>\n",
       "      <td>0.0</td>\n",
       "      <td>37.6046</td>\n",
       "      <td>127.032</td>\n",
       "      <td>44.7624</td>\n",
       "      <td>0.5141</td>\n",
       "      <td>5869.312500</td>\n",
       "      <td>30.5</td>\n",
       "      <td>22.5</td>\n",
       "    </tr>\n",
       "    <tr>\n",
       "      <th>2</th>\n",
       "      <td>31.6</td>\n",
       "      <td>23.3</td>\n",
       "      <td>48.690479</td>\n",
       "      <td>83.973587</td>\n",
       "      <td>30.091292</td>\n",
       "      <td>24.565633</td>\n",
       "      <td>6.138224</td>\n",
       "      <td>20.573050</td>\n",
       "      <td>0.209344</td>\n",
       "      <td>0.257469</td>\n",
       "      <td>...</td>\n",
       "      <td>0.0</td>\n",
       "      <td>0.0</td>\n",
       "      <td>0.0</td>\n",
       "      <td>37.5776</td>\n",
       "      <td>127.058</td>\n",
       "      <td>33.3068</td>\n",
       "      <td>0.2661</td>\n",
       "      <td>5863.555664</td>\n",
       "      <td>31.1</td>\n",
       "      <td>23.9</td>\n",
       "    </tr>\n",
       "    <tr>\n",
       "      <th>3</th>\n",
       "      <td>32.0</td>\n",
       "      <td>23.4</td>\n",
       "      <td>58.239788</td>\n",
       "      <td>96.483688</td>\n",
       "      <td>29.704629</td>\n",
       "      <td>23.326177</td>\n",
       "      <td>5.650050</td>\n",
       "      <td>65.727144</td>\n",
       "      <td>0.216372</td>\n",
       "      <td>0.226002</td>\n",
       "      <td>...</td>\n",
       "      <td>0.0</td>\n",
       "      <td>0.0</td>\n",
       "      <td>0.0</td>\n",
       "      <td>37.6450</td>\n",
       "      <td>127.022</td>\n",
       "      <td>45.7160</td>\n",
       "      <td>2.5348</td>\n",
       "      <td>5856.964844</td>\n",
       "      <td>31.7</td>\n",
       "      <td>24.3</td>\n",
       "    </tr>\n",
       "    <tr>\n",
       "      <th>4</th>\n",
       "      <td>31.4</td>\n",
       "      <td>21.9</td>\n",
       "      <td>56.174095</td>\n",
       "      <td>90.155128</td>\n",
       "      <td>29.113934</td>\n",
       "      <td>23.486480</td>\n",
       "      <td>5.735004</td>\n",
       "      <td>107.965535</td>\n",
       "      <td>0.151407</td>\n",
       "      <td>0.249995</td>\n",
       "      <td>...</td>\n",
       "      <td>0.0</td>\n",
       "      <td>0.0</td>\n",
       "      <td>0.0</td>\n",
       "      <td>37.5507</td>\n",
       "      <td>127.135</td>\n",
       "      <td>35.0380</td>\n",
       "      <td>0.5055</td>\n",
       "      <td>5859.552246</td>\n",
       "      <td>31.2</td>\n",
       "      <td>22.5</td>\n",
       "    </tr>\n",
       "  </tbody>\n",
       "</table>\n",
       "<p>5 rows × 23 columns</p>\n",
       "</div>"
      ],
      "text/plain": [
       "     2     3          4          5          6          7         8   \\\n",
       "0  28.7  21.4  58.255688  91.116364  28.074101  23.006936  6.818887   \n",
       "1  31.9  21.6  52.263397  90.604721  29.850689  24.035009  5.691890   \n",
       "2  31.6  23.3  48.690479  83.973587  30.091292  24.565633  6.138224   \n",
       "3  32.0  23.4  58.239788  96.483688  29.704629  23.326177  5.650050   \n",
       "4  31.4  21.9  56.174095  90.155128  29.113934  23.486480  5.735004   \n",
       "\n",
       "           9         10        11  ...   15   16   17       18       19  \\\n",
       "0   69.451805  0.233947  0.203896  ...  0.0  0.0  0.0  37.6046  126.991   \n",
       "1   51.937448  0.225508  0.251771  ...  0.0  0.0  0.0  37.6046  127.032   \n",
       "2   20.573050  0.209344  0.257469  ...  0.0  0.0  0.0  37.5776  127.058   \n",
       "3   65.727144  0.216372  0.226002  ...  0.0  0.0  0.0  37.6450  127.022   \n",
       "4  107.965535  0.151407  0.249995  ...  0.0  0.0  0.0  37.5507  127.135   \n",
       "\n",
       "         20      21           22    23    24  \n",
       "0  212.3350  2.7850  5992.895996  29.1  21.2  \n",
       "1   44.7624  0.5141  5869.312500  30.5  22.5  \n",
       "2   33.3068  0.2661  5863.555664  31.1  23.9  \n",
       "3   45.7160  2.5348  5856.964844  31.7  24.3  \n",
       "4   35.0380  0.5055  5859.552246  31.2  22.5  \n",
       "\n",
       "[5 rows x 23 columns]"
      ]
     },
     "execution_count": 16,
     "metadata": {},
     "output_type": "execute_result"
    }
   ],
   "source": [
    "df.head()"
   ]
  },
  {
   "cell_type": "code",
   "execution_count": 17,
   "metadata": {
    "scrolled": true
   },
   "outputs": [
    {
     "name": "stdout",
     "output_type": "stream",
     "text": [
      "<class 'pandas.core.frame.DataFrame'>\n",
      "RangeIndex: 1174 entries, 0 to 1173\n",
      "Data columns (total 23 columns):\n",
      " #   Column  Non-Null Count  Dtype  \n",
      "---  ------  --------------  -----  \n",
      " 0   2       1174 non-null   float64\n",
      " 1   3       1174 non-null   float64\n",
      " 2   4       1174 non-null   float64\n",
      " 3   5       1174 non-null   float64\n",
      " 4   6       1174 non-null   float64\n",
      " 5   7       1174 non-null   float64\n",
      " 6   8       1174 non-null   float64\n",
      " 7   9       1174 non-null   float64\n",
      " 8   10      1174 non-null   float64\n",
      " 9   11      1174 non-null   float64\n",
      " 10  12      1174 non-null   float64\n",
      " 11  13      1174 non-null   float64\n",
      " 12  14      1174 non-null   float64\n",
      " 13  15      1174 non-null   float64\n",
      " 14  16      1174 non-null   float64\n",
      " 15  17      1174 non-null   float64\n",
      " 16  18      1174 non-null   float64\n",
      " 17  19      1174 non-null   float64\n",
      " 18  20      1174 non-null   float64\n",
      " 19  21      1174 non-null   float64\n",
      " 20  22      1174 non-null   float64\n",
      " 21  23      1174 non-null   float64\n",
      " 22  24      1174 non-null   float64\n",
      "dtypes: float64(23)\n",
      "memory usage: 211.1 KB\n"
     ]
    }
   ],
   "source": [
    "df.info()"
   ]
  },
  {
   "cell_type": "code",
   "execution_count": 18,
   "metadata": {},
   "outputs": [
    {
     "data": {
      "text/html": [
       "<div>\n",
       "<style scoped>\n",
       "    .dataframe tbody tr th:only-of-type {\n",
       "        vertical-align: middle;\n",
       "    }\n",
       "\n",
       "    .dataframe tbody tr th {\n",
       "        vertical-align: top;\n",
       "    }\n",
       "\n",
       "    .dataframe thead th {\n",
       "        text-align: right;\n",
       "    }\n",
       "</style>\n",
       "<table border=\"1\" class=\"dataframe\">\n",
       "  <thead>\n",
       "    <tr style=\"text-align: right;\">\n",
       "      <th></th>\n",
       "      <th>2</th>\n",
       "      <th>3</th>\n",
       "      <th>4</th>\n",
       "      <th>5</th>\n",
       "      <th>6</th>\n",
       "      <th>7</th>\n",
       "      <th>8</th>\n",
       "      <th>9</th>\n",
       "      <th>10</th>\n",
       "      <th>11</th>\n",
       "      <th>...</th>\n",
       "      <th>15</th>\n",
       "      <th>16</th>\n",
       "      <th>17</th>\n",
       "      <th>18</th>\n",
       "      <th>19</th>\n",
       "      <th>20</th>\n",
       "      <th>21</th>\n",
       "      <th>22</th>\n",
       "      <th>23</th>\n",
       "      <th>24</th>\n",
       "    </tr>\n",
       "  </thead>\n",
       "  <tbody>\n",
       "    <tr>\n",
       "      <th>count</th>\n",
       "      <td>1174.000000</td>\n",
       "      <td>1174.000000</td>\n",
       "      <td>1174.000000</td>\n",
       "      <td>1174.000000</td>\n",
       "      <td>1174.000000</td>\n",
       "      <td>1174.000000</td>\n",
       "      <td>1174.000000</td>\n",
       "      <td>1174.000000</td>\n",
       "      <td>1174.000000</td>\n",
       "      <td>1174.000000</td>\n",
       "      <td>...</td>\n",
       "      <td>1174.000000</td>\n",
       "      <td>1174.000000</td>\n",
       "      <td>1174.000000</td>\n",
       "      <td>1174.000000</td>\n",
       "      <td>1174.000000</td>\n",
       "      <td>1174.000000</td>\n",
       "      <td>1174.000000</td>\n",
       "      <td>1174.000000</td>\n",
       "      <td>1174.000000</td>\n",
       "      <td>1174.000000</td>\n",
       "    </tr>\n",
       "    <tr>\n",
       "      <th>mean</th>\n",
       "      <td>29.369423</td>\n",
       "      <td>24.002842</td>\n",
       "      <td>64.235823</td>\n",
       "      <td>91.916192</td>\n",
       "      <td>29.681016</td>\n",
       "      <td>24.604457</td>\n",
       "      <td>8.195586</td>\n",
       "      <td>55.529949</td>\n",
       "      <td>0.486781</td>\n",
       "      <td>0.444572</td>\n",
       "      <td>...</td>\n",
       "      <td>0.999891</td>\n",
       "      <td>0.153153</td>\n",
       "      <td>0.302918</td>\n",
       "      <td>37.544738</td>\n",
       "      <td>126.991418</td>\n",
       "      <td>61.890950</td>\n",
       "      <td>1.257531</td>\n",
       "      <td>5541.038383</td>\n",
       "      <td>29.739795</td>\n",
       "      <td>23.878620</td>\n",
       "    </tr>\n",
       "    <tr>\n",
       "      <th>std</th>\n",
       "      <td>2.602485</td>\n",
       "      <td>1.662833</td>\n",
       "      <td>13.489058</td>\n",
       "      <td>4.745852</td>\n",
       "      <td>2.333962</td>\n",
       "      <td>1.632276</td>\n",
       "      <td>2.149672</td>\n",
       "      <td>29.385631</td>\n",
       "      <td>0.263535</td>\n",
       "      <td>0.251106</td>\n",
       "      <td>...</td>\n",
       "      <td>2.989433</td>\n",
       "      <td>0.697887</td>\n",
       "      <td>1.354846</td>\n",
       "      <td>0.050371</td>\n",
       "      <td>0.079466</td>\n",
       "      <td>54.285644</td>\n",
       "      <td>1.370610</td>\n",
       "      <td>269.775914</td>\n",
       "      <td>2.694142</td>\n",
       "      <td>1.745166</td>\n",
       "    </tr>\n",
       "    <tr>\n",
       "      <th>min</th>\n",
       "      <td>22.400000</td>\n",
       "      <td>17.900000</td>\n",
       "      <td>36.725609</td>\n",
       "      <td>72.999237</td>\n",
       "      <td>23.356801</td>\n",
       "      <td>19.547129</td>\n",
       "      <td>3.881777</td>\n",
       "      <td>5.404379</td>\n",
       "      <td>0.010504</td>\n",
       "      <td>0.041394</td>\n",
       "      <td>...</td>\n",
       "      <td>0.000000</td>\n",
       "      <td>0.000000</td>\n",
       "      <td>0.000000</td>\n",
       "      <td>37.456200</td>\n",
       "      <td>126.826000</td>\n",
       "      <td>12.370000</td>\n",
       "      <td>0.098500</td>\n",
       "      <td>4915.099121</td>\n",
       "      <td>21.800000</td>\n",
       "      <td>17.800000</td>\n",
       "    </tr>\n",
       "    <tr>\n",
       "      <th>25%</th>\n",
       "      <td>27.300000</td>\n",
       "      <td>23.000000</td>\n",
       "      <td>53.355758</td>\n",
       "      <td>88.935202</td>\n",
       "      <td>27.938662</td>\n",
       "      <td>23.433362</td>\n",
       "      <td>6.575176</td>\n",
       "      <td>33.997186</td>\n",
       "      <td>0.244614</td>\n",
       "      <td>0.249417</td>\n",
       "      <td>...</td>\n",
       "      <td>0.000000</td>\n",
       "      <td>0.000000</td>\n",
       "      <td>0.000000</td>\n",
       "      <td>37.510200</td>\n",
       "      <td>126.937000</td>\n",
       "      <td>28.700000</td>\n",
       "      <td>0.271300</td>\n",
       "      <td>5336.199463</td>\n",
       "      <td>27.600000</td>\n",
       "      <td>22.800000</td>\n",
       "    </tr>\n",
       "    <tr>\n",
       "      <th>50%</th>\n",
       "      <td>29.500000</td>\n",
       "      <td>23.900000</td>\n",
       "      <td>62.772331</td>\n",
       "      <td>92.951103</td>\n",
       "      <td>29.868271</td>\n",
       "      <td>24.528913</td>\n",
       "      <td>8.016858</td>\n",
       "      <td>48.732100</td>\n",
       "      <td>0.491930</td>\n",
       "      <td>0.383117</td>\n",
       "      <td>...</td>\n",
       "      <td>0.000000</td>\n",
       "      <td>0.000000</td>\n",
       "      <td>0.000000</td>\n",
       "      <td>37.550700</td>\n",
       "      <td>126.995000</td>\n",
       "      <td>45.716000</td>\n",
       "      <td>0.618000</td>\n",
       "      <td>5600.113525</td>\n",
       "      <td>30.000000</td>\n",
       "      <td>23.800000</td>\n",
       "    </tr>\n",
       "    <tr>\n",
       "      <th>75%</th>\n",
       "      <td>31.400000</td>\n",
       "      <td>25.000000</td>\n",
       "      <td>74.703930</td>\n",
       "      <td>95.347256</td>\n",
       "      <td>31.397960</td>\n",
       "      <td>25.629129</td>\n",
       "      <td>9.440780</td>\n",
       "      <td>75.052564</td>\n",
       "      <td>0.715715</td>\n",
       "      <td>0.639965</td>\n",
       "      <td>...</td>\n",
       "      <td>0.246237</td>\n",
       "      <td>0.016469</td>\n",
       "      <td>0.000000</td>\n",
       "      <td>37.577600</td>\n",
       "      <td>127.042000</td>\n",
       "      <td>59.832400</td>\n",
       "      <td>1.767800</td>\n",
       "      <td>5779.089233</td>\n",
       "      <td>31.800000</td>\n",
       "      <td>25.000000</td>\n",
       "    </tr>\n",
       "    <tr>\n",
       "      <th>max</th>\n",
       "      <td>35.500000</td>\n",
       "      <td>28.400000</td>\n",
       "      <td>95.818939</td>\n",
       "      <td>99.985825</td>\n",
       "      <td>35.572714</td>\n",
       "      <td>28.190031</td>\n",
       "      <td>18.043690</td>\n",
       "      <td>153.779546</td>\n",
       "      <td>0.951899</td>\n",
       "      <td>0.966637</td>\n",
       "      <td>...</td>\n",
       "      <td>21.621661</td>\n",
       "      <td>7.299312</td>\n",
       "      <td>12.216177</td>\n",
       "      <td>37.645000</td>\n",
       "      <td>127.135000</td>\n",
       "      <td>212.335000</td>\n",
       "      <td>5.178200</td>\n",
       "      <td>5992.895996</td>\n",
       "      <td>36.000000</td>\n",
       "      <td>28.300000</td>\n",
       "    </tr>\n",
       "  </tbody>\n",
       "</table>\n",
       "<p>8 rows × 23 columns</p>\n",
       "</div>"
      ],
      "text/plain": [
       "                2            3            4            5            6   \\\n",
       "count  1174.000000  1174.000000  1174.000000  1174.000000  1174.000000   \n",
       "mean     29.369423    24.002842    64.235823    91.916192    29.681016   \n",
       "std       2.602485     1.662833    13.489058     4.745852     2.333962   \n",
       "min      22.400000    17.900000    36.725609    72.999237    23.356801   \n",
       "25%      27.300000    23.000000    53.355758    88.935202    27.938662   \n",
       "50%      29.500000    23.900000    62.772331    92.951103    29.868271   \n",
       "75%      31.400000    25.000000    74.703930    95.347256    31.397960   \n",
       "max      35.500000    28.400000    95.818939    99.985825    35.572714   \n",
       "\n",
       "                7            8            9            10           11  ...  \\\n",
       "count  1174.000000  1174.000000  1174.000000  1174.000000  1174.000000  ...   \n",
       "mean     24.604457     8.195586    55.529949     0.486781     0.444572  ...   \n",
       "std       1.632276     2.149672    29.385631     0.263535     0.251106  ...   \n",
       "min      19.547129     3.881777     5.404379     0.010504     0.041394  ...   \n",
       "25%      23.433362     6.575176    33.997186     0.244614     0.249417  ...   \n",
       "50%      24.528913     8.016858    48.732100     0.491930     0.383117  ...   \n",
       "75%      25.629129     9.440780    75.052564     0.715715     0.639965  ...   \n",
       "max      28.190031    18.043690   153.779546     0.951899     0.966637  ...   \n",
       "\n",
       "                15           16           17           18           19  \\\n",
       "count  1174.000000  1174.000000  1174.000000  1174.000000  1174.000000   \n",
       "mean      0.999891     0.153153     0.302918    37.544738   126.991418   \n",
       "std       2.989433     0.697887     1.354846     0.050371     0.079466   \n",
       "min       0.000000     0.000000     0.000000    37.456200   126.826000   \n",
       "25%       0.000000     0.000000     0.000000    37.510200   126.937000   \n",
       "50%       0.000000     0.000000     0.000000    37.550700   126.995000   \n",
       "75%       0.246237     0.016469     0.000000    37.577600   127.042000   \n",
       "max      21.621661     7.299312    12.216177    37.645000   127.135000   \n",
       "\n",
       "                20           21           22           23           24  \n",
       "count  1174.000000  1174.000000  1174.000000  1174.000000  1174.000000  \n",
       "mean     61.890950     1.257531  5541.038383    29.739795    23.878620  \n",
       "std      54.285644     1.370610   269.775914     2.694142     1.745166  \n",
       "min      12.370000     0.098500  4915.099121    21.800000    17.800000  \n",
       "25%      28.700000     0.271300  5336.199463    27.600000    22.800000  \n",
       "50%      45.716000     0.618000  5600.113525    30.000000    23.800000  \n",
       "75%      59.832400     1.767800  5779.089233    31.800000    25.000000  \n",
       "max     212.335000     5.178200  5992.895996    36.000000    28.300000  \n",
       "\n",
       "[8 rows x 23 columns]"
      ]
     },
     "execution_count": 18,
     "metadata": {},
     "output_type": "execute_result"
    }
   ],
   "source": [
    "df.describe()  #from the below we can infer thatoutliers is present in the dataset andalso some of the columns is skewed as\n",
    "                #the mean is greater than median and vice versa"
   ]
  },
  {
   "cell_type": "code",
   "execution_count": 323,
   "metadata": {},
   "outputs": [],
   "source": [
    "#Data visualisation"
   ]
  },
  {
   "cell_type": "code",
   "execution_count": 324,
   "metadata": {},
   "outputs": [],
   "source": [
    "from matplotlib import pyplot as plt\n",
    "import seaborn as sns"
   ]
  },
  {
   "cell_type": "code",
   "execution_count": 325,
   "metadata": {},
   "outputs": [
    {
     "data": {
      "text/plain": [
       "<matplotlib.collections.PathCollection at 0xb406ab1308>"
      ]
     },
     "execution_count": 325,
     "metadata": {},
     "output_type": "execute_result"
    },
    {
     "data": {
      "image/png": "[encoded data removed]",
      "text/plain": [
       "<Figure size 432x288 with 1 Axes>"
      ]
     },
     "metadata": {
      "needs_background": "light"
     },
     "output_type": "display_data"
    }
   ],
   "source": [
    "plt.scatter(df[2],df[3])     # present tmax and tmin"
   ]
  },
  {
   "cell_type": "code",
   "execution_count": 326,
   "metadata": {},
   "outputs": [
    {
     "data": {
      "text/html": [
       "<div>\n",
       "<style scoped>\n",
       "    .dataframe tbody tr th:only-of-type {\n",
       "        vertical-align: middle;\n",
       "    }\n",
       "\n",
       "    .dataframe tbody tr th {\n",
       "        vertical-align: top;\n",
       "    }\n",
       "\n",
       "    .dataframe thead th {\n",
       "        text-align: right;\n",
       "    }\n",
       "</style>\n",
       "<table border=\"1\" class=\"dataframe\">\n",
       "  <thead>\n",
       "    <tr style=\"text-align: right;\">\n",
       "      <th></th>\n",
       "      <th>2</th>\n",
       "      <th>3</th>\n",
       "      <th>4</th>\n",
       "      <th>5</th>\n",
       "      <th>6</th>\n",
       "      <th>7</th>\n",
       "      <th>8</th>\n",
       "      <th>9</th>\n",
       "      <th>10</th>\n",
       "      <th>11</th>\n",
       "      <th>...</th>\n",
       "      <th>15</th>\n",
       "      <th>16</th>\n",
       "      <th>17</th>\n",
       "      <th>18</th>\n",
       "      <th>19</th>\n",
       "      <th>20</th>\n",
       "      <th>21</th>\n",
       "      <th>22</th>\n",
       "      <th>23</th>\n",
       "      <th>24</th>\n",
       "    </tr>\n",
       "  </thead>\n",
       "  <tbody>\n",
       "    <tr>\n",
       "      <th>0</th>\n",
       "      <td>28.7</td>\n",
       "      <td>21.4</td>\n",
       "      <td>58.255688</td>\n",
       "      <td>91.116364</td>\n",
       "      <td>28.074101</td>\n",
       "      <td>23.006936</td>\n",
       "      <td>6.818887</td>\n",
       "      <td>69.451805</td>\n",
       "      <td>0.233947</td>\n",
       "      <td>0.203896</td>\n",
       "      <td>...</td>\n",
       "      <td>0.0</td>\n",
       "      <td>0.0</td>\n",
       "      <td>0.0</td>\n",
       "      <td>37.6046</td>\n",
       "      <td>126.991</td>\n",
       "      <td>212.3350</td>\n",
       "      <td>2.7850</td>\n",
       "      <td>5992.895996</td>\n",
       "      <td>29.1</td>\n",
       "      <td>21.2</td>\n",
       "    </tr>\n",
       "    <tr>\n",
       "      <th>1</th>\n",
       "      <td>31.9</td>\n",
       "      <td>21.6</td>\n",
       "      <td>52.263397</td>\n",
       "      <td>90.604721</td>\n",
       "      <td>29.850689</td>\n",
       "      <td>24.035009</td>\n",
       "      <td>5.691890</td>\n",
       "      <td>51.937448</td>\n",
       "      <td>0.225508</td>\n",
       "      <td>0.251771</td>\n",
       "      <td>...</td>\n",
       "      <td>0.0</td>\n",
       "      <td>0.0</td>\n",
       "      <td>0.0</td>\n",
       "      <td>37.6046</td>\n",
       "      <td>127.032</td>\n",
       "      <td>44.7624</td>\n",
       "      <td>0.5141</td>\n",
       "      <td>5869.312500</td>\n",
       "      <td>30.5</td>\n",
       "      <td>22.5</td>\n",
       "    </tr>\n",
       "    <tr>\n",
       "      <th>2</th>\n",
       "      <td>31.6</td>\n",
       "      <td>23.3</td>\n",
       "      <td>48.690479</td>\n",
       "      <td>83.973587</td>\n",
       "      <td>30.091292</td>\n",
       "      <td>24.565633</td>\n",
       "      <td>6.138224</td>\n",
       "      <td>20.573050</td>\n",
       "      <td>0.209344</td>\n",
       "      <td>0.257469</td>\n",
       "      <td>...</td>\n",
       "      <td>0.0</td>\n",
       "      <td>0.0</td>\n",
       "      <td>0.0</td>\n",
       "      <td>37.5776</td>\n",
       "      <td>127.058</td>\n",
       "      <td>33.3068</td>\n",
       "      <td>0.2661</td>\n",
       "      <td>5863.555664</td>\n",
       "      <td>31.1</td>\n",
       "      <td>23.9</td>\n",
       "    </tr>\n",
       "    <tr>\n",
       "      <th>3</th>\n",
       "      <td>32.0</td>\n",
       "      <td>23.4</td>\n",
       "      <td>58.239788</td>\n",
       "      <td>96.483688</td>\n",
       "      <td>29.704629</td>\n",
       "      <td>23.326177</td>\n",
       "      <td>5.650050</td>\n",
       "      <td>65.727144</td>\n",
       "      <td>0.216372</td>\n",
       "      <td>0.226002</td>\n",
       "      <td>...</td>\n",
       "      <td>0.0</td>\n",
       "      <td>0.0</td>\n",
       "      <td>0.0</td>\n",
       "      <td>37.6450</td>\n",
       "      <td>127.022</td>\n",
       "      <td>45.7160</td>\n",
       "      <td>2.5348</td>\n",
       "      <td>5856.964844</td>\n",
       "      <td>31.7</td>\n",
       "      <td>24.3</td>\n",
       "    </tr>\n",
       "    <tr>\n",
       "      <th>4</th>\n",
       "      <td>31.4</td>\n",
       "      <td>21.9</td>\n",
       "      <td>56.174095</td>\n",
       "      <td>90.155128</td>\n",
       "      <td>29.113934</td>\n",
       "      <td>23.486480</td>\n",
       "      <td>5.735004</td>\n",
       "      <td>107.965535</td>\n",
       "      <td>0.151407</td>\n",
       "      <td>0.249995</td>\n",
       "      <td>...</td>\n",
       "      <td>0.0</td>\n",
       "      <td>0.0</td>\n",
       "      <td>0.0</td>\n",
       "      <td>37.5507</td>\n",
       "      <td>127.135</td>\n",
       "      <td>35.0380</td>\n",
       "      <td>0.5055</td>\n",
       "      <td>5859.552246</td>\n",
       "      <td>31.2</td>\n",
       "      <td>22.5</td>\n",
       "    </tr>\n",
       "  </tbody>\n",
       "</table>\n",
       "<p>5 rows × 23 columns</p>\n",
       "</div>"
      ],
      "text/plain": [
       "     2     3          4          5          6          7         8   \\\n",
       "0  28.7  21.4  58.255688  91.116364  28.074101  23.006936  6.818887   \n",
       "1  31.9  21.6  52.263397  90.604721  29.850689  24.035009  5.691890   \n",
       "2  31.6  23.3  48.690479  83.973587  30.091292  24.565633  6.138224   \n",
       "3  32.0  23.4  58.239788  96.483688  29.704629  23.326177  5.650050   \n",
       "4  31.4  21.9  56.174095  90.155128  29.113934  23.486480  5.735004   \n",
       "\n",
       "           9         10        11  ...   15   16   17       18       19  \\\n",
       "0   69.451805  0.233947  0.203896  ...  0.0  0.0  0.0  37.6046  126.991   \n",
       "1   51.937448  0.225508  0.251771  ...  0.0  0.0  0.0  37.6046  127.032   \n",
       "2   20.573050  0.209344  0.257469  ...  0.0  0.0  0.0  37.5776  127.058   \n",
       "3   65.727144  0.216372  0.226002  ...  0.0  0.0  0.0  37.6450  127.022   \n",
       "4  107.965535  0.151407  0.249995  ...  0.0  0.0  0.0  37.5507  127.135   \n",
       "\n",
       "         20      21           22    23    24  \n",
       "0  212.3350  2.7850  5992.895996  29.1  21.2  \n",
       "1   44.7624  0.5141  5869.312500  30.5  22.5  \n",
       "2   33.3068  0.2661  5863.555664  31.1  23.9  \n",
       "3   45.7160  2.5348  5856.964844  31.7  24.3  \n",
       "4   35.0380  0.5055  5859.552246  31.2  22.5  \n",
       "\n",
       "[5 rows x 23 columns]"
      ]
     },
     "execution_count": 326,
     "metadata": {},
     "output_type": "execute_result"
    }
   ],
   "source": [
    "df.head()"
   ]
  },
  {
   "cell_type": "code",
   "execution_count": 327,
   "metadata": {},
   "outputs": [
    {
     "data": {
      "text/plain": [
       "<matplotlib.axes._subplots.AxesSubplot at 0xb406b2f788>"
      ]
     },
     "execution_count": 327,
     "metadata": {},
     "output_type": "execute_result"
    },
    {
     "data": {
      "image/png": "[encoded data removed]",
      "text/plain": [
       "<Figure size 1080x720 with 2 Axes>"
      ]
     },
     "metadata": {
      "needs_background": "light"
     },
     "output_type": "display_data"
    }
   ],
   "source": [
    "plt.figure(figsize=(15,10))\n",
    "sns.heatmap(df.corr(),annot=True,cmap='RdYlGn')"
   ]
  },
  {
   "cell_type": "code",
   "execution_count": 328,
   "metadata": {},
   "outputs": [],
   "source": [
    "# we can see from the above that most of the values are positively correlated among each other as shown above."
   ]
  },
  {
   "cell_type": "code",
   "execution_count": 329,
   "metadata": {},
   "outputs": [
    {
     "data": {
      "image/png": "[encoded data removed]",
      "text/plain": [
       "<Figure size 432x288 with 1 Axes>"
      ]
     },
     "metadata": {
      "needs_background": "light"
     },
     "output_type": "display_data"
    },
    {
     "data": {
      "image/png": "[encoded data removed]",
      "text/plain": [
       "<Figure size 432x288 with 1 Axes>"
      ]
     },
     "metadata": {
      "needs_background": "light"
     },
     "output_type": "display_data"
    },
    {
     "data": {
      "image/png": "[encoded data removed]",
      "text/plain": [
       "<Figure size 432x288 with 1 Axes>"
      ]
     },
     "metadata": {
      "needs_background": "light"
     },
     "output_type": "display_data"
    },
    {
     "data": {
      "image/png": "[encoded data removed]",
      "text/plain": [
       "<Figure size 432x288 with 1 Axes>"
      ]
     },
     "metadata": {
      "needs_background": "light"
     },
     "output_type": "display_data"
    },
    {
     "data": {
      "image/png": "[encoded data removed]",
      "text/plain": [
       "<Figure size 432x288 with 1 Axes>"
      ]
     },
     "metadata": {
      "needs_background": "light"
     },
     "output_type": "display_data"
    },
    {
     "data": {
      "image/png": "[encoded data removed]",
      "text/plain": [
       "<Figure size 432x288 with 1 Axes>"
      ]
     },
     "metadata": {
      "needs_background": "light"
     },
     "output_type": "display_data"
    },
    {
     "data": {
      "image/png": "[encoded data removed]",
      "text/plain": [
       "<Figure size 432x288 with 1 Axes>"
      ]
     },
     "metadata": {
      "needs_background": "light"
     },
     "output_type": "display_data"
    },
    {
     "data": {
      "image/png": "[encoded data removed]",
      "text/plain": [
       "<Figure size 432x288 with 1 Axes>"
      ]
     },
     "metadata": {
      "needs_background": "light"
     },
     "output_type": "display_data"
    },
    {
     "data": {
      "image/png": "[encoded data removed]",
      "text/plain": [
       "<Figure size 432x288 with 1 Axes>"
      ]
     },
     "metadata": {
      "needs_background": "light"
     },
     "output_type": "display_data"
    },
    {
     "data": {
      "image/png": "[encoded data removed]",
      "text/plain": [
       "<Figure size 432x288 with 1 Axes>"
      ]
     },
     "metadata": {
      "needs_background": "light"
     },
     "output_type": "display_data"
    },
    {
     "data": {
      "image/png": "[encoded data removed]",
      "text/plain": [
       "<Figure size 432x288 with 1 Axes>"
      ]
     },
     "metadata": {
      "needs_background": "light"
     },
     "output_type": "display_data"
    },
    {
     "data": {
      "image/png": "[encoded data removed]",
      "text/plain": [
       "<Figure size 432x288 with 1 Axes>"
      ]
     },
     "metadata": {
      "needs_background": "light"
     },
     "output_type": "display_data"
    },
    {
     "data": {
      "image/png": "[encoded data removed]",
      "text/plain": [
       "<Figure size 432x288 with 1 Axes>"
      ]
     },
     "metadata": {
      "needs_background": "light"
     },
     "output_type": "display_data"
    },
    {
     "data": {
      "image/png": "[encoded data removed]",
      "text/plain": [
       "<Figure size 432x288 with 1 Axes>"
      ]
     },
     "metadata": {
      "needs_background": "light"
     },
     "output_type": "display_data"
    },
    {
     "data": {
      "image/png": "[encoded data removed]",
      "text/plain": [
       "<Figure size 432x288 with 1 Axes>"
      ]
     },
     "metadata": {
      "needs_background": "light"
     },
     "output_type": "display_data"
    },
    {
     "data": {
      "image/png": "[encoded data removed]",
      "text/plain": [
       "<Figure size 432x288 with 1 Axes>"
      ]
     },
     "metadata": {
      "needs_background": "light"
     },
     "output_type": "display_data"
    },
    {
     "data": {
      "image/png": "[encoded data removed]",
      "text/plain": [
       "<Figure size 432x288 with 1 Axes>"
      ]
     },
     "metadata": {
      "needs_background": "light"
     },
     "output_type": "display_data"
    },
    {
     "data": {
      "image/png": "[encoded data removed]",
      "text/plain": [
       "<Figure size 432x288 with 1 Axes>"
      ]
     },
     "metadata": {
      "needs_background": "light"
     },
     "output_type": "display_data"
    },
    {
     "data": {
      "image/png": "[encoded data removed]",
      "text/plain": [
       "<Figure size 432x288 with 1 Axes>"
      ]
     },
     "metadata": {
      "needs_background": "light"
     },
     "output_type": "display_data"
    },
    {
     "data": {
      "image/png": "[encoded data removed]",
      "text/plain": [
       "<Figure size 432x288 with 1 Axes>"
      ]
     },
     "metadata": {
      "needs_background": "light"
     },
     "output_type": "display_data"
    },
    {
     "data": {
      "image/png": "[encoded data removed]",
      "text/plain": [
       "<Figure size 432x288 with 1 Axes>"
      ]
     },
     "metadata": {
      "needs_background": "light"
     },
     "output_type": "display_data"
    },
    {
     "data": {
      "image/png": "[encoded data removed]",
      "text/plain": [
       "<Figure size 432x288 with 1 Axes>"
      ]
     },
     "metadata": {
      "needs_background": "light"
     },
     "output_type": "display_data"
    },
    {
     "data": {
      "image/png": "[encoded data removed]",
      "text/plain": [
       "<Figure size 432x288 with 1 Axes>"
      ]
     },
     "metadata": {
      "needs_background": "light"
     },
     "output_type": "display_data"
    }
   ],
   "source": [
    "for i in df.columns:\n",
    "    plt.figure()\n",
    "    plt.hist(df[i])"
   ]
  },
  {
   "cell_type": "code",
   "execution_count": 330,
   "metadata": {},
   "outputs": [],
   "source": [
    "#from the above plotted histograms we can infer that most of the values are following the gaussian curve and other are skewed"
   ]
  },
  {
   "cell_type": "code",
   "execution_count": 331,
   "metadata": {},
   "outputs": [
    {
     "data": {
      "text/plain": [
       "2    -0.133980\n",
       "3     0.003427\n",
       "4     0.285245\n",
       "5    -0.805658\n",
       "6    -0.126687\n",
       "7    -0.006915\n",
       "8     0.860014\n",
       "9     0.812768\n",
       "10    0.087659\n",
       "11    0.471269\n",
       "12    0.671039\n",
       "13    0.721428\n",
       "14    2.870734\n",
       "15    4.312687\n",
       "16    6.576195\n",
       "17    6.116360\n",
       "18    0.086012\n",
       "19   -0.286187\n",
       "20    1.724830\n",
       "21    1.563890\n",
       "22   -0.545589\n",
       "23   -0.239648\n",
       "24    0.004099\n",
       "dtype: float64"
      ]
     },
     "execution_count": 331,
     "metadata": {},
     "output_type": "execute_result"
    }
   ],
   "source": [
    "df.skew()"
   ]
  },
  {
   "cell_type": "code",
   "execution_count": 407,
   "metadata": {},
   "outputs": [
    {
     "data": {
      "text/plain": [
       "0.17196344965890703"
      ]
     },
     "execution_count": 407,
     "metadata": {},
     "output_type": "execute_result"
    }
   ],
   "source": [
    "df[14]=np.power(df[14],1/3)   #removing skewness from the columns using cuberoot\n",
    "df[14].skew()"
   ]
  },
  {
   "cell_type": "code",
   "execution_count": 408,
   "metadata": {},
   "outputs": [
    {
     "data": {
      "text/plain": [
       "0.6011222512166354"
      ]
     },
     "execution_count": 408,
     "metadata": {},
     "output_type": "execute_result"
    }
   ],
   "source": [
    "df[15]=np.power(df[15],1/3)\n",
    "df[15].skew()"
   ]
  },
  {
   "cell_type": "code",
   "execution_count": 409,
   "metadata": {},
   "outputs": [
    {
     "data": {
      "text/plain": [
       "1.053243846810621"
      ]
     },
     "execution_count": 409,
     "metadata": {},
     "output_type": "execute_result"
    }
   ],
   "source": [
    "df[16]=np.power(df[16],1/3)\n",
    "df[16].skew()"
   ]
  },
  {
   "cell_type": "code",
   "execution_count": 417,
   "metadata": {},
   "outputs": [
    {
     "data": {
      "text/plain": [
       "1.268182376807664"
      ]
     },
     "execution_count": 417,
     "metadata": {},
     "output_type": "execute_result"
    }
   ],
   "source": [
    "df[17]=np.power(df[17],1/3)\n",
    "df[17].skew()"
   ]
  },
  {
   "cell_type": "code",
   "execution_count": 336,
   "metadata": {},
   "outputs": [
    {
     "data": {
      "text/plain": [
       "0.9202165263496707"
      ]
     },
     "execution_count": 336,
     "metadata": {},
     "output_type": "execute_result"
    }
   ],
   "source": [
    "df[20]=np.power(df[20],1/3)\n",
    "df[20].skew()"
   ]
  },
  {
   "cell_type": "code",
   "execution_count": 337,
   "metadata": {},
   "outputs": [
    {
     "data": {
      "text/plain": [
       "0.6134568690478929"
      ]
     },
     "execution_count": 337,
     "metadata": {},
     "output_type": "execute_result"
    }
   ],
   "source": [
    "df[21]=np.power(df[21],1/3)\n",
    "df[21].skew()"
   ]
  },
  {
   "cell_type": "code",
   "execution_count": 419,
   "metadata": {},
   "outputs": [
    {
     "name": "stdout",
     "output_type": "stream",
     "text": [
      "<class 'pandas.core.frame.DataFrame'>\n",
      "RangeIndex: 1174 entries, 0 to 1173\n",
      "Data columns (total 23 columns):\n",
      " #   Column  Non-Null Count  Dtype  \n",
      "---  ------  --------------  -----  \n",
      " 0   2       1174 non-null   float64\n",
      " 1   3       1174 non-null   float64\n",
      " 2   4       1174 non-null   float64\n",
      " 3   5       1174 non-null   float64\n",
      " 4   6       1174 non-null   float64\n",
      " 5   7       1174 non-null   float64\n",
      " 6   8       1174 non-null   float64\n",
      " 7   9       1174 non-null   float64\n",
      " 8   10      1174 non-null   float64\n",
      " 9   11      1174 non-null   float64\n",
      " 10  12      1174 non-null   float64\n",
      " 11  13      1174 non-null   float64\n",
      " 12  14      1174 non-null   float64\n",
      " 13  15      1174 non-null   float64\n",
      " 14  16      1174 non-null   float64\n",
      " 15  17      1174 non-null   float64\n",
      " 16  18      1174 non-null   float64\n",
      " 17  19      1174 non-null   float64\n",
      " 18  20      1174 non-null   float64\n",
      " 19  21      1174 non-null   float64\n",
      " 20  22      1174 non-null   float64\n",
      " 21  23      1174 non-null   float64\n",
      " 22  24      1174 non-null   float64\n",
      "dtypes: float64(23)\n",
      "memory usage: 211.1 KB\n"
     ]
    }
   ],
   "source": [
    "df.info()"
   ]
  },
  {
   "cell_type": "code",
   "execution_count": 339,
   "metadata": {},
   "outputs": [
    {
     "data": {
      "text/plain": [
       "<matplotlib.axes._subplots.AxesSubplot at 0xb408d0c388>"
      ]
     },
     "execution_count": 339,
     "metadata": {},
     "output_type": "execute_result"
    },
    {
     "data": {
      "image/png": "[encoded data removed]",
      "text/plain": [
       "<Figure size 432x288 with 1 Axes>"
      ]
     },
     "metadata": {
      "needs_background": "light"
     },
     "output_type": "display_data"
    }
   ],
   "source": [
    "sns.distplot(df[14])"
   ]
  },
  {
   "cell_type": "code",
   "execution_count": 340,
   "metadata": {},
   "outputs": [
    {
     "data": {
      "text/plain": [
       "<matplotlib.axes._subplots.AxesSubplot at 0xb408d4de08>"
      ]
     },
     "execution_count": 340,
     "metadata": {},
     "output_type": "execute_result"
    },
    {
     "data": {
      "image/png": "[encoded data removed]",
      "text/plain": [
       "<Figure size 432x288 with 1 Axes>"
      ]
     },
     "metadata": {
      "needs_background": "light"
     },
     "output_type": "display_data"
    }
   ],
   "source": [
    "sns.distplot(df[15])"
   ]
  },
  {
   "cell_type": "code",
   "execution_count": 341,
   "metadata": {},
   "outputs": [
    {
     "data": {
      "text/plain": [
       "<matplotlib.axes._subplots.AxesSubplot at 0xb408e42048>"
      ]
     },
     "execution_count": 341,
     "metadata": {},
     "output_type": "execute_result"
    },
    {
     "data": {
      "image/png": "[encoded data removed]",
      "text/plain": [
       "<Figure size 432x288 with 1 Axes>"
      ]
     },
     "metadata": {
      "needs_background": "light"
     },
     "output_type": "display_data"
    }
   ],
   "source": [
    "sns.distplot(df[16])"
   ]
  },
  {
   "cell_type": "code",
   "execution_count": 342,
   "metadata": {},
   "outputs": [
    {
     "data": {
      "text/plain": [
       "<matplotlib.axes._subplots.AxesSubplot at 0xb408ee4dc8>"
      ]
     },
     "execution_count": 342,
     "metadata": {},
     "output_type": "execute_result"
    },
    {
     "data": {
      "image/png": "[encoded data removed]",
      "text/plain": [
       "<Figure size 432x288 with 1 Axes>"
      ]
     },
     "metadata": {
      "needs_background": "light"
     },
     "output_type": "display_data"
    }
   ],
   "source": [
    "sns.distplot(df[20])"
   ]
  },
  {
   "cell_type": "code",
   "execution_count": 343,
   "metadata": {},
   "outputs": [
    {
     "data": {
      "text/plain": [
       "<matplotlib.axes._subplots.AxesSubplot at 0xb408fafa88>"
      ]
     },
     "execution_count": 343,
     "metadata": {},
     "output_type": "execute_result"
    },
    {
     "data": {
      "image/png": "[encoded data removed]",
      "text/plain": [
       "<Figure size 432x288 with 1 Axes>"
      ]
     },
     "metadata": {
      "needs_background": "light"
     },
     "output_type": "display_data"
    }
   ],
   "source": [
    "sns.distplot(df[21])"
   ]
  },
  {
   "cell_type": "code",
   "execution_count": 420,
   "metadata": {},
   "outputs": [
    {
     "data": {
      "text/plain": [
       "<Figure size 720x1080 with 0 Axes>"
      ]
     },
     "execution_count": 420,
     "metadata": {},
     "output_type": "execute_result"
    },
    {
     "data": {
      "image/png": "[encoded data removed]",
      "text/plain": [
       "<Figure size 432x288 with 1 Axes>"
      ]
     },
     "metadata": {
      "needs_background": "light"
     },
     "output_type": "display_data"
    },
    {
     "data": {
      "text/plain": [
       "<Figure size 720x1080 with 0 Axes>"
      ]
     },
     "metadata": {},
     "output_type": "display_data"
    }
   ],
   "source": [
    "df.boxplot()\n",
    "plt.figure(figsize=(10,15))    #shows outliers in the dataset"
   ]
  },
  {
   "cell_type": "code",
   "execution_count": 421,
   "metadata": {},
   "outputs": [],
   "source": [
    "#removing outliers from the dataset"
   ]
  },
  {
   "cell_type": "code",
   "execution_count": 422,
   "metadata": {},
   "outputs": [],
   "source": [
    "from scipy.stats import zscore"
   ]
  },
  {
   "cell_type": "code",
   "execution_count": 423,
   "metadata": {},
   "outputs": [],
   "source": [
    "z=np.abs(zscore(df))"
   ]
  },
  {
   "cell_type": "code",
   "execution_count": 424,
   "metadata": {},
   "outputs": [
    {
     "name": "stdout",
     "output_type": "stream",
     "text": [
      "(array([  13,   14,   18,   22,   23,   24,   25,   44,   50,   50,   53,\n",
      "         59,   75,   86,   90,  194,  344,  375,  394,  494,  519,  544,\n",
      "        569,  575,  594,  616,  661,  670,  674, 1004, 1006, 1016, 1056],\n",
      "      dtype=int64), array([ 3,  3,  3,  3,  3,  3,  6,  6,  5, 22,  5,  5,  1,  1,  1,  6,  6,\n",
      "        6,  6,  6,  6,  6,  6,  6,  6,  7,  3,  3,  3,  7,  7,  7,  7],\n",
      "      dtype=int64))\n"
     ]
    }
   ],
   "source": [
    "threshold=3\n",
    "print(np.where(z>3))"
   ]
  },
  {
   "cell_type": "code",
   "execution_count": 425,
   "metadata": {},
   "outputs": [],
   "source": [
    "df_new=df[(z<3).all(axis=1)]"
   ]
  },
  {
   "cell_type": "code",
   "execution_count": 426,
   "metadata": {},
   "outputs": [
    {
     "data": {
      "text/plain": [
       "(1142, 23)"
      ]
     },
     "execution_count": 426,
     "metadata": {},
     "output_type": "execute_result"
    }
   ],
   "source": [
    "df_new.shape   #shape of the dataset after removing outliers"
   ]
  },
  {
   "cell_type": "code",
   "execution_count": 427,
   "metadata": {},
   "outputs": [
    {
     "data": {
      "text/plain": [
       "(1174, 23)"
      ]
     },
     "execution_count": 427,
     "metadata": {},
     "output_type": "execute_result"
    }
   ],
   "source": [
    "df.shape   #original shape of the dataset"
   ]
  },
  {
   "cell_type": "code",
   "execution_count": 428,
   "metadata": {},
   "outputs": [],
   "source": [
    "#splitting the dataset in x and y "
   ]
  },
  {
   "cell_type": "code",
   "execution_count": 429,
   "metadata": {},
   "outputs": [],
   "source": [
    "x=df.drop(24,axis=1)"
   ]
  },
  {
   "cell_type": "code",
   "execution_count": 430,
   "metadata": {},
   "outputs": [],
   "source": [
    "y=df[24].values\n",
    "y=y.reshape(-1,1)"
   ]
  },
  {
   "cell_type": "code",
   "execution_count": 431,
   "metadata": {},
   "outputs": [
    {
     "data": {
      "text/plain": [
       "(1174, 22)"
      ]
     },
     "execution_count": 431,
     "metadata": {},
     "output_type": "execute_result"
    }
   ],
   "source": [
    "x.shape"
   ]
  },
  {
   "cell_type": "code",
   "execution_count": 432,
   "metadata": {},
   "outputs": [
    {
     "data": {
      "text/plain": [
       "(1174, 1)"
      ]
     },
     "execution_count": 432,
     "metadata": {},
     "output_type": "execute_result"
    }
   ],
   "source": [
    "y.shape"
   ]
  },
  {
   "cell_type": "code",
   "execution_count": 433,
   "metadata": {},
   "outputs": [],
   "source": [
    "#now we reduce the dimension of the dataset using dimensionality reduction technique(pca)"
   ]
  },
  {
   "cell_type": "code",
   "execution_count": 434,
   "metadata": {},
   "outputs": [],
   "source": [
    "from sklearn.decomposition import PCA"
   ]
  },
  {
   "cell_type": "code",
   "execution_count": 435,
   "metadata": {},
   "outputs": [],
   "source": [
    "pca=PCA(n_components=9)"
   ]
  },
  {
   "cell_type": "code",
   "execution_count": 436,
   "metadata": {},
   "outputs": [
    {
     "data": {
      "text/html": [
       "<div>\n",
       "<style scoped>\n",
       "    .dataframe tbody tr th:only-of-type {\n",
       "        vertical-align: middle;\n",
       "    }\n",
       "\n",
       "    .dataframe tbody tr th {\n",
       "        vertical-align: top;\n",
       "    }\n",
       "\n",
       "    .dataframe thead th {\n",
       "        text-align: right;\n",
       "    }\n",
       "</style>\n",
       "<table border=\"1\" class=\"dataframe\">\n",
       "  <thead>\n",
       "    <tr style=\"text-align: right;\">\n",
       "      <th></th>\n",
       "      <th>0</th>\n",
       "      <th>1</th>\n",
       "      <th>2</th>\n",
       "      <th>3</th>\n",
       "      <th>4</th>\n",
       "      <th>5</th>\n",
       "      <th>6</th>\n",
       "      <th>7</th>\n",
       "      <th>8</th>\n",
       "    </tr>\n",
       "  </thead>\n",
       "  <tbody>\n",
       "    <tr>\n",
       "      <th>0</th>\n",
       "      <td>-451.219153</td>\n",
       "      <td>24.710309</td>\n",
       "      <td>14.196015</td>\n",
       "      <td>2.068167</td>\n",
       "      <td>-1.228815</td>\n",
       "      <td>0.165035</td>\n",
       "      <td>1.550188</td>\n",
       "      <td>0.794460</td>\n",
       "      <td>-0.868394</td>\n",
       "    </tr>\n",
       "    <tr>\n",
       "      <th>1</th>\n",
       "      <td>-327.925214</td>\n",
       "      <td>4.754877</td>\n",
       "      <td>19.039146</td>\n",
       "      <td>1.085001</td>\n",
       "      <td>-2.264812</td>\n",
       "      <td>2.939161</td>\n",
       "      <td>0.809841</td>\n",
       "      <td>1.927395</td>\n",
       "      <td>-0.214706</td>\n",
       "    </tr>\n",
       "    <tr>\n",
       "      <th>2</th>\n",
       "      <td>-322.755147</td>\n",
       "      <td>-26.744759</td>\n",
       "      <td>25.291680</td>\n",
       "      <td>4.794887</td>\n",
       "      <td>-1.212568</td>\n",
       "      <td>1.784348</td>\n",
       "      <td>-0.523924</td>\n",
       "      <td>0.999882</td>\n",
       "      <td>-0.866170</td>\n",
       "    </tr>\n",
       "    <tr>\n",
       "      <th>3</th>\n",
       "      <td>-315.412311</td>\n",
       "      <td>18.150101</td>\n",
       "      <td>11.293817</td>\n",
       "      <td>-2.243573</td>\n",
       "      <td>-3.145827</td>\n",
       "      <td>5.439239</td>\n",
       "      <td>0.008306</td>\n",
       "      <td>0.716744</td>\n",
       "      <td>-1.469191</td>\n",
       "    </tr>\n",
       "    <tr>\n",
       "      <th>4</th>\n",
       "      <td>-316.997705</td>\n",
       "      <td>60.117683</td>\n",
       "      <td>12.226835</td>\n",
       "      <td>5.199109</td>\n",
       "      <td>-2.275422</td>\n",
       "      <td>1.467591</td>\n",
       "      <td>0.513076</td>\n",
       "      <td>0.720934</td>\n",
       "      <td>-0.180484</td>\n",
       "    </tr>\n",
       "  </tbody>\n",
       "</table>\n",
       "</div>"
      ],
      "text/plain": [
       "            0          1          2         3         4         5         6  \\\n",
       "0 -451.219153  24.710309  14.196015  2.068167 -1.228815  0.165035  1.550188   \n",
       "1 -327.925214   4.754877  19.039146  1.085001 -2.264812  2.939161  0.809841   \n",
       "2 -322.755147 -26.744759  25.291680  4.794887 -1.212568  1.784348 -0.523924   \n",
       "3 -315.412311  18.150101  11.293817 -2.243573 -3.145827  5.439239  0.008306   \n",
       "4 -316.997705  60.117683  12.226835  5.199109 -2.275422  1.467591  0.513076   \n",
       "\n",
       "          7         8  \n",
       "0  0.794460 -0.868394  \n",
       "1  1.927395 -0.214706  \n",
       "2  0.999882 -0.866170  \n",
       "3  0.716744 -1.469191  \n",
       "4  0.720934 -0.180484  "
      ]
     },
     "execution_count": 436,
     "metadata": {},
     "output_type": "execute_result"
    }
   ],
   "source": [
    "x=pca.fit_transform(x)\n",
    "x=pd.DataFrame(data=x)\n",
    "x.head()"
   ]
  },
  {
   "cell_type": "code",
   "execution_count": 437,
   "metadata": {},
   "outputs": [],
   "source": [
    "#now we will use scaling technique to standardize the dataset"
   ]
  },
  {
   "cell_type": "code",
   "execution_count": 438,
   "metadata": {},
   "outputs": [],
   "source": [
    "from sklearn.preprocessing import StandardScaler"
   ]
  },
  {
   "cell_type": "code",
   "execution_count": 439,
   "metadata": {},
   "outputs": [],
   "source": [
    "std=StandardScaler()"
   ]
  },
  {
   "cell_type": "code",
   "execution_count": 440,
   "metadata": {},
   "outputs": [
    {
     "data": {
      "text/html": [
       "<div>\n",
       "<style scoped>\n",
       "    .dataframe tbody tr th:only-of-type {\n",
       "        vertical-align: middle;\n",
       "    }\n",
       "\n",
       "    .dataframe tbody tr th {\n",
       "        vertical-align: top;\n",
       "    }\n",
       "\n",
       "    .dataframe thead th {\n",
       "        text-align: right;\n",
       "    }\n",
       "</style>\n",
       "<table border=\"1\" class=\"dataframe\">\n",
       "  <thead>\n",
       "    <tr style=\"text-align: right;\">\n",
       "      <th></th>\n",
       "      <th>0</th>\n",
       "      <th>1</th>\n",
       "      <th>2</th>\n",
       "      <th>3</th>\n",
       "      <th>4</th>\n",
       "      <th>5</th>\n",
       "      <th>6</th>\n",
       "      <th>7</th>\n",
       "      <th>8</th>\n",
       "    </tr>\n",
       "  </thead>\n",
       "  <tbody>\n",
       "    <tr>\n",
       "      <th>0</th>\n",
       "      <td>-1.672406</td>\n",
       "      <td>0.856783</td>\n",
       "      <td>1.114309</td>\n",
       "      <td>0.539200</td>\n",
       "      <td>-0.616635</td>\n",
       "      <td>0.089433</td>\n",
       "      <td>1.140436</td>\n",
       "      <td>0.594989</td>\n",
       "      <td>-0.846405</td>\n",
       "    </tr>\n",
       "    <tr>\n",
       "      <th>1</th>\n",
       "      <td>-1.215427</td>\n",
       "      <td>0.164866</td>\n",
       "      <td>1.494467</td>\n",
       "      <td>0.282875</td>\n",
       "      <td>-1.136512</td>\n",
       "      <td>1.592735</td>\n",
       "      <td>0.595781</td>\n",
       "      <td>1.443470</td>\n",
       "      <td>-0.209270</td>\n",
       "    </tr>\n",
       "    <tr>\n",
       "      <th>2</th>\n",
       "      <td>-1.196265</td>\n",
       "      <td>-0.927324</td>\n",
       "      <td>1.985257</td>\n",
       "      <td>1.250095</td>\n",
       "      <td>-0.608482</td>\n",
       "      <td>0.966941</td>\n",
       "      <td>-0.385438</td>\n",
       "      <td>0.748834</td>\n",
       "      <td>-0.844238</td>\n",
       "    </tr>\n",
       "    <tr>\n",
       "      <th>3</th>\n",
       "      <td>-1.169049</td>\n",
       "      <td>0.629320</td>\n",
       "      <td>0.886502</td>\n",
       "      <td>-0.584931</td>\n",
       "      <td>-1.578617</td>\n",
       "      <td>2.947531</td>\n",
       "      <td>0.006110</td>\n",
       "      <td>0.536786</td>\n",
       "      <td>-1.431990</td>\n",
       "    </tr>\n",
       "    <tr>\n",
       "      <th>4</th>\n",
       "      <td>-1.174925</td>\n",
       "      <td>2.084467</td>\n",
       "      <td>0.959739</td>\n",
       "      <td>1.355481</td>\n",
       "      <td>-1.141836</td>\n",
       "      <td>0.795289</td>\n",
       "      <td>0.377458</td>\n",
       "      <td>0.539924</td>\n",
       "      <td>-0.175914</td>\n",
       "    </tr>\n",
       "  </tbody>\n",
       "</table>\n",
       "</div>"
      ],
      "text/plain": [
       "          0         1         2         3         4         5         6  \\\n",
       "0 -1.672406  0.856783  1.114309  0.539200 -0.616635  0.089433  1.140436   \n",
       "1 -1.215427  0.164866  1.494467  0.282875 -1.136512  1.592735  0.595781   \n",
       "2 -1.196265 -0.927324  1.985257  1.250095 -0.608482  0.966941 -0.385438   \n",
       "3 -1.169049  0.629320  0.886502 -0.584931 -1.578617  2.947531  0.006110   \n",
       "4 -1.174925  2.084467  0.959739  1.355481 -1.141836  0.795289  0.377458   \n",
       "\n",
       "          7         8  \n",
       "0  0.594989 -0.846405  \n",
       "1  1.443470 -0.209270  \n",
       "2  0.748834 -0.844238  \n",
       "3  0.536786 -1.431990  \n",
       "4  0.539924 -0.175914  "
      ]
     },
     "execution_count": 440,
     "metadata": {},
     "output_type": "execute_result"
    }
   ],
   "source": [
    "x=std.fit_transform(x)\n",
    "x=pd.DataFrame(data=x)\n",
    "x.head()"
   ]
  },
  {
   "cell_type": "code",
   "execution_count": 441,
   "metadata": {},
   "outputs": [
    {
     "data": {
      "text/html": [
       "<div>\n",
       "<style scoped>\n",
       "    .dataframe tbody tr th:only-of-type {\n",
       "        vertical-align: middle;\n",
       "    }\n",
       "\n",
       "    .dataframe tbody tr th {\n",
       "        vertical-align: top;\n",
       "    }\n",
       "\n",
       "    .dataframe thead th {\n",
       "        text-align: right;\n",
       "    }\n",
       "</style>\n",
       "<table border=\"1\" class=\"dataframe\">\n",
       "  <thead>\n",
       "    <tr style=\"text-align: right;\">\n",
       "      <th></th>\n",
       "      <th>0</th>\n",
       "    </tr>\n",
       "  </thead>\n",
       "  <tbody>\n",
       "    <tr>\n",
       "      <th>0</th>\n",
       "      <td>-1.535534</td>\n",
       "    </tr>\n",
       "    <tr>\n",
       "      <th>1</th>\n",
       "      <td>-0.790302</td>\n",
       "    </tr>\n",
       "    <tr>\n",
       "      <th>2</th>\n",
       "      <td>0.012256</td>\n",
       "    </tr>\n",
       "    <tr>\n",
       "      <th>3</th>\n",
       "      <td>0.241558</td>\n",
       "    </tr>\n",
       "    <tr>\n",
       "      <th>4</th>\n",
       "      <td>-0.790302</td>\n",
       "    </tr>\n",
       "    <tr>\n",
       "      <th>...</th>\n",
       "      <td>...</td>\n",
       "    </tr>\n",
       "    <tr>\n",
       "      <th>1169</th>\n",
       "      <td>1.674697</td>\n",
       "    </tr>\n",
       "    <tr>\n",
       "      <th>1170</th>\n",
       "      <td>1.732023</td>\n",
       "    </tr>\n",
       "    <tr>\n",
       "      <th>1171</th>\n",
       "      <td>1.846674</td>\n",
       "    </tr>\n",
       "    <tr>\n",
       "      <th>1172</th>\n",
       "      <td>1.904000</td>\n",
       "    </tr>\n",
       "    <tr>\n",
       "      <th>1173</th>\n",
       "      <td>1.961325</td>\n",
       "    </tr>\n",
       "  </tbody>\n",
       "</table>\n",
       "<p>1174 rows × 1 columns</p>\n",
       "</div>"
      ],
      "text/plain": [
       "             0\n",
       "0    -1.535534\n",
       "1    -0.790302\n",
       "2     0.012256\n",
       "3     0.241558\n",
       "4    -0.790302\n",
       "...        ...\n",
       "1169  1.674697\n",
       "1170  1.732023\n",
       "1171  1.846674\n",
       "1172  1.904000\n",
       "1173  1.961325\n",
       "\n",
       "[1174 rows x 1 columns]"
      ]
     },
     "execution_count": 441,
     "metadata": {},
     "output_type": "execute_result"
    }
   ],
   "source": [
    "y=std.fit_transform(y)\n",
    "y=pd.DataFrame(data=y)\n",
    "y"
   ]
  },
  {
   "cell_type": "markdown",
   "metadata": {},
   "source": [
    "# Now with the help of linear regression we will build our model and check the accuracy for the prdiction of Tmin given Tmax"
   ]
  },
  {
   "cell_type": "code",
   "execution_count": 442,
   "metadata": {},
   "outputs": [],
   "source": [
    "#importing all required libraries"
   ]
  },
  {
   "cell_type": "code",
   "execution_count": 443,
   "metadata": {},
   "outputs": [],
   "source": [
    "from sklearn.linear_model import LinearRegression\n",
    "from sklearn.model_selection import train_test_split\n",
    "from sklearn.metrics import r2_score,mean_absolute_error,mean_squared_error"
   ]
  },
  {
   "cell_type": "code",
   "execution_count": 444,
   "metadata": {},
   "outputs": [
    {
     "name": "stdout",
     "output_type": "stream",
     "text": [
      "the r2 score corrosponding to the random state 42 is: 0.689794579602834\n",
      "the r2 score corrosponding to the random state 43 is: 0.7290293425946694\n",
      "the r2 score corrosponding to the random state 44 is: 0.6938931888265496\n",
      "the r2 score corrosponding to the random state 45 is: 0.7171681238097352\n",
      "the r2 score corrosponding to the random state 46 is: 0.7006584329154868\n",
      "the r2 score corrosponding to the random state 47 is: 0.6663058429128048\n",
      "the r2 score corrosponding to the random state 48 is: 0.743869526774543\n",
      "the r2 score corrosponding to the random state 49 is: 0.6838862414789111\n",
      "the r2 score corrosponding to the random state 50 is: 0.6572563777001175\n",
      "the r2 score corrosponding to the random state 51 is: 0.704929955753886\n",
      "the r2 score corrosponding to the random state 52 is: 0.697729834713597\n",
      "the r2 score corrosponding to the random state 53 is: 0.698616306547083\n",
      "the r2 score corrosponding to the random state 54 is: 0.6904393905860564\n",
      "the r2 score corrosponding to the random state 55 is: 0.6138702635208981\n",
      "the r2 score corrosponding to the random state 56 is: 0.7021563499165902\n",
      "the r2 score corrosponding to the random state 57 is: 0.7105161516235692\n",
      "the r2 score corrosponding to the random state 58 is: 0.7001602689126596\n",
      "the r2 score corrosponding to the random state 59 is: 0.7200876567579888\n",
      "the r2 score corrosponding to the random state 60 is: 0.6933060973096163\n",
      "the r2 score corrosponding to the random state 61 is: 0.663942715653117\n",
      "the r2 score corrosponding to the random state 62 is: 0.7259945902136945\n",
      "the r2 score corrosponding to the random state 63 is: 0.7063791354047265\n",
      "the r2 score corrosponding to the random state 64 is: 0.7702128113615779\n",
      "the r2 score corrosponding to the random state 65 is: 0.7219095066280594\n",
      "the r2 score corrosponding to the random state 66 is: 0.7184385626104817\n",
      "the r2 score corrosponding to the random state 67 is: 0.7251803226891106\n",
      "the r2 score corrosponding to the random state 68 is: 0.7487873733232693\n",
      "the r2 score corrosponding to the random state 69 is: 0.7044629040424262\n",
      "the r2 score corrosponding to the random state 70 is: 0.7131363674802934\n",
      "the r2 score corrosponding to the random state 71 is: 0.7417056633187262\n",
      "the r2 score corrosponding to the random state 72 is: 0.7138915968113221\n",
      "the r2 score corrosponding to the random state 73 is: 0.7190698526306876\n",
      "the r2 score corrosponding to the random state 74 is: 0.7011974845093417\n",
      "the r2 score corrosponding to the random state 75 is: 0.725692375101779\n",
      "the r2 score corrosponding to the random state 76 is: 0.7165095086253801\n",
      "the r2 score corrosponding to the random state 77 is: 0.7100884620574164\n",
      "the r2 score corrosponding to the random state 78 is: 0.7703133174974661\n",
      "the r2 score corrosponding to the random state 79 is: 0.6635424215139492\n",
      "the r2 score corrosponding to the random state 80 is: 0.7129211979192047\n",
      "the r2 score corrosponding to the random state 81 is: 0.7119006428960597\n",
      "the r2 score corrosponding to the random state 82 is: 0.7507773497673701\n",
      "the r2 score corrosponding to the random state 83 is: 0.7162578895486573\n",
      "the r2 score corrosponding to the random state 84 is: 0.6889648568861354\n",
      "the r2 score corrosponding to the random state 85 is: 0.729926200377582\n",
      "the r2 score corrosponding to the random state 86 is: 0.7325736589223829\n",
      "the r2 score corrosponding to the random state 87 is: 0.6463344374199759\n",
      "the r2 score corrosponding to the random state 88 is: 0.7101931673277047\n",
      "the r2 score corrosponding to the random state 89 is: 0.6604249559711632\n",
      "the r2 score corrosponding to the random state 90 is: 0.7211523326598135\n",
      "the r2 score corrosponding to the random state 91 is: 0.7359978617395415\n",
      "the r2 score corrosponding to the random state 92 is: 0.7320183729297611\n",
      "the r2 score corrosponding to the random state 93 is: 0.6952869754905487\n",
      "the r2 score corrosponding to the random state 94 is: 0.6391464608341294\n",
      "the r2 score corrosponding to the random state 95 is: 0.7246579809861518\n",
      "the r2 score corrosponding to the random state 96 is: 0.7118210628091235\n",
      "the r2 score corrosponding to the random state 97 is: 0.6794406465736763\n",
      "the r2 score corrosponding to the random state 98 is: 0.7232893117512358\n",
      "the r2 score corrosponding to the random state 99 is: 0.6867298693192709\n",
      "\n",
      "\n",
      "maximum r2 score for the random state 78 is: 0.7703133174974661\n"
     ]
    }
   ],
   "source": [
    "max_r2_scr=0\n",
    "for r_state in range(42,100):\n",
    "    x_train,x_test,y_train,y_test=train_test_split(x,y,random_state=r_state,test_size=0.30)\n",
    "    lr=LinearRegression(normalize=True)\n",
    "    lr.fit(x_train,y_train)\n",
    "    pred=lr.predict(x_test)\n",
    "    r2_scr=r2_score(y_test,pred)\n",
    "    print(\"the r2 score corrosponding to the random state\",r_state,\"is:\",r2_scr)\n",
    "    if r2_scr>max_r2_scr:\n",
    "        max_r2_scr=r2_scr\n",
    "        final_r_state=r_state\n",
    "\n",
    "print()\n",
    "print()\n",
    "print(\"maximum r2 score for the random state\",final_r_state,\"is:\",max_r2_scr)"
   ]
  },
  {
   "cell_type": "markdown",
   "metadata": {},
   "source": [
    "From the above we can see that we are getting almost 77% accuracy result from the linear regressor model, we will check with other regressor model also."
   ]
  },
  {
   "cell_type": "code",
   "execution_count": 369,
   "metadata": {},
   "outputs": [
    {
     "data": {
      "text/plain": [
       "array([0.01418915])"
      ]
     },
     "execution_count": 369,
     "metadata": {},
     "output_type": "execute_result"
    }
   ],
   "source": [
    "lr.intercept_"
   ]
  },
  {
   "cell_type": "code",
   "execution_count": 370,
   "metadata": {},
   "outputs": [
    {
     "data": {
      "text/plain": [
       "array([[ 0.68313083, -0.18866601, -0.13006443,  0.14758338,  0.07698519,\n",
       "         0.26224891, -0.25761682, -0.19900897,  0.07729347]])"
      ]
     },
     "execution_count": 370,
     "metadata": {},
     "output_type": "execute_result"
    }
   ],
   "source": [
    "lr.coef_"
   ]
  },
  {
   "cell_type": "code",
   "execution_count": 371,
   "metadata": {},
   "outputs": [
    {
     "name": "stdout",
     "output_type": "stream",
     "text": [
      "0.6424768344698905\n"
     ]
    }
   ],
   "source": [
    "from math import sqrt\n",
    "print(sqrt(mean_absolute_error(y_test,pred)))   #rms error"
   ]
  },
  {
   "cell_type": "code",
   "execution_count": 372,
   "metadata": {},
   "outputs": [
    {
     "name": "stdout",
     "output_type": "stream",
     "text": [
      "0.41277648283045104\n"
     ]
    }
   ],
   "source": [
    "print(mean_absolute_error(y_test,pred))"
   ]
  },
  {
   "cell_type": "code",
   "execution_count": 373,
   "metadata": {},
   "outputs": [],
   "source": [
    "#as the coefficients are near to zero so we will not perform any regularisation techniques."
   ]
  },
  {
   "cell_type": "code",
   "execution_count": 398,
   "metadata": {},
   "outputs": [],
   "source": [
    "#using cross valid score to check the accuracy"
   ]
  },
  {
   "cell_type": "code",
   "execution_count": 375,
   "metadata": {},
   "outputs": [],
   "source": [
    "from sklearn.model_selection import cross_val_score"
   ]
  },
  {
   "cell_type": "code",
   "execution_count": 376,
   "metadata": {},
   "outputs": [
    {
     "data": {
      "text/plain": [
       "array([-0.23957442, -0.45883231,  0.60213505, -0.09582517,  0.52108582])"
      ]
     },
     "execution_count": 376,
     "metadata": {},
     "output_type": "execute_result"
    }
   ],
   "source": [
    "score=cross_val_score(lr,x,y,cv=5)\n",
    "score"
   ]
  },
  {
   "cell_type": "code",
   "execution_count": 377,
   "metadata": {},
   "outputs": [],
   "source": [
    "#using other regressor models will check the accuracy score"
   ]
  },
  {
   "cell_type": "code",
   "execution_count": 378,
   "metadata": {},
   "outputs": [],
   "source": [
    "#importing libraries\n",
    "from sklearn.tree import DecisionTreeRegressor\n",
    "from sklearn.svm import SVR\n",
    "from sklearn.neighbors import KNeighborsRegressor"
   ]
  },
  {
   "cell_type": "code",
   "execution_count": 379,
   "metadata": {},
   "outputs": [],
   "source": [
    "model=[KNeighborsRegressor(),SVR(),DecisionTreeRegressor()]"
   ]
  },
  {
   "cell_type": "code",
   "execution_count": 476,
   "metadata": {},
   "outputs": [
    {
     "name": "stdout",
     "output_type": "stream",
     "text": [
      "KNeighborsRegressor(algorithm='auto', leaf_size=30, metric='minkowski',\n",
      "                    metric_params=None, n_jobs=None, n_neighbors=5, p=2,\n",
      "                    weights='uniform') score 0.8572369817364864\n",
      "KNeighborsRegressor(algorithm='auto', leaf_size=30, metric='minkowski',\n",
      "                    metric_params=None, n_jobs=None, n_neighbors=5, p=2,\n",
      "                    weights='uniform') abs error 0.29726353946993017\n",
      "KNeighborsRegressor(algorithm='auto', leaf_size=30, metric='minkowski',\n",
      "                    metric_params=None, n_jobs=None, n_neighbors=5, p=2,\n",
      "                    weights='uniform') sq error 0.15714509410312436\n",
      "SVR(C=1.0, cache_size=200, coef0=0.0, degree=3, epsilon=0.1, gamma='scale',\n",
      "    kernel='rbf', max_iter=-1, shrinking=True, tol=0.001, verbose=False) score 0.9131355723062005\n",
      "SVR(C=1.0, cache_size=200, coef0=0.0, degree=3, epsilon=0.1, gamma='scale',\n",
      "    kernel='rbf', max_iter=-1, shrinking=True, tol=0.001, verbose=False) abs error 0.24419799769837572\n",
      "SVR(C=1.0, cache_size=200, coef0=0.0, degree=3, epsilon=0.1, gamma='scale',\n",
      "    kernel='rbf', max_iter=-1, shrinking=True, tol=0.001, verbose=False) sq error 0.0956152288610224\n",
      "DecisionTreeRegressor(ccp_alpha=0.0, criterion='mse', max_depth=None,\n",
      "                      max_features=None, max_leaf_nodes=None,\n",
      "                      min_impurity_decrease=0.0, min_impurity_split=None,\n",
      "                      min_samples_leaf=1, min_samples_split=2,\n",
      "                      min_weight_fraction_leaf=0.0, presort='deprecated',\n",
      "                      random_state=None, splitter='best') score 0.7369236220139568\n",
      "DecisionTreeRegressor(ccp_alpha=0.0, criterion='mse', max_depth=None,\n",
      "                      max_features=None, max_leaf_nodes=None,\n",
      "                      min_impurity_decrease=0.0, min_impurity_split=None,\n",
      "                      min_samples_leaf=1, min_samples_split=2,\n",
      "                      min_weight_fraction_leaf=0.0, presort='deprecated',\n",
      "                      random_state=None, splitter='best') abs error 0.3976198665156624\n",
      "DecisionTreeRegressor(ccp_alpha=0.0, criterion='mse', max_depth=None,\n",
      "                      max_features=None, max_leaf_nodes=None,\n",
      "                      min_impurity_decrease=0.0, min_impurity_split=None,\n",
      "                      min_samples_leaf=1, min_samples_split=2,\n",
      "                      min_weight_fraction_leaf=0.0, presort='deprecated',\n",
      "                      random_state=None, splitter='best') sq error 0.28957893071872365\n"
     ]
    }
   ],
   "source": [
    "x_train,x_test,y_train,y_test=train_test_split(x,y,random_state=78,test_size=0.20)\n",
    "for i in model:\n",
    "    i.fit(x_train,y_train)\n",
    "    pred=i.predict(x_test)\n",
    "    print(i,\"score\",r2_score(y_test,pred))\n",
    "    print(i,\"abs error\",mean_absolute_error(y_test,pred))\n",
    "    print(i,\"sq error\",mean_squared_error(y_test,pred))"
   ]
  },
  {
   "cell_type": "code",
   "execution_count": 477,
   "metadata": {},
   "outputs": [],
   "source": [
    "# from the above SVR is giving a max of 91% accuracy score..will try to improve the score"
   ]
  },
  {
   "cell_type": "code",
   "execution_count": 478,
   "metadata": {},
   "outputs": [],
   "source": [
    "#using grid search cv we will find the best hyper parameter for SVR\n",
    "from sklearn.model_selection import GridSearchCV"
   ]
  },
  {
   "cell_type": "code",
   "execution_count": 479,
   "metadata": {},
   "outputs": [],
   "source": [
    "params={'kernel':('rbf','poly','linear'),'C':[0,1,10]}"
   ]
  },
  {
   "cell_type": "code",
   "execution_count": 480,
   "metadata": {},
   "outputs": [],
   "source": [
    "gd=GridSearchCV(estimator=SVR(),param_grid=params)"
   ]
  },
  {
   "cell_type": "code",
   "execution_count": 481,
   "metadata": {},
   "outputs": [
    {
     "data": {
      "text/plain": [
       "GridSearchCV(cv=None, error_score=nan,\n",
       "             estimator=SVR(C=1.0, cache_size=200, coef0=0.0, degree=3,\n",
       "                           epsilon=0.1, gamma='scale', kernel='rbf',\n",
       "                           max_iter=-1, shrinking=True, tol=0.001,\n",
       "                           verbose=False),\n",
       "             iid='deprecated', n_jobs=None,\n",
       "             param_grid={'C': [0, 1, 10], 'kernel': ('rbf', 'poly', 'linear')},\n",
       "             pre_dispatch='2*n_jobs', refit=True, return_train_score=False,\n",
       "             scoring=None, verbose=0)"
      ]
     },
     "execution_count": 481,
     "metadata": {},
     "output_type": "execute_result"
    }
   ],
   "source": [
    "gd.fit(x,y)"
   ]
  },
  {
   "cell_type": "code",
   "execution_count": 482,
   "metadata": {},
   "outputs": [
    {
     "data": {
      "text/plain": [
       "SVR(C=10, cache_size=200, coef0=0.0, degree=3, epsilon=0.1, gamma='scale',\n",
       "    kernel='linear', max_iter=-1, shrinking=True, tol=0.001, verbose=False)"
      ]
     },
     "execution_count": 482,
     "metadata": {},
     "output_type": "execute_result"
    }
   ],
   "source": [
    "gd.best_estimator_"
   ]
  },
  {
   "cell_type": "code",
   "execution_count": 483,
   "metadata": {},
   "outputs": [
    {
     "data": {
      "text/plain": [
       "{'C': 10, 'kernel': 'linear'}"
      ]
     },
     "execution_count": 483,
     "metadata": {},
     "output_type": "execute_result"
    }
   ],
   "source": [
    "gd.best_params_"
   ]
  },
  {
   "cell_type": "code",
   "execution_count": 484,
   "metadata": {},
   "outputs": [
    {
     "data": {
      "text/plain": [
       "0.2061950969239533"
      ]
     },
     "execution_count": 484,
     "metadata": {},
     "output_type": "execute_result"
    }
   ],
   "source": [
    "gd.best_score_"
   ]
  },
  {
   "cell_type": "code",
   "execution_count": 485,
   "metadata": {},
   "outputs": [],
   "source": [
    "#find r2 scores at different n_neighbors for KNN"
   ]
  },
  {
   "cell_type": "code",
   "execution_count": 486,
   "metadata": {},
   "outputs": [
    {
     "name": "stdout",
     "output_type": "stream",
     "text": [
      "r2 score at neighbor 2 is: 0.8482051331675566\n",
      "r2 score at neighbor 3 is: 0.8636949526352333\n",
      "r2 score at neighbor 4 is: 0.859746802541727\n",
      "r2 score at neighbor 5 is: 0.8572369817364864\n",
      "r2 score at neighbor 6 is: 0.8472537376856033\n",
      "r2 score at neighbor 7 is: 0.8454126955321967\n",
      "r2 score at neighbor 8 is: 0.8411007656162778\n",
      "r2 score at neighbor 9 is: 0.838929811421844\n",
      "r2 score at neighbor 10 is: 0.8357377164655978\n",
      "r2 score at neighbor 11 is: 0.8280527128927205\n",
      "r2 score at neighbor 12 is: 0.8271522438829728\n",
      "r2 score at neighbor 13 is: 0.8214012614308353\n",
      "r2 score at neighbor 14 is: 0.8190357556046354\n",
      "r2 score at neighbor 15 is: 0.8136460734084237\n",
      "r2 score at neighbor 16 is: 0.811148382807355\n",
      "r2 score at neighbor 17 is: 0.8055388291895698\n",
      "r2 score at neighbor 18 is: 0.7976524064369774\n",
      "r2 score at neighbor 19 is: 0.7935474228457596\n",
      "r2 score at neighbor 20 is: 0.7895775498170773\n",
      "r2 score at neighbor 21 is: 0.7857846333092093\n"
     ]
    }
   ],
   "source": [
    "for i in range(2,22):\n",
    "    knn=KNeighborsRegressor(n_neighbors=i)\n",
    "    knn.fit(x_train,y_train)\n",
    "    pred=knn.predict(x_test)\n",
    "    print(\"r2 score at neighbor\",i,\"is:\",r2_score(y_test,pred))"
   ]
  },
  {
   "cell_type": "code",
   "execution_count": 487,
   "metadata": {},
   "outputs": [],
   "source": [
    "#knn is giving the max r2 score i.e 81% at n_neighbors=6 "
   ]
  },
  {
   "cell_type": "code",
   "execution_count": 488,
   "metadata": {},
   "outputs": [],
   "source": [
    "from sklearn.ensemble import AdaBoostRegressor,RandomForestRegressor,GradientBoostingRegressor"
   ]
  },
  {
   "cell_type": "code",
   "execution_count": 489,
   "metadata": {},
   "outputs": [],
   "source": [
    "model=[KNeighborsRegressor(),SVR(),DecisionTreeRegressor()]"
   ]
  },
  {
   "cell_type": "code",
   "execution_count": 490,
   "metadata": {},
   "outputs": [
    {
     "name": "stdout",
     "output_type": "stream",
     "text": [
      "r2 score for model KNeighborsRegressor(algorithm='auto', leaf_size=30, metric='minkowski',\n",
      "                    metric_params=None, n_jobs=None, n_neighbors=5, p=2,\n",
      "                    weights='uniform') is: 0.8677290388666348\n",
      "r2 score for model SVR(C=1.0, cache_size=200, coef0=0.0, degree=3, epsilon=0.1, gamma='scale',\n",
      "    kernel='rbf', max_iter=-1, shrinking=True, tol=0.001, verbose=False) is: 0.9153227368007757\n",
      "r2 score for model DecisionTreeRegressor(ccp_alpha=0.0, criterion='mse', max_depth=None,\n",
      "                      max_features=None, max_leaf_nodes=None,\n",
      "                      min_impurity_decrease=0.0, min_impurity_split=None,\n",
      "                      min_samples_leaf=1, min_samples_split=2,\n",
      "                      min_weight_fraction_leaf=0.0, presort='deprecated',\n",
      "                      random_state=None, splitter='best') is: 0.8888010654572225\n"
     ]
    }
   ],
   "source": [
    "for i in model:\n",
    "    a=AdaBoostRegressor(base_estimator=i,n_estimators=150,learning_rate=0.01)\n",
    "    a.fit(x_train,y_train)\n",
    "    predad=a.predict(x_test)\n",
    "    print(\"r2 score for model\",i,\"is:\",r2_score(y_test,predad))"
   ]
  },
  {
   "cell_type": "code",
   "execution_count": 458,
   "metadata": {},
   "outputs": [
    {
     "name": "stdout",
     "output_type": "stream",
     "text": [
      "r2 score at lerning rate 0.1 is: 0.8225933931453927\n",
      "r2 score at lerning rate 0.01 is: 0.6054463413764494\n",
      "r2 score at lerning rate 1.0 is: 0.615153974529037\n"
     ]
    }
   ],
   "source": [
    "l=[0.1,0.01,1.0]\n",
    "for i in l:\n",
    "    gd=GradientBoostingRegressor(learning_rate=i)\n",
    "    gd.fit(x_train,y_train)\n",
    "    predgd=gd.predict(x_test)\n",
    "    print(\"r2 score at lerning rate\",i,\"is:\",r2_score(y_test,predgd))"
   ]
  },
  {
   "cell_type": "code",
   "execution_count": 459,
   "metadata": {},
   "outputs": [
    {
     "name": "stdout",
     "output_type": "stream",
     "text": [
      "r2 score at 150 is: 0.8297484250222488\n",
      "r2 score at 200 is: 0.8338886598334475\n",
      "r2 score at 250 is: 0.832587431268698\n",
      "r2 score at 300 is: 0.8328188217221333\n",
      "r2 score at 350 is: 0.8304584882122643\n"
     ]
    }
   ],
   "source": [
    "a=[150,200,250,300,350]\n",
    "for i in a:\n",
    "    rd=RandomForestRegressor(n_estimators=i)\n",
    "    rd.fit(x_train,y_train)\n",
    "    predrd=rd.predict(x_test)\n",
    "    print('r2 score at',i,'is:',r2_score(y_test,predrd))"
   ]
  },
  {
   "cell_type": "code",
   "execution_count": 494,
   "metadata": {},
   "outputs": [],
   "source": [
    "a1={'model':('Linear regressor model','DecisionTreeRegressor','SVR','KNeighborsRegressor','RandomForestRegressor','GradientBoostingRegressor','AdaBoostRegressor'),'AccuracyScore':['77%','75%','91%','86%','83%','82%','92%']}"
   ]
  },
  {
   "cell_type": "code",
   "execution_count": 495,
   "metadata": {},
   "outputs": [],
   "source": [
    "results=pd.DataFrame(data=a1)"
   ]
  },
  {
   "cell_type": "code",
   "execution_count": 496,
   "metadata": {},
   "outputs": [
    {
     "data": {
      "text/html": [
       "<div>\n",
       "<style scoped>\n",
       "    .dataframe tbody tr th:only-of-type {\n",
       "        vertical-align: middle;\n",
       "    }\n",
       "\n",
       "    .dataframe tbody tr th {\n",
       "        vertical-align: top;\n",
       "    }\n",
       "\n",
       "    .dataframe thead th {\n",
       "        text-align: right;\n",
       "    }\n",
       "</style>\n",
       "<table border=\"1\" class=\"dataframe\">\n",
       "  <thead>\n",
       "    <tr style=\"text-align: right;\">\n",
       "      <th></th>\n",
       "      <th>model</th>\n",
       "      <th>AccuracyScore</th>\n",
       "    </tr>\n",
       "  </thead>\n",
       "  <tbody>\n",
       "    <tr>\n",
       "      <th>0</th>\n",
       "      <td>Linear regressor model</td>\n",
       "      <td>77%</td>\n",
       "    </tr>\n",
       "    <tr>\n",
       "      <th>1</th>\n",
       "      <td>DecisionTreeRegressor</td>\n",
       "      <td>75%</td>\n",
       "    </tr>\n",
       "    <tr>\n",
       "      <th>2</th>\n",
       "      <td>SVR</td>\n",
       "      <td>91%</td>\n",
       "    </tr>\n",
       "    <tr>\n",
       "      <th>3</th>\n",
       "      <td>KNeighborsRegressor</td>\n",
       "      <td>86%</td>\n",
       "    </tr>\n",
       "    <tr>\n",
       "      <th>4</th>\n",
       "      <td>RandomForestRegressor</td>\n",
       "      <td>83%</td>\n",
       "    </tr>\n",
       "    <tr>\n",
       "      <th>5</th>\n",
       "      <td>GradientBoostingRegressor</td>\n",
       "      <td>82%</td>\n",
       "    </tr>\n",
       "    <tr>\n",
       "      <th>6</th>\n",
       "      <td>AdaBoostRegressor</td>\n",
       "      <td>92%</td>\n",
       "    </tr>\n",
       "  </tbody>\n",
       "</table>\n",
       "</div>"
      ],
      "text/plain": [
       "                       model AccuracyScore\n",
       "0     Linear regressor model           77%\n",
       "1      DecisionTreeRegressor           75%\n",
       "2                        SVR           91%\n",
       "3        KNeighborsRegressor           86%\n",
       "4      RandomForestRegressor           83%\n",
       "5  GradientBoostingRegressor           82%\n",
       "6          AdaBoostRegressor           92%"
      ]
     },
     "execution_count": 496,
     "metadata": {},
     "output_type": "execute_result"
    }
   ],
   "source": [
    "results"
   ]
  },
  {
   "cell_type": "markdown",
   "metadata": {},
   "source": [
    "Conclusion:-From the above we can conclude that Adaboost Regressor for SVR is suitable for our prediction and will use this for our prediction purpose anf further we will dump the model for serialisation."
   ]
  },
  {
   "cell_type": "code",
   "execution_count": 466,
   "metadata": {},
   "outputs": [],
   "source": [
    "#finalizing the model for prediction"
   ]
  },
  {
   "cell_type": "code",
   "execution_count": 497,
   "metadata": {},
   "outputs": [],
   "source": [
    "x_train,x_test,y_train,y_test=train_test_split(x,y,random_state=78,test_size=0.20)"
   ]
  },
  {
   "cell_type": "code",
   "execution_count": 499,
   "metadata": {},
   "outputs": [],
   "source": [
    "ad=AdaBoostRegressor(base_estimator=SVR(),n_estimators=150,learning_rate=0.01)"
   ]
  },
  {
   "cell_type": "code",
   "execution_count": 502,
   "metadata": {},
   "outputs": [],
   "source": [
    "ad.fit(x_train,y_train)\n",
    "predad=ad.predict(x_test)\n",
    "a1=pd.DataFrame(data=predad)\n",
    "a1.to_csv('adaboost_Tmin_Pred.csv')"
   ]
  },
  {
   "cell_type": "code",
   "execution_count": 501,
   "metadata": {},
   "outputs": [
    {
     "data": {
      "text/plain": [
       "0.9149665350600621"
      ]
     },
     "execution_count": 501,
     "metadata": {},
     "output_type": "execute_result"
    }
   ],
   "source": [
    "r2_score(y_test,predad)"
   ]
  },
  {
   "cell_type": "code",
   "execution_count": 503,
   "metadata": {},
   "outputs": [],
   "source": [
    "import joblib"
   ]
  },
  {
   "cell_type": "code",
   "execution_count": 504,
   "metadata": {},
   "outputs": [
    {
     "data": {
      "text/plain": [
       "['temprature_Tmin_pred.obj']"
      ]
     },
     "execution_count": 504,
     "metadata": {},
     "output_type": "execute_result"
    }
   ],
   "source": [
    "joblib.dump(ad,'temprature_Tmin_pred.obj')"
   ]
  },
  {
   "cell_type": "markdown",
   "metadata": {},
   "source": [
    "# Now with the help of linear regression we will build our model and check the accuracy for the prediction of Tmax given Tmin"
   ]
  },
  {
   "cell_type": "code",
   "execution_count": 400,
   "metadata": {},
   "outputs": [
    {
     "data": {
      "text/html": [
       "<div>\n",
       "<style scoped>\n",
       "    .dataframe tbody tr th:only-of-type {\n",
       "        vertical-align: middle;\n",
       "    }\n",
       "\n",
       "    .dataframe tbody tr th {\n",
       "        vertical-align: top;\n",
       "    }\n",
       "\n",
       "    .dataframe thead th {\n",
       "        text-align: right;\n",
       "    }\n",
       "</style>\n",
       "<table border=\"1\" class=\"dataframe\">\n",
       "  <thead>\n",
       "    <tr style=\"text-align: right;\">\n",
       "      <th></th>\n",
       "      <th>2</th>\n",
       "      <th>3</th>\n",
       "      <th>4</th>\n",
       "      <th>5</th>\n",
       "      <th>6</th>\n",
       "      <th>7</th>\n",
       "      <th>8</th>\n",
       "      <th>9</th>\n",
       "      <th>10</th>\n",
       "      <th>11</th>\n",
       "      <th>...</th>\n",
       "      <th>15</th>\n",
       "      <th>16</th>\n",
       "      <th>17</th>\n",
       "      <th>18</th>\n",
       "      <th>19</th>\n",
       "      <th>20</th>\n",
       "      <th>21</th>\n",
       "      <th>22</th>\n",
       "      <th>23</th>\n",
       "      <th>24</th>\n",
       "    </tr>\n",
       "  </thead>\n",
       "  <tbody>\n",
       "    <tr>\n",
       "      <th>0</th>\n",
       "      <td>28.7</td>\n",
       "      <td>21.4</td>\n",
       "      <td>58.255688</td>\n",
       "      <td>91.116364</td>\n",
       "      <td>28.074101</td>\n",
       "      <td>23.006936</td>\n",
       "      <td>6.818887</td>\n",
       "      <td>69.451805</td>\n",
       "      <td>0.233947</td>\n",
       "      <td>0.203896</td>\n",
       "      <td>...</td>\n",
       "      <td>0.0</td>\n",
       "      <td>0.0</td>\n",
       "      <td>0.0</td>\n",
       "      <td>37.6046</td>\n",
       "      <td>126.991</td>\n",
       "      <td>5.965871</td>\n",
       "      <td>1.406938</td>\n",
       "      <td>5992.895996</td>\n",
       "      <td>29.1</td>\n",
       "      <td>21.2</td>\n",
       "    </tr>\n",
       "    <tr>\n",
       "      <th>1</th>\n",
       "      <td>31.9</td>\n",
       "      <td>21.6</td>\n",
       "      <td>52.263397</td>\n",
       "      <td>90.604721</td>\n",
       "      <td>29.850689</td>\n",
       "      <td>24.035009</td>\n",
       "      <td>5.691890</td>\n",
       "      <td>51.937448</td>\n",
       "      <td>0.225508</td>\n",
       "      <td>0.251771</td>\n",
       "      <td>...</td>\n",
       "      <td>0.0</td>\n",
       "      <td>0.0</td>\n",
       "      <td>0.0</td>\n",
       "      <td>37.6046</td>\n",
       "      <td>127.032</td>\n",
       "      <td>3.550622</td>\n",
       "      <td>0.801092</td>\n",
       "      <td>5869.312500</td>\n",
       "      <td>30.5</td>\n",
       "      <td>22.5</td>\n",
       "    </tr>\n",
       "    <tr>\n",
       "      <th>2</th>\n",
       "      <td>31.6</td>\n",
       "      <td>23.3</td>\n",
       "      <td>48.690479</td>\n",
       "      <td>83.973587</td>\n",
       "      <td>30.091292</td>\n",
       "      <td>24.565633</td>\n",
       "      <td>6.138224</td>\n",
       "      <td>20.573050</td>\n",
       "      <td>0.209344</td>\n",
       "      <td>0.257469</td>\n",
       "      <td>...</td>\n",
       "      <td>0.0</td>\n",
       "      <td>0.0</td>\n",
       "      <td>0.0</td>\n",
       "      <td>37.5776</td>\n",
       "      <td>127.058</td>\n",
       "      <td>3.217444</td>\n",
       "      <td>0.643203</td>\n",
       "      <td>5863.555664</td>\n",
       "      <td>31.1</td>\n",
       "      <td>23.9</td>\n",
       "    </tr>\n",
       "    <tr>\n",
       "      <th>3</th>\n",
       "      <td>32.0</td>\n",
       "      <td>23.4</td>\n",
       "      <td>58.239788</td>\n",
       "      <td>96.483688</td>\n",
       "      <td>29.704629</td>\n",
       "      <td>23.326177</td>\n",
       "      <td>5.650050</td>\n",
       "      <td>65.727144</td>\n",
       "      <td>0.216372</td>\n",
       "      <td>0.226002</td>\n",
       "      <td>...</td>\n",
       "      <td>0.0</td>\n",
       "      <td>0.0</td>\n",
       "      <td>0.0</td>\n",
       "      <td>37.6450</td>\n",
       "      <td>127.022</td>\n",
       "      <td>3.575659</td>\n",
       "      <td>1.363477</td>\n",
       "      <td>5856.964844</td>\n",
       "      <td>31.7</td>\n",
       "      <td>24.3</td>\n",
       "    </tr>\n",
       "    <tr>\n",
       "      <th>4</th>\n",
       "      <td>31.4</td>\n",
       "      <td>21.9</td>\n",
       "      <td>56.174095</td>\n",
       "      <td>90.155128</td>\n",
       "      <td>29.113934</td>\n",
       "      <td>23.486480</td>\n",
       "      <td>5.735004</td>\n",
       "      <td>107.965535</td>\n",
       "      <td>0.151407</td>\n",
       "      <td>0.249995</td>\n",
       "      <td>...</td>\n",
       "      <td>0.0</td>\n",
       "      <td>0.0</td>\n",
       "      <td>0.0</td>\n",
       "      <td>37.5507</td>\n",
       "      <td>127.135</td>\n",
       "      <td>3.272250</td>\n",
       "      <td>0.796600</td>\n",
       "      <td>5859.552246</td>\n",
       "      <td>31.2</td>\n",
       "      <td>22.5</td>\n",
       "    </tr>\n",
       "  </tbody>\n",
       "</table>\n",
       "<p>5 rows × 23 columns</p>\n",
       "</div>"
      ],
      "text/plain": [
       "     2     3          4          5          6          7         8   \\\n",
       "0  28.7  21.4  58.255688  91.116364  28.074101  23.006936  6.818887   \n",
       "1  31.9  21.6  52.263397  90.604721  29.850689  24.035009  5.691890   \n",
       "2  31.6  23.3  48.690479  83.973587  30.091292  24.565633  6.138224   \n",
       "3  32.0  23.4  58.239788  96.483688  29.704629  23.326177  5.650050   \n",
       "4  31.4  21.9  56.174095  90.155128  29.113934  23.486480  5.735004   \n",
       "\n",
       "           9         10        11  ...   15   16   17       18       19  \\\n",
       "0   69.451805  0.233947  0.203896  ...  0.0  0.0  0.0  37.6046  126.991   \n",
       "1   51.937448  0.225508  0.251771  ...  0.0  0.0  0.0  37.6046  127.032   \n",
       "2   20.573050  0.209344  0.257469  ...  0.0  0.0  0.0  37.5776  127.058   \n",
       "3   65.727144  0.216372  0.226002  ...  0.0  0.0  0.0  37.6450  127.022   \n",
       "4  107.965535  0.151407  0.249995  ...  0.0  0.0  0.0  37.5507  127.135   \n",
       "\n",
       "         20        21           22    23    24  \n",
       "0  5.965871  1.406938  5992.895996  29.1  21.2  \n",
       "1  3.550622  0.801092  5869.312500  30.5  22.5  \n",
       "2  3.217444  0.643203  5863.555664  31.1  23.9  \n",
       "3  3.575659  1.363477  5856.964844  31.7  24.3  \n",
       "4  3.272250  0.796600  5859.552246  31.2  22.5  \n",
       "\n",
       "[5 rows x 23 columns]"
      ]
     },
     "execution_count": 400,
     "metadata": {},
     "output_type": "execute_result"
    }
   ],
   "source": [
    "df.head()"
   ]
  },
  {
   "cell_type": "code",
   "execution_count": 506,
   "metadata": {},
   "outputs": [
    {
     "data": {
      "text/plain": [
       "(1174, 23)"
      ]
     },
     "execution_count": 506,
     "metadata": {},
     "output_type": "execute_result"
    }
   ],
   "source": [
    "df.shape"
   ]
  },
  {
   "cell_type": "code",
   "execution_count": 507,
   "metadata": {},
   "outputs": [
    {
     "name": "stdout",
     "output_type": "stream",
     "text": [
      "<class 'pandas.core.frame.DataFrame'>\n",
      "RangeIndex: 1174 entries, 0 to 1173\n",
      "Data columns (total 23 columns):\n",
      " #   Column  Non-Null Count  Dtype  \n",
      "---  ------  --------------  -----  \n",
      " 0   2       1174 non-null   float64\n",
      " 1   3       1174 non-null   float64\n",
      " 2   4       1174 non-null   float64\n",
      " 3   5       1174 non-null   float64\n",
      " 4   6       1174 non-null   float64\n",
      " 5   7       1174 non-null   float64\n",
      " 6   8       1174 non-null   float64\n",
      " 7   9       1174 non-null   float64\n",
      " 8   10      1174 non-null   float64\n",
      " 9   11      1174 non-null   float64\n",
      " 10  12      1174 non-null   float64\n",
      " 11  13      1174 non-null   float64\n",
      " 12  14      1174 non-null   float64\n",
      " 13  15      1174 non-null   float64\n",
      " 14  16      1174 non-null   float64\n",
      " 15  17      1174 non-null   float64\n",
      " 16  18      1174 non-null   float64\n",
      " 17  19      1174 non-null   float64\n",
      " 18  20      1174 non-null   float64\n",
      " 19  21      1174 non-null   float64\n",
      " 20  22      1174 non-null   float64\n",
      " 21  23      1174 non-null   float64\n",
      " 22  24      1174 non-null   float64\n",
      "dtypes: float64(23)\n",
      "memory usage: 211.1 KB\n"
     ]
    }
   ],
   "source": [
    "df.info()"
   ]
  },
  {
   "cell_type": "code",
   "execution_count": 508,
   "metadata": {},
   "outputs": [
    {
     "data": {
      "text/plain": [
       "(1174, 22)"
      ]
     },
     "execution_count": 508,
     "metadata": {},
     "output_type": "execute_result"
    }
   ],
   "source": [
    "x=df.drop(23,axis=1)\n",
    "x.shape"
   ]
  },
  {
   "cell_type": "code",
   "execution_count": 509,
   "metadata": {},
   "outputs": [
    {
     "data": {
      "text/html": [
       "<div>\n",
       "<style scoped>\n",
       "    .dataframe tbody tr th:only-of-type {\n",
       "        vertical-align: middle;\n",
       "    }\n",
       "\n",
       "    .dataframe tbody tr th {\n",
       "        vertical-align: top;\n",
       "    }\n",
       "\n",
       "    .dataframe thead th {\n",
       "        text-align: right;\n",
       "    }\n",
       "</style>\n",
       "<table border=\"1\" class=\"dataframe\">\n",
       "  <thead>\n",
       "    <tr style=\"text-align: right;\">\n",
       "      <th></th>\n",
       "      <th>2</th>\n",
       "      <th>3</th>\n",
       "      <th>4</th>\n",
       "      <th>5</th>\n",
       "      <th>6</th>\n",
       "      <th>7</th>\n",
       "      <th>8</th>\n",
       "      <th>9</th>\n",
       "      <th>10</th>\n",
       "      <th>11</th>\n",
       "      <th>...</th>\n",
       "      <th>14</th>\n",
       "      <th>15</th>\n",
       "      <th>16</th>\n",
       "      <th>17</th>\n",
       "      <th>18</th>\n",
       "      <th>19</th>\n",
       "      <th>20</th>\n",
       "      <th>21</th>\n",
       "      <th>22</th>\n",
       "      <th>24</th>\n",
       "    </tr>\n",
       "  </thead>\n",
       "  <tbody>\n",
       "    <tr>\n",
       "      <th>0</th>\n",
       "      <td>28.7</td>\n",
       "      <td>21.4</td>\n",
       "      <td>58.255688</td>\n",
       "      <td>91.116364</td>\n",
       "      <td>28.074101</td>\n",
       "      <td>23.006936</td>\n",
       "      <td>6.818887</td>\n",
       "      <td>69.451805</td>\n",
       "      <td>0.233947</td>\n",
       "      <td>0.203896</td>\n",
       "      <td>...</td>\n",
       "      <td>0.0</td>\n",
       "      <td>0.0</td>\n",
       "      <td>0.0</td>\n",
       "      <td>0.0</td>\n",
       "      <td>37.6046</td>\n",
       "      <td>126.991</td>\n",
       "      <td>5.965871</td>\n",
       "      <td>1.406938</td>\n",
       "      <td>5992.895996</td>\n",
       "      <td>21.2</td>\n",
       "    </tr>\n",
       "    <tr>\n",
       "      <th>1</th>\n",
       "      <td>31.9</td>\n",
       "      <td>21.6</td>\n",
       "      <td>52.263397</td>\n",
       "      <td>90.604721</td>\n",
       "      <td>29.850689</td>\n",
       "      <td>24.035009</td>\n",
       "      <td>5.691890</td>\n",
       "      <td>51.937448</td>\n",
       "      <td>0.225508</td>\n",
       "      <td>0.251771</td>\n",
       "      <td>...</td>\n",
       "      <td>0.0</td>\n",
       "      <td>0.0</td>\n",
       "      <td>0.0</td>\n",
       "      <td>0.0</td>\n",
       "      <td>37.6046</td>\n",
       "      <td>127.032</td>\n",
       "      <td>3.550622</td>\n",
       "      <td>0.801092</td>\n",
       "      <td>5869.312500</td>\n",
       "      <td>22.5</td>\n",
       "    </tr>\n",
       "    <tr>\n",
       "      <th>2</th>\n",
       "      <td>31.6</td>\n",
       "      <td>23.3</td>\n",
       "      <td>48.690479</td>\n",
       "      <td>83.973587</td>\n",
       "      <td>30.091292</td>\n",
       "      <td>24.565633</td>\n",
       "      <td>6.138224</td>\n",
       "      <td>20.573050</td>\n",
       "      <td>0.209344</td>\n",
       "      <td>0.257469</td>\n",
       "      <td>...</td>\n",
       "      <td>0.0</td>\n",
       "      <td>0.0</td>\n",
       "      <td>0.0</td>\n",
       "      <td>0.0</td>\n",
       "      <td>37.5776</td>\n",
       "      <td>127.058</td>\n",
       "      <td>3.217444</td>\n",
       "      <td>0.643203</td>\n",
       "      <td>5863.555664</td>\n",
       "      <td>23.9</td>\n",
       "    </tr>\n",
       "    <tr>\n",
       "      <th>3</th>\n",
       "      <td>32.0</td>\n",
       "      <td>23.4</td>\n",
       "      <td>58.239788</td>\n",
       "      <td>96.483688</td>\n",
       "      <td>29.704629</td>\n",
       "      <td>23.326177</td>\n",
       "      <td>5.650050</td>\n",
       "      <td>65.727144</td>\n",
       "      <td>0.216372</td>\n",
       "      <td>0.226002</td>\n",
       "      <td>...</td>\n",
       "      <td>0.0</td>\n",
       "      <td>0.0</td>\n",
       "      <td>0.0</td>\n",
       "      <td>0.0</td>\n",
       "      <td>37.6450</td>\n",
       "      <td>127.022</td>\n",
       "      <td>3.575659</td>\n",
       "      <td>1.363477</td>\n",
       "      <td>5856.964844</td>\n",
       "      <td>24.3</td>\n",
       "    </tr>\n",
       "    <tr>\n",
       "      <th>4</th>\n",
       "      <td>31.4</td>\n",
       "      <td>21.9</td>\n",
       "      <td>56.174095</td>\n",
       "      <td>90.155128</td>\n",
       "      <td>29.113934</td>\n",
       "      <td>23.486480</td>\n",
       "      <td>5.735004</td>\n",
       "      <td>107.965535</td>\n",
       "      <td>0.151407</td>\n",
       "      <td>0.249995</td>\n",
       "      <td>...</td>\n",
       "      <td>0.0</td>\n",
       "      <td>0.0</td>\n",
       "      <td>0.0</td>\n",
       "      <td>0.0</td>\n",
       "      <td>37.5507</td>\n",
       "      <td>127.135</td>\n",
       "      <td>3.272250</td>\n",
       "      <td>0.796600</td>\n",
       "      <td>5859.552246</td>\n",
       "      <td>22.5</td>\n",
       "    </tr>\n",
       "  </tbody>\n",
       "</table>\n",
       "<p>5 rows × 22 columns</p>\n",
       "</div>"
      ],
      "text/plain": [
       "     2     3          4          5          6          7         8   \\\n",
       "0  28.7  21.4  58.255688  91.116364  28.074101  23.006936  6.818887   \n",
       "1  31.9  21.6  52.263397  90.604721  29.850689  24.035009  5.691890   \n",
       "2  31.6  23.3  48.690479  83.973587  30.091292  24.565633  6.138224   \n",
       "3  32.0  23.4  58.239788  96.483688  29.704629  23.326177  5.650050   \n",
       "4  31.4  21.9  56.174095  90.155128  29.113934  23.486480  5.735004   \n",
       "\n",
       "           9         10        11  ...   14   15   16   17       18       19  \\\n",
       "0   69.451805  0.233947  0.203896  ...  0.0  0.0  0.0  0.0  37.6046  126.991   \n",
       "1   51.937448  0.225508  0.251771  ...  0.0  0.0  0.0  0.0  37.6046  127.032   \n",
       "2   20.573050  0.209344  0.257469  ...  0.0  0.0  0.0  0.0  37.5776  127.058   \n",
       "3   65.727144  0.216372  0.226002  ...  0.0  0.0  0.0  0.0  37.6450  127.022   \n",
       "4  107.965535  0.151407  0.249995  ...  0.0  0.0  0.0  0.0  37.5507  127.135   \n",
       "\n",
       "         20        21           22    24  \n",
       "0  5.965871  1.406938  5992.895996  21.2  \n",
       "1  3.550622  0.801092  5869.312500  22.5  \n",
       "2  3.217444  0.643203  5863.555664  23.9  \n",
       "3  3.575659  1.363477  5856.964844  24.3  \n",
       "4  3.272250  0.796600  5859.552246  22.5  \n",
       "\n",
       "[5 rows x 22 columns]"
      ]
     },
     "execution_count": 509,
     "metadata": {},
     "output_type": "execute_result"
    }
   ],
   "source": [
    "x.head()"
   ]
  },
  {
   "cell_type": "code",
   "execution_count": 510,
   "metadata": {},
   "outputs": [],
   "source": [
    "y=df[23].values\n",
    "y=y.reshape(-1,1)"
   ]
  },
  {
   "cell_type": "code",
   "execution_count": 512,
   "metadata": {},
   "outputs": [
    {
     "data": {
      "text/plain": [
       "(1174, 1)"
      ]
     },
     "execution_count": 512,
     "metadata": {},
     "output_type": "execute_result"
    }
   ],
   "source": [
    "y.shape"
   ]
  },
  {
   "cell_type": "code",
   "execution_count": 513,
   "metadata": {},
   "outputs": [],
   "source": [
    "#now we reduce the dimension of the dataset using dimensionality reduction technique(pca)"
   ]
  },
  {
   "cell_type": "code",
   "execution_count": 514,
   "metadata": {},
   "outputs": [],
   "source": [
    "pca=PCA(n_components=9)"
   ]
  },
  {
   "cell_type": "code",
   "execution_count": 515,
   "metadata": {},
   "outputs": [
    {
     "data": {
      "text/html": [
       "<div>\n",
       "<style scoped>\n",
       "    .dataframe tbody tr th:only-of-type {\n",
       "        vertical-align: middle;\n",
       "    }\n",
       "\n",
       "    .dataframe tbody tr th {\n",
       "        vertical-align: top;\n",
       "    }\n",
       "\n",
       "    .dataframe thead th {\n",
       "        text-align: right;\n",
       "    }\n",
       "</style>\n",
       "<table border=\"1\" class=\"dataframe\">\n",
       "  <thead>\n",
       "    <tr style=\"text-align: right;\">\n",
       "      <th></th>\n",
       "      <th>0</th>\n",
       "      <th>1</th>\n",
       "      <th>2</th>\n",
       "      <th>3</th>\n",
       "      <th>4</th>\n",
       "      <th>5</th>\n",
       "      <th>6</th>\n",
       "      <th>7</th>\n",
       "      <th>8</th>\n",
       "    </tr>\n",
       "  </thead>\n",
       "  <tbody>\n",
       "    <tr>\n",
       "      <th>0</th>\n",
       "      <td>-451.231843</td>\n",
       "      <td>24.689296</td>\n",
       "      <td>14.071717</td>\n",
       "      <td>2.003690</td>\n",
       "      <td>-1.238934</td>\n",
       "      <td>-0.348860</td>\n",
       "      <td>1.541816</td>\n",
       "      <td>0.132968</td>\n",
       "      <td>-1.579569</td>\n",
       "    </tr>\n",
       "    <tr>\n",
       "      <th>1</th>\n",
       "      <td>-327.939788</td>\n",
       "      <td>4.718074</td>\n",
       "      <td>18.839422</td>\n",
       "      <td>1.003113</td>\n",
       "      <td>-0.937138</td>\n",
       "      <td>-3.598790</td>\n",
       "      <td>1.902606</td>\n",
       "      <td>0.049226</td>\n",
       "      <td>-1.184028</td>\n",
       "    </tr>\n",
       "    <tr>\n",
       "      <th>2</th>\n",
       "      <td>-322.767290</td>\n",
       "      <td>-26.804284</td>\n",
       "      <td>24.999415</td>\n",
       "      <td>4.813139</td>\n",
       "      <td>-0.145061</td>\n",
       "      <td>-2.610972</td>\n",
       "      <td>-0.049946</td>\n",
       "      <td>0.690922</td>\n",
       "      <td>-1.357050</td>\n",
       "    </tr>\n",
       "    <tr>\n",
       "      <th>3</th>\n",
       "      <td>-315.426496</td>\n",
       "      <td>18.083896</td>\n",
       "      <td>10.921822</td>\n",
       "      <td>-2.492728</td>\n",
       "      <td>-0.111814</td>\n",
       "      <td>-5.926112</td>\n",
       "      <td>0.710825</td>\n",
       "      <td>0.708094</td>\n",
       "      <td>-1.934457</td>\n",
       "    </tr>\n",
       "    <tr>\n",
       "      <th>4</th>\n",
       "      <td>-317.016721</td>\n",
       "      <td>60.075953</td>\n",
       "      <td>11.985085</td>\n",
       "      <td>5.074435</td>\n",
       "      <td>-1.411940</td>\n",
       "      <td>-2.239810</td>\n",
       "      <td>0.704191</td>\n",
       "      <td>-0.197685</td>\n",
       "      <td>-1.093591</td>\n",
       "    </tr>\n",
       "  </tbody>\n",
       "</table>\n",
       "</div>"
      ],
      "text/plain": [
       "            0          1          2         3         4         5         6  \\\n",
       "0 -451.231843  24.689296  14.071717  2.003690 -1.238934 -0.348860  1.541816   \n",
       "1 -327.939788   4.718074  18.839422  1.003113 -0.937138 -3.598790  1.902606   \n",
       "2 -322.767290 -26.804284  24.999415  4.813139 -0.145061 -2.610972 -0.049946   \n",
       "3 -315.426496  18.083896  10.921822 -2.492728 -0.111814 -5.926112  0.710825   \n",
       "4 -317.016721  60.075953  11.985085  5.074435 -1.411940 -2.239810  0.704191   \n",
       "\n",
       "          7         8  \n",
       "0  0.132968 -1.579569  \n",
       "1  0.049226 -1.184028  \n",
       "2  0.690922 -1.357050  \n",
       "3  0.708094 -1.934457  \n",
       "4 -0.197685 -1.093591  "
      ]
     },
     "execution_count": 515,
     "metadata": {},
     "output_type": "execute_result"
    }
   ],
   "source": [
    "x=pca.fit_transform(x)\n",
    "x=pd.DataFrame(data=x)\n",
    "x.head()"
   ]
  },
  {
   "cell_type": "code",
   "execution_count": 516,
   "metadata": {},
   "outputs": [],
   "source": [
    "#now we will use scaling technique to standardize the dataset"
   ]
  },
  {
   "cell_type": "code",
   "execution_count": 517,
   "metadata": {},
   "outputs": [],
   "source": [
    "std=StandardScaler()"
   ]
  },
  {
   "cell_type": "code",
   "execution_count": 518,
   "metadata": {},
   "outputs": [
    {
     "data": {
      "text/html": [
       "<div>\n",
       "<style scoped>\n",
       "    .dataframe tbody tr th:only-of-type {\n",
       "        vertical-align: middle;\n",
       "    }\n",
       "\n",
       "    .dataframe tbody tr th {\n",
       "        vertical-align: top;\n",
       "    }\n",
       "\n",
       "    .dataframe thead th {\n",
       "        text-align: right;\n",
       "    }\n",
       "</style>\n",
       "<table border=\"1\" class=\"dataframe\">\n",
       "  <thead>\n",
       "    <tr style=\"text-align: right;\">\n",
       "      <th></th>\n",
       "      <th>0</th>\n",
       "      <th>1</th>\n",
       "      <th>2</th>\n",
       "      <th>3</th>\n",
       "      <th>4</th>\n",
       "      <th>5</th>\n",
       "      <th>6</th>\n",
       "      <th>7</th>\n",
       "      <th>8</th>\n",
       "    </tr>\n",
       "  </thead>\n",
       "  <tbody>\n",
       "    <tr>\n",
       "      <th>0</th>\n",
       "      <td>-1.672471</td>\n",
       "      <td>0.856054</td>\n",
       "      <td>1.110424</td>\n",
       "      <td>0.525550</td>\n",
       "      <td>-0.618749</td>\n",
       "      <td>-0.194760</td>\n",
       "      <td>1.035107</td>\n",
       "      <td>0.121770</td>\n",
       "      <td>-1.845848</td>\n",
       "    </tr>\n",
       "    <tr>\n",
       "      <th>1</th>\n",
       "      <td>-1.215494</td>\n",
       "      <td>0.163590</td>\n",
       "      <td>1.486652</td>\n",
       "      <td>0.263107</td>\n",
       "      <td>-0.468026</td>\n",
       "      <td>-2.009121</td>\n",
       "      <td>1.277326</td>\n",
       "      <td>0.045081</td>\n",
       "      <td>-1.383627</td>\n",
       "    </tr>\n",
       "    <tr>\n",
       "      <th>2</th>\n",
       "      <td>-1.196323</td>\n",
       "      <td>-0.929387</td>\n",
       "      <td>1.972747</td>\n",
       "      <td>1.262442</td>\n",
       "      <td>-0.072446</td>\n",
       "      <td>-1.457645</td>\n",
       "      <td>-0.033532</td>\n",
       "      <td>0.632735</td>\n",
       "      <td>-1.585817</td>\n",
       "    </tr>\n",
       "    <tr>\n",
       "      <th>3</th>\n",
       "      <td>-1.169114</td>\n",
       "      <td>0.627025</td>\n",
       "      <td>0.861860</td>\n",
       "      <td>-0.653820</td>\n",
       "      <td>-0.055842</td>\n",
       "      <td>-3.308411</td>\n",
       "      <td>0.477216</td>\n",
       "      <td>0.648461</td>\n",
       "      <td>-2.260562</td>\n",
       "    </tr>\n",
       "    <tr>\n",
       "      <th>4</th>\n",
       "      <td>-1.175008</td>\n",
       "      <td>2.083019</td>\n",
       "      <td>0.945764</td>\n",
       "      <td>1.330977</td>\n",
       "      <td>-0.705151</td>\n",
       "      <td>-1.250434</td>\n",
       "      <td>0.472762</td>\n",
       "      <td>-0.181036</td>\n",
       "      <td>-1.277945</td>\n",
       "    </tr>\n",
       "  </tbody>\n",
       "</table>\n",
       "</div>"
      ],
      "text/plain": [
       "          0         1         2         3         4         5         6  \\\n",
       "0 -1.672471  0.856054  1.110424  0.525550 -0.618749 -0.194760  1.035107   \n",
       "1 -1.215494  0.163590  1.486652  0.263107 -0.468026 -2.009121  1.277326   \n",
       "2 -1.196323 -0.929387  1.972747  1.262442 -0.072446 -1.457645 -0.033532   \n",
       "3 -1.169114  0.627025  0.861860 -0.653820 -0.055842 -3.308411  0.477216   \n",
       "4 -1.175008  2.083019  0.945764  1.330977 -0.705151 -1.250434  0.472762   \n",
       "\n",
       "          7         8  \n",
       "0  0.121770 -1.845848  \n",
       "1  0.045081 -1.383627  \n",
       "2  0.632735 -1.585817  \n",
       "3  0.648461 -2.260562  \n",
       "4 -0.181036 -1.277945  "
      ]
     },
     "execution_count": 518,
     "metadata": {},
     "output_type": "execute_result"
    }
   ],
   "source": [
    "x=std.fit_transform(x)\n",
    "x=pd.DataFrame(data=x)\n",
    "x.head()"
   ]
  },
  {
   "cell_type": "code",
   "execution_count": 519,
   "metadata": {},
   "outputs": [
    {
     "data": {
      "text/html": [
       "<div>\n",
       "<style scoped>\n",
       "    .dataframe tbody tr th:only-of-type {\n",
       "        vertical-align: middle;\n",
       "    }\n",
       "\n",
       "    .dataframe tbody tr th {\n",
       "        vertical-align: top;\n",
       "    }\n",
       "\n",
       "    .dataframe thead th {\n",
       "        text-align: right;\n",
       "    }\n",
       "</style>\n",
       "<table border=\"1\" class=\"dataframe\">\n",
       "  <thead>\n",
       "    <tr style=\"text-align: right;\">\n",
       "      <th></th>\n",
       "      <th>0</th>\n",
       "    </tr>\n",
       "  </thead>\n",
       "  <tbody>\n",
       "    <tr>\n",
       "      <th>0</th>\n",
       "      <td>-0.237578</td>\n",
       "    </tr>\n",
       "    <tr>\n",
       "      <th>1</th>\n",
       "      <td>0.282290</td>\n",
       "    </tr>\n",
       "    <tr>\n",
       "      <th>2</th>\n",
       "      <td>0.505090</td>\n",
       "    </tr>\n",
       "    <tr>\n",
       "      <th>3</th>\n",
       "      <td>0.727890</td>\n",
       "    </tr>\n",
       "    <tr>\n",
       "      <th>4</th>\n",
       "      <td>0.542224</td>\n",
       "    </tr>\n",
       "    <tr>\n",
       "      <th>...</th>\n",
       "      <td>...</td>\n",
       "    </tr>\n",
       "    <tr>\n",
       "      <th>1169</th>\n",
       "      <td>0.876424</td>\n",
       "    </tr>\n",
       "    <tr>\n",
       "      <th>1170</th>\n",
       "      <td>0.802157</td>\n",
       "    </tr>\n",
       "    <tr>\n",
       "      <th>1171</th>\n",
       "      <td>1.247758</td>\n",
       "    </tr>\n",
       "    <tr>\n",
       "      <th>1172</th>\n",
       "      <td>1.284891</td>\n",
       "    </tr>\n",
       "    <tr>\n",
       "      <th>1173</th>\n",
       "      <td>0.950691</td>\n",
       "    </tr>\n",
       "  </tbody>\n",
       "</table>\n",
       "<p>1174 rows × 1 columns</p>\n",
       "</div>"
      ],
      "text/plain": [
       "             0\n",
       "0    -0.237578\n",
       "1     0.282290\n",
       "2     0.505090\n",
       "3     0.727890\n",
       "4     0.542224\n",
       "...        ...\n",
       "1169  0.876424\n",
       "1170  0.802157\n",
       "1171  1.247758\n",
       "1172  1.284891\n",
       "1173  0.950691\n",
       "\n",
       "[1174 rows x 1 columns]"
      ]
     },
     "execution_count": 519,
     "metadata": {},
     "output_type": "execute_result"
    }
   ],
   "source": [
    "y=std.fit_transform(y)\n",
    "y=pd.DataFrame(data=y)\n",
    "y"
   ]
  },
  {
   "cell_type": "code",
   "execution_count": 520,
   "metadata": {},
   "outputs": [],
   "source": [
    "from sklearn.linear_model import LinearRegression\n",
    "from sklearn.model_selection import train_test_split\n",
    "from sklearn.metrics import r2_score,mean_absolute_error,mean_squared_error"
   ]
  },
  {
   "cell_type": "code",
   "execution_count": 521,
   "metadata": {},
   "outputs": [
    {
     "name": "stdout",
     "output_type": "stream",
     "text": [
      "the r2 score corrosponding to the random state 42 is: 0.7249655303418479\n",
      "the r2 score corrosponding to the random state 43 is: 0.7665741246978619\n",
      "the r2 score corrosponding to the random state 44 is: 0.7461770067070674\n",
      "the r2 score corrosponding to the random state 45 is: 0.7372770092175942\n",
      "the r2 score corrosponding to the random state 46 is: 0.7564699302340321\n",
      "the r2 score corrosponding to the random state 47 is: 0.7391666286688738\n",
      "the r2 score corrosponding to the random state 48 is: 0.7308923051839833\n",
      "the r2 score corrosponding to the random state 49 is: 0.7404281896266984\n",
      "the r2 score corrosponding to the random state 50 is: 0.7477818591609495\n",
      "the r2 score corrosponding to the random state 51 is: 0.7698006570289169\n",
      "the r2 score corrosponding to the random state 52 is: 0.7427870507508472\n",
      "the r2 score corrosponding to the random state 53 is: 0.736419883019594\n",
      "the r2 score corrosponding to the random state 54 is: 0.745400274352393\n",
      "the r2 score corrosponding to the random state 55 is: 0.703513166190382\n",
      "the r2 score corrosponding to the random state 56 is: 0.7247621542495164\n",
      "the r2 score corrosponding to the random state 57 is: 0.7242046629024587\n",
      "the r2 score corrosponding to the random state 58 is: 0.7435257257400111\n",
      "the r2 score corrosponding to the random state 59 is: 0.729637461290348\n",
      "the r2 score corrosponding to the random state 60 is: 0.7431715354047566\n",
      "the r2 score corrosponding to the random state 61 is: 0.7404791958156066\n",
      "the r2 score corrosponding to the random state 62 is: 0.7713771201823056\n",
      "the r2 score corrosponding to the random state 63 is: 0.7543970206415809\n",
      "the r2 score corrosponding to the random state 64 is: 0.7511259690100259\n",
      "the r2 score corrosponding to the random state 65 is: 0.7274496685244627\n",
      "the r2 score corrosponding to the random state 66 is: 0.7351275931862664\n",
      "the r2 score corrosponding to the random state 67 is: 0.7232382669837383\n",
      "the r2 score corrosponding to the random state 68 is: 0.747717289634406\n",
      "the r2 score corrosponding to the random state 69 is: 0.7204337778675176\n",
      "the r2 score corrosponding to the random state 70 is: 0.7424803022973346\n",
      "the r2 score corrosponding to the random state 71 is: 0.7353129850065575\n",
      "the r2 score corrosponding to the random state 72 is: 0.7340317105487136\n",
      "the r2 score corrosponding to the random state 73 is: 0.7343951481163589\n",
      "the r2 score corrosponding to the random state 74 is: 0.7438295324527278\n",
      "the r2 score corrosponding to the random state 75 is: 0.7340187841007715\n",
      "the r2 score corrosponding to the random state 76 is: 0.7588936908223705\n",
      "the r2 score corrosponding to the random state 77 is: 0.7157416516253555\n",
      "the r2 score corrosponding to the random state 78 is: 0.7344779218300597\n",
      "the r2 score corrosponding to the random state 79 is: 0.6998912584195267\n",
      "the r2 score corrosponding to the random state 80 is: 0.7376978269127954\n",
      "the r2 score corrosponding to the random state 81 is: 0.7435328446049205\n",
      "the r2 score corrosponding to the random state 82 is: 0.7678860951271931\n",
      "the r2 score corrosponding to the random state 83 is: 0.7735946580802457\n",
      "the r2 score corrosponding to the random state 84 is: 0.7312446615040791\n",
      "the r2 score corrosponding to the random state 85 is: 0.7503009969090203\n",
      "the r2 score corrosponding to the random state 86 is: 0.7370468595995641\n",
      "the r2 score corrosponding to the random state 87 is: 0.7526001859501165\n",
      "the r2 score corrosponding to the random state 88 is: 0.7624504392860343\n",
      "the r2 score corrosponding to the random state 89 is: 0.7576277905923188\n",
      "the r2 score corrosponding to the random state 90 is: 0.7327320351555013\n",
      "the r2 score corrosponding to the random state 91 is: 0.7564228755149083\n",
      "the r2 score corrosponding to the random state 92 is: 0.7645009158521872\n",
      "the r2 score corrosponding to the random state 93 is: 0.7314542694861466\n",
      "the r2 score corrosponding to the random state 94 is: 0.7798342634917824\n",
      "the r2 score corrosponding to the random state 95 is: 0.7425349334152456\n",
      "the r2 score corrosponding to the random state 96 is: 0.7633104185897427\n",
      "the r2 score corrosponding to the random state 97 is: 0.7307083033119497\n",
      "the r2 score corrosponding to the random state 98 is: 0.7062948276589409\n",
      "the r2 score corrosponding to the random state 99 is: 0.739783665406225\n",
      "\n",
      "\n",
      "maximum r2 score for the random state 94 is: 0.7798342634917824\n"
     ]
    }
   ],
   "source": [
    "max_r2_scr=0\n",
    "for r_state in range(42,100):\n",
    "    x_train,x_test,y_train,y_test=train_test_split(x,y,random_state=r_state,test_size=0.30)\n",
    "    lr=LinearRegression(normalize=True)\n",
    "    lr.fit(x_train,y_train)\n",
    "    pred=lr.predict(x_test)\n",
    "    r2_scr=r2_score(y_test,pred)\n",
    "    print(\"the r2 score corrosponding to the random state\",r_state,\"is:\",r2_scr)\n",
    "    if r2_scr>max_r2_scr:\n",
    "        max_r2_scr=r2_scr\n",
    "        final_r_state=r_state\n",
    "\n",
    "print()\n",
    "print()\n",
    "print(\"maximum r2 score for the random state\",final_r_state,\"is:\",max_r2_scr)"
   ]
  },
  {
   "cell_type": "markdown",
   "metadata": {},
   "source": [
    "So for the prediction of Tmin we are getting the max of 78% accuracy result at a random state of 94 for linear regressor model"
   ]
  },
  {
   "cell_type": "code",
   "execution_count": 523,
   "metadata": {},
   "outputs": [
    {
     "data": {
      "text/plain": [
       "array([[ 0.6625258 ,  0.10671417,  0.48150137,  0.1831747 , -0.02567833,\n",
       "        -0.19538726, -0.00456094, -0.10120413, -0.06979041]])"
      ]
     },
     "execution_count": 523,
     "metadata": {},
     "output_type": "execute_result"
    }
   ],
   "source": [
    "lr.coef_"
   ]
  },
  {
   "cell_type": "code",
   "execution_count": 524,
   "metadata": {},
   "outputs": [
    {
     "data": {
      "text/plain": [
       "array([-0.01271306])"
      ]
     },
     "execution_count": 524,
     "metadata": {},
     "output_type": "execute_result"
    }
   ],
   "source": [
    "lr.intercept_"
   ]
  },
  {
   "cell_type": "code",
   "execution_count": 525,
   "metadata": {},
   "outputs": [
    {
     "name": "stdout",
     "output_type": "stream",
     "text": [
      "0.6396465061314922\n"
     ]
    }
   ],
   "source": [
    "from math import sqrt\n",
    "print(sqrt(mean_absolute_error(y_test,pred)))   #rms error"
   ]
  },
  {
   "cell_type": "code",
   "execution_count": 528,
   "metadata": {},
   "outputs": [
    {
     "name": "stdout",
     "output_type": "stream",
     "text": [
      "0.40914765280622506\n"
     ]
    }
   ],
   "source": [
    "print(mean_absolute_error(y_test,pred))"
   ]
  },
  {
   "cell_type": "code",
   "execution_count": 527,
   "metadata": {},
   "outputs": [],
   "source": [
    "#checking the score using cross validation"
   ]
  },
  {
   "cell_type": "code",
   "execution_count": 526,
   "metadata": {},
   "outputs": [
    {
     "data": {
      "text/plain": [
       "array([0.22040478, 0.19441156, 0.41102937, 0.44148968, 0.11273195])"
      ]
     },
     "execution_count": 526,
     "metadata": {},
     "output_type": "execute_result"
    }
   ],
   "source": [
    "score=cross_val_score(lr,x,y,cv=5)\n",
    "score"
   ]
  },
  {
   "cell_type": "code",
   "execution_count": 529,
   "metadata": {},
   "outputs": [],
   "source": [
    "#checking with other regressor model"
   ]
  },
  {
   "cell_type": "code",
   "execution_count": 531,
   "metadata": {},
   "outputs": [],
   "source": [
    "model=[KNeighborsRegressor(),SVR(),DecisionTreeRegressor()]"
   ]
  },
  {
   "cell_type": "code",
   "execution_count": 559,
   "metadata": {},
   "outputs": [
    {
     "name": "stdout",
     "output_type": "stream",
     "text": [
      "KNeighborsRegressor(algorithm='auto', leaf_size=30, metric='minkowski',\n",
      "                    metric_params=None, n_jobs=None, n_neighbors=5, p=2,\n",
      "                    weights='uniform') score 0.8950374551952418\n",
      "KNeighborsRegressor(algorithm='auto', leaf_size=30, metric='minkowski',\n",
      "                    metric_params=None, n_jobs=None, n_neighbors=5, p=2,\n",
      "                    weights='uniform') abs error 0.2346513866018682\n",
      "KNeighborsRegressor(algorithm='auto', leaf_size=30, metric='minkowski',\n",
      "                    metric_params=None, n_jobs=None, n_neighbors=5, p=2,\n",
      "                    weights='uniform') sq error 0.10929408494712418\n",
      "SVR(C=1.0, cache_size=200, coef0=0.0, degree=3, epsilon=0.1, gamma='scale',\n",
      "    kernel='rbf', max_iter=-1, shrinking=True, tol=0.001, verbose=False) score 0.9076656372349984\n",
      "SVR(C=1.0, cache_size=200, coef0=0.0, degree=3, epsilon=0.1, gamma='scale',\n",
      "    kernel='rbf', max_iter=-1, shrinking=True, tol=0.001, verbose=False) abs error 0.22715376995913134\n",
      "SVR(C=1.0, cache_size=200, coef0=0.0, degree=3, epsilon=0.1, gamma='scale',\n",
      "    kernel='rbf', max_iter=-1, shrinking=True, tol=0.001, verbose=False) sq error 0.09614476960660726\n",
      "DecisionTreeRegressor(ccp_alpha=0.0, criterion='mse', max_depth=None,\n",
      "                      max_features=None, max_leaf_nodes=None,\n",
      "                      min_impurity_decrease=0.0, min_impurity_split=None,\n",
      "                      min_samples_leaf=1, min_samples_split=2,\n",
      "                      min_weight_fraction_leaf=0.0, presort='deprecated',\n",
      "                      random_state=None, splitter='best') score 0.7675310456090139\n",
      "DecisionTreeRegressor(ccp_alpha=0.0, criterion='mse', max_depth=None,\n",
      "                      max_features=None, max_leaf_nodes=None,\n",
      "                      min_impurity_decrease=0.0, min_impurity_split=None,\n",
      "                      min_samples_leaf=1, min_samples_split=2,\n",
      "                      min_weight_fraction_leaf=0.0, presort='deprecated',\n",
      "                      random_state=None, splitter='best') abs error 0.34478742462308176\n",
      "DecisionTreeRegressor(ccp_alpha=0.0, criterion='mse', max_depth=None,\n",
      "                      max_features=None, max_leaf_nodes=None,\n",
      "                      min_impurity_decrease=0.0, min_impurity_split=None,\n",
      "                      min_samples_leaf=1, min_samples_split=2,\n",
      "                      min_weight_fraction_leaf=0.0, presort='deprecated',\n",
      "                      random_state=None, splitter='best') sq error 0.24206236325575256\n"
     ]
    }
   ],
   "source": [
    "x_train,x_test,y_train,y_test=train_test_split(x,y,random_state=94,test_size=0.20)\n",
    "for i in model:\n",
    "    i.fit(x_train,y_train)\n",
    "    pred=i.predict(x_test)\n",
    "    print(i,\"score\",r2_score(y_test,pred))\n",
    "    print(i,\"abs error\",mean_absolute_error(y_test,pred))\n",
    "    print(i,\"sq error\",mean_squared_error(y_test,pred))"
   ]
  },
  {
   "cell_type": "markdown",
   "metadata": {},
   "source": [
    "Conclusion:-From the above we can infer that SVR is giving the max r2 score in comparion with other models"
   ]
  },
  {
   "cell_type": "code",
   "execution_count": 534,
   "metadata": {},
   "outputs": [],
   "source": [
    "#using grid search cv to find the best hyper parameter for svr"
   ]
  },
  {
   "cell_type": "code",
   "execution_count": 560,
   "metadata": {},
   "outputs": [],
   "source": [
    "params={'kernel':('rbf','poly','linear'),'C':[0,1,10]}"
   ]
  },
  {
   "cell_type": "code",
   "execution_count": 561,
   "metadata": {},
   "outputs": [],
   "source": [
    "gd=GridSearchCV(estimator=SVR(),param_grid=params)"
   ]
  },
  {
   "cell_type": "code",
   "execution_count": 562,
   "metadata": {},
   "outputs": [
    {
     "data": {
      "text/plain": [
       "GridSearchCV(cv=None, error_score=nan,\n",
       "             estimator=SVR(C=1.0, cache_size=200, coef0=0.0, degree=3,\n",
       "                           epsilon=0.1, gamma='scale', kernel='rbf',\n",
       "                           max_iter=-1, shrinking=True, tol=0.001,\n",
       "                           verbose=False),\n",
       "             iid='deprecated', n_jobs=None,\n",
       "             param_grid={'C': [0, 1, 10], 'kernel': ('rbf', 'poly', 'linear')},\n",
       "             pre_dispatch='2*n_jobs', refit=True, return_train_score=False,\n",
       "             scoring=None, verbose=0)"
      ]
     },
     "execution_count": 562,
     "metadata": {},
     "output_type": "execute_result"
    }
   ],
   "source": [
    "gd.fit(x,y)"
   ]
  },
  {
   "cell_type": "code",
   "execution_count": 563,
   "metadata": {},
   "outputs": [
    {
     "data": {
      "text/plain": [
       "{'C': 1, 'kernel': 'linear'}"
      ]
     },
     "execution_count": 563,
     "metadata": {},
     "output_type": "execute_result"
    }
   ],
   "source": [
    "gd.best_params_"
   ]
  },
  {
   "cell_type": "code",
   "execution_count": 564,
   "metadata": {},
   "outputs": [
    {
     "data": {
      "text/plain": [
       "SVR(C=1, cache_size=200, coef0=0.0, degree=3, epsilon=0.1, gamma='scale',\n",
       "    kernel='linear', max_iter=-1, shrinking=True, tol=0.001, verbose=False)"
      ]
     },
     "execution_count": 564,
     "metadata": {},
     "output_type": "execute_result"
    }
   ],
   "source": [
    "gd.best_estimator_"
   ]
  },
  {
   "cell_type": "code",
   "execution_count": 565,
   "metadata": {},
   "outputs": [
    {
     "data": {
      "text/plain": [
       "0.31437609591629123"
      ]
     },
     "execution_count": 565,
     "metadata": {},
     "output_type": "execute_result"
    }
   ],
   "source": [
    "gd.best_score_"
   ]
  },
  {
   "cell_type": "code",
   "execution_count": 566,
   "metadata": {},
   "outputs": [],
   "source": [
    "#find r2 scores at different n_neighbors for KNN"
   ]
  },
  {
   "cell_type": "code",
   "execution_count": 567,
   "metadata": {},
   "outputs": [
    {
     "name": "stdout",
     "output_type": "stream",
     "text": [
      "r2 score at neighbor 2 is: 0.8886891604856803\n",
      "r2 score at neighbor 3 is: 0.8935479949241256\n",
      "r2 score at neighbor 4 is: 0.8949567610703841\n",
      "r2 score at neighbor 5 is: 0.8950374551952418\n",
      "r2 score at neighbor 6 is: 0.889925696857365\n",
      "r2 score at neighbor 7 is: 0.8846163007440943\n",
      "r2 score at neighbor 8 is: 0.8766013938924034\n",
      "r2 score at neighbor 9 is: 0.8728193455701112\n",
      "r2 score at neighbor 10 is: 0.8720625312425653\n",
      "r2 score at neighbor 11 is: 0.8681948796461922\n",
      "r2 score at neighbor 12 is: 0.8611651349378437\n",
      "r2 score at neighbor 13 is: 0.8572703531925066\n",
      "r2 score at neighbor 14 is: 0.8548815797076179\n",
      "r2 score at neighbor 15 is: 0.8530097534791896\n",
      "r2 score at neighbor 16 is: 0.8472707055329107\n",
      "r2 score at neighbor 17 is: 0.8419081341684396\n",
      "r2 score at neighbor 18 is: 0.8361017799922139\n",
      "r2 score at neighbor 19 is: 0.8315248545571257\n",
      "r2 score at neighbor 20 is: 0.8286976649610087\n",
      "r2 score at neighbor 21 is: 0.8256143274986638\n"
     ]
    }
   ],
   "source": [
    "for i in range(2,22):\n",
    "    knn=KNeighborsRegressor(n_neighbors=i)\n",
    "    knn.fit(x_train,y_train)\n",
    "    pred=knn.predict(x_test)\n",
    "    print(\"r2 score at neighbor\",i,\"is:\",r2_score(y_test,pred))"
   ]
  },
  {
   "cell_type": "code",
   "execution_count": 568,
   "metadata": {},
   "outputs": [],
   "source": [
    "#knn is giving r2 score of 90% at n_neighbors=5"
   ]
  },
  {
   "cell_type": "code",
   "execution_count": 569,
   "metadata": {},
   "outputs": [],
   "source": [
    "#using ensemble techniques"
   ]
  },
  {
   "cell_type": "code",
   "execution_count": 570,
   "metadata": {},
   "outputs": [],
   "source": [
    "model=[KNeighborsRegressor(),SVR(),DecisionTreeRegressor()]"
   ]
  },
  {
   "cell_type": "code",
   "execution_count": 571,
   "metadata": {},
   "outputs": [
    {
     "name": "stdout",
     "output_type": "stream",
     "text": [
      "r2 score for model KNeighborsRegressor(algorithm='auto', leaf_size=30, metric='minkowski',\n",
      "                    metric_params=None, n_jobs=None, n_neighbors=5, p=2,\n",
      "                    weights='uniform') is: 0.8995211633842616\n",
      "r2 score for model SVR(C=1.0, cache_size=200, coef0=0.0, degree=3, epsilon=0.1, gamma='scale',\n",
      "    kernel='rbf', max_iter=-1, shrinking=True, tol=0.001, verbose=False) is: 0.9070945256256213\n",
      "r2 score for model DecisionTreeRegressor(ccp_alpha=0.0, criterion='mse', max_depth=None,\n",
      "                      max_features=None, max_leaf_nodes=None,\n",
      "                      min_impurity_decrease=0.0, min_impurity_split=None,\n",
      "                      min_samples_leaf=1, min_samples_split=2,\n",
      "                      min_weight_fraction_leaf=0.0, presort='deprecated',\n",
      "                      random_state=None, splitter='best') is: 0.9049817986839321\n"
     ]
    }
   ],
   "source": [
    "for i in model:\n",
    "    a=AdaBoostRegressor(base_estimator=i,n_estimators=150,learning_rate=0.01)\n",
    "    a.fit(x_train,y_train)\n",
    "    predad=a.predict(x_test)\n",
    "    print(\"r2 score for model\",i,\"is:\",r2_score(y_test,predad))"
   ]
  },
  {
   "cell_type": "code",
   "execution_count": 572,
   "metadata": {},
   "outputs": [],
   "source": [
    "#Adaboost Regressor is giving a max of 89% r2 score with dtr"
   ]
  },
  {
   "cell_type": "code",
   "execution_count": 573,
   "metadata": {},
   "outputs": [
    {
     "name": "stdout",
     "output_type": "stream",
     "text": [
      "r2 score at lerning rate 0.1 is: 0.8763598065608758\n",
      "r2 score at lerning rate 0.01 is: 0.6401844231591173\n",
      "r2 score at lerning rate 1.0 is: 0.7496449059409988\n"
     ]
    }
   ],
   "source": [
    "l=[0.1,0.01,1.0]\n",
    "for i in l:\n",
    "    gd=GradientBoostingRegressor(learning_rate=i)\n",
    "    gd.fit(x_train,y_train)\n",
    "    predgd=gd.predict(x_test)\n",
    "    print(\"r2 score at lerning rate\",i,\"is:\",r2_score(y_test,predgd))"
   ]
  },
  {
   "cell_type": "code",
   "execution_count": 574,
   "metadata": {},
   "outputs": [],
   "source": [
    "#gradient boostRegressor is giving a max r2 score 83% at l_rate of 0.1 "
   ]
  },
  {
   "cell_type": "code",
   "execution_count": 575,
   "metadata": {},
   "outputs": [
    {
     "name": "stdout",
     "output_type": "stream",
     "text": [
      "r2 score at 150 is: 0.9032910693772384\n",
      "r2 score at 200 is: 0.9039029545127643\n",
      "r2 score at 250 is: 0.9002388596139388\n",
      "r2 score at 300 is: 0.9001954508195174\n",
      "r2 score at 350 is: 0.898096204500252\n"
     ]
    }
   ],
   "source": [
    "a=[150,200,250,300,350]\n",
    "for i in a:\n",
    "    rd=RandomForestRegressor(n_estimators=i)\n",
    "    rd.fit(x_train,y_train)\n",
    "    predrd=rd.predict(x_test)\n",
    "    print('r2 score at',i,'is:',r2_score(y_test,predrd))"
   ]
  },
  {
   "cell_type": "code",
   "execution_count": 554,
   "metadata": {},
   "outputs": [],
   "source": [
    "#Random boostRegressor is giving a max r2 score 88% at n_estimator of 200"
   ]
  },
  {
   "cell_type": "code",
   "execution_count": 576,
   "metadata": {},
   "outputs": [],
   "source": [
    "a1={'model':('Linear regressor model','DecisionTreeRegressor','SVR','KNeighborsRegressor','RandomForestRegressor','GradientBoostingRegressor','AdaBoostRegressor'),'AccuracyScore':['78%','77%','91%','90%','90%','87%','91%']}"
   ]
  },
  {
   "cell_type": "code",
   "execution_count": 577,
   "metadata": {},
   "outputs": [
    {
     "data": {
      "text/html": [
       "<div>\n",
       "<style scoped>\n",
       "    .dataframe tbody tr th:only-of-type {\n",
       "        vertical-align: middle;\n",
       "    }\n",
       "\n",
       "    .dataframe tbody tr th {\n",
       "        vertical-align: top;\n",
       "    }\n",
       "\n",
       "    .dataframe thead th {\n",
       "        text-align: right;\n",
       "    }\n",
       "</style>\n",
       "<table border=\"1\" class=\"dataframe\">\n",
       "  <thead>\n",
       "    <tr style=\"text-align: right;\">\n",
       "      <th></th>\n",
       "      <th>model</th>\n",
       "      <th>AccuracyScore</th>\n",
       "    </tr>\n",
       "  </thead>\n",
       "  <tbody>\n",
       "    <tr>\n",
       "      <th>0</th>\n",
       "      <td>Linear regressor model</td>\n",
       "      <td>78%</td>\n",
       "    </tr>\n",
       "    <tr>\n",
       "      <th>1</th>\n",
       "      <td>DecisionTreeRegressor</td>\n",
       "      <td>77%</td>\n",
       "    </tr>\n",
       "    <tr>\n",
       "      <th>2</th>\n",
       "      <td>SVR</td>\n",
       "      <td>91%</td>\n",
       "    </tr>\n",
       "    <tr>\n",
       "      <th>3</th>\n",
       "      <td>KNeighborsRegressor</td>\n",
       "      <td>90%</td>\n",
       "    </tr>\n",
       "    <tr>\n",
       "      <th>4</th>\n",
       "      <td>RandomForestRegressor</td>\n",
       "      <td>90%</td>\n",
       "    </tr>\n",
       "    <tr>\n",
       "      <th>5</th>\n",
       "      <td>GradientBoostingRegressor</td>\n",
       "      <td>87%</td>\n",
       "    </tr>\n",
       "    <tr>\n",
       "      <th>6</th>\n",
       "      <td>AdaBoostRegressor</td>\n",
       "      <td>91%</td>\n",
       "    </tr>\n",
       "  </tbody>\n",
       "</table>\n",
       "</div>"
      ],
      "text/plain": [
       "                       model AccuracyScore\n",
       "0     Linear regressor model           78%\n",
       "1      DecisionTreeRegressor           77%\n",
       "2                        SVR           91%\n",
       "3        KNeighborsRegressor           90%\n",
       "4      RandomForestRegressor           90%\n",
       "5  GradientBoostingRegressor           87%\n",
       "6          AdaBoostRegressor           91%"
      ]
     },
     "execution_count": 577,
     "metadata": {},
     "output_type": "execute_result"
    }
   ],
   "source": [
    "results=pd.DataFrame(data=a1)\n",
    "results"
   ]
  },
  {
   "cell_type": "markdown",
   "metadata": {},
   "source": [
    "Conclusion:-From the above we can find that SVR and AdaboostRegressor with base estimator as SVR is giving a max r2 score of 91 %.So we will use this model for our prediction purpose and further dump this model for serialization. "
   ]
  },
  {
   "cell_type": "code",
   "execution_count": 578,
   "metadata": {},
   "outputs": [],
   "source": [
    "x_train,x_test,y_train,y_test=train_test_split(x,y,random_state=94,test_size=0.20)"
   ]
  },
  {
   "cell_type": "code",
   "execution_count": 581,
   "metadata": {},
   "outputs": [],
   "source": [
    "svr=SVR()\n",
    "svr.fit(x_train,y_train)\n",
    "predsvr=svr.predict(x_test)\n",
    "a1=pd.DataFrame(data=predsvr)\n",
    "a1.to_csv('pred_of_Tmax.csv')    #saving the predicted result in csv format"
   ]
  },
  {
   "cell_type": "code",
   "execution_count": 580,
   "metadata": {},
   "outputs": [
    {
     "data": {
      "text/plain": [
       "0.9076656372349984"
      ]
     },
     "execution_count": 580,
     "metadata": {},
     "output_type": "execute_result"
    }
   ],
   "source": [
    "r2_score(y_test,predsvr)"
   ]
  },
  {
   "cell_type": "code",
   "execution_count": 582,
   "metadata": {},
   "outputs": [
    {
     "data": {
      "text/plain": [
       "0.22715376995913134"
      ]
     },
     "execution_count": 582,
     "metadata": {},
     "output_type": "execute_result"
    }
   ],
   "source": [
    "mean_absolute_error(y_test,predsvr)"
   ]
  },
  {
   "cell_type": "code",
   "execution_count": 583,
   "metadata": {},
   "outputs": [
    {
     "data": {
      "text/plain": [
       "0.3100722006349606"
      ]
     },
     "execution_count": 583,
     "metadata": {},
     "output_type": "execute_result"
    }
   ],
   "source": [
    "sqrt(mean_squared_error(y_test,predsvr))"
   ]
  },
  {
   "cell_type": "code",
   "execution_count": 584,
   "metadata": {},
   "outputs": [],
   "source": [
    "#dumping the model for serialisation"
   ]
  },
  {
   "cell_type": "code",
   "execution_count": 585,
   "metadata": {},
   "outputs": [],
   "source": [
    "from sklearn.externals import joblib"
   ]
  },
  {
   "cell_type": "code",
   "execution_count": 586,
   "metadata": {},
   "outputs": [
    {
     "data": {
      "text/plain": [
       "['pred_tmax.obj']"
      ]
     },
     "execution_count": 586,
     "metadata": {},
     "output_type": "execute_result"
    }
   ],
   "source": [
    "joblib.dump(svr,'pred_tmax.obj')"
   ]
  },
  {
   "cell_type": "code",
   "execution_count": null,
   "metadata": {},
   "outputs": [],
   "source": []
  }
 ],
 "metadata": {
  "kernelspec": {
   "display_name": "Python 3",
   "language": "python",
   "name": "python3"
  },
  "language_info": {
   "codemirror_mode": {
    "name": "ipython",
    "version": 3
   },
   "file_extension": ".py",
   "mimetype": "text/x-python",
   "name": "python",
   "nbconvert_exporter": "python",
   "pygments_lexer": "ipython3",
   "version": "3.7.6"
  }
 },
 "nbformat": 4,
 "nbformat_minor": 4
}
